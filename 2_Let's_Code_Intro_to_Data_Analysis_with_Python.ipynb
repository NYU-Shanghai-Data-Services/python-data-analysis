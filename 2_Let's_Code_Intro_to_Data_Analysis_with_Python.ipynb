{
  "nbformat": 4,
  "nbformat_minor": 0,
  "metadata": {
    "colab": {
      "name": "2_Let's Code_Intro to Data Analysis with Python.ipynb",
      "provenance": [],
      "collapsed_sections": [
        "ZXYjBQgQRI1C",
        "WaKxU7ZiQXIi"
      ],
      "toc_visible": true
    },
    "kernelspec": {
      "name": "python3",
      "display_name": "Python 3"
    }
  },
  "cells": [
    {
      "cell_type": "markdown",
      "metadata": {
        "id": "Edyg_ZWvoHir"
      },
      "source": [
        "**Welcome back!**\n",
        "\n",
        "In the last two workshops, we had talked about Python basics, and we are going to finally use it for data analysis here! (Yeah!!!)\n",
        "\n",
        "Please feel free to refer to material from the last 2 workshops:\n",
        "\n",
        "[Workshop I](https://github.com/NYU-Shanghai-Data-Services/python-intro) : Intro to Python\n",
        "\n",
        "*   Comments, Variables, Operators, Statements\n",
        "\n",
        "[Workshop II](https://github.com/NYU-Shanghai-Data-Services/python-data-structures) : Intro to Data Structures\n",
        "\n",
        "*   Data Collections including Lists, Tuples, Sets, and Dictionaries\n",
        "*   Iterations including while loop and for loop\n",
        "*   Writing functions\n"
      ]
    },
    {
      "cell_type": "markdown",
      "metadata": {
        "id": "j7Heg6WdWYjg"
      },
      "source": [
        "## **Getting Started**\n",
        "\n",
        "**Workshop Best Practices**\n",
        "\n",
        "*   Feel free to edit and experiment the code on your copy.\n",
        "*   **How to run**? Click on the little arrow besides each chunk of code, or click on 'Runtime' - 'Run Selection'.\n",
        "  *   Run the code chunk-by-chunk, don't run all at once.\n",
        "  *   Some codes are dependent on previous codes, if you hit an error, check if you have ran the previous codes.\n",
        "*   If you feel the pace is too fast, please let the instructor know. Otherwise, save your questions till the end of each section.\n"
      ]
    },
    {
      "cell_type": "markdown",
      "metadata": {
        "id": "elQd_8BDpDM8"
      },
      "source": [
        "## **Task 0: Installing Python Packages**\n",
        "\n",
        "Data Cleaning / Data Manipulation:\n",
        "- NumPy\n",
        "- Pandas\n",
        "\n",
        "\n",
        "Data Visualization:\n",
        "- Matplotlib\n"
      ]
    },
    {
      "cell_type": "code",
      "metadata": {
        "id": "GBISI6i7UBKV"
      },
      "source": [
        "# import packages\n",
        "import numpy as np\n",
        "import pandas as pd\n",
        "import matplotlib.pyplot as plt\n",
        "%matplotlib inline \n",
        "# directly shows graph without plt.show()"
      ],
      "execution_count": null,
      "outputs": []
    },
    {
      "cell_type": "markdown",
      "metadata": {
        "id": "e6hLjwxkww0S"
      },
      "source": [
        "##  Task 1: Understanding N-Dimensional Arrays (ndarray)"
      ]
    },
    {
      "cell_type": "markdown",
      "metadata": {
        "id": "84mlEgry0Qop"
      },
      "source": [
        "### Recap: Previous Data Types\n",
        "\n",
        "\n",
        "\n",
        "1.   Workshop 1\n",
        "\n",
        "|Basic Data Types|Example|Meaning/ Usage|\n",
        "|---|---|---|\n",
        "|Integer (int)|\t1, 2, 3\t|\tInteger numbers|\n",
        "|String (str)| \"apple\"\t|Text|\n",
        "|Float (float)|\t5.55 |Floating/ decimal point numbers|\n",
        "|Boolean (bool)|\tTrue, False| True/False (Boolean) values|\n",
        "\n",
        "\n",
        "2.  Workshop 2\n",
        "\n",
        "|Collection Data Types|Example|Properties|\n",
        "|---|---|---|\n",
        "|List (list)|\t[\"apple\", \"orange\", 5]\t|Changeable, Ordered, Duplicate allowed|\n",
        "|Tuple (tuple)|\t(\"apple\", \"orange\", 5)\t|Unchangeable, Ordered, Duplicate allowed|\n",
        "|Set (set)|\t{\"apple\", \"orange\", 5}\t|Unchangeable, Unordered, No duplicates|\n",
        "|Dictionary (dict)|\t{\"apple\": 5, \"orange\": 10}\t|Key:Value pairs, Unchangeable, Unordered, No duplicates|"
      ]
    },
    {
      "cell_type": "markdown",
      "metadata": {
        "id": "eqnpf3UHMjko"
      },
      "source": [
        "###  New Data Type: Arrays\n",
        "\n",
        "*   Like lists, an ***array*** can also store a collection of items with the similar properties -- **ordered**, **mutable**, able to store **duplicates**.\n",
        "*   Python does not have arrays by default. You have to import the Array module or NumPy package to use them.\n",
        "\n",
        "\n",
        "**Array module** ([documentation](https://docs.python.org/3/library/array.html))\n",
        "*   Standard Python module with basic, specific functions.\n",
        "*   Need to specify the type code when declaring the array, and only 1 data type could be stored in the array ([list of commonly used type codes](https://www.programiz.com/python-programming/array))\n",
        "\n",
        "```\n",
        "    import array as arr\n",
        "    # first arg: type code, which specifies the data type in the array to be integer\n",
        "    array_1 = arr.array('i',[3, 6, 9, 12])\n",
        "```\n",
        "  \n",
        "**NumPy package** ([documentation](https://numpy.org/doc/stable/) | what we'll use today)\n",
        "*   NumPy is the fundamental package for **scientific computing** in Python. \n",
        "*   Arrays support different data types, so that you only need to specify the items, not the types of the items\n",
        "\n",
        "```\n",
        "    import numpy as np\n",
        "    array_2 = np.array(['one', 2, 3, 4])\n",
        "```"
      ]
    },
    {
      "cell_type": "markdown",
      "metadata": {
        "id": "8aIG2I8MZXc7"
      },
      "source": [
        "### Use NumPy to Create N-Dimensional Arrays (ndarrays)\n",
        "\n",
        "NumPy is a Python library that importantly provides a multidimensional array object, various derived objects (such as masked arrays and matrices), and an assortment of routines for fast operations on arrays, including mathematical, logical, shape manipulation, sorting, selecting, I/O, discrete Fourier transforms, basic linear algebra, basic statistical operations, random simulation and much more.\n",
        "\n",
        "NumPy’s array class is called **ndarray**. Ndarray is also the main object in the NumPy library. \n",
        "\n",
        "* It is a table of elements (usually numbers), all of the same type, indexed by a tuple of non-negative integers. \n",
        "\n",
        "* Again, numpy.array (shorthand: np.array) is not the same as the Standard Python Library class array.array (shorthand: arr.array), which only handles one-dimensional arrays and offers less functionality. "
      ]
    },
    {
      "cell_type": "code",
      "metadata": {
        "colab": {
          "base_uri": "https://localhost:8080/"
        },
        "id": "mYd4uPz2EQ5W",
        "outputId": "dd689510-e607-4369-e7bf-64a703fb5be4"
      },
      "source": [
        "a = np.array(['one', 2, 3, 4])\n",
        "print(type(a))"
      ],
      "execution_count": null,
      "outputs": [
        {
          "output_type": "stream",
          "name": "stdout",
          "text": [
            "<class 'numpy.ndarray'>\n"
          ]
        }
      ]
    },
    {
      "cell_type": "markdown",
      "metadata": {
        "id": "mHGIcvEDIlK3"
      },
      "source": [
        "#### Array Creation & Properties"
      ]
    },
    {
      "cell_type": "markdown",
      "metadata": {
        "id": "Vgo0qyVT1dSJ"
      },
      "source": [
        "There are several ways to create arrays.\n",
        "\n",
        "For example, you can create an array from a regular Python list or tuple using the np.array function. The type of the resulting array is deduced from the type of the elements in the sequences."
      ]
    },
    {
      "cell_type": "markdown",
      "metadata": {
        "id": "fjyq3SeANDOG"
      },
      "source": [
        "Below are some other important attributes of an ndarray object:\n",
        "\n",
        "1. **ndarray.ndim** \n",
        "\n",
        "* the number of axes (dimensions) of the array.\n",
        "\n",
        "\n",
        "*   In NumPy dimensions are called axes.\n",
        "\n",
        "2. **ndarray.shape**\n",
        "* the dimensions of the array. This is a tuple of integers indicating the size of the array in each dimension. For a matrix with n rows and m columns, shape will be (n,m). The length of the shape tuple is therefore the number of axes, ndim.\n",
        "\n",
        "3. **ndarray.size**\n",
        "* the total number of elements of the array. This is equal to the product of the elements of shape.\n",
        "\n",
        "4. **ndarray.dtype**\n",
        "* an object describing the type of the elements in the array. One can create or specify dtype’s using standard Python types. Additionally NumPy provides types of its own. numpy.int32, numpy.int16, and numpy.float64 are some examples.\n",
        "\n",
        "![image.png](data:image/png;base64,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)\n"
      ]
    },
    {
      "cell_type": "markdown",
      "metadata": {
        "id": "nIWpN0X9Duc1"
      },
      "source": [
        "We can only see/ perceive up to 3 dimensions, but NumPy **ndarrays** allows us to deal with data with many more dimensions."
      ]
    },
    {
      "cell_type": "markdown",
      "metadata": {
        "id": "g1Bs017t_XGI"
      },
      "source": [
        "**1-D Arrays**"
      ]
    },
    {
      "cell_type": "code",
      "metadata": {
        "colab": {
          "base_uri": "https://localhost:8080/"
        },
        "id": "2px0NXbaIoES",
        "outputId": "e2c8f87d-50a5-474d-f12c-9c9e01c93447"
      },
      "source": [
        "# homogenous\n",
        "a = np.array([2, 3, 4])\n",
        "print(a)\n",
        "print(\"Number of axes (dimensions) of a: \", a.ndim)\n",
        "print(\"Dimensionlity of a (if there is only 1 row, the output will ignore it): \", a.shape)\n",
        "print(\"Number of elements in a: \", a.size)\n",
        "print(\"Data type in a: \", a.dtype)"
      ],
      "execution_count": null,
      "outputs": [
        {
          "output_type": "stream",
          "name": "stdout",
          "text": [
            "[2 3 4]\n",
            "Number of axes (dimensions) of a:  1\n",
            "Dimensionlity of a (if there is only 1 row, the output will ignore it):  (3,)\n",
            "Number of elements in a:  3\n",
            "Data type in a:  int64\n"
          ]
        }
      ]
    },
    {
      "cell_type": "code",
      "metadata": {
        "colab": {
          "base_uri": "https://localhost:8080/"
        },
        "id": "rxQHEEmPKD_o",
        "outputId": "5b766644-e346-47f3-f481-6213a69ccec6"
      },
      "source": [
        "# mixed\n",
        "b = np.array([1.2, 3.5, \"blue\"])\n",
        "print(\"Number of axes (dimensions) of b: \", b.ndim)\n",
        "print(\"Dimensionlity of b (if there is only 1 row, the output will ignore it): \", b.shape)\n",
        "print(\"Number of elements in b: \", b.size)\n",
        "print(\"Data types in b: \", b.dtype) # mixed data type in an array"
      ],
      "execution_count": null,
      "outputs": [
        {
          "output_type": "stream",
          "name": "stdout",
          "text": [
            "Number of axes (dimensions) of b:  1\n",
            "Dimensionlity of b (if there is only 1 row, the output will ignore it):  (3,)\n",
            "Number of elements in b:  3\n",
            "Data types in b:  <U32\n"
          ]
        }
      ]
    },
    {
      "cell_type": "markdown",
      "metadata": {
        "id": "7R5sdTWY--2V"
      },
      "source": [
        "Read more about what **<U32** means [here](https://stackoverflow.com/questions/56944812/how-to-interpret-python-output-dtype-u32)."
      ]
    },
    {
      "cell_type": "markdown",
      "metadata": {
        "id": "uqMkz9u8_eZb"
      },
      "source": [
        "**2-D Arrays**"
      ]
    },
    {
      "cell_type": "code",
      "metadata": {
        "colab": {
          "base_uri": "https://localhost:8080/"
        },
        "id": "HWOvP0M24bAm",
        "outputId": "0bec608a-bbb1-4577-d4c6-85d64edeb6a3"
      },
      "source": [
        "#homogenous\n",
        "c = np.array([(1.5, 2, 3), \n",
        "              (4, 5, 6)])\n",
        "print(c)\n",
        "print(\"Number of axes (dimensions) of c: \", c.ndim)\n",
        "print(\"Dimensionlity of c: \", c.shape)\n",
        "print(\"Number of elements in c: \", c.size)\n",
        "print(\"Data type in c: \", c.dtype)"
      ],
      "execution_count": null,
      "outputs": [
        {
          "output_type": "stream",
          "name": "stdout",
          "text": [
            "[[1.5 2.  3. ]\n",
            " [4.  5.  6. ]]\n",
            "Number of axes (dimensions) of c:  2\n",
            "Dimensionlity of c:  (2, 3)\n",
            "Number of elements in c:  6\n",
            "Data type in c:  float64\n"
          ]
        }
      ]
    },
    {
      "cell_type": "code",
      "metadata": {
        "id": "ZL58Q_0aKM8b",
        "colab": {
          "base_uri": "https://localhost:8080/"
        },
        "outputId": "6115c87d-7d08-4c87-a8bf-6c6a03ac2f37"
      },
      "source": [
        "# specify the type to complex number\n",
        "d = np.array([[1, 2], \n",
        "              [3, 4]], \n",
        "              dtype = complex)\n",
        "print(d)\n",
        "print(\"Number of axes (dimensions) of c: \", d.ndim)\n",
        "print(\"Dimensionlity of c (row x col): \", d.shape)"
      ],
      "execution_count": null,
      "outputs": [
        {
          "output_type": "stream",
          "name": "stdout",
          "text": [
            "[[1.+0.j 2.+0.j]\n",
            " [3.+0.j 4.+0.j]]\n",
            "Number of axes (dimensions) of c:  2\n",
            "Dimensionlity of c (row x col):  (2, 2)\n"
          ]
        }
      ]
    },
    {
      "cell_type": "code",
      "metadata": {
        "id": "jwqNxk7q5Kii"
      },
      "source": [
        "# if you are want to create n-D arrays (n>1) with mixed data type\n",
        "# you must specify the dtype to \"object\"\n",
        "e = np.array([[\"hi\",1,2,3],\n",
        "              [\"bye\",4,5,6]],\n",
        "              dtype = object)"
      ],
      "execution_count": null,
      "outputs": []
    },
    {
      "cell_type": "markdown",
      "metadata": {
        "id": "TczlfNMPJbu1"
      },
      "source": [
        "---\n",
        "\n",
        "**PRACTICE: What is the number of axes, dimensionality, and number of elements in e?**\n",
        "\n",
        "---"
      ]
    },
    {
      "cell_type": "code",
      "metadata": {
        "id": "DQIpQ2bFAo0j",
        "colab": {
          "base_uri": "https://localhost:8080/"
        },
        "outputId": "7cc37926-c0c2-4686-a64a-7cd27a55ff6e"
      },
      "source": [
        "# Write your code here!\n",
        "print(e.ndim)\n",
        "print(e.shape)\n",
        "print(e.size)"
      ],
      "execution_count": null,
      "outputs": [
        {
          "output_type": "stream",
          "name": "stdout",
          "text": [
            "2\n",
            "(2, 4)\n",
            "8\n"
          ]
        }
      ]
    },
    {
      "cell_type": "markdown",
      "metadata": {
        "id": "rcMOJRAGKZCf"
      },
      "source": [
        "Often, the elements of an array are originally unknown, but its size is known. Hence, NumPy offers several functions to create arrays with initial placeholder content. These minimize the necessity of growing arrays, an expensive operation.\n",
        "\n",
        "The function **zeros** creates an array full of zeros, the function **ones** creates an array full of ones, and the function **empty** creates an array whose initial content is random and depends on the state of the memory. By default, the dtype of the created array is float64, but it can be specified via the key word argument dtype."
      ]
    },
    {
      "cell_type": "code",
      "metadata": {
        "id": "GHMeNIwcKaEx",
        "colab": {
          "base_uri": "https://localhost:8080/"
        },
        "outputId": "77704d5b-4bde-4fe4-941c-ec95613373f9"
      },
      "source": [
        "np.zeros((3, 4))"
      ],
      "execution_count": null,
      "outputs": [
        {
          "output_type": "execute_result",
          "data": {
            "text/plain": [
              "array([[0., 0., 0., 0.],\n",
              "       [0., 0., 0., 0.],\n",
              "       [0., 0., 0., 0.]])"
            ]
          },
          "metadata": {
            "tags": []
          },
          "execution_count": 36
        }
      ]
    },
    {
      "cell_type": "code",
      "metadata": {
        "id": "bgmQAbHMKftr",
        "colab": {
          "base_uri": "https://localhost:8080/"
        },
        "outputId": "87464417-34c2-4e8a-e332-4a46609c420a"
      },
      "source": [
        "np.ones((2, 3, 4), dtype = np.int16)"
      ],
      "execution_count": null,
      "outputs": [
        {
          "output_type": "execute_result",
          "data": {
            "text/plain": [
              "array([[[1, 1, 1, 1],\n",
              "        [1, 1, 1, 1],\n",
              "        [1, 1, 1, 1]],\n",
              "\n",
              "       [[1, 1, 1, 1],\n",
              "        [1, 1, 1, 1],\n",
              "        [1, 1, 1, 1]]], dtype=int16)"
            ]
          },
          "metadata": {
            "tags": []
          },
          "execution_count": 37
        }
      ]
    },
    {
      "cell_type": "code",
      "metadata": {
        "id": "wi_QqsoIKgr6",
        "colab": {
          "base_uri": "https://localhost:8080/"
        },
        "outputId": "45cb9dbd-6ec3-4fa0-a022-0a626071666b"
      },
      "source": [
        "np.empty((2, 3))"
      ],
      "execution_count": null,
      "outputs": [
        {
          "output_type": "execute_result",
          "data": {
            "text/plain": [
              "array([[0.e+000, 0.e+000, 5.e-324],\n",
              "       [0.e+000, 0.e+000, 5.e-324]])"
            ]
          },
          "metadata": {
            "tags": []
          },
          "execution_count": 38
        }
      ]
    },
    {
      "cell_type": "markdown",
      "metadata": {
        "id": "iTAJSwV1Kupr"
      },
      "source": [
        "To create sequences of numbers, NumPy provides the arange function which is analogous to the Python built-in range, but returns an array."
      ]
    },
    {
      "cell_type": "code",
      "metadata": {
        "id": "B-4rqL-7Kv9x",
        "colab": {
          "base_uri": "https://localhost:8080/"
        },
        "outputId": "c13cc1a9-48b9-406c-f94b-5cf43c9b62d0"
      },
      "source": [
        "# np.arange(start, end, increment)\n",
        "# the end position is always not included\n",
        "np.arange(10, 31, 5)"
      ],
      "execution_count": null,
      "outputs": [
        {
          "output_type": "execute_result",
          "data": {
            "text/plain": [
              "array([10, 15, 20, 25, 30])"
            ]
          },
          "metadata": {},
          "execution_count": 84
        }
      ]
    },
    {
      "cell_type": "code",
      "metadata": {
        "id": "uwFulYKkK1Ab",
        "colab": {
          "base_uri": "https://localhost:8080/"
        },
        "outputId": "0bfcc175-c229-48c2-db65-a7ebae256b9b"
      },
      "source": [
        "np.arange(0, 2, 0.3)  # it accepts float arguments"
      ],
      "execution_count": null,
      "outputs": [
        {
          "output_type": "execute_result",
          "data": {
            "text/plain": [
              "array([0. , 0.3, 0.6, 0.9, 1.2, 1.5, 1.8])"
            ]
          },
          "metadata": {},
          "execution_count": 85
        }
      ]
    },
    {
      "cell_type": "markdown",
      "metadata": {
        "id": "XeEP5MqPJuyf"
      },
      "source": [
        "---\n",
        "\n",
        "**PRACTICE: Create an array that starts from 0 and end at 100 (including), incrementing by 10**\n",
        "\n",
        "---"
      ]
    },
    {
      "cell_type": "code",
      "metadata": {
        "colab": {
          "base_uri": "https://localhost:8080/"
        },
        "id": "h3T1rNveBLwA",
        "outputId": "bd8f896c-3477-4755-ca2f-d378244b9c68"
      },
      "source": [
        "# (you should end up with the output below)\n",
        "np.arange(0, 101, 10)"
      ],
      "execution_count": null,
      "outputs": [
        {
          "output_type": "execute_result",
          "data": {
            "text/plain": [
              "array([  0,  10,  20,  30,  40,  50,  60,  70,  80,  90, 100])"
            ]
          },
          "metadata": {},
          "execution_count": 86
        }
      ]
    },
    {
      "cell_type": "markdown",
      "metadata": {
        "id": "umsI_phoK6hI"
      },
      "source": [
        " #### Basic Operations"
      ]
    },
    {
      "cell_type": "markdown",
      "metadata": {
        "id": "o5VaxEW3K8BX"
      },
      "source": [
        "Arithmetic operators on arrays apply elementwise. A new array is created and filled with the result."
      ]
    },
    {
      "cell_type": "code",
      "metadata": {
        "id": "3POESru0K8KE",
        "colab": {
          "base_uri": "https://localhost:8080/"
        },
        "outputId": "73dc6818-acf2-4fcb-d032-67e668c363f0"
      },
      "source": [
        "a = np.array([20, 30, 40, 50])\n",
        "print(a)\n",
        "b = np.arange(4)\n",
        "print(b)\n",
        "c = a - b\n",
        "print(c)"
      ],
      "execution_count": null,
      "outputs": [
        {
          "output_type": "stream",
          "name": "stdout",
          "text": [
            "[20 30 40 50]\n",
            "[0 1 2 3]\n",
            "[20 29 38 47]\n"
          ]
        }
      ]
    },
    {
      "cell_type": "code",
      "metadata": {
        "id": "k9qbmj6qON5h",
        "colab": {
          "base_uri": "https://localhost:8080/"
        },
        "outputId": "0672bd63-6993-4d39-9a10-c366973e358f"
      },
      "source": [
        "# squaring\n",
        "b = np.arange(4)\n",
        "print(b)\n",
        "b**2"
      ],
      "execution_count": null,
      "outputs": [
        {
          "output_type": "stream",
          "name": "stdout",
          "text": [
            "[0 1 2 3]\n"
          ]
        },
        {
          "output_type": "execute_result",
          "data": {
            "text/plain": [
              "array([0, 1, 4, 9])"
            ]
          },
          "metadata": {},
          "execution_count": 69
        }
      ]
    },
    {
      "cell_type": "code",
      "metadata": {
        "id": "BZW_8SivOQNj",
        "colab": {
          "base_uri": "https://localhost:8080/"
        },
        "outputId": "fe5a7db3-20a6-435b-d965-1d4f141c717b"
      },
      "source": [
        "# sin functions\n",
        "10 * np.sin(a)"
      ],
      "execution_count": null,
      "outputs": [
        {
          "output_type": "execute_result",
          "data": {
            "text/plain": [
              "array([ 9.12945251, -9.88031624,  7.4511316 , -2.62374854])"
            ]
          },
          "metadata": {},
          "execution_count": 70
        }
      ]
    },
    {
      "cell_type": "code",
      "metadata": {
        "id": "7llI2ahXOTkr",
        "colab": {
          "base_uri": "https://localhost:8080/"
        },
        "outputId": "b0755acb-3ffe-40a0-b7e8-e024e53cfc49"
      },
      "source": [
        "# run a logical statement through an array\n",
        "a < 35"
      ],
      "execution_count": null,
      "outputs": [
        {
          "output_type": "execute_result",
          "data": {
            "text/plain": [
              "array([ True,  True, False, False])"
            ]
          },
          "metadata": {},
          "execution_count": 73
        }
      ]
    },
    {
      "cell_type": "markdown",
      "metadata": {
        "id": "zAPKz8SyosP6"
      },
      "source": [
        "## **Task 2: From ndarray in NumPy to Pandas DataFrame**\n",
        " \n",
        "Now that we have learned about NumPy ndarrays, let's pivot into Pandas DataFrames, which builds on ndarrays.\n",
        "\n",
        "In this task, we are going to work with a dataset of cars. "
      ]
    },
    {
      "cell_type": "markdown",
      "metadata": {
        "id": "hMDSreXH0Bds"
      },
      "source": [
        "### Loading Data"
      ]
    },
    {
      "cell_type": "markdown",
      "metadata": {
        "id": "s5efE16WVxN-"
      },
      "source": [
        "Datasets are commonly stored as CSV files or Excel files.\n",
        "\n",
        "3 Ways to Load CSV files into Colab: https://towardsdatascience.com/3-ways-to-load-csv-files-into-colab-7c14fcbdcb92"
      ]
    },
    {
      "cell_type": "markdown",
      "source": [
        "#### If you are using Jupyter Notebook"
      ],
      "metadata": {
        "id": "fFnQw26ulGP0"
      }
    },
    {
      "cell_type": "markdown",
      "source": [
        "- Download the cars.csv file [here](https://github.com/NYU-Shanghai-Data-Services/python-data-analysis/blob/main/cars.csv)\n",
        "- Navigate to the Jupyter Notebook interface home page\n",
        "- Click the “Upload” button to open the file chooser window.\n",
        "![image.png](data:image/png;base64,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)\n",
        "- Choose the file you wish to upload. You may select multiple files if you wish.\n",
        "- Click “Upload” for each file that you wish to upload.\n",
        "\n",
        "(Source: [JupyterHub](https://tljh.jupyter.org/en/latest/howto/content/add-data.html))"
      ],
      "metadata": {
        "id": "_JjJfbtTlJt4"
      }
    },
    {
      "cell_type": "markdown",
      "source": [
        "#### If you are using Google Colab"
      ],
      "metadata": {
        "id": "CYZaoGoeklkc"
      }
    },
    {
      "cell_type": "markdown",
      "metadata": {
        "id": "4fWJqa5t-mf6"
      },
      "source": [
        "Step 1: **Import** the library, authenticate, and create the interface to csv files."
      ]
    },
    {
      "cell_type": "code",
      "metadata": {
        "colab": {
          "base_uri": "https://localhost:8080/"
        },
        "id": "YkxzA3fzREvH",
        "outputId": "bb713d02-86cd-472e-f9ae-d4ec79a9387d"
      },
      "source": [
        "# Mount the Google Drive to your computer\n",
        "from google.colab import drive\n",
        "drive.mount('/content/drive')"
      ],
      "execution_count": null,
      "outputs": [
        {
          "output_type": "stream",
          "name": "stdout",
          "text": [
            "Mounted at /content/drive\n"
          ]
        }
      ]
    },
    {
      "cell_type": "code",
      "metadata": {
        "id": "uT7fNa0C-swv"
      },
      "source": [
        "!pip install -U -q PyDrive\n",
        "from pydrive.auth import GoogleAuth\n",
        "from pydrive.drive import GoogleDrive\n",
        "from google.colab import auth\n",
        "from oauth2client.client import GoogleCredentials\n",
        "\n",
        "# Authenticate and create the PyDrive client.\n",
        "# Connect to Google Cloud SDK\n",
        "# Tools and libraries for interacting with Google Cloud products and services.\n",
        "auth.authenticate_user()\n",
        "gauth = GoogleAuth()\n",
        "gauth.credentials = GoogleCredentials.get_application_default()\n",
        "drive = GoogleDrive(gauth)"
      ],
      "execution_count": null,
      "outputs": []
    },
    {
      "cell_type": "markdown",
      "metadata": {
        "id": "93EaC2RR-usW"
      },
      "source": [
        "Step 2: Import the data from csv file as a Pandas DataFrame object\n",
        "\n",
        "*When working with your own csv file stored on Google drive, you simply need to get the sharable link and substitute the link. \n",
        "\n",
        "**Also, rename myfile to the file name of your choice."
      ]
    },
    {
      "cell_type": "code",
      "metadata": {
        "id": "PfqxxuLE-yaA"
      },
      "source": [
        "# The shareable link to our csv file, \n",
        "# \"https://drive.google.com/file/d/1PTzHOzz_ecK0aeyn2ZyCBG-S8IyrqUsr/view?usp=sharing\"\n",
        "id = \"1PTzHOzz_ecK0aeyn2ZyCBG-S8IyrqUsr\" \n",
        "downloaded = drive.CreateFile({'id': id}) \n",
        "downloaded.GetContentFile('cars.csv')"
      ],
      "execution_count": null,
      "outputs": []
    },
    {
      "cell_type": "markdown",
      "source": [
        "### Reading Data"
      ],
      "metadata": {
        "id": "-Y0daFhImZGK"
      }
    },
    {
      "cell_type": "code",
      "metadata": {
        "id": "vhS_w-I9-89K"
      },
      "source": [
        "cars = pd.read_csv('cars.csv') # --> reads the csv, turns it into Pandas DataFrame\n",
        "# for full DataFrame\n",
        "# cars"
      ],
      "execution_count": null,
      "outputs": []
    },
    {
      "cell_type": "code",
      "metadata": {
        "colab": {
          "base_uri": "https://localhost:8080/",
          "height": 204
        },
        "id": "XKwo_WsOLYiA",
        "outputId": "b942cbb1-74d9-4e84-ab7f-a433321248f7"
      },
      "source": [
        "# for first 5 rows in the DataFrame\n",
        "cars.head()"
      ],
      "execution_count": null,
      "outputs": [
        {
          "output_type": "execute_result",
          "data": {
            "text/html": [
              "<div>\n",
              "<style scoped>\n",
              "    .dataframe tbody tr th:only-of-type {\n",
              "        vertical-align: middle;\n",
              "    }\n",
              "\n",
              "    .dataframe tbody tr th {\n",
              "        vertical-align: top;\n",
              "    }\n",
              "\n",
              "    .dataframe thead th {\n",
              "        text-align: right;\n",
              "    }\n",
              "</style>\n",
              "<table border=\"1\" class=\"dataframe\">\n",
              "  <thead>\n",
              "    <tr style=\"text-align: right;\">\n",
              "      <th></th>\n",
              "      <th>YEAR</th>\n",
              "      <th>Make</th>\n",
              "      <th>Model</th>\n",
              "      <th>Size</th>\n",
              "      <th>(kW)</th>\n",
              "      <th>Unnamed: 5</th>\n",
              "      <th>TYPE</th>\n",
              "      <th>CITY (kWh/100 km)</th>\n",
              "      <th>HWY (kWh/100 km)</th>\n",
              "      <th>COMB (kWh/100 km)</th>\n",
              "      <th>CITY (Le/100 km)</th>\n",
              "      <th>HWY (Le/100 km)</th>\n",
              "      <th>COMB (Le/100 km)</th>\n",
              "      <th>(g/km)</th>\n",
              "      <th>RATING</th>\n",
              "      <th>(km)</th>\n",
              "      <th>TIME (h)</th>\n",
              "    </tr>\n",
              "  </thead>\n",
              "  <tbody>\n",
              "    <tr>\n",
              "      <th>0</th>\n",
              "      <td>2012</td>\n",
              "      <td>MITSUBISHI</td>\n",
              "      <td>i-MiEV</td>\n",
              "      <td>SUBCOMPACT</td>\n",
              "      <td>49</td>\n",
              "      <td>A1</td>\n",
              "      <td>B</td>\n",
              "      <td>16.9</td>\n",
              "      <td>21.4</td>\n",
              "      <td>18.7</td>\n",
              "      <td>1.9</td>\n",
              "      <td>2.4</td>\n",
              "      <td>2.1</td>\n",
              "      <td>0</td>\n",
              "      <td>NaN</td>\n",
              "      <td>100</td>\n",
              "      <td>7</td>\n",
              "    </tr>\n",
              "    <tr>\n",
              "      <th>1</th>\n",
              "      <td>2012</td>\n",
              "      <td>NISSAN</td>\n",
              "      <td>LEAF</td>\n",
              "      <td>MID-SIZE</td>\n",
              "      <td>80</td>\n",
              "      <td>A1</td>\n",
              "      <td>B</td>\n",
              "      <td>19.3</td>\n",
              "      <td>23.0</td>\n",
              "      <td>21.1</td>\n",
              "      <td>2.2</td>\n",
              "      <td>2.6</td>\n",
              "      <td>2.4</td>\n",
              "      <td>0</td>\n",
              "      <td>NaN</td>\n",
              "      <td>117</td>\n",
              "      <td>7</td>\n",
              "    </tr>\n",
              "    <tr>\n",
              "      <th>2</th>\n",
              "      <td>2013</td>\n",
              "      <td>FORD</td>\n",
              "      <td>FOCUS ELECTRIC</td>\n",
              "      <td>COMPACT</td>\n",
              "      <td>107</td>\n",
              "      <td>A1</td>\n",
              "      <td>B</td>\n",
              "      <td>19.0</td>\n",
              "      <td>21.1</td>\n",
              "      <td>20.0</td>\n",
              "      <td>2.1</td>\n",
              "      <td>2.4</td>\n",
              "      <td>2.2</td>\n",
              "      <td>0</td>\n",
              "      <td>NaN</td>\n",
              "      <td>122</td>\n",
              "      <td>4</td>\n",
              "    </tr>\n",
              "    <tr>\n",
              "      <th>3</th>\n",
              "      <td>2013</td>\n",
              "      <td>MITSUBISHI</td>\n",
              "      <td>i-MiEV</td>\n",
              "      <td>SUBCOMPACT</td>\n",
              "      <td>49</td>\n",
              "      <td>A1</td>\n",
              "      <td>B</td>\n",
              "      <td>16.9</td>\n",
              "      <td>21.4</td>\n",
              "      <td>18.7</td>\n",
              "      <td>1.9</td>\n",
              "      <td>2.4</td>\n",
              "      <td>2.1</td>\n",
              "      <td>0</td>\n",
              "      <td>NaN</td>\n",
              "      <td>100</td>\n",
              "      <td>7</td>\n",
              "    </tr>\n",
              "    <tr>\n",
              "      <th>4</th>\n",
              "      <td>2013</td>\n",
              "      <td>NISSAN</td>\n",
              "      <td>LEAF</td>\n",
              "      <td>MID-SIZE</td>\n",
              "      <td>80</td>\n",
              "      <td>A1</td>\n",
              "      <td>B</td>\n",
              "      <td>19.3</td>\n",
              "      <td>23.0</td>\n",
              "      <td>21.1</td>\n",
              "      <td>2.2</td>\n",
              "      <td>2.6</td>\n",
              "      <td>2.4</td>\n",
              "      <td>0</td>\n",
              "      <td>NaN</td>\n",
              "      <td>117</td>\n",
              "      <td>7</td>\n",
              "    </tr>\n",
              "  </tbody>\n",
              "</table>\n",
              "</div>"
            ],
            "text/plain": [
              "   YEAR        Make           Model        Size  ...  (g/km) RATING (km)  TIME (h)\n",
              "0  2012  MITSUBISHI          i-MiEV  SUBCOMPACT  ...       0    NaN  100         7\n",
              "1  2012      NISSAN            LEAF    MID-SIZE  ...       0    NaN  117         7\n",
              "2  2013        FORD  FOCUS ELECTRIC     COMPACT  ...       0    NaN  122         4\n",
              "3  2013  MITSUBISHI          i-MiEV  SUBCOMPACT  ...       0    NaN  100         7\n",
              "4  2013      NISSAN            LEAF    MID-SIZE  ...       0    NaN  117         7\n",
              "\n",
              "[5 rows x 17 columns]"
            ]
          },
          "metadata": {},
          "execution_count": 92
        }
      ]
    },
    {
      "cell_type": "code",
      "metadata": {
        "colab": {
          "base_uri": "https://localhost:8080/"
        },
        "id": "S9oaHltm_ZVF",
        "outputId": "a2b50e83-bdba-4f2f-8e9a-88249eb9b131"
      },
      "source": [
        "type(cars)"
      ],
      "execution_count": null,
      "outputs": [
        {
          "output_type": "execute_result",
          "data": {
            "text/plain": [
              "pandas.core.frame.DataFrame"
            ]
          },
          "metadata": {},
          "execution_count": 93
        }
      ]
    },
    {
      "cell_type": "markdown",
      "metadata": {
        "id": "cuDNBWYDMehS"
      },
      "source": [
        "### New Data Type: Pandas DataFrame\n",
        "\n",
        "Pandas is a library that builds on NumPy, providing more functionality, especially for data science.\n",
        "\n",
        "Pandas DataFrames ([documentation](https://pandas.pydata.org/docs/reference/api/pandas.DataFrame.html?highlight=dataframe#pandas.DataFrame)) are two-dimensional, size-mutable, potentially heterogeneous **tabular** data."
      ]
    },
    {
      "cell_type": "markdown",
      "metadata": {
        "id": "4gZFQeUbGvY5"
      },
      "source": [
        "#### Data Parameter: ndarray, and more\n",
        "* data: ndarray (structured or homogeneous), Iterable, dict, or DataFrame\n",
        "\n",
        "  Dict can contain Series, arrays, constants, dataclass or list-like objects. If data is a dict, column order follows insertion-order.\n",
        "\n",
        "  * Changed in version 0.25.0: If data is a list of dicts, column order follows insertion-order.\n",
        "\n",
        "* index: Index or array-like\n",
        "\n",
        "  Index to use for resulting frame. Will default to RangeIndex if no indexing information part of input data and no index provided.\n",
        "\n",
        "* columns: Index or array-like\n",
        "\n",
        "  Column labels to use for resulting frame when data does not have them, defaulting to RangeIndex(0, 1, 2, …, n). If data contains column labels, will perform column selection instead.\n",
        "\n",
        "* dtype: dtype, default None\n",
        "  Data type to force. Only a single dtype is allowed. If None, infer.\n",
        "\n",
        "* copy: bool or None, default None\n",
        "  Copy data from inputs. For dict data, the default of None behaves like copy=True. For DataFrame or 2d ndarray input, the default of None behaves like copy=False.\n",
        "    * Changed in version 1.3.0."
      ]
    },
    {
      "cell_type": "markdown",
      "metadata": {
        "id": "yjCY1SN0Gesa"
      },
      "source": [
        "![image.png](data:image/png;base64,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)"
      ]
    },
    {
      "cell_type": "markdown",
      "metadata": {
        "id": "YV78tKpmK1H8"
      },
      "source": [
        "#### Change a np.array into pd.DataFrame"
      ]
    },
    {
      "cell_type": "code",
      "metadata": {
        "colab": {
          "base_uri": "https://localhost:8080/"
        },
        "id": "KsVdZs8eHtNd",
        "outputId": "84d2951b-6755-484d-de77-eb83807d6430"
      },
      "source": [
        "array1 = np.array([[\"Fruit\",\"Cost\",\"Number of Items\"],\n",
        "                   [\"Apple\",1,5],\n",
        "                   [\"Pear\",2,6],\n",
        "                   [\"Berry\",3,7]])\n",
        "print(array1)"
      ],
      "execution_count": null,
      "outputs": [
        {
          "output_type": "stream",
          "name": "stdout",
          "text": [
            "[['Fruit' 'Cost' 'Number of Items']\n",
            " ['Apple' '1' '5']\n",
            " ['Pear' '2' '6']\n",
            " ['Berry' '3' '7']]\n"
          ]
        }
      ]
    },
    {
      "cell_type": "code",
      "metadata": {
        "colab": {
          "base_uri": "https://localhost:8080/"
        },
        "id": "ipw5gnY9KJjR",
        "outputId": "05709184-a600-4b41-cf05-6fd83376d0d3"
      },
      "source": [
        "# make array into table-like dataframe with the pd.DataFrame() constructor\n",
        "df = pd.DataFrame(array1)\n",
        "print(df)"
      ],
      "execution_count": null,
      "outputs": [
        {
          "output_type": "stream",
          "name": "stdout",
          "text": [
            "       0     1                2\n",
            "0  Fruit  Cost  Number of Items\n",
            "1  Apple     1                5\n",
            "2   Pear     2                6\n",
            "3  Berry     3                7\n"
          ]
        }
      ]
    },
    {
      "cell_type": "code",
      "metadata": {
        "colab": {
          "base_uri": "https://localhost:8080/",
          "height": 142
        },
        "id": "mB6ulkguKMyf",
        "outputId": "d69c6be9-1f9d-4d79-806c-729ed3565427"
      },
      "source": [
        "# change first row into column name\n",
        "df.columns = df.iloc[0]\n",
        "# drop the first row, so it won't appear twice\n",
        "df = df[1:]\n",
        "df"
      ],
      "execution_count": null,
      "outputs": [
        {
          "output_type": "execute_result",
          "data": {
            "text/html": [
              "<div>\n",
              "<style scoped>\n",
              "    .dataframe tbody tr th:only-of-type {\n",
              "        vertical-align: middle;\n",
              "    }\n",
              "\n",
              "    .dataframe tbody tr th {\n",
              "        vertical-align: top;\n",
              "    }\n",
              "\n",
              "    .dataframe thead th {\n",
              "        text-align: right;\n",
              "    }\n",
              "</style>\n",
              "<table border=\"1\" class=\"dataframe\">\n",
              "  <thead>\n",
              "    <tr style=\"text-align: right;\">\n",
              "      <th></th>\n",
              "      <th>Fruit</th>\n",
              "      <th>Cost</th>\n",
              "      <th>Number of Items</th>\n",
              "    </tr>\n",
              "  </thead>\n",
              "  <tbody>\n",
              "    <tr>\n",
              "      <th>1</th>\n",
              "      <td>Apple</td>\n",
              "      <td>1</td>\n",
              "      <td>5</td>\n",
              "    </tr>\n",
              "    <tr>\n",
              "      <th>2</th>\n",
              "      <td>Pear</td>\n",
              "      <td>2</td>\n",
              "      <td>6</td>\n",
              "    </tr>\n",
              "    <tr>\n",
              "      <th>3</th>\n",
              "      <td>Berry</td>\n",
              "      <td>3</td>\n",
              "      <td>7</td>\n",
              "    </tr>\n",
              "  </tbody>\n",
              "</table>\n",
              "</div>"
            ],
            "text/plain": [
              "0  Fruit Cost Number of Items\n",
              "1  Apple    1               5\n",
              "2   Pear    2               6\n",
              "3  Berry    3               7"
            ]
          },
          "metadata": {},
          "execution_count": 247
        }
      ]
    },
    {
      "cell_type": "markdown",
      "metadata": {
        "id": "ysv3IKsgotD5"
      },
      "source": [
        "### **Basic Data Manipulation**"
      ]
    },
    {
      "cell_type": "markdown",
      "metadata": {
        "id": "EP_Wpdg1_CAs"
      },
      "source": [
        "To refresh your memory, our dataset has been transformed from a csv file into a pd.DataFrame, and its variable name is **cars**.\n",
        "\n",
        "Now, let's take a look at the dataset!"
      ]
    },
    {
      "cell_type": "code",
      "metadata": {
        "id": "GcMgLXh2BGSx",
        "colab": {
          "base_uri": "https://localhost:8080/",
          "height": 255
        },
        "outputId": "c5da7107-4122-45b7-a70f-b62e5bba7b52"
      },
      "source": [
        "# .head() lets you look at the first 5 rows of the data by default\n",
        "# but you can also pass in an arg to change the rows of data you want to view\n",
        "cars.head()"
      ],
      "execution_count": null,
      "outputs": [
        {
          "output_type": "execute_result",
          "data": {
            "text/html": [
              "<div>\n",
              "<style scoped>\n",
              "    .dataframe tbody tr th:only-of-type {\n",
              "        vertical-align: middle;\n",
              "    }\n",
              "\n",
              "    .dataframe tbody tr th {\n",
              "        vertical-align: top;\n",
              "    }\n",
              "\n",
              "    .dataframe thead th {\n",
              "        text-align: right;\n",
              "    }\n",
              "</style>\n",
              "<table border=\"1\" class=\"dataframe\">\n",
              "  <thead>\n",
              "    <tr style=\"text-align: right;\">\n",
              "      <th></th>\n",
              "      <th>YEAR</th>\n",
              "      <th>Make</th>\n",
              "      <th>Model</th>\n",
              "      <th>Size</th>\n",
              "      <th>(kW)</th>\n",
              "      <th>Unnamed: 5</th>\n",
              "      <th>TYPE</th>\n",
              "      <th>CITY (kWh/100 km)</th>\n",
              "      <th>HWY (kWh/100 km)</th>\n",
              "      <th>COMB (kWh/100 km)</th>\n",
              "      <th>CITY (Le/100 km)</th>\n",
              "      <th>HWY (Le/100 km)</th>\n",
              "      <th>COMB (Le/100 km)</th>\n",
              "      <th>(g/km)</th>\n",
              "      <th>RATING</th>\n",
              "      <th>(km)</th>\n",
              "      <th>TIME (h)</th>\n",
              "    </tr>\n",
              "  </thead>\n",
              "  <tbody>\n",
              "    <tr>\n",
              "      <th>0</th>\n",
              "      <td>2012</td>\n",
              "      <td>MITSUBISHI</td>\n",
              "      <td>i-MiEV</td>\n",
              "      <td>SUBCOMPACT</td>\n",
              "      <td>49</td>\n",
              "      <td>A1</td>\n",
              "      <td>B</td>\n",
              "      <td>16.9</td>\n",
              "      <td>21.4</td>\n",
              "      <td>18.7</td>\n",
              "      <td>1.9</td>\n",
              "      <td>2.4</td>\n",
              "      <td>2.1</td>\n",
              "      <td>0</td>\n",
              "      <td>NaN</td>\n",
              "      <td>100</td>\n",
              "      <td>7</td>\n",
              "    </tr>\n",
              "    <tr>\n",
              "      <th>1</th>\n",
              "      <td>2012</td>\n",
              "      <td>NISSAN</td>\n",
              "      <td>LEAF</td>\n",
              "      <td>MID-SIZE</td>\n",
              "      <td>80</td>\n",
              "      <td>A1</td>\n",
              "      <td>B</td>\n",
              "      <td>19.3</td>\n",
              "      <td>23.0</td>\n",
              "      <td>21.1</td>\n",
              "      <td>2.2</td>\n",
              "      <td>2.6</td>\n",
              "      <td>2.4</td>\n",
              "      <td>0</td>\n",
              "      <td>NaN</td>\n",
              "      <td>117</td>\n",
              "      <td>7</td>\n",
              "    </tr>\n",
              "    <tr>\n",
              "      <th>2</th>\n",
              "      <td>2013</td>\n",
              "      <td>FORD</td>\n",
              "      <td>FOCUS ELECTRIC</td>\n",
              "      <td>COMPACT</td>\n",
              "      <td>107</td>\n",
              "      <td>A1</td>\n",
              "      <td>B</td>\n",
              "      <td>19.0</td>\n",
              "      <td>21.1</td>\n",
              "      <td>20.0</td>\n",
              "      <td>2.1</td>\n",
              "      <td>2.4</td>\n",
              "      <td>2.2</td>\n",
              "      <td>0</td>\n",
              "      <td>NaN</td>\n",
              "      <td>122</td>\n",
              "      <td>4</td>\n",
              "    </tr>\n",
              "    <tr>\n",
              "      <th>3</th>\n",
              "      <td>2013</td>\n",
              "      <td>MITSUBISHI</td>\n",
              "      <td>i-MiEV</td>\n",
              "      <td>SUBCOMPACT</td>\n",
              "      <td>49</td>\n",
              "      <td>A1</td>\n",
              "      <td>B</td>\n",
              "      <td>16.9</td>\n",
              "      <td>21.4</td>\n",
              "      <td>18.7</td>\n",
              "      <td>1.9</td>\n",
              "      <td>2.4</td>\n",
              "      <td>2.1</td>\n",
              "      <td>0</td>\n",
              "      <td>NaN</td>\n",
              "      <td>100</td>\n",
              "      <td>7</td>\n",
              "    </tr>\n",
              "    <tr>\n",
              "      <th>4</th>\n",
              "      <td>2013</td>\n",
              "      <td>NISSAN</td>\n",
              "      <td>LEAF</td>\n",
              "      <td>MID-SIZE</td>\n",
              "      <td>80</td>\n",
              "      <td>A1</td>\n",
              "      <td>B</td>\n",
              "      <td>19.3</td>\n",
              "      <td>23.0</td>\n",
              "      <td>21.1</td>\n",
              "      <td>2.2</td>\n",
              "      <td>2.6</td>\n",
              "      <td>2.4</td>\n",
              "      <td>0</td>\n",
              "      <td>NaN</td>\n",
              "      <td>117</td>\n",
              "      <td>7</td>\n",
              "    </tr>\n",
              "  </tbody>\n",
              "</table>\n",
              "</div>"
            ],
            "text/plain": [
              "   YEAR        Make           Model        Size  ...  (g/km) RATING (km)  TIME (h)\n",
              "0  2012  MITSUBISHI          i-MiEV  SUBCOMPACT  ...       0    NaN  100         7\n",
              "1  2012      NISSAN            LEAF    MID-SIZE  ...       0    NaN  117         7\n",
              "2  2013        FORD  FOCUS ELECTRIC     COMPACT  ...       0    NaN  122         4\n",
              "3  2013  MITSUBISHI          i-MiEV  SUBCOMPACT  ...       0    NaN  100         7\n",
              "4  2013      NISSAN            LEAF    MID-SIZE  ...       0    NaN  117         7\n",
              "\n",
              "[5 rows x 17 columns]"
            ]
          },
          "metadata": {},
          "execution_count": 248
        }
      ]
    },
    {
      "cell_type": "markdown",
      "metadata": {
        "id": "SQnQvCcYNN--"
      },
      "source": [
        "#### Cleaning up Column Names\n",
        "\n",
        "* Column names are ideally descriptive. \n",
        "\n",
        "* Column names are case sensitive.\n"
      ]
    },
    {
      "cell_type": "code",
      "metadata": {
        "id": "fcUpoPpWn6-3",
        "colab": {
          "base_uri": "https://localhost:8080/",
          "height": 204
        },
        "outputId": "aeac038b-e11e-4bb4-c08d-e34886ba72ef"
      },
      "source": [
        "# 1. Rename column \"Make\" into \"Brands\" for more clarity\n",
        "cars = cars.rename({\"Make\":'Brands'}, axis=1)\n",
        "# axis = 1 refers to the column names, whereas axis = 0 refers to the row indices\n",
        "\n",
        "# 2. Unify all column names to capitalized words\n",
        "cars.columns = cars.columns.str.capitalize()\n",
        "cars.head()"
      ],
      "execution_count": null,
      "outputs": [
        {
          "output_type": "execute_result",
          "data": {
            "text/html": [
              "<div>\n",
              "<style scoped>\n",
              "    .dataframe tbody tr th:only-of-type {\n",
              "        vertical-align: middle;\n",
              "    }\n",
              "\n",
              "    .dataframe tbody tr th {\n",
              "        vertical-align: top;\n",
              "    }\n",
              "\n",
              "    .dataframe thead th {\n",
              "        text-align: right;\n",
              "    }\n",
              "</style>\n",
              "<table border=\"1\" class=\"dataframe\">\n",
              "  <thead>\n",
              "    <tr style=\"text-align: right;\">\n",
              "      <th></th>\n",
              "      <th>Year</th>\n",
              "      <th>Brands</th>\n",
              "      <th>Model</th>\n",
              "      <th>Size</th>\n",
              "      <th>(kw)</th>\n",
              "      <th>Unnamed: 5</th>\n",
              "      <th>Type</th>\n",
              "      <th>City (kwh/100 km)</th>\n",
              "      <th>Hwy (kwh/100 km)</th>\n",
              "      <th>Comb (kwh/100 km)</th>\n",
              "      <th>City (le/100 km)</th>\n",
              "      <th>Hwy (le/100 km)</th>\n",
              "      <th>Comb (le/100 km)</th>\n",
              "      <th>(g/km)</th>\n",
              "      <th>Rating</th>\n",
              "      <th>(km)</th>\n",
              "      <th>Time (h)</th>\n",
              "    </tr>\n",
              "  </thead>\n",
              "  <tbody>\n",
              "    <tr>\n",
              "      <th>0</th>\n",
              "      <td>2012</td>\n",
              "      <td>MITSUBISHI</td>\n",
              "      <td>i-MiEV</td>\n",
              "      <td>SUBCOMPACT</td>\n",
              "      <td>49</td>\n",
              "      <td>A1</td>\n",
              "      <td>B</td>\n",
              "      <td>16.9</td>\n",
              "      <td>21.4</td>\n",
              "      <td>18.7</td>\n",
              "      <td>1.9</td>\n",
              "      <td>2.4</td>\n",
              "      <td>2.1</td>\n",
              "      <td>0</td>\n",
              "      <td>NaN</td>\n",
              "      <td>100</td>\n",
              "      <td>7</td>\n",
              "    </tr>\n",
              "    <tr>\n",
              "      <th>1</th>\n",
              "      <td>2012</td>\n",
              "      <td>NISSAN</td>\n",
              "      <td>LEAF</td>\n",
              "      <td>MID-SIZE</td>\n",
              "      <td>80</td>\n",
              "      <td>A1</td>\n",
              "      <td>B</td>\n",
              "      <td>19.3</td>\n",
              "      <td>23.0</td>\n",
              "      <td>21.1</td>\n",
              "      <td>2.2</td>\n",
              "      <td>2.6</td>\n",
              "      <td>2.4</td>\n",
              "      <td>0</td>\n",
              "      <td>NaN</td>\n",
              "      <td>117</td>\n",
              "      <td>7</td>\n",
              "    </tr>\n",
              "    <tr>\n",
              "      <th>2</th>\n",
              "      <td>2013</td>\n",
              "      <td>FORD</td>\n",
              "      <td>FOCUS ELECTRIC</td>\n",
              "      <td>COMPACT</td>\n",
              "      <td>107</td>\n",
              "      <td>A1</td>\n",
              "      <td>B</td>\n",
              "      <td>19.0</td>\n",
              "      <td>21.1</td>\n",
              "      <td>20.0</td>\n",
              "      <td>2.1</td>\n",
              "      <td>2.4</td>\n",
              "      <td>2.2</td>\n",
              "      <td>0</td>\n",
              "      <td>NaN</td>\n",
              "      <td>122</td>\n",
              "      <td>4</td>\n",
              "    </tr>\n",
              "    <tr>\n",
              "      <th>3</th>\n",
              "      <td>2013</td>\n",
              "      <td>MITSUBISHI</td>\n",
              "      <td>i-MiEV</td>\n",
              "      <td>SUBCOMPACT</td>\n",
              "      <td>49</td>\n",
              "      <td>A1</td>\n",
              "      <td>B</td>\n",
              "      <td>16.9</td>\n",
              "      <td>21.4</td>\n",
              "      <td>18.7</td>\n",
              "      <td>1.9</td>\n",
              "      <td>2.4</td>\n",
              "      <td>2.1</td>\n",
              "      <td>0</td>\n",
              "      <td>NaN</td>\n",
              "      <td>100</td>\n",
              "      <td>7</td>\n",
              "    </tr>\n",
              "    <tr>\n",
              "      <th>4</th>\n",
              "      <td>2013</td>\n",
              "      <td>NISSAN</td>\n",
              "      <td>LEAF</td>\n",
              "      <td>MID-SIZE</td>\n",
              "      <td>80</td>\n",
              "      <td>A1</td>\n",
              "      <td>B</td>\n",
              "      <td>19.3</td>\n",
              "      <td>23.0</td>\n",
              "      <td>21.1</td>\n",
              "      <td>2.2</td>\n",
              "      <td>2.6</td>\n",
              "      <td>2.4</td>\n",
              "      <td>0</td>\n",
              "      <td>NaN</td>\n",
              "      <td>117</td>\n",
              "      <td>7</td>\n",
              "    </tr>\n",
              "  </tbody>\n",
              "</table>\n",
              "</div>"
            ],
            "text/plain": [
              "   Year      Brands           Model        Size  ...  (g/km) Rating (km)  Time (h)\n",
              "0  2012  MITSUBISHI          i-MiEV  SUBCOMPACT  ...       0    NaN  100         7\n",
              "1  2012      NISSAN            LEAF    MID-SIZE  ...       0    NaN  117         7\n",
              "2  2013        FORD  FOCUS ELECTRIC     COMPACT  ...       0    NaN  122         4\n",
              "3  2013  MITSUBISHI          i-MiEV  SUBCOMPACT  ...       0    NaN  100         7\n",
              "4  2013      NISSAN            LEAF    MID-SIZE  ...       0    NaN  117         7\n",
              "\n",
              "[5 rows x 17 columns]"
            ]
          },
          "metadata": {},
          "execution_count": 95
        }
      ]
    },
    {
      "cell_type": "markdown",
      "metadata": {
        "id": "0y3VKfUv_cEu"
      },
      "source": [
        "#### Data attributes\n",
        "Carefully check the columns and rows. Understand what each column/row stands for. Each dataframe has several attributes. Exploring some of the attributes can help us quickly get to know the data. Here, the attributes are simply the properties of an object. \n",
        "  \n",
        "\n",
        "Some useful functions/methods\n",
        "\n",
        "*   Methods are associated with the objects of the class they belong to. Functions are not associated with any object.\n",
        "\n",
        "\n",
        "|Function|Explanation|\n",
        "|---|---|\n",
        "|DataFrame.shape|Return a tuple representing the dimensionality of the DataFrame.|\n",
        "|DataFrame.columns|returns the column names of the data|\n",
        "|DataFrame.dtypes|returns the data type of each column |\n",
        "\n",
        " When accessing an attribute for a dataframe, you can simply replace DataFrame using the name of your own data.\n",
        "\n",
        "**Process is very similar to getting attributes of NumPy arrays**"
      ]
    },
    {
      "cell_type": "code",
      "metadata": {
        "id": "IwstJpikVjXK"
      },
      "source": [
        "cars.columns = cars.columns.str.capitalize()"
      ],
      "execution_count": null,
      "outputs": []
    },
    {
      "cell_type": "code",
      "metadata": {
        "id": "ClXjD24rUAG3",
        "colab": {
          "base_uri": "https://localhost:8080/"
        },
        "outputId": "b1ef18ce-a949-426b-d72b-cb2f9ceeddb5"
      },
      "source": [
        "#Tuple: (Rows, Columns)\n",
        "cars.shape"
      ],
      "execution_count": null,
      "outputs": [
        {
          "output_type": "execute_result",
          "data": {
            "text/plain": [
              "(53, 17)"
            ]
          },
          "metadata": {},
          "execution_count": 251
        }
      ]
    },
    {
      "cell_type": "code",
      "metadata": {
        "id": "KHvBisZoFqxY",
        "colab": {
          "base_uri": "https://localhost:8080/"
        },
        "outputId": "f13bcc6b-c90b-4217-8c7c-9832947be824"
      },
      "source": [
        "cars.columns"
      ],
      "execution_count": null,
      "outputs": [
        {
          "output_type": "execute_result",
          "data": {
            "text/plain": [
              "Index(['Year', 'Brands', 'Model', 'Size', '(kw)', 'Unnamed: 5', 'Type',\n",
              "       'City (kwh/100 km)', 'Hwy (kwh/100 km)', 'Comb (kwh/100 km)',\n",
              "       'City (le/100 km)', 'Hwy (le/100 km)', 'Comb (le/100 km)', '(g/km)',\n",
              "       'Rating', '(km)', 'Time (h)'],\n",
              "      dtype='object')"
            ]
          },
          "metadata": {},
          "execution_count": 96
        }
      ]
    },
    {
      "cell_type": "code",
      "metadata": {
        "id": "GNcFiJCqFvXm",
        "colab": {
          "base_uri": "https://localhost:8080/"
        },
        "outputId": "b438ea76-8e8a-4963-8d39-14c7d4d89879"
      },
      "source": [
        "cars.dtypes"
      ],
      "execution_count": null,
      "outputs": [
        {
          "output_type": "execute_result",
          "data": {
            "text/plain": [
              "Year                   int64\n",
              "Make                  object\n",
              "Model                 object\n",
              "Size                  object\n",
              "(kw)                   int64\n",
              "Unnamed: 5            object\n",
              "Type                  object\n",
              "City (kwh/100 km)    float64\n",
              "Hwy (kwh/100 km)     float64\n",
              "Comb (kwh/100 km)    float64\n",
              "City (le/100 km)     float64\n",
              "Hwy (le/100 km)      float64\n",
              "Comb (le/100 km)     float64\n",
              "(g/km)                 int64\n",
              "Rating               float64\n",
              "(km)                   int64\n",
              "Time (h)               int64\n",
              "dtype: object"
            ]
          },
          "metadata": {},
          "execution_count": 253
        }
      ]
    },
    {
      "cell_type": "markdown",
      "metadata": {
        "id": "oPCfn4UPDiIk"
      },
      "source": [
        "The following table more clearly shows the common Pandas dtype and their corresponding Python Data Type\n",
        "\n",
        "|Pandas dtype|Corresponding Python type| Usage|\n",
        "|---|---|---|\n",
        "|object|\tstr\t|\tText|\n",
        "|int64|\tint\t|Integer numbers|\n",
        "|float64|\tfloat|Floating point numbers|\n",
        "|bool|\tbool| True/False (Boolean) values|\n",
        "|datetime64|\tNA\t|Date and time values|\n",
        "|category|\tNA\t|Finite list of text values|\n",
        "\n",
        "* `int64` indicates that data in the column are integer numbers\n",
        "* `float64` indicates that data in the column are float numbers\n",
        "* `object` indicates that data in the column are strings\n",
        "* `datetime64` is a date-and-time value, which is not a default Python data type, but could be useful in analytical work"
      ]
    },
    {
      "cell_type": "markdown",
      "metadata": {
        "id": "CbcjCg47VD82"
      },
      "source": [
        "#### Table Index and label\n",
        "\n",
        "Each row and column in the dataframe has its own **index** and **label**  \n",
        "\n",
        "**Index (Numeral)**\n",
        "\n",
        "(1) Indexing of a row\n",
        "\n",
        "Each row has its unique index, starting from zero.\n",
        "\n",
        "\n",
        "(2) Indexing of a column\n",
        "\n",
        "Each column has its unique index, starting from zero as well. \n",
        "\n",
        "\n",
        "\n",
        "**Label**\n",
        "\n",
        "(1) Label of a row\n",
        "\n",
        "each column has its unique label. It is given in the left-most column in bold font. Usually, it is the same as the index. \n",
        "\n",
        ">`DataFrame.index` method returns the labels of the rows\n",
        " \n",
        "\n",
        "(2) Label of a column\n",
        "\n",
        "each column has its unique label. It is given in the first row of the spreadsheet.\n",
        "\n",
        ">`DataFrame.columns` method returns the labels of the columns\n"
      ]
    },
    {
      "cell_type": "code",
      "metadata": {
        "id": "Hi60VoOdH0UR",
        "colab": {
          "base_uri": "https://localhost:8080/"
        },
        "outputId": "2913165a-b8df-486d-e884-138bb42019b4"
      },
      "source": [
        "#print(cars)\n",
        "print(cars.index) # index for the rows, numerals\n",
        "print(cars.columns) # index for the columns, which are labels in text"
      ],
      "execution_count": null,
      "outputs": [
        {
          "output_type": "stream",
          "name": "stdout",
          "text": [
            "RangeIndex(start=0, stop=53, step=1)\n",
            "Index(['Year', 'Make', 'Model', 'Size', '(kw)', 'Unnamed: 5', 'Type',\n",
            "       'City (kwh/100 km)', 'Hwy (kwh/100 km)', 'Comb (kwh/100 km)',\n",
            "       'City (le/100 km)', 'Hwy (le/100 km)', 'Comb (le/100 km)', '(g/km)',\n",
            "       'Rating', '(km)', 'Time (h)'],\n",
            "      dtype='object')\n"
          ]
        }
      ]
    },
    {
      "cell_type": "markdown",
      "metadata": {
        "id": "txDDFdDrVI6F"
      },
      "source": [
        "#### Get columns based on labels\n",
        "\n",
        "\n",
        "We might be interested in keeping only certain columns.\n",
        "\n",
        "The direct way is to use\n",
        "\n",
        "`DataFrame[[\"column1\",\"column3\",...]]`\n",
        "\n",
        "where \"column1\", \"column3\", etc are the labels of the columns you want to select."
      ]
    },
    {
      "cell_type": "markdown",
      "metadata": {
        "id": "uhkTo_5-VXH-"
      },
      "source": [
        "Note: If you only used single brackets to get a column, we will get Pandas series. Pandas series is a one-dimensional data structure in Pandas. It is very similar to the list/array we have seen before. However, each element has its label."
      ]
    },
    {
      "cell_type": "code",
      "metadata": {
        "id": "RSiAR1SBVRYR",
        "colab": {
          "base_uri": "https://localhost:8080/",
          "height": 1000
        },
        "outputId": "59cfbfaf-c36e-4912-e7e6-77fe841e2322"
      },
      "source": [
        "# lets get ONLY the 'Year' and 'Brands' information\n",
        "cars[['Year','Brands']]"
      ],
      "execution_count": null,
      "outputs": [
        {
          "output_type": "execute_result",
          "data": {
            "text/html": [
              "<div>\n",
              "<style scoped>\n",
              "    .dataframe tbody tr th:only-of-type {\n",
              "        vertical-align: middle;\n",
              "    }\n",
              "\n",
              "    .dataframe tbody tr th {\n",
              "        vertical-align: top;\n",
              "    }\n",
              "\n",
              "    .dataframe thead th {\n",
              "        text-align: right;\n",
              "    }\n",
              "</style>\n",
              "<table border=\"1\" class=\"dataframe\">\n",
              "  <thead>\n",
              "    <tr style=\"text-align: right;\">\n",
              "      <th></th>\n",
              "      <th>Year</th>\n",
              "      <th>Brands</th>\n",
              "    </tr>\n",
              "  </thead>\n",
              "  <tbody>\n",
              "    <tr>\n",
              "      <th>0</th>\n",
              "      <td>2012</td>\n",
              "      <td>MITSUBISHI</td>\n",
              "    </tr>\n",
              "    <tr>\n",
              "      <th>1</th>\n",
              "      <td>2012</td>\n",
              "      <td>NISSAN</td>\n",
              "    </tr>\n",
              "    <tr>\n",
              "      <th>2</th>\n",
              "      <td>2013</td>\n",
              "      <td>FORD</td>\n",
              "    </tr>\n",
              "    <tr>\n",
              "      <th>3</th>\n",
              "      <td>2013</td>\n",
              "      <td>MITSUBISHI</td>\n",
              "    </tr>\n",
              "    <tr>\n",
              "      <th>4</th>\n",
              "      <td>2013</td>\n",
              "      <td>NISSAN</td>\n",
              "    </tr>\n",
              "    <tr>\n",
              "      <th>5</th>\n",
              "      <td>2013</td>\n",
              "      <td>SMART</td>\n",
              "    </tr>\n",
              "    <tr>\n",
              "      <th>6</th>\n",
              "      <td>2013</td>\n",
              "      <td>SMART</td>\n",
              "    </tr>\n",
              "    <tr>\n",
              "      <th>7</th>\n",
              "      <td>2013</td>\n",
              "      <td>TESLA</td>\n",
              "    </tr>\n",
              "    <tr>\n",
              "      <th>8</th>\n",
              "      <td>2013</td>\n",
              "      <td>TESLA</td>\n",
              "    </tr>\n",
              "    <tr>\n",
              "      <th>9</th>\n",
              "      <td>2013</td>\n",
              "      <td>TESLA</td>\n",
              "    </tr>\n",
              "    <tr>\n",
              "      <th>10</th>\n",
              "      <td>2013</td>\n",
              "      <td>TESLA</td>\n",
              "    </tr>\n",
              "    <tr>\n",
              "      <th>11</th>\n",
              "      <td>2014</td>\n",
              "      <td>CHEVROLET</td>\n",
              "    </tr>\n",
              "    <tr>\n",
              "      <th>12</th>\n",
              "      <td>2014</td>\n",
              "      <td>FORD</td>\n",
              "    </tr>\n",
              "    <tr>\n",
              "      <th>13</th>\n",
              "      <td>2014</td>\n",
              "      <td>MITSUBISHI</td>\n",
              "    </tr>\n",
              "    <tr>\n",
              "      <th>14</th>\n",
              "      <td>2014</td>\n",
              "      <td>NISSAN</td>\n",
              "    </tr>\n",
              "    <tr>\n",
              "      <th>15</th>\n",
              "      <td>2014</td>\n",
              "      <td>SMART</td>\n",
              "    </tr>\n",
              "    <tr>\n",
              "      <th>16</th>\n",
              "      <td>2014</td>\n",
              "      <td>SMART</td>\n",
              "    </tr>\n",
              "    <tr>\n",
              "      <th>17</th>\n",
              "      <td>2014</td>\n",
              "      <td>TESLA</td>\n",
              "    </tr>\n",
              "    <tr>\n",
              "      <th>18</th>\n",
              "      <td>2014</td>\n",
              "      <td>TESLA</td>\n",
              "    </tr>\n",
              "    <tr>\n",
              "      <th>19</th>\n",
              "      <td>2014</td>\n",
              "      <td>TESLA</td>\n",
              "    </tr>\n",
              "    <tr>\n",
              "      <th>20</th>\n",
              "      <td>2015</td>\n",
              "      <td>BMW</td>\n",
              "    </tr>\n",
              "    <tr>\n",
              "      <th>21</th>\n",
              "      <td>2015</td>\n",
              "      <td>CHEVROLET</td>\n",
              "    </tr>\n",
              "    <tr>\n",
              "      <th>22</th>\n",
              "      <td>2015</td>\n",
              "      <td>FORD</td>\n",
              "    </tr>\n",
              "    <tr>\n",
              "      <th>23</th>\n",
              "      <td>2015</td>\n",
              "      <td>KIA</td>\n",
              "    </tr>\n",
              "    <tr>\n",
              "      <th>24</th>\n",
              "      <td>2015</td>\n",
              "      <td>MITSUBISHI</td>\n",
              "    </tr>\n",
              "    <tr>\n",
              "      <th>25</th>\n",
              "      <td>2015</td>\n",
              "      <td>NISSAN</td>\n",
              "    </tr>\n",
              "    <tr>\n",
              "      <th>26</th>\n",
              "      <td>2015</td>\n",
              "      <td>SMART</td>\n",
              "    </tr>\n",
              "    <tr>\n",
              "      <th>27</th>\n",
              "      <td>2015</td>\n",
              "      <td>SMART</td>\n",
              "    </tr>\n",
              "    <tr>\n",
              "      <th>28</th>\n",
              "      <td>2015</td>\n",
              "      <td>TESLA</td>\n",
              "    </tr>\n",
              "    <tr>\n",
              "      <th>29</th>\n",
              "      <td>2015</td>\n",
              "      <td>TESLA</td>\n",
              "    </tr>\n",
              "    <tr>\n",
              "      <th>30</th>\n",
              "      <td>2015</td>\n",
              "      <td>TESLA</td>\n",
              "    </tr>\n",
              "    <tr>\n",
              "      <th>31</th>\n",
              "      <td>2015</td>\n",
              "      <td>TESLA</td>\n",
              "    </tr>\n",
              "    <tr>\n",
              "      <th>32</th>\n",
              "      <td>2015</td>\n",
              "      <td>TESLA</td>\n",
              "    </tr>\n",
              "    <tr>\n",
              "      <th>33</th>\n",
              "      <td>2015</td>\n",
              "      <td>TESLA</td>\n",
              "    </tr>\n",
              "    <tr>\n",
              "      <th>34</th>\n",
              "      <td>2016</td>\n",
              "      <td>BMW</td>\n",
              "    </tr>\n",
              "    <tr>\n",
              "      <th>35</th>\n",
              "      <td>2016</td>\n",
              "      <td>CHEVROLET</td>\n",
              "    </tr>\n",
              "    <tr>\n",
              "      <th>36</th>\n",
              "      <td>2016</td>\n",
              "      <td>FORD</td>\n",
              "    </tr>\n",
              "    <tr>\n",
              "      <th>37</th>\n",
              "      <td>2016</td>\n",
              "      <td>KIA</td>\n",
              "    </tr>\n",
              "    <tr>\n",
              "      <th>38</th>\n",
              "      <td>2016</td>\n",
              "      <td>MITSUBISHI</td>\n",
              "    </tr>\n",
              "    <tr>\n",
              "      <th>39</th>\n",
              "      <td>2016</td>\n",
              "      <td>NISSAN</td>\n",
              "    </tr>\n",
              "    <tr>\n",
              "      <th>40</th>\n",
              "      <td>2016</td>\n",
              "      <td>NISSAN</td>\n",
              "    </tr>\n",
              "    <tr>\n",
              "      <th>41</th>\n",
              "      <td>2016</td>\n",
              "      <td>SMART</td>\n",
              "    </tr>\n",
              "    <tr>\n",
              "      <th>42</th>\n",
              "      <td>2016</td>\n",
              "      <td>SMART</td>\n",
              "    </tr>\n",
              "    <tr>\n",
              "      <th>43</th>\n",
              "      <td>2016</td>\n",
              "      <td>TESLA</td>\n",
              "    </tr>\n",
              "    <tr>\n",
              "      <th>44</th>\n",
              "      <td>2016</td>\n",
              "      <td>TESLA</td>\n",
              "    </tr>\n",
              "    <tr>\n",
              "      <th>45</th>\n",
              "      <td>2016</td>\n",
              "      <td>TESLA</td>\n",
              "    </tr>\n",
              "    <tr>\n",
              "      <th>46</th>\n",
              "      <td>2016</td>\n",
              "      <td>TESLA</td>\n",
              "    </tr>\n",
              "    <tr>\n",
              "      <th>47</th>\n",
              "      <td>2016</td>\n",
              "      <td>TESLA</td>\n",
              "    </tr>\n",
              "    <tr>\n",
              "      <th>48</th>\n",
              "      <td>2016</td>\n",
              "      <td>TESLA</td>\n",
              "    </tr>\n",
              "    <tr>\n",
              "      <th>49</th>\n",
              "      <td>2016</td>\n",
              "      <td>TESLA</td>\n",
              "    </tr>\n",
              "    <tr>\n",
              "      <th>50</th>\n",
              "      <td>2016</td>\n",
              "      <td>TESLA</td>\n",
              "    </tr>\n",
              "    <tr>\n",
              "      <th>51</th>\n",
              "      <td>2016</td>\n",
              "      <td>TESLA</td>\n",
              "    </tr>\n",
              "    <tr>\n",
              "      <th>52</th>\n",
              "      <td>2016</td>\n",
              "      <td>TESLA</td>\n",
              "    </tr>\n",
              "  </tbody>\n",
              "</table>\n",
              "</div>"
            ],
            "text/plain": [
              "    Year      Brands\n",
              "0   2012  MITSUBISHI\n",
              "1   2012      NISSAN\n",
              "2   2013        FORD\n",
              "3   2013  MITSUBISHI\n",
              "4   2013      NISSAN\n",
              "5   2013       SMART\n",
              "6   2013       SMART\n",
              "7   2013       TESLA\n",
              "8   2013       TESLA\n",
              "9   2013       TESLA\n",
              "10  2013       TESLA\n",
              "11  2014   CHEVROLET\n",
              "12  2014        FORD\n",
              "13  2014  MITSUBISHI\n",
              "14  2014      NISSAN\n",
              "15  2014       SMART\n",
              "16  2014       SMART\n",
              "17  2014       TESLA\n",
              "18  2014       TESLA\n",
              "19  2014       TESLA\n",
              "20  2015         BMW\n",
              "21  2015   CHEVROLET\n",
              "22  2015        FORD\n",
              "23  2015         KIA\n",
              "24  2015  MITSUBISHI\n",
              "25  2015      NISSAN\n",
              "26  2015       SMART\n",
              "27  2015       SMART\n",
              "28  2015       TESLA\n",
              "29  2015       TESLA\n",
              "30  2015       TESLA\n",
              "31  2015       TESLA\n",
              "32  2015       TESLA\n",
              "33  2015       TESLA\n",
              "34  2016         BMW\n",
              "35  2016   CHEVROLET\n",
              "36  2016        FORD\n",
              "37  2016         KIA\n",
              "38  2016  MITSUBISHI\n",
              "39  2016      NISSAN\n",
              "40  2016      NISSAN\n",
              "41  2016       SMART\n",
              "42  2016       SMART\n",
              "43  2016       TESLA\n",
              "44  2016       TESLA\n",
              "45  2016       TESLA\n",
              "46  2016       TESLA\n",
              "47  2016       TESLA\n",
              "48  2016       TESLA\n",
              "49  2016       TESLA\n",
              "50  2016       TESLA\n",
              "51  2016       TESLA\n",
              "52  2016       TESLA"
            ]
          },
          "metadata": {},
          "execution_count": 97
        }
      ]
    },
    {
      "cell_type": "markdown",
      "metadata": {
        "id": "OgRh63A5J73S"
      },
      "source": [
        "---\n",
        "\n",
        "**PRACTICE: Get only the \"Brands\", \"Size\", and \"Rating\" information**\n",
        "\n",
        "---"
      ]
    },
    {
      "cell_type": "code",
      "metadata": {
        "id": "6MEygPMRKHHy",
        "colab": {
          "base_uri": "https://localhost:8080/",
          "height": 1000
        },
        "outputId": "0d83372b-ad6b-4bb5-f3c7-17624bd4d5e2"
      },
      "source": [
        "cars[[\"Brands\",\"Size\",\"Rating\"]]"
      ],
      "execution_count": null,
      "outputs": [
        {
          "output_type": "execute_result",
          "data": {
            "text/html": [
              "<div>\n",
              "<style scoped>\n",
              "    .dataframe tbody tr th:only-of-type {\n",
              "        vertical-align: middle;\n",
              "    }\n",
              "\n",
              "    .dataframe tbody tr th {\n",
              "        vertical-align: top;\n",
              "    }\n",
              "\n",
              "    .dataframe thead th {\n",
              "        text-align: right;\n",
              "    }\n",
              "</style>\n",
              "<table border=\"1\" class=\"dataframe\">\n",
              "  <thead>\n",
              "    <tr style=\"text-align: right;\">\n",
              "      <th></th>\n",
              "      <th>Brands</th>\n",
              "      <th>Size</th>\n",
              "      <th>Rating</th>\n",
              "    </tr>\n",
              "  </thead>\n",
              "  <tbody>\n",
              "    <tr>\n",
              "      <th>0</th>\n",
              "      <td>MITSUBISHI</td>\n",
              "      <td>SUBCOMPACT</td>\n",
              "      <td>NaN</td>\n",
              "    </tr>\n",
              "    <tr>\n",
              "      <th>1</th>\n",
              "      <td>NISSAN</td>\n",
              "      <td>MID-SIZE</td>\n",
              "      <td>NaN</td>\n",
              "    </tr>\n",
              "    <tr>\n",
              "      <th>2</th>\n",
              "      <td>FORD</td>\n",
              "      <td>COMPACT</td>\n",
              "      <td>NaN</td>\n",
              "    </tr>\n",
              "    <tr>\n",
              "      <th>3</th>\n",
              "      <td>MITSUBISHI</td>\n",
              "      <td>SUBCOMPACT</td>\n",
              "      <td>NaN</td>\n",
              "    </tr>\n",
              "    <tr>\n",
              "      <th>4</th>\n",
              "      <td>NISSAN</td>\n",
              "      <td>MID-SIZE</td>\n",
              "      <td>NaN</td>\n",
              "    </tr>\n",
              "    <tr>\n",
              "      <th>5</th>\n",
              "      <td>SMART</td>\n",
              "      <td>TWO-SEATER</td>\n",
              "      <td>NaN</td>\n",
              "    </tr>\n",
              "    <tr>\n",
              "      <th>6</th>\n",
              "      <td>SMART</td>\n",
              "      <td>TWO-SEATER</td>\n",
              "      <td>NaN</td>\n",
              "    </tr>\n",
              "    <tr>\n",
              "      <th>7</th>\n",
              "      <td>TESLA</td>\n",
              "      <td>FULL-SIZE</td>\n",
              "      <td>NaN</td>\n",
              "    </tr>\n",
              "    <tr>\n",
              "      <th>8</th>\n",
              "      <td>TESLA</td>\n",
              "      <td>FULL-SIZE</td>\n",
              "      <td>NaN</td>\n",
              "    </tr>\n",
              "    <tr>\n",
              "      <th>9</th>\n",
              "      <td>TESLA</td>\n",
              "      <td>FULL-SIZE</td>\n",
              "      <td>NaN</td>\n",
              "    </tr>\n",
              "    <tr>\n",
              "      <th>10</th>\n",
              "      <td>TESLA</td>\n",
              "      <td>FULL-SIZE</td>\n",
              "      <td>NaN</td>\n",
              "    </tr>\n",
              "    <tr>\n",
              "      <th>11</th>\n",
              "      <td>CHEVROLET</td>\n",
              "      <td>SUBCOMPACT</td>\n",
              "      <td>NaN</td>\n",
              "    </tr>\n",
              "    <tr>\n",
              "      <th>12</th>\n",
              "      <td>FORD</td>\n",
              "      <td>COMPACT</td>\n",
              "      <td>NaN</td>\n",
              "    </tr>\n",
              "    <tr>\n",
              "      <th>13</th>\n",
              "      <td>MITSUBISHI</td>\n",
              "      <td>SUBCOMPACT</td>\n",
              "      <td>NaN</td>\n",
              "    </tr>\n",
              "    <tr>\n",
              "      <th>14</th>\n",
              "      <td>NISSAN</td>\n",
              "      <td>MID-SIZE</td>\n",
              "      <td>NaN</td>\n",
              "    </tr>\n",
              "    <tr>\n",
              "      <th>15</th>\n",
              "      <td>SMART</td>\n",
              "      <td>TWO-SEATER</td>\n",
              "      <td>NaN</td>\n",
              "    </tr>\n",
              "    <tr>\n",
              "      <th>16</th>\n",
              "      <td>SMART</td>\n",
              "      <td>TWO-SEATER</td>\n",
              "      <td>NaN</td>\n",
              "    </tr>\n",
              "    <tr>\n",
              "      <th>17</th>\n",
              "      <td>TESLA</td>\n",
              "      <td>FULL-SIZE</td>\n",
              "      <td>NaN</td>\n",
              "    </tr>\n",
              "    <tr>\n",
              "      <th>18</th>\n",
              "      <td>TESLA</td>\n",
              "      <td>FULL-SIZE</td>\n",
              "      <td>NaN</td>\n",
              "    </tr>\n",
              "    <tr>\n",
              "      <th>19</th>\n",
              "      <td>TESLA</td>\n",
              "      <td>FULL-SIZE</td>\n",
              "      <td>NaN</td>\n",
              "    </tr>\n",
              "    <tr>\n",
              "      <th>20</th>\n",
              "      <td>BMW</td>\n",
              "      <td>SUBCOMPACT</td>\n",
              "      <td>NaN</td>\n",
              "    </tr>\n",
              "    <tr>\n",
              "      <th>21</th>\n",
              "      <td>CHEVROLET</td>\n",
              "      <td>SUBCOMPACT</td>\n",
              "      <td>NaN</td>\n",
              "    </tr>\n",
              "    <tr>\n",
              "      <th>22</th>\n",
              "      <td>FORD</td>\n",
              "      <td>COMPACT</td>\n",
              "      <td>NaN</td>\n",
              "    </tr>\n",
              "    <tr>\n",
              "      <th>23</th>\n",
              "      <td>KIA</td>\n",
              "      <td>STATION WAGON - SMALL</td>\n",
              "      <td>NaN</td>\n",
              "    </tr>\n",
              "    <tr>\n",
              "      <th>24</th>\n",
              "      <td>MITSUBISHI</td>\n",
              "      <td>SUBCOMPACT</td>\n",
              "      <td>NaN</td>\n",
              "    </tr>\n",
              "    <tr>\n",
              "      <th>25</th>\n",
              "      <td>NISSAN</td>\n",
              "      <td>MID-SIZE</td>\n",
              "      <td>NaN</td>\n",
              "    </tr>\n",
              "    <tr>\n",
              "      <th>26</th>\n",
              "      <td>SMART</td>\n",
              "      <td>TWO-SEATER</td>\n",
              "      <td>NaN</td>\n",
              "    </tr>\n",
              "    <tr>\n",
              "      <th>27</th>\n",
              "      <td>SMART</td>\n",
              "      <td>TWO-SEATER</td>\n",
              "      <td>NaN</td>\n",
              "    </tr>\n",
              "    <tr>\n",
              "      <th>28</th>\n",
              "      <td>TESLA</td>\n",
              "      <td>FULL-SIZE</td>\n",
              "      <td>NaN</td>\n",
              "    </tr>\n",
              "    <tr>\n",
              "      <th>29</th>\n",
              "      <td>TESLA</td>\n",
              "      <td>FULL-SIZE</td>\n",
              "      <td>NaN</td>\n",
              "    </tr>\n",
              "    <tr>\n",
              "      <th>30</th>\n",
              "      <td>TESLA</td>\n",
              "      <td>FULL-SIZE</td>\n",
              "      <td>NaN</td>\n",
              "    </tr>\n",
              "    <tr>\n",
              "      <th>31</th>\n",
              "      <td>TESLA</td>\n",
              "      <td>FULL-SIZE</td>\n",
              "      <td>NaN</td>\n",
              "    </tr>\n",
              "    <tr>\n",
              "      <th>32</th>\n",
              "      <td>TESLA</td>\n",
              "      <td>FULL-SIZE</td>\n",
              "      <td>NaN</td>\n",
              "    </tr>\n",
              "    <tr>\n",
              "      <th>33</th>\n",
              "      <td>TESLA</td>\n",
              "      <td>FULL-SIZE</td>\n",
              "      <td>NaN</td>\n",
              "    </tr>\n",
              "    <tr>\n",
              "      <th>34</th>\n",
              "      <td>BMW</td>\n",
              "      <td>SUBCOMPACT</td>\n",
              "      <td>10.0</td>\n",
              "    </tr>\n",
              "    <tr>\n",
              "      <th>35</th>\n",
              "      <td>CHEVROLET</td>\n",
              "      <td>SUBCOMPACT</td>\n",
              "      <td>10.0</td>\n",
              "    </tr>\n",
              "    <tr>\n",
              "      <th>36</th>\n",
              "      <td>FORD</td>\n",
              "      <td>COMPACT</td>\n",
              "      <td>10.0</td>\n",
              "    </tr>\n",
              "    <tr>\n",
              "      <th>37</th>\n",
              "      <td>KIA</td>\n",
              "      <td>STATION WAGON - SMALL</td>\n",
              "      <td>10.0</td>\n",
              "    </tr>\n",
              "    <tr>\n",
              "      <th>38</th>\n",
              "      <td>MITSUBISHI</td>\n",
              "      <td>SUBCOMPACT</td>\n",
              "      <td>10.0</td>\n",
              "    </tr>\n",
              "    <tr>\n",
              "      <th>39</th>\n",
              "      <td>NISSAN</td>\n",
              "      <td>MID-SIZE</td>\n",
              "      <td>10.0</td>\n",
              "    </tr>\n",
              "    <tr>\n",
              "      <th>40</th>\n",
              "      <td>NISSAN</td>\n",
              "      <td>MID-SIZE</td>\n",
              "      <td>10.0</td>\n",
              "    </tr>\n",
              "    <tr>\n",
              "      <th>41</th>\n",
              "      <td>SMART</td>\n",
              "      <td>TWO-SEATER</td>\n",
              "      <td>10.0</td>\n",
              "    </tr>\n",
              "    <tr>\n",
              "      <th>42</th>\n",
              "      <td>SMART</td>\n",
              "      <td>TWO-SEATER</td>\n",
              "      <td>10.0</td>\n",
              "    </tr>\n",
              "    <tr>\n",
              "      <th>43</th>\n",
              "      <td>TESLA</td>\n",
              "      <td>FULL-SIZE</td>\n",
              "      <td>10.0</td>\n",
              "    </tr>\n",
              "    <tr>\n",
              "      <th>44</th>\n",
              "      <td>TESLA</td>\n",
              "      <td>FULL-SIZE</td>\n",
              "      <td>10.0</td>\n",
              "    </tr>\n",
              "    <tr>\n",
              "      <th>45</th>\n",
              "      <td>TESLA</td>\n",
              "      <td>FULL-SIZE</td>\n",
              "      <td>10.0</td>\n",
              "    </tr>\n",
              "    <tr>\n",
              "      <th>46</th>\n",
              "      <td>TESLA</td>\n",
              "      <td>FULL-SIZE</td>\n",
              "      <td>10.0</td>\n",
              "    </tr>\n",
              "    <tr>\n",
              "      <th>47</th>\n",
              "      <td>TESLA</td>\n",
              "      <td>FULL-SIZE</td>\n",
              "      <td>10.0</td>\n",
              "    </tr>\n",
              "    <tr>\n",
              "      <th>48</th>\n",
              "      <td>TESLA</td>\n",
              "      <td>FULL-SIZE</td>\n",
              "      <td>10.0</td>\n",
              "    </tr>\n",
              "    <tr>\n",
              "      <th>49</th>\n",
              "      <td>TESLA</td>\n",
              "      <td>FULL-SIZE</td>\n",
              "      <td>10.0</td>\n",
              "    </tr>\n",
              "    <tr>\n",
              "      <th>50</th>\n",
              "      <td>TESLA</td>\n",
              "      <td>FULL-SIZE</td>\n",
              "      <td>10.0</td>\n",
              "    </tr>\n",
              "    <tr>\n",
              "      <th>51</th>\n",
              "      <td>TESLA</td>\n",
              "      <td>SUV - STANDARD</td>\n",
              "      <td>10.0</td>\n",
              "    </tr>\n",
              "    <tr>\n",
              "      <th>52</th>\n",
              "      <td>TESLA</td>\n",
              "      <td>SUV - STANDARD</td>\n",
              "      <td>10.0</td>\n",
              "    </tr>\n",
              "  </tbody>\n",
              "</table>\n",
              "</div>"
            ],
            "text/plain": [
              "        Brands                   Size  Rating\n",
              "0   MITSUBISHI             SUBCOMPACT     NaN\n",
              "1       NISSAN               MID-SIZE     NaN\n",
              "2         FORD                COMPACT     NaN\n",
              "3   MITSUBISHI             SUBCOMPACT     NaN\n",
              "4       NISSAN               MID-SIZE     NaN\n",
              "5        SMART             TWO-SEATER     NaN\n",
              "6        SMART             TWO-SEATER     NaN\n",
              "7        TESLA              FULL-SIZE     NaN\n",
              "8        TESLA              FULL-SIZE     NaN\n",
              "9        TESLA              FULL-SIZE     NaN\n",
              "10       TESLA              FULL-SIZE     NaN\n",
              "11   CHEVROLET             SUBCOMPACT     NaN\n",
              "12        FORD                COMPACT     NaN\n",
              "13  MITSUBISHI             SUBCOMPACT     NaN\n",
              "14      NISSAN               MID-SIZE     NaN\n",
              "15       SMART             TWO-SEATER     NaN\n",
              "16       SMART             TWO-SEATER     NaN\n",
              "17       TESLA              FULL-SIZE     NaN\n",
              "18       TESLA              FULL-SIZE     NaN\n",
              "19       TESLA              FULL-SIZE     NaN\n",
              "20         BMW             SUBCOMPACT     NaN\n",
              "21   CHEVROLET             SUBCOMPACT     NaN\n",
              "22        FORD                COMPACT     NaN\n",
              "23         KIA  STATION WAGON - SMALL     NaN\n",
              "24  MITSUBISHI             SUBCOMPACT     NaN\n",
              "25      NISSAN               MID-SIZE     NaN\n",
              "26       SMART             TWO-SEATER     NaN\n",
              "27       SMART             TWO-SEATER     NaN\n",
              "28       TESLA              FULL-SIZE     NaN\n",
              "29       TESLA              FULL-SIZE     NaN\n",
              "30       TESLA              FULL-SIZE     NaN\n",
              "31       TESLA              FULL-SIZE     NaN\n",
              "32       TESLA              FULL-SIZE     NaN\n",
              "33       TESLA              FULL-SIZE     NaN\n",
              "34         BMW             SUBCOMPACT    10.0\n",
              "35   CHEVROLET             SUBCOMPACT    10.0\n",
              "36        FORD                COMPACT    10.0\n",
              "37         KIA  STATION WAGON - SMALL    10.0\n",
              "38  MITSUBISHI             SUBCOMPACT    10.0\n",
              "39      NISSAN               MID-SIZE    10.0\n",
              "40      NISSAN               MID-SIZE    10.0\n",
              "41       SMART             TWO-SEATER    10.0\n",
              "42       SMART             TWO-SEATER    10.0\n",
              "43       TESLA              FULL-SIZE    10.0\n",
              "44       TESLA              FULL-SIZE    10.0\n",
              "45       TESLA              FULL-SIZE    10.0\n",
              "46       TESLA              FULL-SIZE    10.0\n",
              "47       TESLA              FULL-SIZE    10.0\n",
              "48       TESLA              FULL-SIZE    10.0\n",
              "49       TESLA              FULL-SIZE    10.0\n",
              "50       TESLA              FULL-SIZE    10.0\n",
              "51       TESLA         SUV - STANDARD    10.0\n",
              "52       TESLA         SUV - STANDARD    10.0"
            ]
          },
          "metadata": {},
          "execution_count": 98
        }
      ]
    },
    {
      "cell_type": "markdown",
      "metadata": {
        "id": "ZXYjBQgQRI1C"
      },
      "source": [
        "#### Get columns based on index "
      ]
    },
    {
      "cell_type": "markdown",
      "metadata": {
        "id": "LKyf_oA4Vd3s"
      },
      "source": [
        "Remember our old friend **Index**?\n",
        "\n",
        "You can also get certain columns in the dataframe using indices and the .iloc method\n",
        "\n",
        ".iloc takes in 2 positional arguments: [rows, columns]\n",
        "\n",
        "* DataFrame is the name of your dataset\n",
        "\n",
        "```\n",
        "# all rows, from columns 1 to 3\n",
        "selected_df = DataFrame.iloc[: , 1:4] \n",
        "# all rows, only column 1 and 3\n",
        "selected_df = DataFrame.iloc[: , [1,3]]\n",
        "```\n",
        "\n",
        "\n",
        "---\n",
        "\n",
        "**PRACTICE: Get a dataframe that includes the first column and the last column**\n",
        "\n",
        "---"
      ]
    },
    {
      "cell_type": "code",
      "metadata": {
        "id": "SrcTG8icVc2I"
      },
      "source": [
        ""
      ],
      "execution_count": null,
      "outputs": []
    },
    {
      "cell_type": "markdown",
      "metadata": {
        "id": "6IphqduUH04A"
      },
      "source": [
        "### Data Cleaning\n",
        "\n",
        "Data cleaning can be a tedious task. Lots of business analysts spend lots of time working on preparing the data. The 80/20 rule states that a analyst spends around 80% of the time doing data cleaning before even moving on analytics!\n",
        "\n",
        "Some of the important tasks related to data cleaning include\n",
        "\n",
        "- Checking the validity of the values\n",
        "- Checking for missing values\n",
        "- Checking unique values (ID variables) are indeed unique\n",
        "- Combining multiple files\n",
        "- Checking for duplicated records\n",
        "- Restructuring the data\n",
        "- ..."
      ]
    },
    {
      "cell_type": "markdown",
      "metadata": {
        "id": "a6MhVwUiIPaM"
      },
      "source": [
        "Pandas provides many powerful methods to help us perform data cleaning very efficiently. \n",
        "\n",
        "For a quick reference, click [here](https://pandas.pydata.org/Pandas_Cheat_Sheet.pdf) for a nice cheatsheet.\n",
        "\n",
        "Let's illustrate some of the basic tasks using this sample data."
      ]
    },
    {
      "cell_type": "code",
      "metadata": {
        "id": "KvDQvFUMwG3k",
        "colab": {
          "base_uri": "https://localhost:8080/",
          "height": 204
        },
        "outputId": "7973b3c1-1adb-45ba-d456-a1505342ed92"
      },
      "source": [
        "cars.head()"
      ],
      "execution_count": null,
      "outputs": [
        {
          "output_type": "execute_result",
          "data": {
            "text/html": [
              "<div>\n",
              "<style scoped>\n",
              "    .dataframe tbody tr th:only-of-type {\n",
              "        vertical-align: middle;\n",
              "    }\n",
              "\n",
              "    .dataframe tbody tr th {\n",
              "        vertical-align: top;\n",
              "    }\n",
              "\n",
              "    .dataframe thead th {\n",
              "        text-align: right;\n",
              "    }\n",
              "</style>\n",
              "<table border=\"1\" class=\"dataframe\">\n",
              "  <thead>\n",
              "    <tr style=\"text-align: right;\">\n",
              "      <th></th>\n",
              "      <th>Year</th>\n",
              "      <th>Brands</th>\n",
              "      <th>Model</th>\n",
              "      <th>Size</th>\n",
              "      <th>(kw)</th>\n",
              "      <th>Unnamed: 5</th>\n",
              "      <th>Type</th>\n",
              "      <th>City (kwh/100 km)</th>\n",
              "      <th>Hwy (kwh/100 km)</th>\n",
              "      <th>Comb (kwh/100 km)</th>\n",
              "      <th>City (le/100 km)</th>\n",
              "      <th>Hwy (le/100 km)</th>\n",
              "      <th>Comb (le/100 km)</th>\n",
              "      <th>(g/km)</th>\n",
              "      <th>Rating</th>\n",
              "      <th>(km)</th>\n",
              "      <th>Time (h)</th>\n",
              "    </tr>\n",
              "  </thead>\n",
              "  <tbody>\n",
              "    <tr>\n",
              "      <th>0</th>\n",
              "      <td>2012</td>\n",
              "      <td>MITSUBISHI</td>\n",
              "      <td>i-MiEV</td>\n",
              "      <td>SUBCOMPACT</td>\n",
              "      <td>49</td>\n",
              "      <td>A1</td>\n",
              "      <td>B</td>\n",
              "      <td>16.9</td>\n",
              "      <td>21.4</td>\n",
              "      <td>18.7</td>\n",
              "      <td>1.9</td>\n",
              "      <td>2.4</td>\n",
              "      <td>2.1</td>\n",
              "      <td>0</td>\n",
              "      <td>NaN</td>\n",
              "      <td>100</td>\n",
              "      <td>7</td>\n",
              "    </tr>\n",
              "    <tr>\n",
              "      <th>1</th>\n",
              "      <td>2012</td>\n",
              "      <td>NISSAN</td>\n",
              "      <td>LEAF</td>\n",
              "      <td>MID-SIZE</td>\n",
              "      <td>80</td>\n",
              "      <td>A1</td>\n",
              "      <td>B</td>\n",
              "      <td>19.3</td>\n",
              "      <td>23.0</td>\n",
              "      <td>21.1</td>\n",
              "      <td>2.2</td>\n",
              "      <td>2.6</td>\n",
              "      <td>2.4</td>\n",
              "      <td>0</td>\n",
              "      <td>NaN</td>\n",
              "      <td>117</td>\n",
              "      <td>7</td>\n",
              "    </tr>\n",
              "    <tr>\n",
              "      <th>2</th>\n",
              "      <td>2013</td>\n",
              "      <td>FORD</td>\n",
              "      <td>FOCUS ELECTRIC</td>\n",
              "      <td>COMPACT</td>\n",
              "      <td>107</td>\n",
              "      <td>A1</td>\n",
              "      <td>B</td>\n",
              "      <td>19.0</td>\n",
              "      <td>21.1</td>\n",
              "      <td>20.0</td>\n",
              "      <td>2.1</td>\n",
              "      <td>2.4</td>\n",
              "      <td>2.2</td>\n",
              "      <td>0</td>\n",
              "      <td>NaN</td>\n",
              "      <td>122</td>\n",
              "      <td>4</td>\n",
              "    </tr>\n",
              "    <tr>\n",
              "      <th>3</th>\n",
              "      <td>2013</td>\n",
              "      <td>MITSUBISHI</td>\n",
              "      <td>i-MiEV</td>\n",
              "      <td>SUBCOMPACT</td>\n",
              "      <td>49</td>\n",
              "      <td>A1</td>\n",
              "      <td>B</td>\n",
              "      <td>16.9</td>\n",
              "      <td>21.4</td>\n",
              "      <td>18.7</td>\n",
              "      <td>1.9</td>\n",
              "      <td>2.4</td>\n",
              "      <td>2.1</td>\n",
              "      <td>0</td>\n",
              "      <td>NaN</td>\n",
              "      <td>100</td>\n",
              "      <td>7</td>\n",
              "    </tr>\n",
              "    <tr>\n",
              "      <th>4</th>\n",
              "      <td>2013</td>\n",
              "      <td>NISSAN</td>\n",
              "      <td>LEAF</td>\n",
              "      <td>MID-SIZE</td>\n",
              "      <td>80</td>\n",
              "      <td>A1</td>\n",
              "      <td>B</td>\n",
              "      <td>19.3</td>\n",
              "      <td>23.0</td>\n",
              "      <td>21.1</td>\n",
              "      <td>2.2</td>\n",
              "      <td>2.6</td>\n",
              "      <td>2.4</td>\n",
              "      <td>0</td>\n",
              "      <td>NaN</td>\n",
              "      <td>117</td>\n",
              "      <td>7</td>\n",
              "    </tr>\n",
              "  </tbody>\n",
              "</table>\n",
              "</div>"
            ],
            "text/plain": [
              "   Year      Brands           Model        Size  ...  (g/km) Rating (km)  Time (h)\n",
              "0  2012  MITSUBISHI          i-MiEV  SUBCOMPACT  ...       0    NaN  100         7\n",
              "1  2012      NISSAN            LEAF    MID-SIZE  ...       0    NaN  117         7\n",
              "2  2013        FORD  FOCUS ELECTRIC     COMPACT  ...       0    NaN  122         4\n",
              "3  2013  MITSUBISHI          i-MiEV  SUBCOMPACT  ...       0    NaN  100         7\n",
              "4  2013      NISSAN            LEAF    MID-SIZE  ...       0    NaN  117         7\n",
              "\n",
              "[5 rows x 17 columns]"
            ]
          },
          "metadata": {},
          "execution_count": 99
        }
      ]
    },
    {
      "cell_type": "code",
      "metadata": {
        "id": "ZlyEF-LHIL19",
        "colab": {
          "base_uri": "https://localhost:8080/"
        },
        "outputId": "fe1ed69f-844d-4fbb-a789-b5d8914860db"
      },
      "source": [
        "# .nunique() --> Check the number of unique values in \"Unnamed: 5\"\n",
        "cars[\"Unnamed: 5\"].nunique()\n",
        "# .unique() --> Get the unique value(s) in \"Unnamed: 5\"\n",
        "cars[\"Unnamed: 5\"].unique()"
      ],
      "execution_count": null,
      "outputs": [
        {
          "output_type": "execute_result",
          "data": {
            "text/plain": [
              "array(['A1'], dtype=object)"
            ]
          },
          "metadata": {},
          "execution_count": 258
        }
      ]
    },
    {
      "cell_type": "code",
      "metadata": {
        "colab": {
          "base_uri": "https://localhost:8080/"
        },
        "id": "ckc6ERSXwdzn",
        "outputId": "ab2708fd-2a4b-4666-b231-83c077a18209"
      },
      "source": [
        "# .value_counts() --> Count number of rows with each unique value of variable\n",
        "print(cars[\"Unnamed: 5\"].value_counts())"
      ],
      "execution_count": null,
      "outputs": [
        {
          "output_type": "stream",
          "name": "stdout",
          "text": [
            "A1    53\n",
            "Name: Unnamed: 5, dtype: int64\n"
          ]
        }
      ]
    },
    {
      "cell_type": "code",
      "metadata": {
        "colab": {
          "base_uri": "https://localhost:8080/"
        },
        "id": "8yhxoACywxlf",
        "outputId": "2686cc53-13a1-4c3f-f983-c0c3dcfd2ae5"
      },
      "source": [
        "# See the number of unique values in each column for the whole dataframe\n",
        "print(cars.nunique())\n",
        "\n",
        "# when the sample size is small, \n",
        "# it is very likely that that the dataset does not have all the categories of a specific column."
      ],
      "execution_count": null,
      "outputs": [
        {
          "output_type": "stream",
          "name": "stdout",
          "text": [
            "Year                  5\n",
            "Make                  8\n",
            "Model                23\n",
            "Size                  7\n",
            "(kw)                 15\n",
            "Unnamed: 5            1\n",
            "Type                  1\n",
            "City (kwh/100 km)    19\n",
            "Hwy (kwh/100 km)     19\n",
            "Comb (kwh/100 km)    19\n",
            "City (le/100 km)     10\n",
            "Hwy (le/100 km)       6\n",
            "Comb (le/100 km)      8\n",
            "(g/km)                1\n",
            "Rating                1\n",
            "(km)                 19\n",
            "Time (h)              7\n",
            "dtype: int64\n"
          ]
        }
      ]
    },
    {
      "cell_type": "code",
      "metadata": {
        "colab": {
          "base_uri": "https://localhost:8080/"
        },
        "id": "nb8M3wbqXP-y",
        "outputId": "b9982ea0-1965-47ec-bae0-e42bc382824d"
      },
      "source": [
        "cars.columns"
      ],
      "execution_count": null,
      "outputs": [
        {
          "output_type": "execute_result",
          "data": {
            "text/plain": [
              "Index(['Year', 'Make', 'Model', 'Size', '(kw)', 'Unnamed: 5', 'Type',\n",
              "       'City (kwh/100 km)', 'Hwy (kwh/100 km)', 'Comb (kwh/100 km)',\n",
              "       'City (le/100 km)', 'Hwy (le/100 km)', 'Comb (le/100 km)', '(g/km)',\n",
              "       'Rating', '(km)', 'Time (h)'],\n",
              "      dtype='object')"
            ]
          },
          "metadata": {},
          "execution_count": 261
        }
      ]
    },
    {
      "cell_type": "code",
      "metadata": {
        "id": "l1B2u2BfPTic"
      },
      "source": [
        "# Suppose we decided to drop the column \"Unnamed: 5\"\n",
        "# because it only contain one unique value\n",
        "cars.drop(columns = [\"Unnamed: 5\"], inplace = True)\n",
        "# inplace = True means that we directly make changes to the specified object, without creating new objects"
      ],
      "execution_count": null,
      "outputs": []
    },
    {
      "cell_type": "code",
      "metadata": {
        "id": "ub9GZf8ePycP",
        "colab": {
          "base_uri": "https://localhost:8080/"
        },
        "outputId": "177afed1-eaa5-44bd-a2ed-87932f4ff40e"
      },
      "source": [
        "cars.columns"
      ],
      "execution_count": null,
      "outputs": [
        {
          "output_type": "execute_result",
          "data": {
            "text/plain": [
              "Index(['Year', 'Brands', 'Model', 'Size', '(kw)', 'Type', 'City (kwh/100 km)',\n",
              "       'Hwy (kwh/100 km)', 'Comb (kwh/100 km)', 'City (le/100 km)',\n",
              "       'Hwy (le/100 km)', 'Comb (le/100 km)', '(g/km)', 'Rating', '(km)',\n",
              "       'Time (h)'],\n",
              "      dtype='object')"
            ]
          },
          "metadata": {},
          "execution_count": 101
        }
      ]
    },
    {
      "cell_type": "markdown",
      "metadata": {
        "id": "ullPrbQfTSSx"
      },
      "source": [
        "Pandas DataFrame directly transforms **missing values** into NumPy **NaN values**.\n",
        "* NaN Values: \"Not-a-Number\", a numeric data type that is interpreted as a **undefined** or **unrepresentatble** value."
      ]
    },
    {
      "cell_type": "code",
      "metadata": {
        "id": "ApahtdmZP4nA",
        "colab": {
          "base_uri": "https://localhost:8080/"
        },
        "outputId": "0154b6d1-4231-48d8-bc91-433745fc2b8e"
      },
      "source": [
        "# previously, we have 17 columns\n",
        "# and the shape of our data frame was 53 rows X 17 columns\n",
        "# use the .shape method to see the dimensionality now\n",
        "cars.shape"
      ],
      "execution_count": null,
      "outputs": [
        {
          "output_type": "execute_result",
          "data": {
            "text/plain": [
              "(53, 16)"
            ]
          },
          "metadata": {},
          "execution_count": 102
        }
      ]
    },
    {
      "cell_type": "markdown",
      "metadata": {
        "id": "KSFyeDj3P5Of"
      },
      "source": [
        "#### Missing values\n",
        "\n",
        "One thing we immediately notice is that there are missing values in the dataset. \n",
        "\n",
        "Pandas provides many methods we can use to work with missing values. A good tutorial can be found [here](https://pandas.pydata.org/pandas-docs/stable/user_guide/missing_data.html).\n",
        "\n",
        "Some commonly used methods are here.\n",
        "\n",
        "\n",
        "|method|explanation|\n",
        "|---|---|\n",
        "|[DataFrame.isna() ](https://pandas.pydata.org/pandas-docs/stable/user_guide/missing_data.html#values-considered-missing)|Returns Boolean value for each cell indicating whether a number is a missing value (True) or not (False) |\n",
        "|[DataFrame.fillna() ](https://pandas.pydata.org/pandas-docs/stable/user_guide/missing_data.html#filling-missing-values-fillna)|Fill in the missing values with a specific method. For example backward, forward fill, mean, median, sum... |\n",
        "|[DataFrame.interpolate()](https://pandas.pydata.org/pandas-docs/stable/user_guide/missing_data.html#interpolation)|Fill in the missing values with more sophisticated  math methods |\n",
        "|[DataFrame.dropna()](https://pandas.pydata.org/pandas-docs/stable/user_guide/missing_data.html#dropping-axis-labels-with-missing-data-dropna)|Drop missing values|\n",
        "\n",
        "Let's give `DataFrame.isna()` a shot"
      ]
    },
    {
      "cell_type": "code",
      "metadata": {
        "id": "RsXmZrMkQCyK"
      },
      "source": [
        "#cars.isna()\n",
        "#cars.head().isna()"
      ],
      "execution_count": null,
      "outputs": []
    },
    {
      "cell_type": "markdown",
      "metadata": {
        "id": "xmPlb2K2Qcfe"
      },
      "source": [
        "How do we proceed?\n",
        "\n",
        "Maybe we are interested in understanding how many missing values we have. Now, it is a good place for us to talk about some basic Pandas calculations we can work on.\n",
        "\n",
        "|Function|Explanation|\n",
        "|---|---|\n",
        "|DataFrame.sum()|sum all the values column wise. add axis=1 if row-wise.|\n",
        "|DataFrame.cumsum()|Perform cumulative sum column wise. add axis=1 if row-wise.|\n",
        "|DataFrame.prod()|multiply all the values column wise. add axis=1 if row-wise.|\n",
        "|DataFrame.cumprod()|Perform cumulative multiplication column wise. add axis=1 if row-wise.|"
      ]
    },
    {
      "cell_type": "code",
      "metadata": {
        "colab": {
          "base_uri": "https://localhost:8080/"
        },
        "id": "bQndC3ulTBD2",
        "outputId": "54ddc064-1df5-4e67-a605-c1c118f227c5"
      },
      "source": [
        "cars.sum() \n",
        "# not every sum makes sense"
      ],
      "execution_count": null,
      "outputs": [
        {
          "output_type": "execute_result",
          "data": {
            "text/plain": [
              "Year                                                            106781\n",
              "Brands               MITSUBISHINISSANFORDMITSUBISHINISSANSMARTSMART...\n",
              "Model                i-MiEVLEAFFOCUS ELECTRICi-MiEVLEAFFORTWO ELECT...\n",
              "Size                 SUBCOMPACTMID-SIZECOMPACTSUBCOMPACTMID-SIZETWO...\n",
              "(kw)                                                             10103\n",
              "Type                 BBBBBBBBBBBBBBBBBBBBBBBBBBBBBBBBBBBBBBBBBBBBBB...\n",
              "City (kwh/100 km)                                               1041.3\n",
              "Hwy (kwh/100 km)                                                1146.6\n",
              "Comb (kwh/100 km)                                               1088.7\n",
              "City (le/100 km)                                                   117\n",
              "Hwy (le/100 km)                                                  128.4\n",
              "Comb (le/100 km)                                                   122\n",
              "(g/km)                                                               0\n",
              "Rating                                                             190\n",
              "(km)                                                             12676\n",
              "Time (h)                                                           449\n",
              "dtype: object"
            ]
          },
          "metadata": {},
          "execution_count": 105
        }
      ]
    },
    {
      "cell_type": "code",
      "metadata": {
        "id": "p9z6Yv2ZQf8-",
        "colab": {
          "base_uri": "https://localhost:8080/"
        },
        "outputId": "81f1b07f-bb01-41ff-afcf-7d1d7e0df7fc"
      },
      "source": [
        "# However, combining isna with sum, we could get the number of missing values\n",
        "cars.isna().sum()"
      ],
      "execution_count": null,
      "outputs": [
        {
          "output_type": "execute_result",
          "data": {
            "text/plain": [
              "Year                  0\n",
              "Brands                0\n",
              "Model                 0\n",
              "Size                  0\n",
              "(kw)                  0\n",
              "Type                  0\n",
              "City (kwh/100 km)     0\n",
              "Hwy (kwh/100 km)      0\n",
              "Comb (kwh/100 km)     0\n",
              "City (le/100 km)      0\n",
              "Hwy (le/100 km)       0\n",
              "Comb (le/100 km)      0\n",
              "(g/km)                0\n",
              "Rating               34\n",
              "(km)                  0\n",
              "Time (h)              0\n",
              "dtype: int64"
            ]
          },
          "metadata": {},
          "execution_count": 106
        }
      ]
    },
    {
      "cell_type": "markdown",
      "metadata": {
        "id": "PezwzruJYCUN"
      },
      "source": [
        "- If the NaN Values is occurring in critical columns, we usually choose to drop with .dropna() or replace with .fillna()\n",
        "- In this case, the NaN values are all and only in \"Rating\", so we will keep them."
      ]
    },
    {
      "cell_type": "markdown",
      "metadata": {
        "id": "9FKl-O4Mo67y"
      },
      "source": [
        "## Task 3: Exploratory Data Analysis (EDA)\n",
        "\n",
        "In statistics, exploratory data analysis is an approach to analyzing data sets to summarize their main characteristics, often using statistical graphics and other data visualization methods. "
      ]
    },
    {
      "cell_type": "code",
      "metadata": {
        "id": "bzf6lEzNo6eZ",
        "colab": {
          "base_uri": "https://localhost:8080/",
          "height": 238
        },
        "outputId": "b4a9d473-4a45-4838-fc38-8855883a6d68"
      },
      "source": [
        "cars.head()"
      ],
      "execution_count": null,
      "outputs": [
        {
          "output_type": "execute_result",
          "data": {
            "text/html": [
              "<div>\n",
              "<style scoped>\n",
              "    .dataframe tbody tr th:only-of-type {\n",
              "        vertical-align: middle;\n",
              "    }\n",
              "\n",
              "    .dataframe tbody tr th {\n",
              "        vertical-align: top;\n",
              "    }\n",
              "\n",
              "    .dataframe thead th {\n",
              "        text-align: right;\n",
              "    }\n",
              "</style>\n",
              "<table border=\"1\" class=\"dataframe\">\n",
              "  <thead>\n",
              "    <tr style=\"text-align: right;\">\n",
              "      <th></th>\n",
              "      <th>Year</th>\n",
              "      <th>Make</th>\n",
              "      <th>Model</th>\n",
              "      <th>Size</th>\n",
              "      <th>(kw)</th>\n",
              "      <th>Type</th>\n",
              "      <th>City (kwh/100 km)</th>\n",
              "      <th>Hwy (kwh/100 km)</th>\n",
              "      <th>Comb (kwh/100 km)</th>\n",
              "      <th>City (le/100 km)</th>\n",
              "      <th>Hwy (le/100 km)</th>\n",
              "      <th>Comb (le/100 km)</th>\n",
              "      <th>(g/km)</th>\n",
              "      <th>Rating</th>\n",
              "      <th>(km)</th>\n",
              "      <th>Time (h)</th>\n",
              "    </tr>\n",
              "  </thead>\n",
              "  <tbody>\n",
              "    <tr>\n",
              "      <th>0</th>\n",
              "      <td>2012</td>\n",
              "      <td>MITSUBISHI</td>\n",
              "      <td>i-MiEV</td>\n",
              "      <td>SUBCOMPACT</td>\n",
              "      <td>49</td>\n",
              "      <td>B</td>\n",
              "      <td>16.9</td>\n",
              "      <td>21.4</td>\n",
              "      <td>18.7</td>\n",
              "      <td>1.9</td>\n",
              "      <td>2.4</td>\n",
              "      <td>2.1</td>\n",
              "      <td>0</td>\n",
              "      <td>NaN</td>\n",
              "      <td>100</td>\n",
              "      <td>7</td>\n",
              "    </tr>\n",
              "    <tr>\n",
              "      <th>1</th>\n",
              "      <td>2012</td>\n",
              "      <td>NISSAN</td>\n",
              "      <td>LEAF</td>\n",
              "      <td>MID-SIZE</td>\n",
              "      <td>80</td>\n",
              "      <td>B</td>\n",
              "      <td>19.3</td>\n",
              "      <td>23.0</td>\n",
              "      <td>21.1</td>\n",
              "      <td>2.2</td>\n",
              "      <td>2.6</td>\n",
              "      <td>2.4</td>\n",
              "      <td>0</td>\n",
              "      <td>NaN</td>\n",
              "      <td>117</td>\n",
              "      <td>7</td>\n",
              "    </tr>\n",
              "    <tr>\n",
              "      <th>2</th>\n",
              "      <td>2013</td>\n",
              "      <td>FORD</td>\n",
              "      <td>FOCUS ELECTRIC</td>\n",
              "      <td>COMPACT</td>\n",
              "      <td>107</td>\n",
              "      <td>B</td>\n",
              "      <td>19.0</td>\n",
              "      <td>21.1</td>\n",
              "      <td>20.0</td>\n",
              "      <td>2.1</td>\n",
              "      <td>2.4</td>\n",
              "      <td>2.2</td>\n",
              "      <td>0</td>\n",
              "      <td>NaN</td>\n",
              "      <td>122</td>\n",
              "      <td>4</td>\n",
              "    </tr>\n",
              "    <tr>\n",
              "      <th>3</th>\n",
              "      <td>2013</td>\n",
              "      <td>MITSUBISHI</td>\n",
              "      <td>i-MiEV</td>\n",
              "      <td>SUBCOMPACT</td>\n",
              "      <td>49</td>\n",
              "      <td>B</td>\n",
              "      <td>16.9</td>\n",
              "      <td>21.4</td>\n",
              "      <td>18.7</td>\n",
              "      <td>1.9</td>\n",
              "      <td>2.4</td>\n",
              "      <td>2.1</td>\n",
              "      <td>0</td>\n",
              "      <td>NaN</td>\n",
              "      <td>100</td>\n",
              "      <td>7</td>\n",
              "    </tr>\n",
              "    <tr>\n",
              "      <th>4</th>\n",
              "      <td>2013</td>\n",
              "      <td>NISSAN</td>\n",
              "      <td>LEAF</td>\n",
              "      <td>MID-SIZE</td>\n",
              "      <td>80</td>\n",
              "      <td>B</td>\n",
              "      <td>19.3</td>\n",
              "      <td>23.0</td>\n",
              "      <td>21.1</td>\n",
              "      <td>2.2</td>\n",
              "      <td>2.6</td>\n",
              "      <td>2.4</td>\n",
              "      <td>0</td>\n",
              "      <td>NaN</td>\n",
              "      <td>117</td>\n",
              "      <td>7</td>\n",
              "    </tr>\n",
              "  </tbody>\n",
              "</table>\n",
              "</div>"
            ],
            "text/plain": [
              "   Year        Make           Model        Size  ...  (g/km) Rating  (km)  Time (h)\n",
              "0  2012  MITSUBISHI          i-MiEV  SUBCOMPACT  ...       0    NaN   100         7\n",
              "1  2012      NISSAN            LEAF    MID-SIZE  ...       0    NaN   117         7\n",
              "2  2013        FORD  FOCUS ELECTRIC     COMPACT  ...       0    NaN   122         4\n",
              "3  2013  MITSUBISHI          i-MiEV  SUBCOMPACT  ...       0    NaN   100         7\n",
              "4  2013      NISSAN            LEAF    MID-SIZE  ...       0    NaN   117         7\n",
              "\n",
              "[5 rows x 16 columns]"
            ]
          },
          "metadata": {},
          "execution_count": 271
        }
      ]
    },
    {
      "cell_type": "code",
      "metadata": {
        "colab": {
          "base_uri": "https://localhost:8080/",
          "height": 314
        },
        "id": "4beKOe-RIbpp",
        "outputId": "d8b5b09a-552a-40e7-b358-04da85563935"
      },
      "source": [
        "# summary statistics (for numerical values)\n",
        "cars.describe()"
      ],
      "execution_count": null,
      "outputs": [
        {
          "output_type": "execute_result",
          "data": {
            "text/html": [
              "<div>\n",
              "<style scoped>\n",
              "    .dataframe tbody tr th:only-of-type {\n",
              "        vertical-align: middle;\n",
              "    }\n",
              "\n",
              "    .dataframe tbody tr th {\n",
              "        vertical-align: top;\n",
              "    }\n",
              "\n",
              "    .dataframe thead th {\n",
              "        text-align: right;\n",
              "    }\n",
              "</style>\n",
              "<table border=\"1\" class=\"dataframe\">\n",
              "  <thead>\n",
              "    <tr style=\"text-align: right;\">\n",
              "      <th></th>\n",
              "      <th>Year</th>\n",
              "      <th>(kw)</th>\n",
              "      <th>City (kwh/100 km)</th>\n",
              "      <th>Hwy (kwh/100 km)</th>\n",
              "      <th>Comb (kwh/100 km)</th>\n",
              "      <th>City (le/100 km)</th>\n",
              "      <th>Hwy (le/100 km)</th>\n",
              "      <th>Comb (le/100 km)</th>\n",
              "      <th>(g/km)</th>\n",
              "      <th>Rating</th>\n",
              "      <th>(km)</th>\n",
              "      <th>Time (h)</th>\n",
              "    </tr>\n",
              "  </thead>\n",
              "  <tbody>\n",
              "    <tr>\n",
              "      <th>count</th>\n",
              "      <td>53.000000</td>\n",
              "      <td>53.000000</td>\n",
              "      <td>53.00000</td>\n",
              "      <td>53.000000</td>\n",
              "      <td>53.000000</td>\n",
              "      <td>53.000000</td>\n",
              "      <td>53.000000</td>\n",
              "      <td>53.000000</td>\n",
              "      <td>53.0</td>\n",
              "      <td>19.0</td>\n",
              "      <td>53.000000</td>\n",
              "      <td>53.000000</td>\n",
              "    </tr>\n",
              "    <tr>\n",
              "      <th>mean</th>\n",
              "      <td>2014.735849</td>\n",
              "      <td>190.622642</td>\n",
              "      <td>19.64717</td>\n",
              "      <td>21.633962</td>\n",
              "      <td>20.541509</td>\n",
              "      <td>2.207547</td>\n",
              "      <td>2.422642</td>\n",
              "      <td>2.301887</td>\n",
              "      <td>0.0</td>\n",
              "      <td>10.0</td>\n",
              "      <td>239.169811</td>\n",
              "      <td>8.471698</td>\n",
              "    </tr>\n",
              "    <tr>\n",
              "      <th>std</th>\n",
              "      <td>1.227113</td>\n",
              "      <td>155.526429</td>\n",
              "      <td>3.00100</td>\n",
              "      <td>1.245753</td>\n",
              "      <td>1.979455</td>\n",
              "      <td>0.344656</td>\n",
              "      <td>0.143636</td>\n",
              "      <td>0.212576</td>\n",
              "      <td>0.0</td>\n",
              "      <td>0.0</td>\n",
              "      <td>141.426352</td>\n",
              "      <td>2.991036</td>\n",
              "    </tr>\n",
              "    <tr>\n",
              "      <th>min</th>\n",
              "      <td>2012.000000</td>\n",
              "      <td>35.000000</td>\n",
              "      <td>15.20000</td>\n",
              "      <td>18.800000</td>\n",
              "      <td>16.800000</td>\n",
              "      <td>1.700000</td>\n",
              "      <td>2.100000</td>\n",
              "      <td>1.900000</td>\n",
              "      <td>0.0</td>\n",
              "      <td>10.0</td>\n",
              "      <td>100.000000</td>\n",
              "      <td>4.000000</td>\n",
              "    </tr>\n",
              "    <tr>\n",
              "      <th>25%</th>\n",
              "      <td>2014.000000</td>\n",
              "      <td>80.000000</td>\n",
              "      <td>17.00000</td>\n",
              "      <td>20.800000</td>\n",
              "      <td>18.700000</td>\n",
              "      <td>1.900000</td>\n",
              "      <td>2.300000</td>\n",
              "      <td>2.100000</td>\n",
              "      <td>0.0</td>\n",
              "      <td>10.0</td>\n",
              "      <td>117.000000</td>\n",
              "      <td>7.000000</td>\n",
              "    </tr>\n",
              "    <tr>\n",
              "      <th>50%</th>\n",
              "      <td>2015.000000</td>\n",
              "      <td>107.000000</td>\n",
              "      <td>19.00000</td>\n",
              "      <td>21.700000</td>\n",
              "      <td>20.000000</td>\n",
              "      <td>2.100000</td>\n",
              "      <td>2.400000</td>\n",
              "      <td>2.200000</td>\n",
              "      <td>0.0</td>\n",
              "      <td>10.0</td>\n",
              "      <td>135.000000</td>\n",
              "      <td>8.000000</td>\n",
              "    </tr>\n",
              "    <tr>\n",
              "      <th>75%</th>\n",
              "      <td>2016.000000</td>\n",
              "      <td>283.000000</td>\n",
              "      <td>22.40000</td>\n",
              "      <td>22.500000</td>\n",
              "      <td>22.100000</td>\n",
              "      <td>2.500000</td>\n",
              "      <td>2.500000</td>\n",
              "      <td>2.500000</td>\n",
              "      <td>0.0</td>\n",
              "      <td>10.0</td>\n",
              "      <td>402.000000</td>\n",
              "      <td>12.000000</td>\n",
              "    </tr>\n",
              "    <tr>\n",
              "      <th>max</th>\n",
              "      <td>2016.000000</td>\n",
              "      <td>568.000000</td>\n",
              "      <td>23.90000</td>\n",
              "      <td>23.300000</td>\n",
              "      <td>23.600000</td>\n",
              "      <td>2.700000</td>\n",
              "      <td>2.600000</td>\n",
              "      <td>2.600000</td>\n",
              "      <td>0.0</td>\n",
              "      <td>10.0</td>\n",
              "      <td>473.000000</td>\n",
              "      <td>12.000000</td>\n",
              "    </tr>\n",
              "  </tbody>\n",
              "</table>\n",
              "</div>"
            ],
            "text/plain": [
              "              Year        (kw)  ...        (km)   Time (h)\n",
              "count    53.000000   53.000000  ...   53.000000  53.000000\n",
              "mean   2014.735849  190.622642  ...  239.169811   8.471698\n",
              "std       1.227113  155.526429  ...  141.426352   2.991036\n",
              "min    2012.000000   35.000000  ...  100.000000   4.000000\n",
              "25%    2014.000000   80.000000  ...  117.000000   7.000000\n",
              "50%    2015.000000  107.000000  ...  135.000000   8.000000\n",
              "75%    2016.000000  283.000000  ...  402.000000  12.000000\n",
              "max    2016.000000  568.000000  ...  473.000000  12.000000\n",
              "\n",
              "[8 rows x 12 columns]"
            ]
          },
          "metadata": {},
          "execution_count": 270
        }
      ]
    },
    {
      "cell_type": "markdown",
      "metadata": {
        "id": "1jsZLriRI5g8"
      },
      "source": [
        "Note: Notice that all the object variables are eliminated from the summary table."
      ]
    },
    {
      "cell_type": "markdown",
      "metadata": {
        "id": "hgL6SD-lJKqB"
      },
      "source": [
        "#### Single variable\n",
        "\n",
        "Let's take look at the columns one by one first."
      ]
    },
    {
      "cell_type": "code",
      "metadata": {
        "colab": {
          "base_uri": "https://localhost:8080/"
        },
        "id": "xknk9YC6Ie7W",
        "outputId": "f2cfe7d1-6979-48f9-9b2e-e745b793799b"
      },
      "source": [
        "# Year\n",
        "cars[\"Year\"].value_counts()"
      ],
      "execution_count": null,
      "outputs": [
        {
          "output_type": "execute_result",
          "data": {
            "text/plain": [
              "2016    19\n",
              "2015    14\n",
              "2014     9\n",
              "2013     9\n",
              "2012     2\n",
              "Name: Year, dtype: int64"
            ]
          },
          "metadata": {},
          "execution_count": 107
        }
      ]
    },
    {
      "cell_type": "code",
      "metadata": {
        "id": "su81MMFiIwoB",
        "colab": {
          "base_uri": "https://localhost:8080/"
        },
        "outputId": "9a978ca4-2f6f-409c-84b5-8ea0c7798b90"
      },
      "source": [
        "# Brands\n",
        "cars[\"Brands\"].value_counts()"
      ],
      "execution_count": null,
      "outputs": [
        {
          "output_type": "execute_result",
          "data": {
            "text/plain": [
              "TESLA         23\n",
              "SMART          8\n",
              "NISSAN         6\n",
              "MITSUBISHI     5\n",
              "FORD           4\n",
              "CHEVROLET      3\n",
              "BMW            2\n",
              "KIA            2\n",
              "Name: Brands, dtype: int64"
            ]
          },
          "metadata": {},
          "execution_count": 108
        }
      ]
    },
    {
      "cell_type": "markdown",
      "metadata": {
        "id": "FtI39uEUK0wI"
      },
      "source": [
        "---\n",
        "\n",
        "**PRACTICE: Create a function to print out value_counts() results for all the objective variables**\n",
        "\n",
        "---"
      ]
    },
    {
      "cell_type": "code",
      "metadata": {
        "id": "5wohym0Cy3Ip",
        "colab": {
          "base_uri": "https://localhost:8080/"
        },
        "outputId": "69db51f3-2a41-490f-88ad-9ede25cba315"
      },
      "source": [
        "cars.value_counts()"
      ],
      "execution_count": null,
      "outputs": [
        {
          "output_type": "execute_result",
          "data": {
            "text/plain": [
              "Year  Brands      Model                            Size                   (kw)  Type  City (kwh/100 km)  Hwy (kwh/100 km)  Comb (kwh/100 km)  City (le/100 km)  Hwy (le/100 km)  Comb (le/100 km)  (g/km)  Rating  (km)  Time (h)\n",
              "2016  TESLA       MODEL X P90D                     SUV - STANDARD         568   B     23.6               23.3              23.5               2.7               2.6              2.6               0       10.0    402   12          1\n",
              "      SMART       FORTWO ELECTRIC DRIVE COUPE      TWO-SEATER             35    B     17.2               22.5              19.6               1.9               2.5              2.2               0       10.0    109   8           1\n",
              "      CHEVROLET   SPARK EV                         SUBCOMPACT             104   B     16.0               19.6              17.8               1.8               2.2              2.0               0       10.0    131   7           1\n",
              "      FORD        FOCUS ELECTRIC                   COMPACT                107   B     19.0               21.1              20.0               2.1               2.4              2.2               0       10.0    122   4           1\n",
              "      KIA         SOUL EV                          STATION WAGON - SMALL  81    B     17.5               22.7              19.9               2.0               2.6              2.2               0       10.0    149   4           1\n",
              "      MITSUBISHI  i-MiEV                           SUBCOMPACT             49    B     16.9               21.4              18.7               1.9               2.4              2.1               0       10.0    100   7           1\n",
              "      NISSAN      LEAF (24 kWh battery)            MID-SIZE               80    B     16.5               20.8              18.4               1.9               2.3              2.1               0       10.0    135   5           1\n",
              "                  LEAF (30 kWh battery)            MID-SIZE               80    B     17.0               20.7              18.6               1.9               2.3              2.1               0       10.0    172   6           1\n",
              "      SMART       FORTWO ELECTRIC DRIVE CABRIOLET  TWO-SEATER             35    B     17.2               22.5              19.6               1.9               2.5              2.2               0       10.0    109   8           1\n",
              "      TESLA       MODEL S (60 kWh battery)         FULL-SIZE              283   B     22.2               21.7              21.9               2.5               2.4              2.5               0       10.0    335   10          1\n",
              "                  MODEL X 90D                      SUV - STANDARD         386   B     23.2               22.2              22.7               2.6               2.5              2.6               0       10.0    414   12          1\n",
              "                  MODEL S (70 kWh battery)         FULL-SIZE              283   B     23.8               23.2              23.6               2.7               2.6              2.6               0       10.0    377   12          1\n",
              "                  MODEL S (85/90 kWh battery)      FULL-SIZE              283   B     23.8               23.2              23.6               2.7               2.6              2.6               0       10.0    426   12          1\n",
              "                  MODEL S 70D                      FULL-SIZE              386   B     20.8               20.6              20.7               2.3               2.3              2.3               0       10.0    386   12          1\n",
              "                  MODEL S 85D/90D                  FULL-SIZE              386   B     22.0               19.8              21.0               2.5               2.2              2.4               0       10.0    435   12          1\n",
              "                  MODEL S 90D (Refresh)            FULL-SIZE              386   B     20.8               19.7              20.3               2.3               2.2              2.3               0       10.0    473   12          1\n",
              "                  MODEL S P85D/P90D                FULL-SIZE              568   B     23.4               21.5              22.5               2.6               2.4              2.5               0       10.0    407   12          1\n",
              "                  MODEL S P90D (Refresh)           FULL-SIZE              568   B     22.9               21.0              22.1               2.6               2.4              2.5               0       10.0    435   12          1\n",
              "      BMW         i3                               SUBCOMPACT             125   B     15.2               18.8              16.8               1.7               2.1              1.9               0       10.0    130   4           1\n",
              "dtype: int64"
            ]
          },
          "metadata": {},
          "execution_count": 109
        }
      ]
    },
    {
      "cell_type": "markdown",
      "metadata": {
        "id": "QFH5ct5YPJiG"
      },
      "source": [
        "### Plotting & Intro to pyplot\n",
        "\n",
        "**matplotlib.pyplot** is a collection of functions that make matplotlib work like MATLAB. Each **pyplot** function makes some change to a figure: e.g., creates a figure, creates a plotting area in a figure, plots some lines in a plotting area, decorates the plot with labels, etc.\n",
        "\n",
        "Sample plots: https://matplotlib.org/stable/tutorials/introductory/sample_plots.html#sphx-glr-tutorials-introductory-sample-plots-py"
      ]
    },
    {
      "cell_type": "code",
      "metadata": {
        "colab": {
          "base_uri": "https://localhost:8080/",
          "height": 265
        },
        "id": "tFTcwUSnPk7o",
        "outputId": "71bbd49c-e0ea-46c4-a746-c5e58af4ed75"
      },
      "source": [
        "list1 = [1,2,3,4]\n",
        "plt.plot(list1)\n",
        "plt.ylabel('some numbers')\n",
        "# because we have written %matplotlib inline \n",
        "# we don't need to write plt.show() every time\n",
        "# but you could add it as well\n",
        "plt.show()"
      ],
      "execution_count": null,
      "outputs": [
        {
          "output_type": "display_data",
          "data": {
            "image/png": "[encoded data removed]",
            "text/plain": [
              "<Figure size 432x288 with 1 Axes>"
            ]
          },
          "metadata": {
            "needs_background": "light"
          }
        }
      ]
    },
    {
      "cell_type": "markdown",
      "metadata": {
        "id": "i40tAGc3ohWt"
      },
      "source": [
        "---\n",
        "\n",
        "**PRACTICE: plt.plot also takes NumPy ndarrays as data. Define an NumPy ndarray and plot it!**\n",
        "\n",
        "---"
      ]
    },
    {
      "cell_type": "code",
      "metadata": {
        "id": "G6gUgP5VoCAx"
      },
      "source": [
        ""
      ],
      "execution_count": null,
      "outputs": []
    },
    {
      "cell_type": "markdown",
      "metadata": {
        "id": "5m7dhwJrP5fg"
      },
      "source": [
        "You may be wondering why the x-axis ranges from 0 - 3 and the y-axis from 1 - 4. If you provide a single list or array to plot, matplotlib assumes it is a sequence of y values, and automatically generates the x values for you. Since python ranges start with 0, the default x vector has the same length as y but starts with 0. Hence the x data are [0, 1, 2, 3]."
      ]
    },
    {
      "cell_type": "markdown",
      "metadata": {
        "id": "rCKGeTpfpVRp"
      },
      "source": [
        "### Histogram"
      ]
    },
    {
      "cell_type": "code",
      "metadata": {
        "colab": {
          "base_uri": "https://localhost:8080/",
          "height": 265
        },
        "id": "q8KlS-5xNIO7",
        "outputId": "2882a9b4-c5ca-4dd2-b5f2-d40536b6330a"
      },
      "source": [
        "# histogram\n",
        "plt.hist(cars[\"Year\"])\n",
        "plt.show()"
      ],
      "execution_count": null,
      "outputs": [
        {
          "output_type": "display_data",
          "data": {
            "image/png": "[encoded data removed]",
            "text/plain": [
              "<Figure size 432x288 with 1 Axes>"
            ]
          },
          "metadata": {
            "needs_background": "light"
          }
        }
      ]
    },
    {
      "cell_type": "markdown",
      "metadata": {
        "id": "BJw7ZKQSN-3T"
      },
      "source": [
        "However, histogram is commonly used to visualize the distribution of a continuous variable.\n",
        "\n",
        "In this case, since Year is a categorical variable, bar plot is more appropriate. "
      ]
    },
    {
      "cell_type": "markdown",
      "metadata": {
        "id": "mNws7rQZpddE"
      },
      "source": [
        "### Bar Plot"
      ]
    },
    {
      "cell_type": "code",
      "metadata": {
        "colab": {
          "base_uri": "https://localhost:8080/"
        },
        "id": "RiAp7IsxOBrI",
        "outputId": "02f1b27c-6ff6-4058-fb2b-7eca7dd7ba9b"
      },
      "source": [
        "cars[\"Year\"].value_counts()\n",
        "# left column is index\n",
        "# right column is values"
      ],
      "execution_count": null,
      "outputs": [
        {
          "output_type": "execute_result",
          "data": {
            "text/plain": [
              "2016    19\n",
              "2015    14\n",
              "2014     9\n",
              "2013     9\n",
              "2012     2\n",
              "Name: Year, dtype: int64"
            ]
          },
          "metadata": {},
          "execution_count": 18
        }
      ]
    },
    {
      "cell_type": "code",
      "metadata": {
        "id": "-Aia2s0RJVpG",
        "colab": {
          "base_uri": "https://localhost:8080/"
        },
        "outputId": "dcbb7680-24ff-4307-f1c1-d4b21e6f88f7"
      },
      "source": [
        "# using bar plot for category variables\n",
        "year = cars[\"Year\"].value_counts().index\n",
        "print(year)\n",
        "values = cars[\"Year\"].value_counts().values\n",
        "print(values)"
      ],
      "execution_count": null,
      "outputs": [
        {
          "output_type": "stream",
          "name": "stdout",
          "text": [
            "Int64Index([2016, 2015, 2014, 2013, 2012], dtype='int64')\n",
            "[19 14  9  9  2]\n"
          ]
        }
      ]
    },
    {
      "cell_type": "code",
      "metadata": {
        "colab": {
          "base_uri": "https://localhost:8080/",
          "height": 296
        },
        "id": "p1O0N2nkJaG5",
        "outputId": "669fd39a-82da-4d04-89b9-9869329a76fc"
      },
      "source": [
        "# bar plots takes in 2 arguments\n",
        "plt.bar(year, values)\n",
        "plt.xlabel(\"Year\")\n",
        "plt.ylabel(\"Count\")"
      ],
      "execution_count": null,
      "outputs": [
        {
          "output_type": "execute_result",
          "data": {
            "text/plain": [
              "Text(0, 0.5, 'Count')"
            ]
          },
          "metadata": {},
          "execution_count": 111
        },
        {
          "output_type": "display_data",
          "data": {
            "image/png": "[encoded data removed]",
            "text/plain": [
              "<Figure size 432x288 with 1 Axes>"
            ]
          },
          "metadata": {
            "needs_background": "light"
          }
        }
      ]
    },
    {
      "cell_type": "markdown",
      "metadata": {
        "id": "lXWHAOoYG9NG"
      },
      "source": [
        "### Pie chart"
      ]
    },
    {
      "cell_type": "code",
      "metadata": {
        "colab": {
          "base_uri": "https://localhost:8080/",
          "height": 248
        },
        "id": "QGDjqetfFchQ",
        "outputId": "36173371-4637-4b32-b093-22fee2fbe90b"
      },
      "source": [
        "fig1 = plt.pie(values)\n",
        "plt.show()"
      ],
      "execution_count": null,
      "outputs": [
        {
          "output_type": "display_data",
          "data": {
            "image/png": "[encoded data removed]",
            "text/plain": [
              "<Figure size 432x288 with 1 Axes>"
            ]
          },
          "metadata": {}
        }
      ]
    },
    {
      "cell_type": "code",
      "metadata": {
        "id": "5bFWXShEHo-3",
        "colab": {
          "base_uri": "https://localhost:8080/",
          "height": 248
        },
        "outputId": "6a0e5690-7020-491a-da9b-c176776cae69"
      },
      "source": [
        "# customize labels\n",
        "mylabels = year\n",
        "# send argument into plt.pie()\n",
        "plt.pie(values, labels = mylabels)\n",
        "plt.show()"
      ],
      "execution_count": null,
      "outputs": [
        {
          "output_type": "display_data",
          "data": {
            "image/png": "[encoded data removed]",
            "text/plain": [
              "<Figure size 432x288 with 1 Axes>"
            ]
          },
          "metadata": {}
        }
      ]
    },
    {
      "cell_type": "markdown",
      "metadata": {
        "id": "vh9GfX-Stmzt"
      },
      "source": [
        "Colors are customizable as well, and you could do it via its [name or hex values](https://www.webucator.com/article/python-color-constants-module/)."
      ]
    },
    {
      "cell_type": "code",
      "metadata": {
        "id": "cmSTdF4QH_so",
        "colab": {
          "base_uri": "https://localhost:8080/",
          "height": 248
        },
        "outputId": "9e077a03-33b7-4f06-99ca-9879a001bcc2"
      },
      "source": [
        "# be as creative as you want, but the goal is to increase readability\n",
        "\n",
        "# you can create list with color names, \n",
        "mycolors_names = ['lightseagreen', 'mediumpurple', 'orange', 'skyblue', 'khaki']\n",
        "# or create list with their corresponding hex codes\n",
        "mycolors_hex = ['#20B2AA','#9370DB','#FFA500','#87CEEB','#F0E68C']\n",
        "# send argument into plt.pie()\n",
        "plt.pie(values, labels = mylabels, colors = mycolors_names)\n",
        "plt.show()"
      ],
      "execution_count": null,
      "outputs": [
        {
          "output_type": "display_data",
          "data": {
            "image/png": "[encoded data removed]",
            "text/plain": [
              "<Figure size 432x288 with 1 Axes>"
            ]
          },
          "metadata": {}
        }
      ]
    },
    {
      "cell_type": "code",
      "metadata": {
        "id": "2UT4C7TeHh28",
        "colab": {
          "base_uri": "https://localhost:8080/",
          "height": 265
        },
        "outputId": "186a13b5-35b1-4430-d29e-3173980d2069"
      },
      "source": [
        "# add legend with plt.legend(title = \"\")\n",
        "plt.pie(values, labels = mylabels, colors = mycolors_names)\n",
        "plt.legend(title = 'Years')"
      ],
      "execution_count": null,
      "outputs": [
        {
          "output_type": "execute_result",
          "data": {
            "text/plain": [
              "<matplotlib.legend.Legend at 0x7f5e71eafc10>"
            ]
          },
          "metadata": {},
          "execution_count": 132
        },
        {
          "output_type": "display_data",
          "data": {
            "image/png": "[encoded data removed]",
            "text/plain": [
              "<Figure size 432x288 with 1 Axes>"
            ]
          },
          "metadata": {}
        }
      ]
    },
    {
      "cell_type": "markdown",
      "metadata": {
        "id": "C5KIWpCkHu_V"
      },
      "source": [
        "More on pie chart customization: [click here](https://www.w3schools.com/python/matplotlib_pie_charts.asp)"
      ]
    },
    {
      "cell_type": "markdown",
      "metadata": {
        "id": "WaKxU7ZiQXIi"
      },
      "source": [
        "### Subplots"
      ]
    },
    {
      "cell_type": "code",
      "metadata": {
        "colab": {
          "base_uri": "https://localhost:8080/",
          "height": 250
        },
        "id": "Oiaxce1RQZQu",
        "outputId": "c2ae8179-6506-4b91-8c32-1b9637b8c0db"
      },
      "source": [
        "# Sometimes, you want to compare different plots\n",
        "# We do that by creating subplots\n",
        "names = ['group_a', 'group_b', 'group_c']\n",
        "values = [1, 10, 100]\n",
        "\n",
        "plt.figure(figsize = (9, 3))\n",
        "#plt.figure(figsize = (12, 3))\n",
        "\n",
        "plt.subplot(1,3,1)\n",
        "plt.bar(names, values)\n",
        "\n",
        "plt.subplot(1,3,2)\n",
        "plt.scatter(names, values)\n",
        "\n",
        "plt.subplot(1,3,3)\n",
        "plt.plot(names, values)\n",
        "\n",
        "plt.suptitle('Categorical Plotting')"
      ],
      "execution_count": null,
      "outputs": [
        {
          "output_type": "execute_result",
          "data": {
            "text/plain": [
              "Text(0.5, 0.98, 'Categorical Plotting')"
            ]
          },
          "metadata": {},
          "execution_count": 9
        },
        {
          "output_type": "display_data",
          "data": {
            "image/png": "[encoded data removed]",
            "text/plain": [
              "<Figure size 648x216 with 3 Axes>"
            ]
          },
          "metadata": {
            "needs_background": "light"
          }
        }
      ]
    },
    {
      "cell_type": "markdown",
      "metadata": {
        "id": "CxymWZlUJacj"
      },
      "source": [
        "### Multiple variables"
      ]
    },
    {
      "cell_type": "code",
      "metadata": {
        "colab": {
          "base_uri": "https://localhost:8080/",
          "height": 359
        },
        "id": "ZjaUfYBhJzUa",
        "outputId": "c227dbf8-1400-46bd-9ba8-a80cb5676cec"
      },
      "source": [
        "# groupby function\n",
        "df = cars[[\"Brands\", \"Size\", \"(kw)\"]].groupby([\"Brands\", \"Size\"]).mean()\n",
        "df"
      ],
      "execution_count": null,
      "outputs": [
        {
          "output_type": "execute_result",
          "data": {
            "text/html": [
              "<div>\n",
              "<style scoped>\n",
              "    .dataframe tbody tr th:only-of-type {\n",
              "        vertical-align: middle;\n",
              "    }\n",
              "\n",
              "    .dataframe tbody tr th {\n",
              "        vertical-align: top;\n",
              "    }\n",
              "\n",
              "    .dataframe thead th {\n",
              "        text-align: right;\n",
              "    }\n",
              "</style>\n",
              "<table border=\"1\" class=\"dataframe\">\n",
              "  <thead>\n",
              "    <tr style=\"text-align: right;\">\n",
              "      <th></th>\n",
              "      <th></th>\n",
              "      <th>(kw)</th>\n",
              "    </tr>\n",
              "    <tr>\n",
              "      <th>Brands</th>\n",
              "      <th>Size</th>\n",
              "      <th></th>\n",
              "    </tr>\n",
              "  </thead>\n",
              "  <tbody>\n",
              "    <tr>\n",
              "      <th>BMW</th>\n",
              "      <th>SUBCOMPACT</th>\n",
              "      <td>125.000000</td>\n",
              "    </tr>\n",
              "    <tr>\n",
              "      <th>CHEVROLET</th>\n",
              "      <th>SUBCOMPACT</th>\n",
              "      <td>104.000000</td>\n",
              "    </tr>\n",
              "    <tr>\n",
              "      <th>FORD</th>\n",
              "      <th>COMPACT</th>\n",
              "      <td>107.000000</td>\n",
              "    </tr>\n",
              "    <tr>\n",
              "      <th>KIA</th>\n",
              "      <th>STATION WAGON - SMALL</th>\n",
              "      <td>81.000000</td>\n",
              "    </tr>\n",
              "    <tr>\n",
              "      <th>MITSUBISHI</th>\n",
              "      <th>SUBCOMPACT</th>\n",
              "      <td>49.000000</td>\n",
              "    </tr>\n",
              "    <tr>\n",
              "      <th>NISSAN</th>\n",
              "      <th>MID-SIZE</th>\n",
              "      <td>80.000000</td>\n",
              "    </tr>\n",
              "    <tr>\n",
              "      <th>SMART</th>\n",
              "      <th>TWO-SEATER</th>\n",
              "      <td>35.000000</td>\n",
              "    </tr>\n",
              "    <tr>\n",
              "      <th rowspan=\"2\" valign=\"top\">TESLA</th>\n",
              "      <th>FULL-SIZE</th>\n",
              "      <td>332.952381</td>\n",
              "    </tr>\n",
              "    <tr>\n",
              "      <th>SUV - STANDARD</th>\n",
              "      <td>477.000000</td>\n",
              "    </tr>\n",
              "  </tbody>\n",
              "</table>\n",
              "</div>"
            ],
            "text/plain": [
              "                                        (kw)\n",
              "Brands     Size                             \n",
              "BMW        SUBCOMPACT             125.000000\n",
              "CHEVROLET  SUBCOMPACT             104.000000\n",
              "FORD       COMPACT                107.000000\n",
              "KIA        STATION WAGON - SMALL   81.000000\n",
              "MITSUBISHI SUBCOMPACT              49.000000\n",
              "NISSAN     MID-SIZE                80.000000\n",
              "SMART      TWO-SEATER              35.000000\n",
              "TESLA      FULL-SIZE              332.952381\n",
              "           SUV - STANDARD         477.000000"
            ]
          },
          "metadata": {},
          "execution_count": 34
        }
      ]
    },
    {
      "cell_type": "markdown",
      "metadata": {
        "id": "7kY9gxYETxKU"
      },
      "source": [
        "### More interesting visualization websites\n",
        "- https://ft-interactive.github.io/visual-vocabulary/\n",
        "- https://datavizcatalogue.com/methods/nightingale_rose_chart.html\n",
        "- http://visualizationuniverse.com/charts/?sortBy=volume&sortDir=asc"
      ]
    },
    {
      "cell_type": "markdown",
      "metadata": {
        "id": "jYz5FUhd3SR3"
      },
      "source": [
        "## Summary about Data Types"
      ]
    },
    {
      "cell_type": "markdown",
      "metadata": {
        "id": "f6l3vwuP3k2K"
      },
      "source": [
        "1.   [Workshop 09-10 : Intro to Python](https://drive.google.com/drive/folders/1bXZ06fr-KU5TFJwSw2YHN6Dj_amkkPFl?usp=sharing)\n",
        "\n",
        "|Basic Data Types|Example|Meaning/ Usage|\n",
        "|---|---|---|\n",
        "|Integer (int)|\t1, 2, 3\t|\tInteger numbers|\n",
        "|String (str)| \"apple\"\t|Text|\n",
        "|Float (float)|\t5.55 |Floating/ decimal point numbers|\n",
        "|Boolean (bool)|\tTrue, False| True/False (Boolean) values|"
      ]
    },
    {
      "cell_type": "markdown",
      "metadata": {
        "id": "3sSqI5o93qRd"
      },
      "source": [
        "2.  [Workshop 09-17 : Intro to Data Structures](https://drive.google.com/drive/folders/1FKkSi279uQQFWFTOpG2n5EVTrBZQkGcO?usp=sharing)\n",
        "\n",
        "|Collection Data Types|Example|Properties|\n",
        "|---|---|---|\n",
        "|List (list)|\t[\"apple\", \"orange\", 5]\t|Changeable, Ordered, Duplicate allowed|\n",
        "|Tuple (tuple)|\t(\"apple\", \"orange\", 5)\t|Unchangeable, Ordered, Duplicate allowed|\n",
        "|Set (set)|\t{\"apple\", \"orange\", 5}\t|Unchangeable, Unordered, No duplicates|\n",
        "|Dictionary (dict)|\t{\"apple\": 5, \"orange\": 10}\t|Key:Value pairs, Unchangeable, Unordered, No duplicates|"
      ]
    },
    {
      "cell_type": "markdown",
      "metadata": {
        "id": "t8-jpUgqG4IR"
      },
      "source": [
        "\n",
        "3.  [Workshop 09-24 : Intro to Data Analysis with Python](https://drive.google.com/drive/folders/1waNdrV_4YAEm9ct8g_eDP15myejpn0Hp?usp=sharing)\n",
        "\n",
        "|Pandas/ NumPy dtype|Corresponding Python type| Usage|\n",
        "|---|---|---|\n",
        "|object|\tstr\t|\tText|\n",
        "|int64|\tint\t|Integer numbers|\n",
        "|float64|\tfloat|Floating point numbers|\n",
        "|bool|\tbool| True/False (Boolean) values|\n",
        "|datetime64 (only Pandas)|\tNA\t|Date and time values|\n",
        "|category (only Pandas)|\tNA\t|Finite list of text values|\n",
        "\n",
        "\n",
        "**When to use lists/ NumPy ndarrays/ Pandas DataFrame?**\n",
        "*  Lists: Flexible, convenient\n",
        "*  NumPy ndarrays: Designed for high performance in scientific computations. Good choice for high-dimensional data.\n",
        "*  Pandas DataFrame: Builds on ndarrays, preserves high performance. Good choice for tabular data with column index and row index (could be textual label or numeric).\n",
        "\n"
      ]
    },
    {
      "cell_type": "markdown",
      "metadata": {
        "id": "WIEtgja4G20b"
      },
      "source": [
        "![image.png](data:image/png;base64,iVBORw0KGgoAAAANSUhEUgAACeAAAAMJCAYAAABhwwSzAAAgAElEQVR4Aezdv+71SFooai7lXMKRJiXYIxEg6J4AhEQwIjpCmmh21kQIAhDhZogmGxFMgDQBIpyEFGlHBFzB5FtzBd/R23tKXV28tqu8bC+X17Oklr287Prz1Ltsl9f7/fr3/vAP//D/+eqrr/6H/xiIATEgBsSAGHhWDPzxH//x/6z/+/rrr78yxs8aY+NpPMWAGBADnxcDcT2vr++xLg4+Lw6MuTEXA2JADDwyBv6/5hr/58b5kePstxi/R4kBMSAGPiwGmuv7//Sc3vXdPZ4YEANiQAw8Lwb+6I/+6P/9va+++upvvv766y/+YyAGxIAYEANiQAyIATEgBsSAGBADYkAMiAExIAbEgBgQA2JADIgBMSAGxIAYEANiQAyIATEgBsSAGBADYqA7Bv5dAp7kQ8mXYkAMiAExIAbEgBgQA2JADIgBMSAGxIAYEANiQAyIATEgBsSAGBADYkAMiAExIAbEgBgQA2JADIgBMTAeAxLwZGt2Z2v6go1/wZgxEwNiQAyIATEgBsSAGBADYkAMiAExIAbEgBgQA2JADIgBMSAGxIAYEANiQAyIATEgBsSAGBADz40BCXgS8CTgiQExIAbEgBgQA2JADIgBMSAGxIAYEANiQAyIATEgBsSAGBADYkAMiAExIAbEgBgQA2JADIgBMSAGxMCOGPjvCXi//OUvv3gRIECAAAEC8wu0Nwb/+Z//OX+n9IAAAQIECHy4wL/+67/+t38l+eEkuk+AAAECBB4h8Od//uffu8Z7Tv+IYdUJAgQIECDwvet7PLP3nF5QECBAgACB+QVizt78Fi8Bb/5h1QMCBAgQIJALNBd9E/ucyVYCBAgQIDCVgAS8qYZLYwkQIECAQLeABLxuKjsSIECAAIGpBDynn2q4NJYAAQIECHQJSMDrYrITAQIECBB4hoCJ/TPGUS8IECBAgEAtIAGv1rBOgAABAgSeIyAB7zljqScECBAgQKAW8Jy+1rBOgAABAgSeISAB7xnjqBcECBAgQKBLwMS+i8lOBAgQIEBgKgEJeFMNl8YSIECAAIFuAQl43VR2JECAAAECUwl4Tj/VcGksAQIECBDoEpCA18VkJwIECBAg8AwBE/tnjKNeECBAgACBWkACXq1hnQABAgQIPEdAAt5zxlJPCBAgQIBALeA5fa1hnQABAgQIPENAAt4zxlEvCBAgQIBAl4CJfReTnQgQIECAwFQCEvCmGi6NJUCAAAEC3QIS8Lqp7EiAAAECBKYS8Jx+quHSWAIECBAg0CUgAa+LyU4ECBAgQOAZAib2zxhHvSBAgAABArWABLxawzoBAgQIEHiOgAS854ylnhAgQIAAgVrAc/pawzoBAgQIEHiGgAS8Z4yjXhAgQIAAgS4BE/suJjsRIECAAIGpBCTgTTVcGkuAAAECBLoFJOB1U9mRAAECBAhMJeA5/VTDpbEECBAgQKBLQAJeF5OdCBAgQIDAMwRM7J8xjnpBgAABAgRqAQl4tYZ1AgQIECDwHAEJeM8ZSz0hQIAAAQK1gOf0tYZ1AgQIECDwDAEJeM8YR70gQIAAAQJdAib2XUx2IkCAAAECUwlIwJtquDSWAAECBAh0C0jA66ayIwECBAgQmErAc/qphktjCRAgQIBAl4AEvC4mOxEgQIAAgWcImNg/Yxz1ggABAgQI1AIS8GoN6wQIECBA4DkCEvCeM5Z6QoAAAQIEagHP6WsN6wQIECBA4BkCEvCeMY56QYAAAQIEugRM7LuY7ESAAAECBKYSkIA31XBpLAECBAgQ6BaQgNdNZUcCBAgQIDCVgOf0Uw2XxhIgQIAAgS4BCXhdTHYiQIAAAQLPEDCxf8Y46gUBAgQIEKgFJODVGtYJECBAgMBzBCTgPWcs9YQAAQIECNQCntPXGtYJECBAgMAzBCTgPWMc9YIAAQIECHQJmNh3MdmJAAECBAhMJSABb6rh0lgCBAgQINAtIAGvm8qOBAgQIEBgKgHP6acaLo0lQIAAAQJdAhLwupjsRIAAAQIEniFgYv+McdQLAgQIECBQC0jAqzWsEyBAgACB5whIwHvOWOoJAQIECBCoBTynrzWsEyBAgACBZwhIwHvGOOoFAQIECBDoEjCx72KyEwECBAgQmEpAAt5Uw6WxBAgQIECgW0ACXjeVHQkQIECAwFQCntNPNVwaS4AAAQIEugQk4HUx2YkAAQIECDxDwMT+GeOoFwQIECBAoBaQgFdrWCdAgAABAs8RkID3nLHUEwIECBAgUAt4Tl9rWCdAgAABAs8QkID3jHHUCwIECBAg0CVgYt/FZCcCBAgQIDCVgAS8qYZLYwkQIECAQLeABLxuKjsSIECAAIGpBDynn2q4NJYAAQIECHQJSMDrYrITAQIECBB4hoCJ/TPGUS8IECBAgEAtIAGv1rBOgAABAgSeIyAB7zljqScECBAgQKAW8Jy+1rBOgAABAgSeISAB7xnjqBcECBAgQKBLwMS+i8lOBAgQIEBgKgEJeFMNl8YSIECAAIFuAQl43VR2JECAAAECUwl4Tj/VcGksAQIECBDoEpCA18VkJwIECBAg8AwBE/tnjKNeECBAgACBWkACXq1hnQABAgQIPEdAAt5zxlJPCBAgQIBALeA5fa1hnQABAgQIPENAAt4zxlEvCBAgQIBAl4CJfReTnQgQIECAwFQCEvCmGi6NJUCAAAEC3QIS8Lqp7EiAAAECBKYS8Jx+quHSWAIECBAg0CUgAa+LyU4ECBAgQOAZAib2zxhHvSBAgAABArWABLxawzoBAgQIEHiOgAS854ylnhAgQIAAgVrAc/pawzoBAgQIEHiGgAS8Z4yjXhAgQIAAgS4BE/suJjsRIECAAIGpBCTgTTVcGkuAAAECBLoFJOB1U9mRAAECBAhMJeA5/VTDpbEECBAgQKBLQAJeF5OdCBAgQIDAMwRM7J8xjnpBgAABAgRqAQl4tYZ1AgQIECDwHAEJeM8ZSz0hQIAAAQK1gOf0tYZ1AgQIECDwDAEJeM8YR70gQIAAAQJdAib2XUx2IkCAAAECUwlIwJtquDSWAAECBAh0C0jA66ayIwECBAgQmErAc/qphktjCRAgQIBAl4AEvC4mOxEgQIAAgWcImNg/Yxz1ggABAgQI1AIS8GoN6wQIECBA4DkCEvCeM5Z6QoAAAQIEagHP6WsN6wQIECBA4BkCEvCeMY56QYAAAQIEugRM7LuY7ESAAAECBKYSkIA31XBpLAECBAgQ6BaQgNdNZUcCBAgQIDCVgOf0Uw2XxhIgQIAAgS4BCXhdTHYiQIAAAQLPEDCxf8Y46gUBAgQIEKgFJODVGtYJECBAgMBzBCTgPWcs9YQAAQIECNQCntPXGtYJECBAgMAzBCTgPWMc9YIAAQIECHQJmNh3MdmJAAECBAhMJSABb6rh0lgCBAgQINAtIAGvm8qOBAgQIEBgKgHP6acaLo0lQIAAAQJdAhLwupjsRIAAAQIEniFgYv+McdQLAgQIECBQC0jAqzWsEyBAgACB5whIwHvOWOoJAQIECBCoBTynrzWsEyBAgACBZwhIwHvGOOoFAQIECBDoEjCx72KyEwECBAgQmEpAAt5Uw6WxBAgQIECgW0ACXjeVHQkQIECAwFQCntNPNVwaS4AAAQIEugQk4HUx2YkAAQIECDxDwMT+GeOoFwQIECBAoBaQgFdrWCdAgAABAs8RkID3nLHUEwIECBAgUAt4Tl9rWCdAgAABAs8QkID3jHHUCwIECBAg0CVgYt/FZCcCBAgQIDCVgAS8qYZLYwkQIECAQLeABLxuKjsSIECAAIGpBDynn2q4NJYAAQIECHQJSMDrYrITAQIECBB4hoCJ/TPGUS8IECBAgEAtIAGv1rBOgAABAgSeIyAB7zljqScECBAgQKAW8Jy+1rBOgAABAgSeISAB7xnjqBcECBAgQKBLwMS+i8lOBAgQIEBgKgEJeFMNl8YSIECAAIFuAQl43VR2JECAAAECUwl4Tj/VcGksAQIECBDoEpCA18VkJwIECBAg8AwBE/tnjKNeECBAgACBWkACXq1hnQABAgQIPEdAAt5zxlJPCBAgQIBALeA5fa1hnQABAgQIPENAAt4zxlEvCBAgQIBAl4CJfReTnQgQIECAwFQCEvCmGi6NJUCAAAEC3QIS8Lqp7EiAAAECBKYS8Jx+quHSWAIECBAg0CUgAa+LyU4ECBAgQOAZAib2zxhHvSBAgAABArWABLxawzoBAgQIEHiOgAS854ylnhAgQIAAgVrAc/pawzoBAgQIEHiGgAS8Z4yjXhAgQIAAgS4BE/suJjsRIECAAIGpBCTgTTVcGkuAAAECBLoFJOB1U9mRAAECBAhMJeA5/VTDpbEECBAgQKBLQAJeF5OdCBAgQIDAMwRM7J8xjnpBgAABAgRqAQl4tYZ1AgQIECDwHAEJeM8ZSz0hQIAAAQK1gOf0tYZ1AgQIECDwDAEJeM8YR70gQIAAAQJdAib2XUx2IkCAAAECUwlIwJtquDSWAAECBAh0C0jA66ayIwECBAgQmErAc/qphktjCRAgQIBAl4AEvC4mOxEgQIAAgWcImNg/Yxz1ggABAgQI1AIS8GoN6wQIECBA4DkCEvCeM5Z6QoAAAQIEagHP6WsN6wQIECBA4BkCEvCeMY56QYAAAQIEugRM7LuY7ESAAAECBKYSkIA31XBpLAECBAgQ6BaQgNdNZUcCBAgQIDCVgOf0Uw2XxhIgQIAAgS4BCXhdTHYiQIAAAQLPEDCxf8Y46gUBAgQIEKgFJODVGtYJECBAgMBzBCTgPWcs9YQAAQIECNQCntPXGtYJECBAgMAzBCTgPWMc9YIAAQIECHQJmNh3MdmJAAECBAhMJSABb6rh0lgCBAgQINAtIAGvm8qOBAgQIEBgKgHP6acaLo0lQIAAAQJdAhLwupjsRIAAAQIEniFgYv+McdQLAgQIECBQC0jAqzWsEyBAgACB5whIwHvOWOoJAQIECBCoBTynrzWsEyBAgACBZwhIwHvGOOoFAQIECBDoEjCx72KyEwECBAgQmEpAAt5Uw6WxBAgQIECgW0ACXjeVHQkQIECAwFQCntNPNVwaS4AAAQIEugQk4HUx2YkAAQIECDxDwMT+GeOoFwQIECBAoBaQgFdrWCdAgAABAs8RkID3nLHUEwIECBAgUAt4Tl9rWCdAgAABAs8QkID3jHHUCwIECBAg0CVgYt/FZCcCBAgQIDCVgAS8qYZLYwkQIECAQLeABLxuKjsSIECAAIGpBDynn2q4NJYAAQIECHQJSMDrYrITAQIECBB4hoCJ/TPGUS8IECBAgEAtIAGv1rBOgAABAgSeIyAB7zljqScECBAgQKAW8Jy+1rBOgAABAgSeISAB7xnjqBcECBAgQKBLwMS+i8lOBAgQIEBgKgEJeFMNl8YSIECAAIFuAQl43VR2JECAAAECUwl4Tj/VcGksAQIECBDoEpCA18VkJwIECBAg8AwBE/tnjKNeECBAgACBWkACXq1hnQABAgQIPEdAAt5zxlJPCBAgQIBALeA5fa1hnQABAgQIPENAAt4zxlEvCBAgQIBAl4CJfReTnQgQIECAwFQCEvCmGi6NJUCAAAEC3QIS8Lqp7EiAAAECBKYS8Jx+quHSWAIECBAg0CUgAa+LyU4ECBAgQOAZAib2zxhHvSBAgAABArWABLxawzoBAgQIEHiOgAS854ylnhAgQIAAgVrAc/pawzoBAgQIEHiGgAS8Z4yjXhAgQIAAgS4BE/suJjsRIECAAIGpBCTgTTVcGkuAAAECBLoFJOB1U9mRAAECBAhMJeA5/VTDpbEECBAgQKBLQAJeF5OdCBAgQIDAMwRM7J8xjnpBgAABAgRqAQl4tYZ1AgQIECDwHAEJeM8ZSz0hQIAAAQK1gOf0tYZ1AgQIECDwDAEJeM8YR70gQIAAAQJdAib2XUx2IkCAAAECUwlIwJtquDSWAAECBAh0C0jA66ayIwECBAgQmErAc/qphktjCRAgQIBAl4AEvC4mOxEgQIAAgWcImNg/Yxz1ggABAgQI1AIS8GoN6wQIECBA4DkCEvCeM5Z6QoAAAQIEagHP6WsN6wQIECBA4BkCEvCeMY56QYAAAQIEugRM7LuY7ESAAAECBKYSkIA31XBpLAECBAgQ6BaQgNdNZUcCBAgQIDCVgOf0Uw2XxhIgQIAAgS4BCXhdTHYiQIAAAQLPEDCxf8Y46gUBAgQIEKgFJODVGtYJECBAgMBzBCTgPWcs9YQAAQIECNQCntPXGtYJECBAgMAzBCTgPWMc9YIAAQIECHQJmNh3MdmJAAECBAhMJSABb6rh0lgCBAgQINAtIAGvm8qOBAgQIEBgKgHP6acaLo0lQIAAAQJdAhLwupjsRIAAAQIEniFgYv+McdQLAgQIECBQC0jAqzWsEyBAgACB5whIwHvOWOoJAQIECBCoBTynrzWsEyBAgACBZwhIwHvGOOoFAQIECBDoEjCx72KyEwECBAgQmEpAAt5Uw6WxBAgQIECgW0ACXjeVHQkQIECAwFQCntNPNVwaS4AAAQIEugQk4HUx2YkAAQIECDxDwMT+GeOoFwQIECBAoBaQgFdrWCdAgAABAs8RkID3nLHUEwIECBAgUAt4Tl9rWCdAgAABAs8QkID3jHHUCwIECBAg0CVgYt/FZCcCBAgQIDCVgAS8qYZLYwkQIECAQLeABLxuKjsSIECAAIGpBDynn2q4NJYAAQIECHQJSMDrYrITAQIECBB4hoCJ/TPGUS8IECBAgEAtIAGv1rBOgAABAgSeIyAB7zljqScECBAgQKAW8Jy+1rBOgAABAgSeISAB7xnjqBcECBAgQKBLwMS+i8lOBAgQIEBgKgEJeFMNl8YSIECAAIFuAQl43VR2JECAAAECUwl4Tj/VcGksAQIECBDoEpCA18VkJwIECBAg8AwBE/tnjKNeECBAgACBWkACXq1hnQABAgQIPEdAAt5zxlJPCBAgQIBALeA5fa1hnQABAgQIPENAAt4zxlEvCBAgQIBAl4CJfReTnQgQIECAwFQCEvCmGi6NJUCAAAEC3QIS8Lqp7EiAAAECBKYS8Jx+quHSWAIECBAg0CUgAa+LyU4ECBAgQOAZAib2zxhHvSBAgAABArWABLxawzoBAgQIEHiOgAS854ylnhAgQIAAgVrAc/pawzoBAgQIEHiGgAS8Z4yjXhAgQIAAgS4BE/suJjsReLTAD37wgy/tf//xH/8xRZ/bdsf7Wdo+BbBGTisgAW/aodNwAgQIECCwKiABb5XHhwQIECBAYFoBz+mnHToNJ0CAAAECiwIS8BZpfECAAAECBJ4nYGL/vDHVIwKjAjMnsc3c9tFxsj+BEQEJeCNa9iVAgAABAvMISMCbZ6y0lAABAgQIjAh4Tj+iZV8CBAgQIDCHgAS8OcZJKwkQIECAwCECJvaHMD6qkPjrYVlSU2z7xS9+cUpff/SjH6V1/uQnPzmlPoV+XyAb76v/itxvf/vbL3/3d3/35Yc//OGXiIfeWNvb9r31fV/OOwL3FZCAd+7Y7D339LZq6Vrce7z9CBC4v4B7kfuP0V1bKAHvriOjXQQIECBA4DUBz+lf83M0AQIECBC4o4AEvDuOijYRIECAAIGTBEzsT4KduNilH/0j2eDHP/7x4T1bq08C3uHcaYFnJ5KklTYbY6zbdvQk4bXHxPue5MG99TXN9pbAbQUk4J07NHvPPb2tWro29h5vPwIE7i/gXuT+Y3TXFkrAu+vIaBcBAgQIEHhNwHP61/wcTYAAAQIE7iggAe+Oo6JNBAgQIEDgJAET+5NgJy42kp6yxIKy7Te/+c2hvYu/elbKzpaHVqawVCBz70liSwvbsTFiKmtD/CW8rVd23FbbX6lvqz0+J3AXAQl4547EnnPPSIsk4I1o2ZfAfALuReYbszu1WALenUZDWwgQIECAwHECntMfZ6kkAgQIECBwFwEJeHcZCe0gQIAAAQIXCJjYX4A8WRVbCXg9f5VspMvxvxzNEhnKtpGy7rDvf/3Xf337v0/95ptvvu3XHdq01YZiXS+3kti2yhz5fCnRJNqz9arbXNa32v5KfaU9M45zabvlZwhIwDt3nMv5pl5unXtGWrR0nhopw74ECNxXYOk7HueU3pd7kV6p5+0nAe95Y6pHBAgQIEAgBDynFwcECBAgQOB5AhLwnjemekSAAAECBBYFTOwXaT72g60EvCP/N7S/+tWvVpPvRn6EvMOAxV9sq5MxZml/2+Z4f2QiSc/YZImYkcS49drb9r31RXtmHectS58/S0AC3rnjuffc09uqpeSc3uPtR4DA/QXci9x/jO7aQgl4dx0Z7SJAgAABAq8JeE7/mp+jCRAgQIDAHQUk4N1xVLSJAAECBAicJGBifxLsxMW2CXiRcNcmGhz1v6EtfyWulJ/972hnoiz9qJcztL9ub1m/OgEv6qt/iI6464mz0t562dP2vfXFeNZ1lfUZxlkbP0tAAt65412++/Wy59zT26ooqy67rPcebz8CBO4v4F7k/mN01xZKwLvryGgXAQIECBB4TcBz+tf8HE2AAAECBO4oIAHvjqOiTQQIECBA4CQBE/uTYCcu9ic/+cn3fvSP920S3hH/G9rf/va336snkgt+/etf/7dtRyY0nD0sJUGiXp5d5xHl1+0t6+9wj5iIeuN/qdb7Ku2tl71t31NftKuuq6z3ttd+BK4SkIB3rnT57tfL3nNPT8uirLrsst5zrH0IEJhHwL3IPGN1p5ZKwLvTaGgLgc8QKPei9fLIe98zFes2l/VZ2n6mi7LvKeA5/T3HRasIrAmUa0u9dJ1ZE/MZgc8TkID3eWOuxwQIECDwwQIm9h88+AtdbxPw4q/S/exnP/teIkD8LzhffWV/aS9LOJhpwlpPtMv6q05XHF/aWi9nca/bXNbPbnupp15eMU7qIDAiIAFvRGt83/r7X9aPPPdEWaXcejneUkcQIPBEgfq8UNaf2E99ygUk4OUuthIgcJ5AudbUyyPvfc9ref4P6GZp+5kuyr6ngOf09xwXrSKwJlBfG8u668yamM8IfJ6ABLzPG3M9JkCAAIEPFjCx/+DBX+h6m4AXiXLZX6Yb+StlWVXZX9XLEg5mmrCWSXa9zPp+t211e8v6LO6lvfXy7LbXdZX1u42p9hCQgHduDJTvfr088twTZdVll/Vze6V0AgRmESjnhHo5S9u183UBCXivG969hHauXL7r33zzzd2brn0TCMRfX41/aPnDH/7wS/zjyp7/w0GJwXp55L1vD9uedke5dZvLek/b99bX0xf7EFgS8Jx+Scb2pwn85je/+fb6E/c27W8Rca6O61Nsjz8KEL9L3PlVri31suc6c+c+aRsBAscKSMA71lNpBAgQIEDg1gIm9rcenrc0rn3YHw9j48FjPYmM9ZgA733FJLstL7ZlCQczTVjbPsX7GV5Zu2dxf0fbszpnGGdt/CwBCXjnjnd2HjjyvJldD6NOLwIECIRAdg4i8zkCEvCePdbZXLn+zsfc3IvAKwJZosNWEl4dg2X9yHvfnv7saXeUW9pbL3vavre+nr7Yh8CSgOf0SzK2P0XgV7/61Zf2t4f6/Ly0HknjkTwe90l3e2Vt7rnO3K0f2kOAwHkCEvDOs1UyAQIECBC4nYCJ/e2G5O0NaieN5UFs+/Dxlf8N7dL/0jZLOCj1vx2mowGtXbyf4ZW1e5YHBe9oe1bnDOOsjZ8lIAHv3PHOzgNHnjez62HU6UWAAIEQyM5BZD5HQALes8c65r/Zd7xsix+uvQjsFVhK8Nx6vlPir14eee+71Z+97Y5y6zaX9a22v1LfVl98TmBNwHP6NR2fzSwQ59241pTz8CvL+F3hTv8gIevL1nVm5rHUdgIExgUk4I2bOYIAAQIECEwrYGI/7dCd1vB20lgS4LIfAvb+b2jbCXf5a3oxOV2qf6vD7XHxfs9kN2tDlNW+lvbL2rG0rad98UAh/tR+GEUSZGsX2+JfAMYPMXsfPmTty9oW4x1xEHXW/1ox1uN/GRCfnd2Gdhx62773uCPHOftfOUf7X/lfKcTYtwYxHl4EJOCdGwPt9y7eZ+fNva1YOvfsLS+Oq68l8a/H6z7U5/G9/6I8a3NmEteSck1r2xDbe+8touw4B9bXoygvrlFRzt5+rBmfbbhW95Jb3BfENTi7D8jGpNzXrdWVfRae5R6gvReJMYix2Hs9621n3GNEP9txLwav3IdkfY5tZ/a7jv+ynn1nMp+yf++yLjfGKTtu7/iFk/uRpQg6Z7sEvHNc71Jqe11rv6/+N7R3Gak527F2TVnrURuH8b6+tqwde8Rne9sdde9p+yv1RZ3l2Ul8X6N+LwK9Ap7T90rZbyaBmJ9n5+JXtsUcsPfZwZLVUefqrB9XXiOX+mc7AQL3EZCAd5+x0BICBAgQIHC6gIn96cTTVdBOGssPtTEpbT+LH9tGX9mPfmXCnD3kLPVv1dO2Ld7vmexmbYiy2tfSflk7lrattS8+Kw9rl45vt0dCRa9X3Z+2nHhfty3GJxIasv2ybfFgZTQRLyunbkPd3nr97OOiDVkdI9vqfrRJC1HOnu9RMWiTaKI8fxWj6Hz2UgLeueOfnQPq7/qrtS+de0bLjXNxXBeyc0/Wh7ItzkujCWyxfzm+LGuT+Lz3urZ2HYkyt5ITSv1RzquvKw2ztkZ/e6/B7X1AFkejSVYxbllyVTFulxFro3WEcVtOez8T77NrXntca5CZ9my7ot9t2+N9/Z0p7czGMTt2bVtbbnZOcD9SxO+/lIB3/zHa28LsWpp9X0fnWnvb47hnCmTX063Ezuwa015bztba0+5o0962760v+86ebaP85wh4Tv+csdSTL98+G16by8Z5NuYgMdeLa0r9X2yLz7JzcTmvx2flN4VR7yPP1aU99fLqa+Ro/+1PgMC1AhLwrvVWGwECBAgQeKuAif1b+W9XeSWSrngAACAASURBVJZkV/8A2k5OY6I7+mp/xI0yyysmp/VkNdbr+st+2bI9Lt7vmexmbYiy2tfSflk7lrYtta83QWGp3Hi4MfKjTFZOaVskc2Wfb22LcR15CJKVV9rQ2tfvzz7u6HGOeM7aPDJepf9ZMmuUvaesUqblcwQk4J07ltn3uOec1duqpXNP7/GxX5TRXrezdq9t670Gl3a1ZRWTuB6sPThvj4v3kWTXns+WzqHZ8WVbXBP3vt5hWLd1T3+j3yWRKoujMiZ1PUvrcQ8wOm7FvbRhqex2ezmuLEvsRQz0JlyWY2M5ei9Ut+eqftftLevZ+GTjWPbvXbblLsVW+52rXZbW3Y8syZy3XQLeebbvLjn7bmbzsdjmRWCvQFwT6ut7XGcj+XPtlV1v2mvL2vFHfLan3VHv3rYfWd8R/VfGZwh4Tv8Z4/wpvVyax8U1KO55euYesU/sW1+36vN6bB95/lzs6zLKevlsdFmOr5dXXyNH22x/AgSuFZCAd6232ggQIECAwFsFTOzfyn+7ymNyWE8WY72eMGZ/Mn7kr5zEpLmdMNd/nSb7F/9b/xK7ILbtbtte9ttaZgZRVvta2i9rx9K22rYuP3MuZcQPyuW/si1b9rpFvdnx0bbsB6Bs36VtIw9BsjKWfGqrs487epyzGI8+7PkRrU1mjXJGEx5qS+vPEpCAd+547j339LZq6dzTe3z2Y33W5p5tI+eVtry4juxJvivl1NeytWtj2X9pOdKHYvwuw1J/do5f6l+2PY7P4qjn2hptWKs/fkgp9yJLP6pEm0bc2z6UH2TWym+Pad/X8VNct5ZX9rttb7zPxicbx+zYtW1tue5HtiLh3p9LwLv3+LzSuvacF+fa7Pu65/z2Srsc+zyBeDYT14bepIXsGtNeW65QGm13tOmVth9V3xU26niGgOf0zxhHvVieT8a9TpxbR19xP9TeJ5Xzezx/Hi2zHFsvR9tU9q/LKOvvuEaW9lgSIHA/AQl49xsTLSJAgAABAqcJmNifRjtlwTE5LBPFsqwnjNlfuBj5cTX7Mbt94FvqLcv40aHnVfavl3Xbe8qIfTKDKLPnVddd1nuOa/cJk3J8PFwIt9apHBNjEkZl/3oZx/W86mPKept8Fw8zYqyjvvJQIx5+xPu1H6vjuNhv61XqrZc941fvX9bPPC76Ueqpl1v9qz+PH8zqY2O9N87rcsK2LSfGw4tACEjAOzcO2u9evO859/S26pVrUXatLe1tz+OlPVHf2rk8Put5lXrKMpLm2r/CF+e7aGPUGf/F+tJ1rLjGua2UWZalL6WcuG61dZV9Szk9fYh93mkY9S+NRZz3w7S9J4j30f/2upCVE15br/YeoDjG9nIPUJcR1/mlBMk4pudV6ijLuFa2cRHjG/VEPPSOe4xl7+vqfpe+1sue8Yn+1MeU9d5+lv3cjxSJ+ZYS8OYbs54Wx7m0fJ/LspxDs+tbdj7uqcc+BPYIlJisl73XrD31HXlM3eayfmbbSx318sj+KOvZAp7TP3t8P6V32fw9zom9zxWWnOLeZykJb/QfJ9Tn6LK+VO/W9nJ8vTzzOrPVHp8TIHA/AQl49xsTLSJAgAABAqcJmNifRjtlwTE5rCeLsd5OGNsfd+N976v9oS9+SGhfbf29iUntcVnb27qy95lBlNXzytrQc1y2T1i19tl+ZVv2I3vmW/avl1m7620xBltJdPHjf/bDUJTTM4Z1fWW9p/9l33p55nHhVtdV1mvPrfWlB1FbxnW5WRm9412XY/25AhLwzh3b8t2vlz3nnt5WRVl12WV96/g4F5d962WcH3rat3YuL0kAa22o64z1+p4h1tfasJT8FNeQ+voSD9zXzpdr5ay1vXz2bsPs/B6WW/2O9ofL0g8SZWzWxiDKyGIvxi5ctl5Z4mIcuzZepczSvrKsYye2rcVf/BCT3QfFcb3Xxnf0u/S1Xm6Nz5JXlDH6Woq1nvEqdWVl9JqXMizHBSTgjZvNcER2/SrnhOwcN5JgPEP/tfHeAvW1qqyX+Lx3y/P5+5ltLz718u5G2ncfAc/p7zMWWrJPIOZm7VwuzocxTz3iHw+sJeHF3KT3VZ+jy3rvse1+5fh6eeZ1pq3fewIE7i8gAe/+Y6SFBAgQIEDgMAET+8MoH1HQ2kP/0sHs4X/PBDd+zKsnorEef8WkfbX79CRvRRntcfF+z2Q3jsnKatuZvd97XFbW6LalBxw9P5hn7S7bYrx7X2sPQbbGotRXL7eOiXbV+5f1M49bqrPXqOxXJ5OUdq8lF5TjyjL7Ho4cX8qxfK6ABLxzx7Z8b69ebvUqO7fEtpEH3bFvVk48RN8qZ8kjju25HmX3IXWZvQ/ts3NklNOTWJT1/UrDrP7efkd8rF2Lw2DrGpkl8PWMXYnNbAyz+72yf1nW49yu9yaZLI17z/Hv6Hfbz57xWfMqn40ss3gbuZ/IzEeOH2mrfb8TkID3ncWT1rLzUOlfluw6+pdeSlmWBPYIvHLN2lPfkcdc3fasviP7o6xnC3hO/+zx/YTeZfPBOC/2zMV7fWJ+mp1rY27T+8qO7z223S8ra2ve3ZbhPQECzxaQgPfs8dU7AgQIECDwPQET++9xfPybbJLcThj3PvzPys5+0G0nrfGjfc+rPS7et23vKSeOycrqOXbvcT1l9+yT/e/fen4Ezdod20Z+8C/tW3oIspVImbWhZ/yuPi76mdVZ+t+7zL4PIw+Ksn9NeuTDrN5+2O++AhLwzh2b7Dxwxba1XmV/fSza1HMubctdOpdvJVItGfQk6pc2ZAlBUW6c93rPc5GElp0nt66J7zbMrg0j/S6G4bQ0FmvxkPV/y6zUWS/bMYw+bL2W2jtS/9K4byWpvKvfWZ/Xxqc2zI6tP+9dz2LO/Uiv3vv2k4D3Pvuzas7O2/W5K85v2fc+tnsRuEIgi7/ea9YV7Vur4+q2Z/Wttc9nBGoBz+lrDeuzCSzNx0bmdL19zuYxcf7tvTYdea7OyuptR29/7UeAwNwCEvDmHj+tJ0CAAAECQwIm9kNcj985m7xmD/WziWW2Xw3W/ov+pR/3srLrcpbWs+P2THbjmKyspXrr7XuPq8t4ZT1r+1biW9SXtTu27fGL8rK/hhLlrSVOZG3oqf/q45a8Rsct+5Et+pIlpbZlZ0mwPePcluP9swUk4J07vtm554pta71qk56iPXE+3vvKzuVbiVSZwej5KbsX2dOXrP11MkPm8m7DrP69P1Zk/Q/HtWtrjFU9hjHeW/d3mWP2DwK2kjDresv6nvqzfi/dc5a2v6vfpZ/1cm18SntjWR9T1uvPe9fdj/RK3Ws/CXj3Go8jWpNd+9rzf3uuiu9+JBCf8Ypzf5y343we9dbXp5jXx7Y430Ybe+YvWRuvqCPOcdHGtg9hF/2IPmxdn7K2Z9vCoXiV83Is41oW9cdne+s6uuy6fWV96/pT9quX2THR1mJePwOK9bgPi8/23FuEeV13Wc/a0I5P2bdeHnVclFOXu2e9bkvESFbG3tgJi+zeKMbD654CntPfc1y0qk8gzvHtOWzPnK6ntriWRNltfXHOa19Hn6vb8ts2xPv63F72L9fz+vpY7hNeuT6W8tvlWfdBmWe0v33FfjEecR9UjNp9svfFqT4uji9Wr9xTZfXZRuAKAQl4VyirgwABAgQI3ETAxP4mA3GTZmQP5rKmxYPTMnEqy7WH/9mPe9nELOpqJ1dRfs+rtKNeZpPdrbKySeQrbdiq78jPY4Ja9z/Wt350jvrbY+L9Kw9ks/GOMpfGfKkNPeOXtf3M45baumccs+9R9qCoLTv7nq59/9rjvf8MAQl4545zdu65YttSr7Lzf7Qntu99LZ3L134AzAxGz09L1+Gec3vd1+wHzLjHWHq923Cp/hiHPa9Rx2y8e65JWduyuuMh+dori52tY7LysnGPspde7+x31ufeOM+OXerj1nb3I1tC9/tcAt79xuTVFtU/xJbvd3v+j7lU+aws4/t75CvOQdlco9S3tIw5Z9vepXZdUUe0ZaQf0f61+5ulvsT2uH5nzzCWrOLH47V5cV3XWWVnbdu6/mwdM9rWuMaPJuJttaG2q9fPPC7csvJHtrX2dcJrKWfvPVk4ZAkqo/fntaf1cwU8pz/XV+nnCmT3M6+cv7Zam13r45zXvs44V9d1lHN1vazP7b3XyJF7hLr+dv3s+6C4ftd9jfX63iY+z+aYsd/aq9ep1H2U11qbfEbgKAEJeEdJKocAAQIECEwgYGI/wSBd2MTswXFWfTysK5OdslybUGc/Fiw9oO9tQ9uu0o56WU922/2X3i9Nypf2r7fXdZf1+vMr1ku99XKr3nrfsl5PnLeOzz4ffehS6q2XPeNX71/Wzzwu+lrqqZeZwda2LEkge1DUlhP71HXH+9EfL9oyvX+egAS8c8e0/g6W9bgOxrnziP+yB8lRz9Iru86+kkhd6snO5WtJUcWiXi5d70sd7TJ7mLvW9/b48j4e3tbtiPW1c+y7DbP61xIGSz/Xlm3/4/3SNTK7t9ubjJCN4VZfsrbuqT/iLSsr4iF7vbPfWTuXxqdte3Zsu0/ve/cjvVL32U8C3n3G4oiWZOet7B9RZfvFueCIeUCUsXTvkZ1vsm1bFlfUEW2I83o7X8ram21be6aR9S+7hmTlttt6EifPLLttT7zfuv6sHbO3rRHnS9fnzHutDdn+ZduZx4VbVv7IttY+uyeM8vZ817Nr/N6yiqfluQKe05/rq/TzBJbuU0bO86Oty+b8cY5rz6tnnKvrtmbn/NKGpXN6dkzZFnPnPef8aNNV90GlrWUZ/YxXtDt7jlT2q93q9b33Ej33VHU91gm8S0AC3rvk1UuAAAECBN4gYGL/BvQbV9mb/BaTqTJxKsu1H7XbiddaUkDWhp7JemlHvSyT3RHypUl5Txl13WW957jefcI92heT2phghlVrW+qtl1vl1/uW9T12dT2RoFHKKsto79Kr7FMve9pQ71/Wzzwu2l/qqZdL/dranv3r9njosPTKHqCP/lC0VLbtzxKQgHfueNbf/7Lec+7pbVWUVcqtl0vHZ/+6eC1RbqmcdvsR5/K2zJ73dZ/Les9x7T7l2HrZ7lPev9vwjPrrfpf1pTjNEi/iR5S9r1JfWWbJJHXZZb96udTW+rhsvS6jrC+V9c5+l7bVy6V2tv2sjynr7T4j792PjGi9f18JeO8fgyNbkP0wu3QNz+Z+a3OHnnbGXDs7B5RzS88yrmFrryvqiPqzc3ppf9jFfHRrDt07t8rmZaWureXWmJ1Zdjhl7du6/iwdk8Vvtu/StniO1PO8Z2+7zz4u3Jb61ru9tV9KYtmKm+hr+8q+E70x3pbl/TUCntNf46yW4wWya9fabwVHtSBLui/JYKWOM87VpexYZuf7qDN7npLtm23bureq6y/r2Tm/lH30fVAptyyLeXavWvaJZfbKYqc+Zm19z7Uxa4NtBM4WkIB3trDyCRAgQIDAjQRM7G80GDdoSjyMric1axPl7IfimDC1r+zh4drkqG1DtKd9INnWEe/rdpf1nuPaspYm5e1+2ftSb73M9hvdFl6Zd13P2vpWfdmxe+zqeqLNbblr8dTuG+972nD1cdHHrM667yPr2Q8Waw9ZsocpvT9YjLTLvvMLSMA7dwyz80DPOau3VaPXouwh59q1trcd2bl8LZEqc+mtq97vHeW82zC7/8nuq2qnrfXMcSlOs/qz41/ZttberNyltq6VE5+NlPXOfo+0s+1zdmy7z8h79yMjWu/fVwLe+8fgyBZk15+l+/vR7+pWO6Oe7IfrOMfE9ph7xLWobU+cn8scNfZbu+e4oo7oZ2YT/Yjt2V+RiecUSz+MxzFrrygvc4uxDK+2vvCKukqiY/t5XdeZZZd6smvI1jU3O6Y1r2Om9DGcwySbx5Yy47jYb+tV9q+XW+2OMuv9y/rVx231rf08e/4T9yyjryxOX72/HG2D/ccEPKcf87L3fQTaa0Kcb/ect0Z7lJ0v156rlvLL9aBels9Gl3UZZb29x4jzcWyLc3Bcg+K/MCv3BuW4erl2f9W2MfOPsmJ7uSbXx7xyHxTl1O0s9Sy1Ie6PIhayZ0lX3PfU/bZO4F0CEvDeJa9eAgQIECDwBgET+zeg37jK9uHc2kQ5+1E+Hqq2r2zylU38ynHZxPnMh6Ol3rKMutpJZLzvee09bqnsMF6biGf1ZduWyi/bs2N6zMvx2XLUcW8brj4u+prVmRn0bIsHHll5Sz9AtN/R7OFFT732eb6ABLxzxzj73r563qxbfNU5tK4zWz+iHVm5W9sy361jss9Hysn2PWJMew3PqH+kzCPuN7L66m3ZGJVt9X5lfa9/Ob5eLpX1zn7X7SvrS+0sTmVZ9q+X5bM9S/cje9Ted4wEvPfZH11z9t1bu7/P9o/zwNr8eqnNSz94RnkxJ+8tM/Zb2veKOqJ/2bU25k1t4mBmkT3XiGOX5mNRRvaMI35cXnKo6906z59ZdmlHfe0o61vtKvstLePZ0ZpZ1B3jsXTdXXv29Eq749iszVv9Pfq40ofeZSRoZO3eMq7Lz8pYO7/Ux1p/n4Dn9O+zV/NrAnEeb89bcU07+5VdN/deU/a2te13+37NIe4dlpLUe8/ZV98HhVPWx/qZdaxHv7fujbLxO+qeau94Oo7AGQIS8M5QVSYBAgQIELipgIn9TQfmTc1qJ09rE9aYQLX7ZxPDdgK+9a/QsonXmQ9HW+ps0hr97Hm1Hr3HtWWHbZaIWJcf1mEb/3ouzMp/9T5lvS2/fV/2q5c95m059ftRx7rust7ThrJvvTzzuOhjXVdZr/s+up6NdYxn+8oeoGf7tcd5/5kCEvDOHffy3a+XPeee3lZddQ7das8R7diqI/u8di3r2X5b28qx9XLpmHqfsn7EmPYaljrr5av112WV9aUyy+dnLpfsY3tW71Jb18oZLSur9+htS+3N6untc3bsUj29292P9Eq9fz8JeO8fg6NaEPfy7fc55ndrr/hRsj1m5C+klLKz73yUu6esUma7vKKOqDMz6Um+K+0dHYf2GUe4jdRX6s2WZ5Zd6mvjJ95vXX+yY8q27B9ilrraZTzryMZrbxu22h31l3bWy6uPax163sczn7rNsT4y/88SOkaO72mjfY4X8Jz+eFMlXiOQXb+uOOcsJdJv9bo9v8b7va+srLKt974qO2dHGfEseOuVXVdH7ktG74OiPaV/ZVkn30V7ehPGs7gZafuWjc8J3EVAAt5dRkI7CBAgQIDABQIm9hcgT1RFmTSVZUyC1l7ZA/V6kpQl6W1NPLNJ39Yx0cbS5nrZ81C17V8cU5dR1tv9svdl33qZ7be1LZs4R5kxHmERrkuvuu6yvrRv2V72q5d77Ep5sRx1rOsu6z1tKPvWyzOPi77VdZX1uu+j61liXcRA+8oexqzFQnu8958lIAHv3PEu3/162XPu6W3VVefQrfYc0Y6tOrLPa9eynu23ta0cWy+Xjqn3KetHjGmvYamzXr5af11WWV8qs3xeL+O+46j/thJK6nrL+lJbl8awbC/H18ulsup9yvpRfY5y1vpd6quXS+0sfSvL+piyXj7bu3Q/slfu+uMk4F1vflaN2byvnk9n9Wbz5ZiXj7ziXFPOHfXyyB/Kr6gj+hzz47oPsb6nH22yU/yQvPSqf2QudS/tO7r9zLJLW0qb6+XW9afet16PGB6dk0aM12WU9bhurr3KfvVyq91RXr1/Wb/6uLV+LX2Wfdezf/S6dHwWS70JEUtl2n6+gOf05xur4RyBcn6tlz3n2ldbE3XUdZb1rXLLfvVy65ilz+sy6vWR+5G4lmbn7a0k93fcB4VD3c96PfqwdS9bO2Z9rj+3TuApAhLwnjKS+kGAAAECBDoETOw7kD5kl5jo1ROmWN96kL81yWs/j0nV1it7yNgzYW3bHu/3TPT3TtyjX1kbtvrbfh4/1LblhFvPv3jb24a2vr12dV+yH3HXHqjvbcPVx+01rm2y9fYHn+hX+8CifSix9f3M6rHtcwQk4J071nvPPb2tGr0WZeeQ3uvGWpva63j0O0sQLmVkLuWzkeU7ynm3YXuOD4NXxzBzXLo3yvYdGbNX983qX2rrVl0jZWX7bpV/1OdZ3b19zo49ol3Z98D9yBGyx5YhAe9Yz3eVFokw7Xc5voNbr6XkpZEkqJiXtXWvzdW22pR9fkUdUW9bT1xPRyxK27N5+NJ1uLWL93vqLHXXyzPLLvVkdWxdf7JjYtvWcaXOdpn947Ioby1BLGtDT/13OK7tf8/77BwRfWmvy1lZo89jsjJse4+A5/TvcVfr6wJ7z7Wv1hzXgazurXL3HLNUZlbWnvuR7Nq4dW/4jvugcMj6HNt6fsOpHbNyjrqnquuxTuDdAhLw3j0C6idAgAABAhcKmNhfiH3zqrIJ69akKSZE7USp/mG+nThu/autIPrkBLxXHrCW8GrHI95vvbJjeh5kr5WbjeNawtjeNlx9XPQ5q3PNouezzKv+qznZA/SlH4R66rPP8wUk4J07xtl54NXzZt3i7JocdS692oeuse/WNXyprHp79mP06Lm8Lq93PfPtPbbeb6ScdxueUX/W/6U4zepf+xG8dj5ifaStW/WNlPXOfo+0s+1zdmy7z5737kf2qF1/jAS8683PqHHr+7ZWZ5YsG0nzPa+lOefS9aGnzHafK+qIOrN6ep45tO2N99m9Vz0fq4/J/nLhEfddUceZZZc+ZNeQrfHPjqmf/ZSye5fZ2EUda45ZG7baHe25w3G9Lu1+cd/dtr8nxttncVFG7zmibYP31wp4Tn+tt9qOE2jPVfG+5xz9aguy63fUvfXK2rt1zNLnWVlL9xBLZcT27NnvWl+ya2nPNSJrQ+a41oesz3uSDq+478n6axuBqwUk4F0trj4CBAgQIPBGARP7N+LfrOpsorX28LM0P3sgWP6lUvvXXHoShva2I/sRoqf9pR9lmdW/Ntktx8Uym3zWn2+tR3vbMkYnzu3xPW3PjukZq7X+ZD9or41H1oYYi63X1cdFe7I6t9q59Xn20KT+V47tA/T4bnkRWBOQgLem8/pn2Xmg55zVW/PotShLlHvlR9HSztGHoZlLKWtk+Y5y3m3YnufDIK6le1/ZdSXKXIrTrP5X7wVG2p6N+VJbt8odKeud/R5pZ9vn7Nh2nz3vs7hxP7JH8txjJOCd63tV6dk1tucvW0X7XrlmZXPO+nt+RP+vqCPamf2l3r3XruwfFy5dh7P+xXl5bb7b63pm2aUN2TVk65qbHfNqf7PvQFyXl15ZG7baHWXd4bilPm1tj3hu29/zLKB9Fhfvy3O6rTp9/l4Bz+nf66/2/QLtuSre95yj99f4f4+MOrK6t8rdc8xSmVlZe/qezcWi7KX7w3fdB4VD1ue1f6y5ZHfFfc9S3bYTuFJAAt6V2uoiQIAAAQJvFjCxf/MA3Kj6bMLa80B1abLX/q9xeh/qZ+1YewhbCLOEr7V/qVWOa5fZjxkxqex5ZZPPnuPKPlkfRn9A2NOG7Jge89Ludjn6wCCOz9rQ87Di6uOW2toa7HmfJbOWhyztA/Q9sb2nTY6ZV0AC3rljt/fc09uq7FoYdS69sh/nYv9yDlk6bm37UhvWysxc1upY+uwd5bzbMLufCoe9P5Yu9Wfp2po9+H7lXmBpbJe2Z2O+1NalMsr2kbLe2e+Rdpa+lWV2bPns1aX7kVcFzz9eAt75xmfXkM2XepJqSrvauXY5J0S5W684t5f9y/LoucUVdUQ/s3p6DJaMikdZLj3DiGtzOz+rj4lry97r95lll36XttbLrWtuvW9Z3zqm1Le0zJ69LCU9Rhml3nrZ04Z6/7J+9XFLBj3bIw5Lu8sy7huXXtk94JX3dEvtsr1PwHP6Pid73U8guy6unauO6kE2n+v5x4jlfFov97apLqOs91xnsvrK8fVyqax33QdFu+v2lfUYi9HXFfc9o22yP4EzBCTgnaGqTAIECBAgcFMBE/ubDswbmpX98NszcYqJUplolWU8SG0nwL0P9WNSWcopy7WHsIUqm3QuPTAvx2TL7OFmtKPnVdpbL3uOK/tkDyuWJtnlmHq59ENMvU+2Xre3rEdb9v5o0I59lLk1FqXeetnT93r/sn7mceFX6qmXmevotuxBeVhm4/rKD0uj7bL/nAIS8M4dt/r7X9Z7zj29rYqySrn1cu347Bqy518glzqyJJw95/JS3siy7nNZHzm+7FuOrZfls2z5TsMsGSPa3XMvlvUlS+qP8pbidKn+q6439RiV9aW2Zv2tt5Xj6+VSWe/sd92+sr7Uzrp/sV72r5ftPnvfux/ZK3fdcRLwrrM+q6ZsvjSaIJPNW3uuGdn14egfyK+oI8Ymq6c+Lx6xvhQD2bmyrS/GtPe8XtdzZtlRT9vOeL/Vzj3H1H3K1rNnUHEvtvTa24Y7HLfUp57t2fli7R4/eza29g9oetpgn+sEPKe/zlpNxwpk1+Se+5JXW5GdI6MtW6/s2rB1zNLnWVlb19UjysrMs7a8su2Idi6VUbaffd9T6rEk8E4BCXjv1Fc3AQIECBC4WMDE/mLwG1eXTVh7J4vtj/TxL83aSWDvA7+os50Y9kycs/ZHOb19iKFZKiPK6XllP9z39jvKb/s92v7sQWtP27N6Y1tv0mRts/RDdtiuvbI29Izd1cdFH14d5zWH9oe0+C61fxmg519yrtXhs88QkIB37jjvPff0tiq7Fkada6+la1g8zBx9LT0A3fqBPnMZrTv2f1c57zZs76fCIa45ownxS/ET5a1dW9t7t9h/7QfePWO7dEw25mttXSpnKX7WynpXv1/p85n3ImHofmQtwt7/mQS894/Bqy2I+/nsHPDqtp55QlbH2jlyT1+vqCPa1Z6rsnpf3bbW/7gvys7HbZ1xnRk1PrPstn3xfqt9e45Zs4vPos6s3KXjsn232h1l3eG4pT71bF96xrL0jyTamIzvpPQ29wAAIABJREFUidc8Ap7TzzNWWvp9gWwue8VcMpvL9TzPzq4N3+9R/7usrJ7rU1bDSFnvvA8aaWfWz3bbmfc9bV3eE3iHgAS8d6irkwABAgQIvEnAxP5N8DesNvvRuXeyGJOkbOJVtvX8EFBIsoeLMZneemXHRf29dW/1Yav++Dyb9G8lntXlZj/E9Dw0iDKWHl6HwdarjFO2DJfeVyQIZH3oSR7I6u6Jv6uPC4tXx3nNM/setg9URsZkrS6fPVtAAt6547v33NPbqqVz+trxcQ5uf3CLdsa2kWTw2Dcrp+fHu8xlrc1Ln72rnHcbLo17z31QsVzqQzFdu7Yu1T/6V5lKW0aWpX31cq2ta2XXZZT1tbLe1e/Stnq51s66z2fei0Q97kdq7futS8C735iMtGhp3lqfC15ZX0rKKW3Myu4995QytpZX1BFtyOo5ettWX8M7Oydn7YhEhLhO977OKjtr21YM7Dlmq59L19+l4/a24Q7HLfWpd3uW2JI9a8r+EU22X2+99rtewHP6683VeIxANn+I5wpnv7JnFz3PTbNrw962ZmVtXVeX6hopK9v36G1HtHOpjHb7Wfc9bT3eE3iHgAS8d6irkwABAgQIvEnAxP5N8DesNpso904W4yHy2gRv9IFfW1bPj/5BuvTge+tBd9b3tg09Q5b9Bbpoe+9D9uz4nsSJGKfsgUPpw1bby35l2ZbVM36RsJEl30WZex989MRfaXO9PPO4sMzGaWSc18YjHjbUfWnXY2x642mtHp89X0AC3rlj3H43433Puae3VVFWVsfW8XG+zY6Lc0dP++JHu/YaUMrrSeIr+9bLrTZnn9fHl/Vsv61t5dh6uXXMuw2zH1ij/XGPs3X+jzGK61Hd33Z9Kw6ya1yUEe2Ka9Toq/eYtp3xfqutS23ZU9Y7+r2nnaXPWXuPuheJOtyPFOl7LiXg3XNcelvVM/fMzg+927bmblk5e8+3S32+oo6oO6snrpdH/df7j+GiLWEY5+al+6jS1pgzb13PW9ejyy5tqZdbMVDvW9a3jmn70b6P40tZ9bLdr7yv9ynrPW0o+9bLq48rfdi7zBLrIpbaV3Z/MBpvbZneXyvgOf213mo7TmDpnN7zHGFvK6Ls+txe1nvmoGXferm3HXUZZb3nOpPVV46vl0tl1fuU9aPugaKctfugUl+9XGpn1s+1bVHOWfdUa/X6jMCZAhLwztRVNgECBAgQuJmAif3NBuSNzYmJVT1pivWRidPSD8ZRTs/Et+5624543/OK9mbHxrb4UTImjrFP+S/etz9Uh0PWl576l360jzris1JvLON9+4rtWfvjIX62f7hmD1jbMtp62vft/vGjTRsP0YfYHm0sr6g/HgSvtSE+63m1bYj3dV1LZVx9XLTj1XFe6kvZnsVf6WevZynL8nMFJOCdO/blO1kve85Zva1auh70HL92To5ze5y36x/iYj22tef9um/ZNShrS31MWc/229pWjq2XW8dkn9fHl/Vsv3bbOw1jPNp7k9L2uB8o9zJ1myNe2jYvjedWnEb9Swn10Y6oJ+Ihu7eLY6P8uF+Ia1m0N5Y9r9LHernV1qVy6zLK+lZZ7+h3aVu93Gpn6fPZ9yJRj/uRon2/pQS8+43JSIvWzrH1+WDvepaUU7cvu8b0XufrctbWr6gj6s+M1tp1xWdxPQnPzKC0N67Re15HlV3aUS+3rj/1vmV965itPmZJZWs2pd562dOGev+yfvVxWxY9n2cx1Sa2tAmgvfdhPfXb5xoBz+mvcVbLOQLtOSjOuWtJXK+2op0DR31b90GlznI9qJfls9FlXUZZ77nOZPWU4+vlUln1PmU9K/OMbaW+ernUzr31H3Xfs7d+xxE4UkAC3pGayiJAgAABAjcXMLG/+QBd2Lzsh9qR6pd+CFx7gLpUfj15K+tL+7bbY2JfjhldxiQ9Jnfxw3F7bFvP0vvsYUNbVryPh6fZK3t4UI6PssMz/svqiWP3tL2UX5ZRRjhkdZR9epbRnt5XVl7PxP3q40p/em2WxrmUky2zHyJKP9sH7NnxthEIAQl458ZB+U7Wy55zVm+roqy67LLee/zataSU1bsc+VE+K7O3zfV+dyjnXYbhEOf63utMZhXHRoJc9llPnMY9wFEJItGWntfetmZl7y3r6n7vbWfpc2+M7LkXiTrcjxTp+y0l4N1vTHpbtHRu3nuPn8394tySJUmXNmbz/qN/HL+ijuhPVs9a34vBVcs4jy6dq3uux2vtfKXsPdefPcestT8+y+J3LWFsbxvucNyWRc/nmVf93c2u27HNay4Bz+nnGi+t/b5ANoeO62DMs45+LT23jnNlzyu7NvQcl+2TlbX3Oj9S1jvvg0bamZmNbnvlvme0LvsTOENAAt4ZqsokQIAAAQI3FTCxv+nAvKFZ2aRtpBkx8c0mXyM/3Jf6sofU5bOeZTbhz9pWb4v+lwcC2YPNnnpjn+yhZ11PvZ6VGW3Y86N39DleWdu3ftCp2xTr5WFFHLenLXUZWR+zbW0b4n3Pw4qrjyttf3WcSzlLy+xft0eMehHoFZCA1yu1b7+9557e2uL8l9XRe3zsF+fy7HqalZtti/NQz3m4blNWTv157/pdynmHYTHaew2OcSvX/cyxd0zjfmTtL6BlZS9tK+0pfcuW2bG9bW3Le6WsK/v9Sjujz2ffi0Qd7kfa6LrHewl49xiHPa3I5mrxPdv7WkroK/O5rNzsH6zFnO/I1xV1RHuzeX+cG+/0iutKdi5dSzTrbf/esvdcf7JjXrXOnkGtxW7Whp57hTsc1zuma/tl3/f6/NF+H2Ie4DWfgOf0842ZFn8nEOfk7Jy7dm7/7uixteyeKuruTcTP2jnWgu/2zsrquT59V8J3ayNltef9OPbVa/N3LVlfG2nnekn9n+697+mvwZ4EzhOQgHeerZIJECBAgMDtBEzsbzckb2tQlmg12pjsh9qYHI2+sgexvRPoUldMxHsSD2Kf9kFANokv5fYsI+mwp+61srIfLbLJbTxwrSfX2V8iXJv0x/i05dYe8XlvW6KcGLu1+pb63LYh3veUc/VxdfuPGOe6vHo9+w7sSWaty7T+WQIS8M4d773nnt5Wxfkvq6P3+LJfXDuzh7JZ2WVbXFfq60Apq2dZyqiXPce1+9THl/V2n5735dh62XNcvc/VhnXdcQ2Osei5p4g+xvW6vu+q+13WR++nIhaza1Ipb20Z7Y74q9tU969ez8rpuQ+oyyjrR5R1Rb+PaOeZ9yLhmY29+5ESae9bSsB7n/2rNWdz7jh3v/LKylxLqIu54xHnn7U2X1FH1J/N2+O6c7dX5lEnTr3S3j1l7xn/7JhXrON+JCtzLWk/27/nXuEOx70yxvWx2TO3YtbeL756bqnrtX6dgOf011mr6RyBbP4Q56dyrjqi1igrO7ePXJey4/e2LSur5/qU1TdS1jvvg0bamfVz77Y99z1763IcgSMFJOAdqaksAgQIECBwcwET+5sP0IXNyyZOo9XHJCgm2uW/vT/gZ5P1PRPXeKgbbYjy6oeR8YNETMrjB8TsR+FsAjtaf/nRvO1LPGiPbT02S+2P46P94d2+op3tWK79UJrtn/W19Cce+NY/8tT9Gf1Rv2572+Z4n7WjPibWrz6urb+4vDLObZnZjxFH/UDT1uX9cwUk4J07tnvPPb2tys7NUefeV5yr4loQ1476HB5lxvUxzmHxI112XRmpM3MZOb7se7dyol1XGRaDelnqzq7BsS3uKbJr8FGO0ZZyT9K2oa4j4qi0p+caXvexLqesj5ZRyivH18u9ZZ3Z77p9ZX1PO8+4FyljXtpVlu5HSpS9dykB773+e2vP7vHju/XqD9LZ3DXKza4Lpe313Lh8v+McfuTrijqWTNf6fmQfR8oqzvVy5Pi1fesyy/ro/lvXn1JuvYwxjmvQnlcWt1vXmLrusr7V7mhb2bdeXn3cHqPsmCzxICyzZJQ7fg+yPtn2fQHP6b/v4d18AnF+rc+3ZT2eQ+y9ZtQKUUb7TKPUMXLeK8fUy7qekfW6jLLec53J6ijH18ulst55H1S3r6wvtTPr5yvbSn318pXyHEvgCgEJeFcoq4MAAQIECNxEwMT+JgOhGQQIEPidQCTI1A8RYn0tiRIcgUxAAl6mYhuBzxJoryXxQ7kXgV4B9yO9UtfvJwHvevMjatyTcNRT79KPr1Hf0iv7fsc1Y+2YpbKWtl9RR9Td/kOo6Eckg9/t1V6T4/1Rr9Gys/23fjTPjolte/7K2p6YDausDVvtfsdxWfLpq4m2daxEomJtEYkoMQ7ttvoY6/MIeE4/z1hp6bJAXIfrc1JZfzUJby35bvQe5shzdelfvey5PmWCdRllfa2sd90HlbbVy7V2Zn3du62us6zvLctxBK4SkIB3lbR6CBAgQIDADQRM7G8wCJpAgACB3wlk/3J96y8BwCOQCUjAy1RsI/A5AvHwuzyMLsuj/7rR52h+Xk/dj9x7zCXg3Xt8llqX/bWW0R+Ll8rOfuiO+pZekQCV/fAc14uj/uHPFXVE/7LrXfQjEgDv8sraeNQ1eU/Z5b6gXkY5a69633Z9JGaWkiciHrf+MlJbb7zfanf06erjsmSIo77r0Z8oq+1Tm5Q3MiZr4+6z6wU8p7/eXI3HC8T5vD0vlfNW3J/EPcLoK47J7qWi3D3X1CPP1aVv9bLn+pQZ1GWU9bWy4rOyX708+z6orqusr7Uz6+uebVl/94z/nrodQ+AVAQl4r+g5lgABAgQITCZgYj/ZgGkuAQKPFsgeJnl4/ughP61zEvBOo1UwgSkEsh9n9/yVmik6q5GHC7gfOZz00AIl4B3KeUlh8aNx+XGyXu75ATprcMwX6nLL+lr52XWiHBfXi61kqNKO2G/pr3tdUUe0Y+mv7UVi4ppB6UO73DomvHt/ZA6f7JwaNtnrzLJLfWWc6+VWf+p9Y71N4FzqT6kzlhEnmUWU1zPnbdsQ77faHfVefVwWj5GI0vudqs2y9YjPrE9lW08yY1aubfcQ8Jz+HuOgFa8LxDm/vVbU56m4bvScF2Of2HeprLiu9JTT9ujIc3XpV73suT61bYr3dRllfausrC9x7Fn3QXvbmfX3ivuerF7bCFwtIAHvanH1ESBAgACBNwqY2L8RX9UECBCoBLIHJvEgyYvAHgEJeHvUHEPgOQLZXxz49a9//ZwO6slpAu5HTqM9rGAJeIdRXlZQ/HBcfkQtyyPv8+OH51JuvdxKisq+7+X4+KE7Po9rR52QFnXFD8FRdvnLe2v1XFFHtGkpsSv6E22IH3jrfpTBb/sT/Y5+rb3KNTbqXCo3jg+7sm9xjWXUEfVmr7L/GWWX+uq2lPWtH/fLfmUZY97+9aBoe2yvywrzcFiLg/is51Xqrpd1XUtl1PuX9TOPi5go9dTL8CmJBlF//Bfv97zKd68uv6z3eu6p1zHnC3hOf76xGq4TWEvCi3NWueaWa0c5N8YytsW5LvYp57d2GdfKpevpVi+PPFe37Yr30Yc9rz1lXX0fFP3a087M44r7nqxe2whcLSAB72px9REgQIAAgTcKmNi/EV/VBAgQ+J3A0g8Sex/YgCUgAU8MEPhcgfixon0gHj9ceBHYEnA/siV0j88l4N1jHEZakSWHxbn6yFeWkBP1br2WvvftdWTt/db/+uuKOrZ+fF5rf/vZ2jUzkgna/eN9HBMO5b9sn7JtKSH+zLLrOCjtqJdb885631iP+A3ztcSI9pjsfcRG7ys7fqvdUfbVx0WdvS6ReLDnFTGU9Su2RRx5zSvgOf28Y6fluUCck7L7oKVzWO/2uH7sTb4rLT3qXJ21uef6VNpRL/eWddV9UGnr3naW42N51X1PXad1Au8SkID3Lnn1EiBAgACBNwiY2L8BXZUECBD4nUA8IFn6Qcr/KlCYvCIgAe8VPccSmFcgHmJnPyQcnegxr5CWZwLuRzKV+26TgHffsclatvS/i8z+Glt2fO+2pb/k0lNPXCOya0f24+rStq12XlFHnMuyRMSlNq9tX0piWpq7rZVVPgvjtb94dmbZ9fiU9tTLrUSBet9YL/cVryRWlDLqtq2tt22I91vtjvKuPi7qXEuQa9uz1ue1z8pfDarL20qGXSvPZ/cQ8Jz+HuOgFccKxPU5zvn1+Wrvepz7lhLZR1t91Lk660vP9Slr7ytlXXEfVNr8SjtLGVfd95T6LAm8U0AC3jv11U2AAAECBC4WMLG/GFx1BAgQ+J1APIzJHprHQ4yev1YBksCagAS8NR2fEbi3QPw4EQkESz/+L7U+fkDIEihiWzyM9yKQCbgfyVTuvU0C3r3Hp21d9oPzWff62TWgN8kpEvXih9CsjOxH1npbHNeT6HdFHeEf57VIRKrb2Lse/Y/+LF03o+w9SX5xzJbRmWXXcZlZRN1Lr7Boj6njKj6PfzzW7rP0PsZmrb6ldmTl9ZRz9XGl/ZFs2fN9KvuPLrMYX0vwHC3f/u8R8Jz+Pe5qvUbglfuAuHc64xx3xLl673UmUz+irLg2ZteIrOx229Z9UGlze1y877kml+NjGfufdU9V12OdwB0EJODdYRS0gQABAgQIXCRgYn8RtGoIECDwO4F4uLP2ICQeKi394AORQK+ABLxeKfsRuJ9AXAfKA+1Yjx+5I7kuuzZEkl58Xh9Tji3L0Qfh9xPRojME3I+coXpNmRLwrnE+qpbs/FwnLx1VT5ST/SWRqH/0FdecSKiKOUv9D4biR9nYFv+tXZt66ruijvihP9oZP+5m4xDXyehLfB77jVwv45oc59Hi1JZfl7uVeNd6nVl21FXuD+rlWt/js3rfWM/2j3Zn3hFDJWZGLWqbtg1L7aiP2dPfcvze+srxsSwm0f+6vNqk3r93PRzr8mI9yvSaX8Bz+vnHUA/6BJbuA8q57ZXraF8Lvtvr1XN1aXO9zK6T39W4vFaXUdb3lnXmfVBpW73c286z73uWtX1C4DoBCXjXWauJAAECBAi8XcDE/u1DoAEECHyYwNq/7osfbuLBgxeBVwUk4L0q6HgC7xHIflCtH2qPrkdygBeBTMD9SKYyxzYJeHOMk1YSIEDgLIEs2dY931na15brOf213mojQIAAAQJXCEjAu0JZHQQIECBA4CYCJvY3GQjNIEDgYwTirwJkCRTxrzsl331MGJzeUQl4pxOrgMApAvHjaXaNGN0WfwVl9H9he0qHFHpbAfcjtx2azYZJwNsksgMBAgQeKxD3d+19ob9+95zh9pz+OWOpJwQIECBAoAhIwCsSlgQIECBA4AMETOw/YJB1kQCBWwm0f90o/ldO8SO4F4EjBSTgHampLALXCsT/umXtr5O1P7rW7+MHWNeUa8dr1trcj8w6cl++SMCbd+y0nAABAq8KtP+747gP9NfvXlW9z/Ge099nLLSEAAECBAgcJSAB7yhJ5RAgQIAAgQkETOwnGCRNJEDgcQLx0LwkSfird48b3lt0SALeLYZBIwi8JBDXh/hBNRLq4q+kxnWjTraL9biexGexj7949xL3Rx7sfmTOYZeAN+e4aTUBAgReFcj+17NxLfd6joDn9M8ZSz0hQIAAAQJFQAJekbAkQIAAAQIfIGBi/wGDrIsECNxOQNLd7YbkcQ2SgPe4IdUhAgQIHC7gfuRw0ksKlIB3CbNKCBAgcCuBLPku/jFG/OVkr+cIeE7/nLHUEwIECBAgUAQk4BUJSwIECBAg8AECJvYfMMi6SIAAAQIfJyAB7+OGXIcJECBA4EMEJOB9yEDrJgECBL58+RLJ8kvJdz/72c8YPUzAc/qHDajuECBAgACBL1++SMATBgQIECBA4IMETOw/aLB1lQABAgQ+RkAC3scMtY4SIECAwIcJSMD7sAHXXQIEPlYg/rrdj370oy/xl+7a//yvZ58ZFp7TP3Nc9YoAAQIEPltAAt5nj7/eEyBAgMCHCZjYf9iA6y4BAgQIfISABLyPGGadJECAAIEPFJCA94GDrssECHyUwK9+9asvP/nJT/5b0l1JwovkO/8b+WeGhOf0zxxXvSJAgACBzxaQgPfZ46/3BAgQIPBhAib2HzbgukuAAAECHyEgAe8jhlknCRAgQOADBSTgfeCg6zIBAh8l8M0330i++6gR/66zntN/Z2GNAAECBAg8RUAC3lNGUj8IECBAgECHgIl9B5JdCBAgQIDAZAIS8CYbMM0lQIAAAQKdAhLwOqHsRoAAgUkFfvGLX6QJePFX8fzlu0kHtbPZntN3QtmNAAECBAhMJCABb6LB0lQCBAgQIPCqgIn9q4KOJ0CAAAEC9xOQgHe/MdEiAgQIECBwhIAEvCMUlUGAAIH7CvzmN7/5XgLeD3/4wy+RlOf1fAHP6Z8/xnpIgAABAp8nIAHv88ZcjwkQIEDggwVM7D948HWdAAECBB4rIAHvsUOrYwQIECDw4QIS8D48AHSfAIGPEPjxj3/85Uc/+tG3iXf+6t1HDPm3nfSc/nPGWk8JECBA4HMEJOB9zljrKQECBAgQ+GJiLwgIECBAgMDzBCTgPW9M9YgAAQIECISABDxxQIAAgecLSLp7/hhnPfScPlOxjQABAgQIzC0gAW/u8dN6AgQIECAwJGBiP8RlZwIECBAgMIWABLwphkkjCRAgQIDAsIAEvGEyBxAgQIAAgSkEPKefYpg0kgABAgQIDAlIwBvisjMBAgQIEJhbwMR+7vHTegIECBAgkAlIwMtUbCNAgAABAvMLSMCbfwz1gAABAgQIZAKe02cqthEgQIAAgbkFJODNPX5aT4AAAQIEhgRM7Ie47EyAAAECBKYQkIA3xTBpJAECBAgQGBaQgDdM5gACBAgQIDCFgOf0UwyTRhIgQIAAgSEBCXhDXHYmQIAAAQJzC5jYzz1+Wk+AAAECBDIBCXiZim0ECBAgQGB+AQl484+hHhAgQIAAgUzAc/pMxTYCBAgQIDC3gAS8ucdP6wkQIECAwJCAif0Ql50JECBAgMAUAhLwphgmjSRAgAABAsMCEvCGyRxAgAABAgSmEPCcfoph0kgCBAgQIDAkIAFviMvOBAgQIEBgbgET+7nHT+sJECBAgEAmIAEvU7GNAAECBAjMLyABb/4x1AMCBAgQIJAJeE6fqdhGgAABAgTmFpCAN/f4aT0BAgQIEBgSMLEf4rIzAQIECBCYQkAC3hTDpJEECBAgQGBYQALeMJkDCBAgQIDAFAKe008xTBpJgAABAgSGBCTgDXHZmQABAgQIzC1gYj/3+Gk9AQIECBDIBCTgZSq2ESBAgACB+QUk4M0/hnpAgAABAgQyAc/pMxXbCBAgQIDA3AIS8OYeP60nQIAAAQJDAib2Q1x2JkCAAAECUwhIwJtimDSSAAECBAgMC0jAGyZzAAECBAgQmELAc/ophkkjCRAgQIDAkIAEvCEuOxMgQIAAgbkFTOznHj+tJ0CAAAECmYAEvEzFNgIECBAgML+ABLz5x1APCBAgQIBAJuA5faZiGwECBAgQmFtAAt7c46f1BAgQIEBgSMDEfojLzgQIECBAYAoBCXhTDJNGEiBAgACBYQEJeMNkDiBAgAABAlMIeE4/xTBpJAECBAgQGBKQgDfEZWcCBAgQIDC3gIn93OOn9QQIECBAIBOQgJep2EaAAAECBOYXkIA3/xjqAQECBAgQyAQ8p89UbCNAgAABAnMLSMCbe/y0ngABAgQIDAmY2A9x2ZkAAQIECEwhIAFvimHSSAIECBAgMCwgAW+YzAEECBAgQGAKAc/ppxgmjSRAgAABAkMCEvCGuOxMgAABAgTmFjCxn3v8tJ4AAQIECGQCEvAyFdsIECBAgMD8AhLw5h9DPSBAgAABApmA5/SZim0ECBAgQGBuAQl4c4+f1hMgQIAAgSEBE/shLjsTIECAAIEpBCTgTTFMGkmAAAECBIYFJOANkzmAAAECBAhMIeA5/RTDpJEECBAgQGBIQALeEJedCRAgQIDA3AIm9nOPn9YTIECAAIFMQAJepmIbAQIECBCYX0AC3vxjqAcECBAgQCAT8Jw+U7GNAAECBAjMLSABb+7x03oCBAgQIDAkYGI/xGVnAgQIECAwhYAEvCmGSSMJECBAgMCwgAS8YTIHECBAgACBKQQ8p59imDSSAAECBAgMCUjAG+KyMwECBAgQmFvAxH7u8dN6AgQIECCQCUjAy1RsI0CAAAEC8wtIwJt/DPWAAAECBAhkAp7TZyq2ESBAgACBuQUk4M09flpPgAABAgSGBEzsh7jsTIAAAQIEphCQgDfFMGkkAQIECBAYFpCAN0zmAAIECBAgMIWA5/RTDJNGEiBAgACBIQEJeENcdiZAgAABAnMLmNjPPX5aT4AAAQIEMgEJeJmKbQQIECBAYH4BCXjzj6EeECBAgACBTMBz+kzFNgIECBAgMLeABLy5x0/rCRAgQIDAkICJ/RCXnQkQIECAwBQCEvCmGCaNJECAAAECwwIS8IbJHECAAAECBKYQ8Jx+imHSSAIECBAgMCQgAW+Iy84ECBAgQGBuARP7ucdP6wkQIECAQCYgAS9TsY0AAQIECMwvIAFv/jHUAwIECBAgkAl4Tp+p2EaAAAECBOYWkIA39/hpPQECBAgQGBIwsR/isjMBAgQIEJhCQALeFMOkkQQIECBAYFhAAt4wmQMIECBAgMAUAp7TTzFMGkmAAAECBIYEJOANcdmZAAECBAjMLWBiP/f4aT0BAgQIEMgEJOBlKrYRIECAAIH5BSTgzT+GekCAAAECBDIBz+kzFdsIECBAgMDcAhLw5h4/rSdAgAABAkMCJvZDXHYmQIAAAQJTCEjAm2KYNJIAAQIECAwLSMAbJnMAAQIECBCYQsBz+imGSSMJECBAgMCQgAS8IS47EyBAgACBuQVM7OceP60nQIAAAQKZgAS8TMU2AgQIECAwv4AEvPnHUA8IECBAgEAm4Dl9pmIbAQIECBCYW0AC3tzjp/UECBAgQGBIwMR+iMvOBAgpjRCdAAAgAElEQVQQIEBgCgEJeFMMk0YSIECAAIFhAQl4w2QOIECAAAECUwh4Tj/FMGkkAQIECBAYEpCAN8RlZwIECBAgMLeAif3c46f1BAgQIEAgE5CAl6nYRoAAAQIE5heQgDf/GOoBAQIECBDIBDynz1RsI0CAAAECcwtIwJt7/LSeAAECBAgMCZjYD3HZmQABAgQITCEgAW+KYdJIAgQIECAwLCABb5jMAQQIECBAYAoBz+mnGCaNJECAAAECQwIS8Ia47EyAAAECBOYWMLGfe/y0ngABAgQIZAIS8DIV2wgQIECAwPwCEvDmH0M9IECAAAECmYDn9JmKbQQIECBAYG4BCXhzj5/WEyBAgACBIQET+yEuOxMgQIAAgSkEJOBNMUwaSYAAAQIEhgUk4A2TOYAAAQIECEwh4Dn9FMOkkQQIECBAYEhAAt4Ql50JECBAgMDcAib2c4+f1hMgQIAAgUxAAl6mYhsBAgQIEJhfQALe/GOoBwQIECBAIBPwnD5TsY0AAQIECMwtIAFv7vHTegIECBAgMCRgYj/EZWcCBAgQIDCFgAS8KYZJIwkQIECAwLCABLxhMgcQIECAAIEpBDynn2KYNJIAAQIECAwJSMAb4rIzAQIECBCYW8DEfu7x03oCBAgQIJAJSMDLVGwjQIAAAQLzC0jAm38M9YAAAQIECGQCntNnKrYRIECAAIG5BSTgzT1+Wk+AAAECBIYETOyHuOxMgAABAgSmEJCAN8UwaSQBAgQIEBgWkIA3TOYAAgQIECAwhYDn9FMMk0YSIECAAIEhAQl4Q1x2JkCAAAECcwuY2M89flpPgAABAgQyAQl4mYptBAgQIEBgfgEJePOPoR4QIECAAIFMwHP6TMU2AgQIECAwt4AEvLnHT+sJECBAgMCQgIn9EJedCRAgQIDAFAIS8KYYJo0kQIAAAQLDAhLwhskcQIAAAQIEphDwnH6KYdJIAgQIECAwJCABb4jLzgQIECBAYG4BE/u5x0/rCRAgQIBAJiABL1OxjQABAgQIzC8gAW/+MdQDAgQIECCQCXhOn6nYRoAAAQIE5haQgDf3+Gk9AQIECBAYEjCxH+KyMwECBAgQmEJAAt4Uw6SRBAgQIEBgWEAC3jCZAwgQIECAwBQCntNPMUwaSYAAAQIEhgQk4A1x2ZkAAQIECMwtYGI/9/hpPQECBAgQyAQk4GUqthEgQIAAgfkFJODNP4Z6QIAAAQIEMgHP6TMV2wgQIECAwNwCEvDmHj+tJ0CAAAECQwIm9kNcdiZAgAABAlMISMCbYpg0kgABAgQIDAtIwBsmcwABAgQIEJhCwHP6KYZJIwkQIECAwJCABLwhLjsTIECAAIG5BUzs5x4/rSdAgAABApmABLxMxTYCBAgQIDC/gAS8+cdQDwgQIECAQCbgOX2mYhsBAgQIEJhbQALe3OOn9QQIECBAYEjAxH6Iy84ECBAgQGAKAQl4UwyTRhIgQIAAgWEBCXjDZA4gQIAAAQJTCHhOP8UwaSQBAgQIEBgSkIA3xGVnAgQIECAwt4CJ/dzjp/UECBAgQCATkICXqdhGgAABAgTmF5CAN/8Y6gEBAgQIEMgEPKfPVGwjQIAAAQJzC0jAm3v8tJ4AAQIECAwJmNgPcdmZAAECBAhMISABb4ph0kgCBAgQIDAsIAFvmMwBBAgQIEBgCgHP6acYJo0kQIAAAQJDAhLwhrjsTIAAAQIE5hYwsZ97/LSeAAECBAhkAhLwMhXbCBAgQIDA/AIS8OYfQz0gQIAAAQKZgOf0mYptBAgQIEBgbgEJeHOPn9YTIECAAIEhARP7IS47EyBAgACBKQQk4E0xTBpJgAABAgSGBSTgDZM5gAABAgQITCHgOf0Uw6SRBAgQIEBgSEAC3hCXnQkQIECAwNwCJvZzj5/WEyBAgACBTEACXqZiGwECBAgQmF9AAt78Y6gHBAgQIEAgE/CcPlOxjQABAgQIzC0gAW/u8dN6AgQIECAwJGBiP8RlZwIECBAgMIWABLwphkkjCRAgQIDAsIAEvGEyBxAgQIAAgSkEPKefYpg0kgABAgQIDAlIwBvisjMBAgQIEJhbwMR+7vHTegIECBAgkAlIwMtUbCNAgAABAvMLSMCbfwz1gAABAgQIZAKe02cqthEgQIAAgbkFJODNPX5aT4AAAQIEhgRM7Ie47EyAAAECBKYQkIA3xTBpJAECBAgQGBaQgDdM5gACBAgQIDCFgOf0UwyTRhIgQIAAgSEBCXhDXHYmQIAAAQJzC5jYzz1+Wk+AAAECBDIBCXiZim0ECBAgQGB+AQl484+hHhAgQIAAgUzAc/pMxTYCBAgQIDC3gAS8ucdP6wkQIECAwJCAif0Ql50JECBAgMAUAhLwphgmjSRAgAABAsMCEvCGyRxAgAABAgSmEPCcfoph0kgCBAgQIDAkIAFviMvOBAgQIEBgbgET+7nHT+sJECBAgEAmIAEvU7GNAAECBAjMLyABb/4x1AMCBAgQIJAJeE6fqdhGgAABAgTmFlhKwPtf9YX/r//6r7/EA33/MRADYkAMiAExMHcM1Nf3WP+nf/on13f3OGJADIgBMSAGJo+Bv/3bv/3SXuPds819z2b8jJ8YEANiQAxEDPzJn/zJ967xf/VXf+W+bfL7Nt9t320xIAbEgBiIGGjn8J7TiwvnBjEgBsSAGJg/BiK3rr7Gf/XVV//7977++ut/rzda//p7SDx4iAExIAbEgBgQA2JADIgBMSAGxIAYEANiQAyIATEgBsSAGBADYkAMiAExIAbEgBgQA2JADIgBMSAGxEASA/9HAt7XAiMJDEmI4kIMiAExIAbEgBgQA2JADIgBMSAGxIAYEANiQAyIATEgBsSAGBADYkAMiAExIAbEgBgQA2JADIgBMbAeAxLwJJ9JQBQDYkAMiAExIAbEgBgQA2JADIgBMSAGxIAYEANiQAyIATEgBsSAGBADYkAMiAExIAbEgBgQA2JADIiBHTEgAW8HmqzO9axOPnzEgBgQA2JADIgBMSAGxIAYEANiQAyIATEgBsSAGBADYkAMiAExIAbEgBgQA2JADIgBMSAGxIAY+IQY+D+/99VXX/1NnYT2y1/+8osXAQIECBAgML9AfX2P9Z///Odf/u3f/s1/DMSAGBADYkAMTBwDf//3f//fHla4vru/EQNiQAyIATEwfwz86Z/+6feu8X/zN3/jnm3iezbfyfm/k8bQGIoBMXBUDHhOL5aOiiXliCUxIAbEwH1iIObszTX+3yXgzZ9foQcECBAgQCAVaC76EvA8uPfjjRgQA2JADDwgBiTg3echiwdexkIMiAExIAaOjAEJeOLpyHhSlngSA2JADNwnBjynv89Y+F4YCzEgBsSAGDgqBiTgpekJNhIgQIAAgWcKmNi7iTzqJlI5YkkMiAExcJ8YkIB3n7HwvTAWYkAMiAExcGQMSMATT0fGk7LEkxgQA2LgPjHgOf19xsL3wliIATEgBsTAUTEgAe+Z+RV6RYAAAQIEUgETezeRR91EKkcsiQExIAbuEwMS8O4zFr4XxkIMiAExIAaOjAEJeOLpyHhSlngSA2JADNwnBjynv89Y+F4YCzEgBsSAGDgqBiTgpekJNhIgQIAAgWcKmNi7iTzqJlI5YkkMiAExcJ8YkIB3n7HwvTAWYkAMiAExcGQMSMATT0fGk7LEkxgQA2LgPjHgOf19xsL3wliIATEgBsTAUTEgAe+Z+RV6RYAAAQIEUgETezeRR91EKkcsiQExIAbuEwMS8O4zFr4XxkIMiAExIAaOjAEJeOLpyHhSlngSA2JADNwnBjynv89Y+F4YCzEgBsSAGDgqBiTgpekJNhIgQIAAgWcKmNi7iTzqJlI5YkkMiAExcJ8YkIB3n7HwvTAWYkAMiAExcGQMSMATT0fGk7LEkxgQA2LgPjHgOf19xsL3wliIATEgBsTAUTEgAe+Z+RV6RYAAAQIEUgETezeRR91EKkcsiQExIAbuEwMS8O4zFr4XxkIMiAExIAaOjAEJeOLpyHhSlngSA2JADNwnBjynv89Y+F4YCzEgBsSAGDgqBiTgpekJNhIgQIAAgWcKmNi7iTzqJlI5YkkMiAExcJ8YkIB3n7HwvTAWYkAMiAExcGQMSMATT0fGk7LEkxgQA2LgPjHgOf19xsL3wliIATEgBsTAUTEgAe+Z+RV6RYAAAQIEUgETezeRR91EKkcsiQExIAbuEwMS8O4zFr4XxkIMiAExIAaOjAEJeOLpyHhSlngSA2JADNwnBjynv89Y+F4YCzEgBsSAGDgqBiTgpekJNhIgQIAAgWcKmNi7iTzqJlI5YkkMiAExcJ8YkIB3n7HwvTAWYkAMiAExcGQMSMATT0fGk7LEkxgQA2LgPjHgOf19xsL3wliIATEgBsTAUTEgAe+Z+RV6RYAAAQIEUgETezeRR91EKkcsiQExIAbuEwMS8O4zFr4XxkIMiAExIAaOjAEJeOLpyHhSlngSA2JADNwnBjynv89Y+F4YCzEgBsSAGDgqBiTgpekJNhIgQIAAgWcKmNi7iTzqJlI5YkkMiAExcJ8YkIB3n7HwvTAWYkAMiAExcGQMSMATT0fGk7LEkxgQA2LgPjHgOf19xsL3wliIATEgBsTAUTEgAe+Z+RV6RYAAAQIEUgETezeRR91EKkcsiQExIAbuEwMS8O4zFr4XxkIMiAExIAaOjAEJeOLpyHhSlngSA2JADNwnBjynv89Y+F4YCzEgBsSAGDgqBiTgpekJNhIgQIAAgWcKmNi7iTzqJlI5YkkMiAExcJ8YkIB3n7HwvTAWYkAMiAExcGQMSMATT0fGk7LEkxgQA2LgPjHgOf19xsL3wliIATEgBsTAUTEgAe+Z+RV6RYAAAQIEUgETezeRR91EKkcsiQExIAbuEwMS8O4zFr4XxkIMiAExIAaOjAEJeOLpyHhSlngSA2JADNwnBjynv89Y+F4YCzEgBsSAGDgqBiTgpekJNhIgQIAAgWcKmNi7iTzqJlI5YkkMiAExcJ8YkIB3n7HwvTAWYkAMiAExcGQMSMATT0fGk7LEkxgQA2LgPjHgOf19xsL3wliIATEgBsTAUTEgAe+Z+RV6RYAAAQIEUgETezeRR91EKkcsiQExIAbuEwMS8O4zFr4XxkIMiAExIAaOjAEJeOLpyHhSlngSA2JADNwnBjynv89Y+F4YCzEgBsSAGDgqBiTgpekJNhIgQIAAgWcKmNi7iTzqJlI5YkkMiAExcJ8YkIB3n7HwvTAWYkAMiAExcGQMSMATT0fGk7LEkxgQA2LgPjHgOf19xsL3wliIATEgBsTAUTEgAe+Z+RV6RYAAAQIEUgETezeRR91EKkcsiQExIAbuEwMS8O4zFr4XxkIMiAExIAaOjAEJeOLpyHhSlngSA2JADNwnBjynv89Y+F4YCzEgBsSAGDgqBiTgpekJNhIgQIAAgWcKmNi7iTzqJlI5YkkMiAExcJ8YkIB3n7HwvTAWYkAMiAExcGQMSMATT0fGk7LEkxgQA2LgPjHgOf19xsL3wliIATEgBsTAUTEgAe+Z+RV6RYAAAQIEUgETezeRR91EKkcsiQExIAbuEwMS8O4zFr4XxkIMiAExIAaOjAEJeOLpyHhSlngSA2JADNwnBjynv89Y+F4YCzEgBsSAGDgqBiTgpekJNhIgQIAAgWcKmNi7iTzqJlI5YkkMiAExcJ8YkIB3n7HwvTAWYkAMiAExcGQMSMATT0fGk7LEkxgQA2LgPjHgOf19xsL3wliIATEgBsTAUTEgAe+Z+RV6RYAAAQIEUgETezeRR91EKkcsiQExIAbuEwMS8O4zFr4XxkIMiAExIAaOjAEJeOLpyHhSlngSA2JADNwnBjynv89Y+F4YCzEgBsSAGDgqBiTgpekJNhIgQIAAgWcKmNi7iTzqJlI5YkkMiAExcJ8YkIB3n7HwvTAWYkAMiAExcGQMSMATT0fGk7LEkxgQA2LgPjHgOf19xsL3wliIATEgBsTAUTEgAe+Z+RV6RYAAAQIEUgETezeRR91EKkcsiQExIAbuEwMS8O4zFr4XxkIMiAExIAaOjAEJeOLpyHhSlngSA2JADNwnBjynv89Y+F4YCzEgBsSAGDgqBiTgpekJNhIgQIAAgWcKmNi7iTzqJlI5YkkMiAExcJ8YkIB3n7HwvTAWYkAMiAExcGQMSMATT0fGk7LEkxgQA2LgPjHgOf19xsL3wliIATEgBsTAUTEgAe+Z+RV6RYAAAQIEUgETezeRR91EKkcsiQExIAbuEwMS8O4zFr4XxkIMiAExIAaOjAEJeOLpyHhSlngSA2JADNwnBjynv89Y+F4YCzEgBsSAGDgqBiTgpekJNhIgQIAAgWcKmNi7iTzqJlI5YkkMiAExcJ8YkIB3n7HwvTAWYkAMiAExcGQMSMATT0fGk7LEkxgQA2LgPjHgOf19xsL3wliIATEgBsTAUTEgAe+Z+RV6RYAAAQIEUgETezeRR91EKkcsiQExIAbuEwMS8O4zFr4XxkIMiAExIAaOjAEJeOLpyHhSlngSA2JADNwnBjynv89Y+F4YCzEgBsSAGDgqBiTgpekJNhIgQIAAgWcKmNi7iTzqJlI5YkkMiAExcJ8YkIB3n7HwvTAWYkAMiAExcGQMSMATT0fGk7LEkxgQA2LgPjHgOf19xsL3wliIATEgBsTAUTEgAe+Z+RV6RYAAAQIEUgETezeRR91EKkcsiQExIAbuEwMS8O4zFr4XxkIMiAExIAaOjAEJeOLpyHhSlngSA2JADNwnBjynv89Y+F4YCzEgBsSAGDgqBiTgpekJNhIgQIAAgWcKmNi7iTzqJlI5YkkMiAExcJ8YkIB3n7HwvTAWYkAMiAExcGQMSMATT0fGk7LEkxgQA2LgPjHgOf19xsL3wliIATEgBsTAUTEgAe+Z+RV6RYAAAQIEUgETezeRR91EKkcsiQExIAbuEwMS8O4zFr4XxkIMiAExIAaOjAEJeOLpyHhSlngSA2JADNwnBjynv89Y+F4YCzEgBsSAGDgqBiTgpekJNhIgQIAAgWcKmNi7iTzqJlI5YkkMiAExcJ8YkIB3n7HwvTAWYkAMiAExcGQMSMATT0fGk7LEkxgQA2LgPjHgOf19xsL3wliIATEgBsTAUTEgAe+Z+RV6RYAAAQIEUgETezeRR91EKkcsiQExIAbuEwMS8O4zFr4XxkIMiAExIAaOjAEJeOLpyHhSlngSA2JADNwnBjynv89Y+F4YCzEgBsSAGDgqBiTgpekJNhIgQIAAgWcKmNi7iTzqJlI5YkkMiAExcJ8YkIB3n7HwvTAWYkAMiAExcGQMSMATT0fGk7LEkxgQA2LgPjHgOf19xuJJ34sf/OAHX9r//vEf//HLk/r4tL604xXvjVnf+YFdn9PTvjN3748EvGfmV+gVAQIECBBIBUzs3ZDe/eZU+8SoGBADYmA8BiTgjZuJM2ZiQAyIATEwQwxIwBOnM8SpNopTMSAGxMB4DHhOP24mzrbNJCRtG90tjozZ/jFjt9/ubt+DJ7VHAl6anmAjAQIECBB4poCJvRvSJ93I6ot4FgNiQAz83xiQgOe74LsgBsSAGBADz4wBCXjPHFffV+MqBsSAGBADntOvx8A//MM/fPnmm2++/PSnP/3yZ3/2Z9/+F2ZZwk1s+/3f//1v9/mLv/iLb4/71L8glvl8qsUs51lj9m9f/uVf/uXLX/7lX377Pf6DP/iDb7/DPeP3FLu9/e8xss/6teYMHwl4z8yv0CsCBAgQIJAKmNhff7N1xg2cMo2jGBADYkAM1DEgAU881PFgXTyIATEgBp4TAxLwnjOWvpfGUgyIATEgBuoY8Jx+PR6yxJrRbZGUF0k9//zP//wx/wvWzEgC3nqs1d/Ld6wbs3/7Nnm2dYgE3K3xaI+J9zPGeyQZt33p6f+Wj8/f892XgJemJ9hIgAABAgSeKWBi/54bLje63MWAGBADYuDMGJCAJ77OjC9liy8xIAbEwPtiQALe++zFPXsxIAbEgBg4MwY8p1+PrzYZ5dX3n5LMkjnNmJB05nfvbmV/+phFgmxmEH8Jb2ussuNmi/dX+r/l4/P168xZPhLwnplfoVcECBAgQCAVMLF/zw3XWTdyyjWeYkAMiAExEDEgAU8cOBeIATEgBsTAM2NAAt4zx9X31biKATEgBsSA5/TrMZAl1ry6Lczjf/V4x+/fz3/+82//t5vxv9CNfu5tY2Y0W0LS3r7Petynj1nEZ2bQ8z3IjhuJ96O+d6/E3iv9f6Vex65fg17xkYCXpifYSIAAAQIEnilgYn/eTdUrN2SONS5iQAyIATHwSgxIwBM/r8SPY8WPGBADYuC+MSAB775j43tjbMSAGBADYuCVGPCcfj1+ssSa+Ct2S/872Uisi0SWn/70p1/ifz2bHR/bIsHtlXE749j4S19te/fW05YT70cSkvbW67j1eF7zMWb/P3tvzHLJja1t+4dNYpiw3ckwB4bj0xwYMDia8DCZEx8cO3PWOOjAYHjBoROn5w+Y7wc4//AveF5u97vOrF69pJJUpSrV3lfDg1RV0tLSratKKu3Ve/+U3rMt9+oe7Y6872rj23Ite2a19L/FNmXG781R7QjAe8z4CnqFAiiAAiiAAqkCvNifv9gaXaRRj7GCARiAARhoZYAAPFhpZYVysAIDMAAD92KAALx7jRf3F+MFAzAAAzDQygD79HVW9gTWaAwUrJfZ0LlvvvlmqSC8zM9WjmK5zBYBeHXWooZnHzNmP/0RJOqD0PR8LAXb+vHZo11W19s+M697dKT/Z/pIW+3PEQLw0vAETqIACqAACqDAYyrAi337IokFJVrBAAzAAAzchQEC8GD1LqziJ6zCAAzAQB8DBOD16QVf6AUDMAADMHAXBtinr7OaBcf0BpIpCCKzo2++WomTzMdR/zJbvbqNtk29OtMlfRiz97rZt1jqZ2FLWsXze7TL6kb7Zx6P9P9M/2ir/f4mAO8x4yvoFQqgAAqgAAqkCvBi375IYkGJVjAAAzAAA3dhgAA8WL0Lq/gJqzAAAzDQxwABeH16wRd6wQAMwAAM3IUB9unrrGbBMSOBZKVvwlvpW/Cyvo5ynNka0W20ferVuc70Ycz6NTMd92iX1TW7pONjgnY/vRCAl4YncBIFUAAFUAAFHlMBXuxZOLIAhgEYgAEYeDwGCMB7vDHlPmVMYQAGYAAGxAABeHDAswAGYAAGYOAxGWCfvj6uWXDMaCCZvvEu2vvHP/7R/C1bs+/B6JuOR9vMbI3qNuoD9epsR30Ysz69vH57tMvqetvkx8fl2bUjAO8x4yvoFQqgAAqgAAqkCvBiz6Lx2Re/9J97AAZg4BEZIAAPrh+Ra/oE1zAAAzBAAB4M8ByAARiAARh4VAbYp6+znQXHjAaSKdgu2vvrX/86HOR2NJPRNx2PtpHZGtVt1Afq1dmO+jBmfXp5/fZol9X1tsmPj8uza0cAXhqewEkUQAEUQAEUeEwFeLFn0fjsi1/6zz0AAzDwiAwQgAfXj8g1fYJrGIABGCAADwZ4DsAADMAADDwqA+zT19nOgmNGA8n0c7PR3p/+9KfhILejmYy+6Xi0jczWqG6jPlCvznbUhzHr08vrt0e7rK63TX58XJ5dOwLwHjO+gl6hAAqgAAqgQKoAL/YsGp998Uv/uQdgAAYekQEC8OD6EbmmT3ANAzAAAwTgwQDPARiAARiAgUdlgH36OttZcMxoIJnqZfaMrSxAT+V13sr0pl988cVHbWrMS75k/pXO1XTI6mTlv/vuuxd9M6B8sjoKStQ3A/7Xf/3Xyw8//DDc95JW0lNtqg21Ze0qlR9v3rz5o+3vv/9+qO1MW/Ul+qO+KUBGY+T7r58qNh9m9D/6YcdeB8uXxkz9kX7eb6/dqN/Wrk8zH8znUpqNgWyWytt5367lW9q3sj7N6pX88vW28pld839vmrW91V7WpzvwvlerO9QnAC8NT+AkCqAACqAACjymAlqM+z+9aN1hwYKP9Q0J9EEfGIABGHhuBgjAe+7x5/5n/GEABmDgcRn4y1/+8sE7vDbzGe/HHW/GlrGFARiAgedhwO/RK88+/YdjPxKQUrp/skAV2fflFXwV21SAli/Tk48BZrKtdVzJl9h27bgWmJPV8+XFmQK4snL+nPzPgnl6NFBZBYTJTqavby/mpX1vIJ7ainZiH3ScjU2sd1T/W/SKbet4ZMzMjoIcewPxrK5PvQ8t/VAZ1fE2LL9V38r5tKV9X97yWb2SX1anJc3sbvWr9XrW/lZ7d+W9VZM7lyMA7zHjK+gVCqAACqAACqQK8GL/4Yv8nRdx+M5YwgAMwAAMGAME4MGCsUAKCzAAAzDwWAwQgPdY48n9yXjCAAzAAAwYA+zT11kYCUgxbWOaBd8oIMyXU2BW1mZvIJNslr5RT7YyX7J2a+dqgTlZPStf6mNWx84pWG9EA+mgdnsD76xdS2MAnR+zLG/1LLX66oPuOTvfmu7pf+Zfdi7zxcZMgTzZ9a1z0r0nqDezZz5kPpfOqU5mq1Tezmd1WtpvrVfyK6tfOtfij/WnN83abGkv1rsD773a3LE8AXhpeAInUQAFUAAFUOAxFeDFvv5if8fFHD4zpjAAAzAAAwTgwQDPARiAARiAgcdkgAC8xxxX7lfGFQZgAAZggH36OgMxsETHLQEp2b2VBZ4psMqX1betZW0qkMKXa8lnPz9r36Y3OxAo64Pa1LeiZddazulnWVv67cuMBo5l/ph23n4pH+tr7EeD78zWSP9L/mXnrR2faswybn2Zrby+xa81CC+zNXK/lfjO+u3PjbbfWq/kV1a/dG5ED9/HWj5rs6W9WO8OvNd0eJRrBOA9ZnwFvUIBFEABFECBVAFe7Osv9o+ywKMfjDMMwAAMPBcDBOA913hzfzPeMAADMPA8DBCA9zxjzX3NWMMADMDAczHAPn19vGNgiT4m41AAACAASURBVI5bAlKy+0haR3sKSItlFWgVy8VAvVgnO85+4lTfipeV1bnYpo5LZbfOZ7Zi8J380zn5JE31p8Cd2rfV9QQi1oLvFEynduO36smHLHDR+tMahGflLdWYagztWKn6ObP/W2MUr3vfLB+D7zRmUTsFjUrLmm6q1/JTvtauT0fuN9XxNiwf+xyPrZxPW9r35S3fUk/tW3mfRr/OOvY+WL6lH1bW0jvwfpamV7ZDAF4ansBJFEABFEABFHhMBXixr7/YX7koo23GBgZgAAZgYJQBAvBgZ5Qd6sEODMAADKzNAAF4a48P9w/jAwMwAAMwMMoA+/R1diygxKctASlxPFTH27B8FhCnc3bdpy0BTNZuZkMBX3Y9S31bls/KtZyz+qVUgV0lOwqKKwVzbfXBbOob17K2Vb9l/FRfZTMbNd+t/VgvBkPWbBzRf/OjJ40+x2MFEG4xWNOtJYg0tqnjlvGK/Szdb7FcPB5tf7Se2s/qRr/OOs58adE/1rsD72dpemU7BOA9ZnwFvUIBFEABFECBVAFe7Osv9lcuymibsYEBGIABGBhlgAA82Bllh3qwAwMwAANrM0AA3trjw/3D+MAADMAADIwywD59nZ0YWKLjloCUOB7SOdpSkEosZ8dZ8FctaMvqWZoFsG3Vj/7p2Oz1ppktO9f6LXZZH2QjC1qM/mX66Vz8xrtYzx+rbGZH47Zlx/qapXv731rf96Uln/lq5zQWLTZURtpkvMvW1r1j7fl0q07ml+p4G5bPyvpzVs6nLe378pZvqae2rbxPvU9n5r0Plm/ph5XN0lZeS/d7a/0zdbpLW9IuzPG/fPLq1auv/Ml3796lH+JzEgVQAAVQAAVQ4F4K+Pldef3PmLssWvCzvimBPugDAzAAA8/LAAF4zzv23PeMPQzAAAw8NgME4D32+HL/Mr4wAAMw8LwMsE9fH/ssoKQlIMXuKQUjlQJLagFxuhbbVjCY2d1K4zdQydbWt5fF9nS81U7pemZL52p9jrakXdaPrWAwBZ1k7feMm/lS+ia97KeDrY7SrP2j+q+f9/RtHZUv+axnxFbAYfShpNvWt+BlPoyMm+pktqKf8Tir09L+aD21n9WNfp11nPky2n/ZOuJ+n8X7WZpe2Q4BePeKm8BbFEABFEABFNilAC/29Rf7KxdltM3YwAAMwAAMjDJAAB7sjLJDPdiBARiAgbUZIABv7fHh/mF8YAAGYAAGRhlgn77OzmhAisZDgSvZN6jJpnSvjZmC5bK2W77IIPv52a3AJ/mStVfzsXYts9XyzXHRZha8uBWImGm+FbQX2/XHmQ/qiy8T81f2P/rSepz5rHMtAVhZG5luslcLBM18GGlfdTJbmZ/+XFanpf3Remo7q+t9OjOf+TLa/7Pu9zP1uVtbBODtCmOgMgqgAAqgAArcSwFe7Osv9ndbyOEv4wkDMAADMCAGCMCDA54FMAADMAADj8kAAXiPOa7cr4wrDMAADMAA+/R1BrKAFH2rUxYIp28JU7CKrmdBYGZLgSlZ/Xg/6pufrI6lLYFkWeCTAjGi/Xhsbfg0lmk99jYsv/WtcZntLJhQ9rKyOlf65rUWvUs2S8GQtZ/CtT779Iz+l/rQct77avmtQNGa3ZJutW9Fs3Z92hIAFv1QHW/D8rFcPLZyPm1p35e3fEs9tW/lfRr9OuvY+2D5ln5YWZ+uzvtZml7ZDgF494qbwFsUQAEUQAEU2KUAL/b1F/srF2W0zdjAAAzAAAyMMkAAHuyMskM92IEBGICBtRkgAG/t8eH+YXxgAAZgAAZGGWCfvs6ODyg5Iq/AvNZgsCz4bOub18SBynhfW7+Jytex/ChXVt+nLYE8sb1SEFdJQwV3+TaV3xNEZv7IRrRbCzCKZXVcC9izdmLa2/9Yv+c487kWLNdiO9OtFkSa+TDCjepktrZ8zuq0tD9aT/5kdbf8nHU982W0/6vzPkvDlewSgLcrjIHKKIACKIACKHAvBXixr7/Yr7RIwxfGCgZgAAZgoJUBAvBgpZUVysEKDMAADNyLAQLw7jVe3F+MFwzAAAzAQCsD7NPXWckCUkbPKWBL35LXOjYql32TXu3b7LKgvVrAk/cl65e/3pPPbLUE8mRt9NjKvjWwFiiXtZedk43oR+1nfWNZHZ/R/8z31nNH+mxtXqWbtM76Y36V0qxOy7iN1pMfWd2Sf/G8ngXicOQv2ir5Mrv/0Y9MjxYfoh2Of3ohAO9ecRN4iwIogAIogAK7FODFvv5iz+IQfWAABmAABu7IAAF4cHtHbvEZbmEABmBgmwEC8LY1giM0ggEYgAEYuCMD7NPXuc2CQXrO6dvnFISkbzIb4SP7RjcFmZVsZT8/W/q2uGgj61cs03qc2RoNoumxJZ5j+VrAYmt/ZCPaVXBkqX4sq+Mz+l/yp+X8kT5be5lutW9xPMoHaZ3ZMr9KaVanZdxG68mPrG7Jv3g+ez5k9rJz0VbJl9n9j35kvrb4EO1wTADeriAGKqMACqAACqDA3RTgxb7+Ys/iEH1gAAZgAAbuyAABeHB7R27xGW5hAAZgYJsBAvC2NYIjNIIBGIABGLgjA+zT17nNgkFMs3hNgUX6JioFyCkwpjXwrcZN6SdISwF98sH7VQsSi+36epaPZVqPrb5PR4NovA3Ll2zZdZ+Wyrb2ReVkw9u0fMmGXffpqB/ehuVHbZX81Xmz7dO97VylW2+7povvu+VbNLCyPm2pV9Ld/NlKCcCrP7+39Hv063wD3t0iJ/AXBVAABVAABXYoYC+plh7xMvroiyX6x2IaBmAABmBgdQYIwIPR1RnFPxiFARiAgTEGCMAb0w3e0A0GYAAGYGB1Bmx/3lL26T9k1gfUWL41sOaosc9+VlWBN9F+9vOzWblYz46tfz61a72pt2H5Ud2svk9LtnwZy5fK9vRJNsyeT0s2fBnLj/ph9X06aqvkr857+5bf285VuvW2a7pYv33aooEvb/mWeiXdzZ+tlAC8D5/XW3o923UC8HYEMVAVBVAABVAABe6mgL3QW8qLPQvFZ1v80l+YhwEYeEQGCMCD60fkmj7BNQzAAAz89EIAHvcB9wEMwAAMwMBjMmD785ayT//hOFswjU9bA2uOumeywDqNV7Sf/fzsDz/88FG5WM+OfR8tb9d6U6vv01HdvA3Ll2zZdZ+Wyvb0STa8TcuXbNh1n4764W1YftRWyV+dN9s+3dvOVbr1tmu6+L5bvkUDK+vTlnol3c2fs1Pvv+Vb+mFlfdpSL+uft2H5UVuZ/Wc6RwDe3SIn8Pf2CthDy6f/8z//c/t+0QEUQIF7KGAv9JbyYv/hi/0zLQLpK2M/iwG/xrH8FS9r1rZPr/Bjls7Y5R72DBCAl/Pg73/L8xzItfI8kUcjGIABGFiHAQLw1hkL7gvGAgZgAAZg4EgGbH/eUvbpP+TL3uF9esX7vH5K1vugfByr+POz+ua8HlaifR331PdlM1ujuvXYynRSAKP3bSSvQJboh+6Zkq1YVsdn9L/kT8v5I3229rLgUf1Ms12P6VE+SOvMVmwvHmd1WsZttJ7az+pGv846znyZ3f/Yt1Efoh2Of3ohAO8e8RJ4+UAKZA8wAvAeaIDpCgosroC90FsaXxZZHH34oo8e6AED/Qxka52WF8ajtV7Fj6P7hb1+Jp9BMwLwci54DuS6PMM9QR8ZexiAgUdhgAA8WH4UlukHLMMADMDAhwzY/ryl7NN/qM8q7/PZT03+4x//+N9ApizQqTfwLOvr6P2S2Rrdl+2xpeCuWL7nZ3hL/ZXW0W4twDGW1fEZ/S/533L+SJ+tvYzbM3ST1ll/zK9SmtVpGbfRevIjq1vyb/b5zJfZ/Y99GvUh2uGYALzFwyRw7xEVyB5gLQF4v//++8vXX3/98umnn768fv365e3bt48oD31CARSYrIC90FvKi/2HL/YsDtEDBvYzkK11Wl4Yj9Z+FT+O7hf29jP6iBoSgJdzwXMg1+UR7wH6xFjDAAw8KgME4L1nWz/jpp930zfM6BtWjvhA91GZoV88D2GgzMAKz5IVfICRMiNnamP785ayT//huKzyPv/9999/FKijtYixEn9+VmsVu9aaZn1trRvLZbZG92V7bGWBcmI7+td7LBvRj9o6MJbV8Rn97+2XL5/53BvE6e0p3xsQmX2DYU3n2J4dS+usP3a9lGZ1WsZttJ78yOqW/Jt9PvNldv9jn0Z9iHY4JgBvcpgD5lHgYwWyB1hLAN6XX3750WRAEN7H+nIGBVCgroC90FvKi/2HL/YsDtEDBvYzkK11Wl4Yj9Z+FT+O7hf29jP6iBoSgJdzwXMg1+UR7wH6xFjDAAw8KgME4L1nu/dDxEflgX7xrIOBfQys8CxZwQc42sfRUfrZ/ryl7NN/OC4rvc/rm8OiPzZe8edn/bfjtbISbeu4tW4sl9ka3ZftsZV9E6Dqm07Rz5Zj+Z35ULOZlT+j/y39KZXJfFZgZ6n81vksaHRrLLK5aYTlLBBTbW/5nGnQMm6j9eRPVnfLz1nXM19m9z/2ZdSHaIdjAvDqUQpcRYEJCmQPsK0AvN9++y2dCPRNePxDARRAgR4F7IXe0trLCgulD1/60QM9YKCNgWyt0/LCeLS+q/hxdL+w18bhs+lEAF7OBc+BXJdnuz/oLxzAAAzcmQEC8H56KX2I6L995s5jjO88o2DgHAZWeJas4AO8ncNbi862P28p+/Qfjs1K7/NZcJm+HUxjFv3Ufd4y/r5MtKFjf70nn9ka3ZfttRWDEVW/9rOnW/3KAh+31n+9Ptd8ONJWbzvSUt+YWqtXuiY2o+9busVvclT9rTpZ+6oT29ZxVtafy+q0cDtaT21ndb1PZ+YzX2b3P/Zv1Idoh2MC8HpiFiiLAocokD3AtgLwdD2rp3Mr/Pv111//+Elcm9RX8AkfUAAFcgXshd5SXuw/fLFncYgeqzGge1Tzq204rOZf5k+2Zml5Ycxs7Tm3ih97+kBdnkmtDBCAl7Py7M+BO84hrcxTLmceXdAFBh6PAQLwfvrjZ8OyOV3n7sI8c/Lj3Zt3YQ8//8We9iX2Pkv23stH+MCY/mtM766F7c9bKr7u3qcj/c/u1yv2F61PMbBI4xa/7UvnrHxPmgWujfJwpG69tuwz4lhv5OdUs6BH2f3qq6+qGse2dTzKzZG2ajxk7ejcyDfQlQK9NTY1H0pj16NdyYb6Umtb1zINWtoerac2j7zvtvq3dX20H6P1Mn+OtJXZf6Zzek7Z3P7/0l8+efXq1Vf+5Lt37/JP8TmLAijQrUD2ANsKwFMjn3766UcTkCazq//pW/hin672ifZRAAXKCvj5XfnRF7lnWizR18fZ2LrbWMaNHc23d+hDXBfouOWF+ei+reLH0f3CHs+kjAEC8HIunvk5cNc5JOObcznf6IIuMPAcDBCA936csw/I9nyjypn3D3Pyc9yrZzJFW+NM7XmWHHUv7/GBsR8f+xW1Y5++Pp6rvc9nwUXxubAVHFbiMPv5T7VXKl87f6Ruvbb0jW3ZM07nej6HUtnMjvSu9V3Xen2u2TvSVm871nYPU9JfzxWra6m03Po2vVLgnuzVfLdr8tPay1IrV0qzOi2fJ4zWkx9H3nelfrWeH+3HaL3MryNtZfaf6RwBeOUYBa6gwBQFsgdYSwCeyvggvM8///xFP0179b+sP1f7RPsogAJlBXixr7/YP9MikL6uz0I2x95h3DK/W16Yj+7bKn4c3S/srX/vXjFGBODlXDzzcyDr+xVs0mbOJrqgCwzAQCsDBOC9Z0XvE/6DWO1tjPzEW6vuR5ZjTuZ+P5InbO3jac+z5Kh7eY8PjP++8V9NP/bp6+OZ3XNX7C8aN6UAJfOzJcjJbMW09POfW0FT0Y6OzR+fjurmbVh+y1YpEEv6bNWV//rmO7/ms3aVtgTx+fKWb2l3tpaZfTtnfloa+98SjClt9EwxGz5tDeLLAtJkR//ppcZiFpzq21fe+lpKY3kdt4zbaD35ceR9V+pX6/nRfozWy/w60lZm/5nOEYBXjlHgCgpMUSB7gLUE4MmZ33///UVl9ZOvq/zL+rOKb/iBAijwsQK82Ndf7J9pEUhf12chm2PvMG6Z3y0vzEf3bRU/ju4X9ta/d68YIwLwci6e+TmQ9f0KNmkzZxNd0AUGYKCVAQLw/sWKPvjTe0XLh6+t+p5Rjjn5X2N4ht60gd5bDIw+S468l0d92Oob1+/FP/v09fHK7rkr9hf9faVApMwvnVMwjy/bky8Frekb33RN/ba/rWCqzL9R3UZtZYFNZktBXgqy8wFdyutcKQBMdbf6bXpbOz49u//mS2vqfVVeAW1RC7Gg874vCgqVbjW9e7iU7eiLHat9/SSuytifjnXeyiiV39l9sqWFt2F539dSfSvr05Z6snfkfVfyr/W899/yLf2wsj5tqZf55W1YftRWZv+ZzomtMMfzE7QfhytwBgWOU8AeWj5tDcA7zovjLPl+WP4461hCARQ4WoEw6d9u4/qZFmn0tb4J8wz62Lzq0zv02/tr+Ste1qxtn17hxx3GDB/v/7whAC8fQ3//W/5ZngPWX59yr+ecoAu6wAAMrMwAAXj359PPxZZfmTl8uz9zjOGcMbT716doPUfrZ9GVffo6P/5es/zV7/MKdjJfYrr3PwjEbz2L9u1YAU+1e8TK+XRUN2/D8q22akFhZqs1bQ2+ky6ZzVafo65H2oq2/XFsR4F2CkpsZSLWt+Oe4DvzR0F1Vr831TNNfmffiGf2S2nWVsu4jdYzP1o13rrvzN5oOtqP0XqZn0fayuw/0zkC8I6ObMAeCmwokD3ACMDbEI3LKIAChynAi339xf6ZFoH0dX0WsjXDHcYt87vlhfnovq3ix9H9wt769+4VY0QAXs7FMz8Hsr5fwSZt5myiC7rAAAy0MkAA3v1ZYU6+/xi23q+Ue+yx5l5+7PG94v5ln77OVHbPXbG/GNmI3/glP/WtX7Fc73EtuC9qUbMdy+p4VLe9thSI1RrglLUlrXt9z+z02jB9j7RlNrM0tiPdVK72s7KxTjw2G1l7W+dGgid1D9i3Gt4pAO+o+25L063rcfx03MLtaL3MnyNtZfaf6RwBeIeFNGAIBdoUyB5gBOC1aUcpFECB/QrwYl9/sX+mRSB9XZ+FbM1wh3HL/G55YTy6b6v4cXS/sLf+vXvFGBGAl3PxzM+BrO9XsEmbOZvogi4wAAOtDBCAd39WmJPvP4at9yvlHnusuZcfe3yvuH/Zp68zld1zV+wvRjbiT4PKz55vaIv2/LHstASs+Toxf6RuR9jSz6T2BnQp8G40gOwIn03TI22ZzZgqaC224/uu6z3fSic+j7hP5EMLiyrj/VX/dBz7FPsdj2N5Hbf0Y7Seb/+I+87bG8mP9mO0XubjkbYy+890jgC8/bEMWECBLgWyBxgBeF0SUhgFUGCHArzY11/sn2kRSF/XZyFbM9xh3DK/W16Yj+7bKn4c3S/srX/vXjFGBODlXDzzcyDr+xVs0mbOJrqgCwzAQCsDBODdnxXm5PuPYev9SrnHHmvu5cce3yvuX/bp60xl99wV+4ueDQWTRb+O/mlK+wnPGOindnQuBjt5/5SP/ul4VLcjbalfCkpRMJ7Y97YVxKW+KdBM30gW+9Rz7O1afoX+l/og38xPSzN/jYs3b958oJ/nQnyW2hk5L3viTWPjg/E0fhpHjaf8irazALysT76e9d2nW3VU35e3fEs937bypu/ofRft9R6b7z5t6Ycvb/mWepl/Vt+no7Yy+890jgC8HUEMVEWBEQX8g8vyLQF4VtanLfWij7/++uvLt99++/Lll19+MDF9+umnf5zTtZ9//jlW++NY7fn2R/IjPqfOcBIFUGBIAV7s6y/2z7QInNVXLcrj/JAt1PUV6nqpji81YlTndb3FR9nOXtztpX30xTP2QcdZP7Z8zPSQrVivVC7zo3SuxT+9TGojw7TXS7q3J91qL9DR7+zY27N85pvG2F7i/caL8tpM0LXsJT5rMztnbfs08yOrG8/5DYeomfyVZns3iGKbHPO87mGAALycF3//Wz57Dtic5J9FtgG891mUjePRzxT1yfo3mma6ZL7buaP7YHazvmgM7LqlKqdnr19H2LWW1M+FfiNZ+vl5aHQdUfPBePO+q13NL5r/sk3sVl1q7fprV4+f5vfswxfTYMZ9p/7P6rfXNsufwVt27/fe1/I9Y022s37VzpU4t2frER+u1dp/pGsE4L2f40cYz3jO5pQjn0lZm5nvtXO99+4Vz7bSPW7P8dlz2cw+Z2OYcaNye9Yi2XOqtW3V1RjIL60n/BrW1jHZGGRt9p47Y06LPpV4G5lTsnsvu+eyscjq1s5ldtW3rE6pbNSidDx7XDI9svviyOdpqa+PdF73q/8T64/Uv0fsi5778R7W8/YR+0qf8n0mdEEXGICBLQY0L/j5/bPPPvvlk1evXn3lT757927oQ34qoQAKfKxAXJzpuCUobbSeeaDAuxh0l9m0cwrIe/v2rVX/IyUA7wM5OECBWyrg53flebFnsbi1WOy9ro1wm0ss9RuJuq4Pl+1aLdUHc6UALNkUw7X6dk12evthdX3q+9FqL9uklM1Yv1TOt7+Vr/mna626WzvazM42VKPv8djq+9T7pudODDrwZWO+xkFs2x9HOzr2fviypbx4zTbXMts6pw+ctPFdssd5nrmzGCAAL2cru1f9c6D1eTT6PIzjPeuZoj5lfe0553WJfvvjWX2wNjTvR7/9XKTrpfnMbJRS1ZUtPatjG7VjzQPqd8lu63lp3Dr/ReayMR6Zb64eP2mlMVD/aprrWtSgVees3Ox+Z22ezVumZ+t97f3PWJNtX6aWb32umr9HjnPNrztfIwDv/RxvzPh0i/GtOUVcHP1MKt1D3u+t/Fa/jOcrnm3y7cq57Iw+b3Gj66NrERu7UqpnaOTDr4NUb2QM5HOpzZbzqn/FGmrGnBL11XF2z+lcVrbnXGZXemc2SmVr43PmuKit6Hdk8+jnaa3vj3KNffr8PX7V8c2e0Xq3XNVf/LoXX4wX4wUDj8MAAXi3DJ/A6TsrEF9UdDw7AO/HH3/86AUp8yOe00uT/0cAnleDPArcUwFe7B9nEbfygjzOJ7aRqI2Klg9cfX0xGzeLNT/5Mi15fUjQo1lm0/rRY0d1MlvRRqlcVrd0ruRf6cOBkp14XtrFMYj+++NYX8fmm14+sutb57ShJX58O1v5zKb5sVVX1+VrL6/WpoI1WtqgDM/koxggAC9nye5Jn9pzYHQu6Xke+vGd+UxRn3wfR/Kmi/c55mf2wbcV/ddY6bq0rwXfexsxr/71Bt6V/Ii2W45HeFP7Np9kY9wyZt631ccv6m3HvesQ32flz+q3b/cK3kwvn/Yyoj5krMmm718pL619+615rVVLNjn/0wsBeO/n+IynFsZjvdY5Jdaz461nUukesvotaUu/rni2XT2XndnnOE6t3BzxzCq1Ldv6z2nxesux1k+979PWF/F4xRpq1pyS6ZXdczPv5VYfbAyy9IpxiX633hexnh1vPU+zfj/aOfbp8/f4Vcc5exfVs2pVf/HrXnwxXowXDDwOA5obwhzPN+DdM6QCr++igL1g+HRmAJ5+Tta31ZNX4J7/RwCeV4M8CtxTgTDpD2/AsRh8nMXgjLGMc4025UaC78yO/1BudMNZtuxD7JY+W9s+zTZlt2yVNm1jvVI53/5WvuRfTTNteNpfzb4fg+h7PM7syLfRD2zMnoLhej40sHo+LWkU+yBWfD2f13PUNMs236xsD2+xfY55xvYyQABezozdjz7Vc6D2XPRls3zP89DGcfYzRX3KfO05t/V8nN0H00pp9Ns+3Ks9c1XH2/D50Q9wox86Hnm217TL2ojnVD8b460x8xrUfDh6Xov+a/y2gidjnXg8ct+p/2f22/S+ireomY57GDH/M9Zky66XUn0jY+ZDyzk+uMznMNOaALz3+mQstTAe681+JpXuoehH7XirX1c822pt1vpi11Q/02arr3Yf1No/eh5Tm+a3pXvXItaPltTatFTvnqpX08DK1tLe92m1edWcNnNOyTTKOMx4zerWzmV2pWtWp1Q2Y+aqcYl+z36eZn1/tHN6fvm/nj2vR9Ni9f5kz2CN3ep+4199nY0+6AMDMDCDAa3V/PzOT9DeM54Cr2+kQHxR0fGsALzff//9RT8lG9v8/PPPXxSYp+v+n/z49ttvX16/fv1HnXjdl7V8tK1j/qEACqyrQJj0u4JZZixEsPmYC9w4NyjQIf6PaW0iayGqTUb9Ka9zsa4dq0y2CasNEJ03O9oAjG2ZDaUq18Kdr2P51rrevupYfZ/6MqW8L2/5UtnaeW3gWX09A6R1aVNPWpbGQfVq7dg1a8unGhd/rM1/Gzv7Nin9nJDazza1rK7qqZy1VUutjk9bxjD6avVtczm2KX9KwTyqE8tz/JjPvavHlQC8nCu7f30a71c9V3SuZy5pfR6Ki6ueKb7Plh/l9Ow+mL+Wqv2SD5rXNG9p7s/6p7EyOzGN85DV11xRm4t0zcpupSU7xl2cj3Wsvuq69zez0zKnyb+Sdjpvc7Dvx955zfutvILn4tpC4zXzvrui32rzSt6i7jpuZcSPv+pktnyZmBdHkVnZ0P2pZ2vkTG1o/G3NHq9H+89+TADe+zk+47KF8VjvimdS9EHHo1yf/UyXn9kcpD6cNZdd0ec4ZvKh5MfWWqR3rGPbmkNj29Je4+KfsS3v03rutj5zr5rTZs8pUV8dtzxLNI5Z3d7xLdlp9eGqccn8vuJ5OqL3ynX0/PB/8d1gZd+fybfSPNh63z6TVvQ135tCF3SBgediQOs1P78TgLduzASePYgC2YvarAC8t2/ffvRiqOC7lsC6Fp80JFl/HmSo6AYKPKQCYdIvBuGwIHyuBeHR4x3nBv+BnPK1DYq4sWy27MN1OxbLtUCsmp2WrXMT/QAAIABJREFU/lo7Pq35XbKpOt6G5Uvl/Xkr61N/vSevjdEe/7PNpVJwQ/TD+5vlNZa1sZM9bTrah7LRhurHNrPjWE/HWxpk4yVmWzZBs41w1d3qa+Y753gG9zJAAF7OTPYc8Oc0V5S01od/2bNQ9Vufh1c+U3w/LV/qa+38FX0wfy3VOMW1hM5tfYCsZ7fZ8KnGb2s+kCa1uajGjumpD8V9u5bfWsOovuYOlbM6WdrShxXGz4+d+lHT7oj7Tvpd0e+reRtlxHi1NNNOtu16lmpMY/vid+sela0WjrM2n+kcAXjv5/jImI5b+In1rngmRR90PMJwdn+qPzPfVa6ey67os8Ymjpmec54d5XWu5TnXO9axbd+urundfusdU0yU1hGqv+XTlXPa7Dkl6qvjlmdJxoXqbmmZXR/14cpxyfof2dTYZf3VuaPWeCX7dz2v+9T/tTzP79rXO/pd41b/meSOfcLnfO8IXdAFBmDgSAYIwHvI8Ao6tbIC2QtWS7DbSL0vv/zyow2DX3/99VB5Mr8ObQBjKIAChyrgX+qV58WeheWRC0uzlc0NOqfNuRbmsg1Xb1Pstmx0lwIntjar1Q/fnuVbN2VNB6XZBway58uU8tauT0tljz4vfeNmqvxoGT/vb8xrTFp9lQ8a62hDxy1jMVIva6+lz9anjF025XjOGh8zUwLwcs6y54Cd02ZIy5iU5hJ9IL1V/8pnivXTp1v+Ztev6IP3WXk/H8mflnlcfckCuXWuZQ1hWqhsZkc+bdnJ6sn/rXq+7Ux/06dlLszqz57XzL8s3Xvftda/ot/ZeJ/JW6Z3CyPGm6Uja1f954jYfg9n1jZpPpcRgPdel8iYjlsYz+rZudZnSmkt0Frf2vPpCO+rPNvkx1lz2RV91tj4sVJ+dC0yMs6xbX981vv0lXPa7DnF62n5lmdJxoXqHzXGLT5cOS6l/puGrc/Dvc/TEb1XrqNnnP9j/ZSvha4YQ92T2T0n5jVmV/hEm+vwwVgwFjAAAzUGtC7y8zvfgHdomAPGUOBjBeylxKezAvCyn5/92KN9Z3w/LL/PIrVRAAVmKhAm/aZgmtpCgmssNDMGbD6IaUuwgtkrbXJo47v1g3d9KOA3ys2f2v/KtfatrE9bNkStvqWq421Y3q7XUivr01r5o68pcMy3rfyodqqr50/rBzXWF20+Rh903PIteFm92hjqxSjWaemv+WppZFcM2jVSnpmzGCAAL2cr3tN23HNvl+aSrQ9Ar36mWF992svfVX3wPvu8nqetH0plvstWbR4o6VOai2oB1mLM+658zxrGfNGaJ9qx462+ZBr0sG8+9M5r5l9Me9ou3Xct39pzRb+zNtX/rTEyjX06wpvqR71H25fPmS3vY8xn6+1YhuN8nmrRhQC899plXLbcY1k9nTvrmaQxznxoGXtfJnvO9PTBbPU802U/+n7mXHZFn02n2G877lmLmK3e1NqKacs7cGyrtI6ozaeZ7vKl5X6L7Y/MabPnlKhrT9+yurHPLceZnS19rx4X9SvzW+d6nkV71ngt2t6tDPv04+ujWWOtey0LBDb+R/Y2Z/mK3fX4YUwYExiAATGguSTM8b988urVq6/8yXfv3s2MBcA2CjyVArZQ8+msADzfhuVbfn62Z0DMrk976lMWBVDgXAX8/K5864eYLBxZOPYw4OcEy/duFmeb/bK1FfAQ/cz+d21ts9nqm98+3doQtbo+VR1vw/K+TClvZX1aKjvjfOZ7yzh6f31+RD/1KxtD2d0KxPRtW77mQ9xg08Z/b8Cg/M0CF3uCT2eMJTYf/xlOAF4+xnbv+3Tk3s6eQ/oAu3ZvXf1M8X22fM3f7NpVfTB/Y9rz4V4MMJCt3jWE1yRjQCz5Mj6ftd/jv7eVta3+1OY01V9p/M66767qdzbeZ/Kmfsf7pYURz5nls/WfbNn1LM3aHllDZbY599MLAXjv5/iMs63noPjJ6p35TCr50Mv2Fc/07Nl25lx2RZ9tXDJudG60/2a3JS21vfX+W7ItnzObped0Nu5nzmk9vpb6XDuf2W95lshmVrfWVulaZmfLh6vHpdT/s5+nJU3vep59+vw9/srx1J5xdo/qnMar9Oy80mfaXo8jxoQxgYHnZoAAvHPjHmgNBdLF26wAvM8///yj9t6+fXvoKGSL0UMbwBgKoMChCvBi/9wLv7MW/tncoEVnT/ulD/+2NiVjGwp8iv5oIz+Wi8exjo5725bNUj9ie9lx5kNWbta57H+ra9N3q73Mbz17tuqVrpf+1/7Whx+ZH6UxzNoY/ZAhG/PatySV+s15ntc9DBCAl/OSPQdG7sdsLpHt0hit8EzJ+l7yNzt/ZR8y33s+3MvmL9nc8x9PMj1kMwuwLrUvG5nWW+eyeUVtl+Y02cv8PWtey8bvjPvuqn6Xxvss3oyfTPcaI1YvpiXeYjl/rHVebH9rnebrk8/nMNOFALz3+kTGdNzCeFbvrGeSjWHmg11rSa94ppeebWfNZVf02Y9FNmY9axFvqzeftd3ynwhL7WRaqo1sj6Y07mfOabPnlEzflmeJ9M3qlnSvnc/s1HxYYVxK/T/7eVrT9Y7X2Kevr4GuGNNS0LL2kgm+W2+8rmCENuEABmBgiwEC8A4Na8AYCmwrkL1gzQrAU7Bd1t6RQXiZ/W0VKIECKHCVArzYszjcWhwecT2bG3o36rWpkdnp9S/bqNTG+ZadrO3ahmjJnupktkrl/fnRet7G3vyID1mdvR/CZpvwW4EEmR+lMdRLUSyfBVW06Jmx2xL02WKbMjzDSwwQgJezEe9rHZeeAyVtdb70wWXpw8gVnilZ32t9jNeu7EPme88Hz9mHJppHYh97j7O5KPvQMWt/7zyQaVJjebXxG5lTe+87jecV/c7G+0zejONeRqxeTEfWrpkG8kfno32O8/mqpgsBeO81G2U8q3fWM8nGNfPBrrWkqzzbzpzLruizH4tszHrWIt5Wbz5re+/zVGMX7Wbv09nz/Ow5LfNBvu/VwMYh6qDj2prK6inN6vrrrfnMTs2HTJOzx6XU/7Ofp60a36WcxtH/ld4v79KfR/AzvoNoD/mo588j6EMf+tfyaIZmMPB8DOhdxs/vn332GT9Be1VQBO0+hwLZC9asADz93Oynn36avhy+fv36RYF4e3+SNuvPc4wkvUSBeyoQJv1d3wTCwvH5Fo6tY57NDa11fbkr7WRt1zZEvd8+P/IhptXPfLBrR6QKFJN/2kjShwnalNczImvXn9tq25e1/Ih2vh0FOJgtS7c+ALJyPi35oQ8ffDnle4NGvb/RVss3B/r65Hm+9jJAAF7OTLwXdVx6Dmxp3mNrhWdK5u9WH/31K/uQ+d7zoYfmtGgjC5Tz/W3Jt85FM9qP/dFxjeXVxq/ma037O/R7xnhLk1beTL9eraxeTDVWma1Yzh9rTakPJ7N6WgPp/lUZX4d8Pm9luhCA916rjK+WZ8tovWwsRm1l9TL7pXNXPNNnPNsyHUpjeEWfvf6Zrz1rEW+rN5+1XdKp1bZ8j3az9+kZ4y4fe+a02XNK1EHHrfpmdVvHwJfL7NR8WGFc5H+v377PMX+krWj7Tsfs07evh84cV40La9g1x+ZMDmgLBmAABkYZIADvnvETeH1jBbKXi1kBeJLp559/Tl+OvB9ff/31S4sPmezejuWzcpxDARRYQwFe7Fk0ji4ae+rZfODTnvpW1te3vF3rSa2uT7fq+7KWr22IluypjtX3aam8P+/LW95fH83rBSDbwLU2ttKtdrP6I9r5drJvQNj6JsMeP7JvBMjq7znn+0OeZ/HRDBCAlzOV3bOjz6MeWys8UzJ/e7i7sg+Z7z3jlgWTax7p6X9WNpuLsgDrTLuRbwfxPvRqkvmQ2dhzzvvn85nNnvHbY+uKfl/Nm+l1lO4aq8yWtVNKxXhWz59TQM0oC6V2n+E8AXjv53jPkuVbeLKyPm2pl7HlbVi+xZaV9Wlmv3Tuimdb1uaZc1nWvtfviHxJb53P7LeMdc1m67UZbWfP6Ox9epU5LfM36jI6p0Q7Om4d26xu67j6cpmdmg+rjEuv377PMX+krWj7TscaW//HN+Dl7/Vnjyn/cWSNcTh73GmPcYcBGDiKAe0f+vmdb8BbIz4CLx5YgezloiX4bbSepPzxxx+L34Tn7X755ZfdgXi+vuUfePjoGgrcXoEw6fMNeD+xqDxqUent2HzgU3+9Ne/rW761ri9ndX3qr2d5X9bytQ3RzIbOqY7V92mpvD/vy1veX+/Na+GvQAGzNZputZvZHdHOtzOiY48fR+iStefP+f6Q59l7NAME4OVM+XvQ8qPPI6vv05KtFZ4p3k/L93B3ZR/MX5+WtM765OtZvqd+ZlPnZMPs+TSW99csv7d9s+PTms07j5/X0/fX8qv12/zyac1H379aXja8TcuX6th1n4740duu90drzdI34Xm/FFgz4ptv65nyBOC9n+M9Q5Zv4cjK+rSlXsaYt2H5FltW1qeZ/dK5K57p3lfLt/S11AedNzs+Ldm8os/ed++j5Uu++npH5K09n+5tW/W9PctHf+28T/e2rTZa2/f+zJpTfN8s39pHK+9T73Nr3te3fM0HK+PTWvlWP3rHxbdv+VE/rL5PR2219nfFcuzT5+/xK44VPjFWMAADMAADrQwQgHf7UAo6cDcF/EuF5WcH4Emj33777UUBdtZmLdXX0rf+NG1m525jgr8o8EwK8GLPIrF1kbinXDY3jNi70k7W9shmYO+Gptcp88Ffb83rf25ufeOdPuDQh6H6aRitA+xvxIeszoh2vn8jOvb4kZU9+pzvD3mexUczQABezlR2H48+j3psZWWPPrfFUNbeVh1/Pat/9Dnfns9n7fSM29763hefb52LZrTfazMrf/Q5r43PZ+30jN8eW1nbR5/z/imf2R/tr7fdypvVOcqP3natfUu///77P9aUmT/xnNanfMNIPn+ZnkoJwHuvUeRHxy332mg9PwaWH7WV1TObLWlW/+hz0Y/Mfove0Y4/7rGZlT36nPct5rO29vY/tlE6ntF267N9RtvqZ2v7UZMZc8qePmZ1o88tx5mdGl+95Vt8UJnecTnSjyNttfZ3xXLs02+vg1YcN3xi3GAABmAABmoMEID3TFEX9HUJBbKXizMC8Kzzaks/Ofvpp5+mG8Xm3+eff94UhGflfWptkaIACqynAC/2LAxrC8Ojrvk5wfIjtq2uT8+y49u0fG1DtORX74amt2Pt+tRfb83rvvc2LK+AO70M1D74tLI+3WrXl7X8iHa+nREdrW2flvzwZSwvfY76U2Cj7w95nsVHM0AAXs6U3c8+LT0HtsbE27B8yZZd9+lRzxPZaXmm+LYtv9VHf93q+PSsPvg2LV/S2vtseavj0576ZiemsuFtWj6Ws/M+3du+t2X5mk0r49O7jJ/X0/tv+dX6bX75tOaj718tLxvepuVLdey6T0f86G235I/s6OcBt74RT+vU2lq0ZP+ZzhOA936O92xbvoVxK+vTlnoZY96G5VtsWVmfZvZL53w9y89+pls7Pm3pa6kPOu9tWb5k0677dHafve++XcuXfPX1jshbez7d27bqe3uWj/7aeZ/ubVtttLYf/bFj1T9qTvF9s3xrH628T83HntTXt3zNByvj01r5Vl9kw9u0fKm+XffpqB/ehuVHbZX8vcN59unz9/g7jB0+MnYwAAMwAAMlBgjAWy82Ao8eXAF7ofDpmQF4Jq++4U4/Tfv69ev0RUv+6Rvztv75flh+qw7XUQAFrlOAF3sWhaVF4ZHnbT7w6Yh9X9/yZ9mx9nw6shnYu6Hp++fbtry/3pJXkIbVtVQfhH7zzTdNAWFWx6db7fqylh/Rzrcjf82WpfoAxpeJeSvn05Ifvozloz2OeX6uzAABeDmfdj/7tPQc2Bpfb8PyJVt23adb9o++7tu2fE8bVsenPfX3lPVtWr6kddZO9rN1rfNeZs/OaQPN/LFUa2u7bmkWcLS3fWvPpzVNfDnLm3+zU2vPpzVfa/54G5av2bIyPq3ZP+La1bxZH3yfLV/TyurFVHWsvk9judZjBdfp3sl0Mvtba7rWth61HAF47+d448WnLYz78pZvqZfxZPV92mLLl7d8Zr90zur4tFT2qPNXz2W+r5Y/qm8tdqxNn7aMdYvtrTK+Tcvvbbv1fTp7Vu9dw6i/rWuoLW2OmFNMU5+26uvrWH7L5+y61fVpzYdVxsX7a/ma31nf7ZzV9+moLbN5x5R9+vw9/o5jic+MJQzAAAzAgDFAAN51MRC0/KQK+JcKy18RgOfl//nnn4vfiLflm/XBp942eRRAgbUU4MWeRaAtAmemfk6w/Eh7VtenZ9nxbVp+ZDNQday+T1v64ctbvqWeldHPtVg9n3733XcfBQtYnZj6epaPZeKxlfPpiHbern4S19tTXj9b5svEfCyv45If+uA3lpd+0SbHPENXZYAAvJzNeF/XngNbY9tja4VnSubvVh/99Sv7kPleen57ny2f+a55xK6PpllQezYXzWi/V5PMh7PmtV5fa+PRa+uKfmdtnsmb6derldWL6Z61a7QVjxXEkQX1yPeeezzaffRjAvDez/GjjI/Wy7gatZXVy+yXzmXPmdnP9KzNvc+2TIfSvZ+1P7vPXv8eX329I/Iz2s7ep6Vx9DfTfe+4q43WNVT0p3Y8Oqfs0TerW/OxdC2zU7oXZGOVcen1u9R/nT/SVq2d1a+xT5+/x68+bvjHuMEADMAADNQYIABvrbgIvHkCBbKXi60gN8kyWq9VUn0jXvZteHrJrv3L/KqV5xoKoMC1CvBiz8KwtjA86lo2N4zYvtJO9j+MRzae93yIubf/2Sa7fralZyxGfMjq7P1f8yMbzpkfpU1t6RLL7/W5R2fK8mzeywABeDlD8b7Wcek5sDUGPbZWeKZk/m710V+/sg+Z7z3jln3IqzWw799IXjaib9naINMu+5C71QcFHMR2dVzTJPPhrHmt19eaDr22ruj31byZfiusXc2XWqpvL8p8zYJZa3ae6RoBeO/n+N7ngTEyWs/q+3TUVlbP293KX/Fsy9o8cy7L2j9rHtN4ZGNWm3e3xrDnetb23r63vk+vMqe16jUyp2T6to5tVrfVV18us1PzYZVx6fXb9znmj7QVbd/pmH36/D3+TmOIr4whDMAADMBAZIAAvGvjIGj9CRXIXi5WCMDTUOib8KJ/Csqr/Yvldcw/FECBdRXgxZ7FYFwMzjjO5oaRdq60k21Qa9Oztx/ZRqn61WJnb/+zPvRu3I/4kNXRBygtfc7KlAIPtr7JL/OjtKl9RLBi5jvneOaexQABeDlrPc+BrbHqsbXCMyXzd6uP/vqVfch8Lz2/vc+W11yX2diaN6x+lqr9VpvZz6yprj4kzmxvnSv1p6bJncfP65Fpvlq/S+NzFm+mV7buO3vtar5spZlmCsrbqves1wnAez/H9z4PjJfRelbfp6O2snre7lb+imf61XPZFX3245CNWW3+8XX35rO2R57n5kfpfTrrT/Z8lj9nz2nme0ua+VybUzJ9My2ytrO6Wbmtc5mdmg9ZH68Yl16/azocaavWzurX2KfP3+NXHzf8Y9xgAAZgAAZqDBCAt26MBJ49qALZy8UqAXiSPPOvNhS95Wu2uIYCKDBfAV7sWRjWFoZHXcvmhhHbV9rJ/sd9bRO31L/sGz7Ur1J5f35v/7Of+Kpt6vq2ldcm+4gPWR35Mhp4kH340jIWmR+l/pc+lND5qAvHPEdXZIAAvJzLnufA1rj22FrhmZL5u9VHf/3KPmS+l57f3mefz+bAPd+wpbrRr9JcVNJO85n3sTWfBVbJl5omJR90vrXd0XJRpy1fa+302rqq31fyZvqtsHY1X1rSbGxb6j1jGQLw3s/xGTO156CxMlrP6vt01FZWz9vdyl/xbCu1edZcVmpf57f0OuJ6NmYtvM1qW2uOI9+nNW+VfF1hTiv5VjqfjVdP2dax7Wmn1L7OZ3a2fFhhXEb8LulwpK1SG3c4zz59/h5/h7HDR8YOBmAABmCgxAABePNjHWgBBT5QIHu5uHMA3qeffvrRS+Ovv/76QZ85QAEUWEcBXuxZFJYWhUeez+a6EftX2smCvuTP1qao72fJhuz4cqV8tsHa8z/PM/16/M8+yG3xPWtX50b+137pg5eWD34yP2r9zwIc9gRrlMaV8zyHZzBAAF7OVe9zoDY2vbaufqbsnUOkxVV96NU6G7fSHKxvEMnK186VvnVEG2qlelnAnsak98NzzVuZHjpXm9Pk153Hz3TN+r5iv6/mTXqVfNjSy7Su2dA4+HJH5LOxPcLuI9ogAO/9HJ8x08L3aL2MpVFbd52Tr57LrprHNPajY51x03sua1vnWt6BY1t6n874q9kqzSdnraFiH1qOM81K9bKyLc8S2cu07NmjMZ9GfFhhXEb8tj7H9Ehb0fadjtmnz9/j7zSG+MoYwgAMwAAMRAYIwFsnJgJPnkSB7OVilQA8+RH9+/LLL6sjo+uxztu3b6t1uIgCKHCdArzYsxiMi8EZx3Fe0PFIO1faKQV+6R5q6YsW2Zn/dq7FRvaBQ22jPNqUr9aepa1BcNqAtjoxje3E41jeH9eCFaIdBSlkfWgNYPDtWr62sV7q856fz4194phn8CwGCMDL2bJ736e150BtfLwNy9dsXf1M2TuHSIur+mD6+rSmdTZumkOyD0l1rueDUpXN7JS+/c58KWmncbEyW2mpD6bLliYlH2bPa+afT7d8LWnhbVh+y9YV/S6N1Vm8Sb8V1q6lcYznszHquTeivUc/JgDv/RxvzwCfbj0PxIYvb/mWehlXVt+nLbbuOidn96r63nO/lp6PpmFNv1L7s+exo7nJWKqdM22ytCcITtqPvE+XxuzMOa2mT7yWcVJjNNO1xqFv74h7WfZGfFhhXEb89vr5/JG2vN275XWP+r+e95S79RV/8z0LdEEXGIABGHg8BgjAuy4GgpafVIHs5WJWAN6PP/740mJbQ/H777+/fP755x+9AG4F03399dcf1Xn9+vUf9p50iOk2CiytgH+pV54X+8db3K2wYM/muhG/rraTba7KJ30TgDY/S30q/c9k359SXX8++wa6np+eyeq3bJpr8zkLNjD/vY9Z3spZGm21BBHq2aRnlNnwaWsQn69j+a2N9Uwz1dWY64PtrL+1cyN1ava4xjO7xAABeDkbdu/7dOs5UNLY27D8lq0rnylZ2z1ziOmQ2VH/Zz4XTV+fbmlt/vq0FAyveanFnj7kjnOY+dSyhs6+OUj1tb6orSPUB9nXeFl7WdrShzuPn3S4U7+v5k16XbV2Vd9beJSPYj9b47WsD1X/Gf8IwHs/7qPPg9F6GWujtrJn8V3m5Kvnskw7jcPMdYjGfnSsM256z2Vt+3Mtz0u9h2bPWtlpqX/lnDZ7TvFaWr51Dst4HLmXrV2ftvhw5bgcfV/4vlu+RYPe+2n18rpP/V/LO8bqfcK/51yvMu6MOwzAAAz8iwGt2fz8/tlnn/3yyatXr77yJ9+9e7d0MAHOocCdFLAXCp+2BMn58pbfqqdAOJVVYJ2C8X777bdUqp9//vnFypptpfp5WQXm1f7Jrq9jedmzAED5qT8d8w8FUOBaBfz8rjwv9v9aFLFAPE4Lmwt8OqKvr2/5M+1o88/ajak2WfVtcipjfzqOH5brg9DsQ4uWfpQ2V9WGbUpb2zqONkv+K5ggK69N+mxDOfY9thOPY3lt8McPhNUHnZePVl/tK9ih5oOuWfmtNPqhY99eVr/0obDZUvvSLgusU13ZV7805tJZadYO54573qDley0JwMuZsnvXp1vPgRJT3oblt2xd+UzRs8r89GnrHGI6XNEH76/lt7Q2f2Nam1M0N2neUR+tnvI6F+ct80NpNodafZ/KVlwXmB3NEbaO8HXUz+hzyZcWTe4+fqaXT1ftt8Yxjp33ezZval/a+DZ9Xiwacyqnv6PWrsa53i9L6yT5p3vLynrfdD/4+9DfE+R/eiEA7/0c75mxfMvzwMr6tKVexp63YfkWW3eek6+ey66YxzT2Nr4+bRnrjJvec75Ny+s5aXmlpeet9vj0bI/lrW7P++lVc5rNE6U+mp6jc4pp4dPWsT3qXvZtW77Vh6vG5ej7wvrt01YNjIFHSMW5/2OfPn+vf4Sxpg+MLQzAAAw8DwNaM/r5nQC8a+MiaP0JFPAvFZbfCqSTLFbWp7V6v/76a1pHQXX62Vj78/ZiXoF5Lf9kM9bNjhWUxz8UQIFrFQiTPgF4T/otCrMX+9kcMNLmCna0eZ350XJO95s+MFBAVizfqkdp4zza0yZ1ZrO2OSvb+jBYf1k7qjvie/RNNqRD1kYsWzuWP1kfS+cyWy0bulsf8mR2S+fU55J/nH+el+4zxpoAvJyn7N5seQ5kYzZq68pnSutztzSHmA5n92FUa/M3prW5MGurdk6baNF+7VgforWOQ9au6iroO7vWyvKdx+9O/TYOruRNPpy9dhXj2TiJXVtnKs3K2DkFUZh+pB/PZwTgvdfEePFpy3PQl7d8S72MRavv01ZbrXPBanOydLh6Ljt7HlOf/RhbvnWsM3Z6zll7PtX6o5UhX8/nbX+ix5ez57Qz5hSvieV7xrZ1HGr3srXr0x4fzh4XY8b7a/kev82OUqvv01Fb3u7d8uzTf7zuudsY4i9jCAMwAAMwEBkgAO/aOAhaf0IF/EuF5WuBdCaRlfVprV7207C+bi2vgLqeb6tToF7Nnr9m/SFFARS4RgFe7FkMxsXgjGP/3Lf8SDtW16dX2BnZ3NQHjfqgQP6OBLFZP/WBpO9/LW91fDr6YYX6XPJdm+K+jZiPPqr/KqN6egbF6y3HZiO2VTvO7LZu6Eq37JsLM5tb57b0qvWBazyzWxkgAC9nJbs/W58DUfs9tq56puydQ7wGZ/Zhj9beZ5/XPNL6gWnWvj5EHWVndP5Tmzby2tUvAAAgAElEQVSHZD71+HPX8btTv1fhTX6cuXYdacvGVfdkb1Cr1/lZ8gTgvZ/jjRuftjwHfXnLt9TL+LL6Pm21ddc52XS4ei47cx5Tn/0YW751rE2z0dTa86na1hiMrmX0rJaGIz6duYY6Y07xulq+Z2yPuJetXZ/2+KBxPHNcjBvvr+V7/Z5hy2zeMWWfPn+Pv+NY4jNjCQMwAAMwYAwQgHdN/AOtPrEC9nLi01ognUnly1u+Vk/X9CJmZVtT1Sn9VK35kqUK2Gv5JrysLudQAAXOU4AXexaBtgicmWZzzkh7K9lp3dzUhrjK+v5m87G/vpVv/d/uNTut34aiD/u1oWy21HYch9oGqzb1Y3mvh663+iI7CmSstWd+Zmn0Q8e9tlR+61tbsnZ0Tizs+aAj6xPneIaXGCAAL2cjuz97nwOm+RG2rnimHDGHmAZKz+jDEVp7ny3f+lPrvn3Ni34eM1u9qeY/2Wn94Fxzpf+g3Ptk+ezn0Lf8utv4WV99OnIPn9HvqP2VvMmXVt72rl2l7ch/WlCdEYajzs9wTADe+znePwcs3/I8sLI+bamXseVtWL7H1h3nZK/DCnOZ9D7j/czG16c9Y+116837Ni1vbWsMeoLUtAdodXv98OXPmtPk6+w5xTT1aa9Ge+9l37ble33Q+Jw1LsaC+erTEb9lz9uw/Kgt8++OKfv0+Xv8HccSnxlLGIABGIABY0BrxTDH//LJq1evvvIn3717d15kAC2hwIMrYC8UPq0F0pkcvrzlW+r9/vvvf3yb3bfffvvHz85+/vnnH7zg6KdotTH79u3bocA780+p2pId2TQfleqnZ3VO1/iHAihwrQJ+flfevlXDFgakLBKPYMDPAZYfsWt1fXqlHW1uas7Uhr//AF33kjbBtbD2H5abr6rj+6B878aifdgRP2xQYIDOqQ1rr5SW/Fd9+e8D78yG/Iy+q592PaZZ+ayv1h9trks/a8P3R/5G+z3HZtOnmS8tNk276K+3LR11XWMx2k6LL5ThOZ0xQABezoW/Ry0/en9afZ+O2jr7mWLP3D1zSORuZh+8xpYf1Tr6rWPpoblMc5+fg9SW5nfppAC4bF7M7PWcs7bjfKL5z+aQbP4zHXza024se5fx8/21/B4WZvY7amzHNuZX8Gb9FdOz167WT907ai/eWzpXY9z0Iv14PiMA770m9gzwacvzwJe3fEu9jEWr79NeW7pX7J3S2/HvQVnbtXN2r8e5xdv392Cvz7Ftu99je2fOZbP77LWz/F7doo6lY2vPp7Ft6398vvt1zIz9Phv72XOatTNjTvG6Wj7qWxobf37PvWzt+nTEB/PH9Jo9Lt5fy4/6bfV9OmrLdLhjqvWS/5tx395Rl1V9FqOeWcuv6i9+fbyuRhM0gQEYOIMBAvCujYOgdRRAARRAARQ4VQH/Uq88L/YsOM9YcNIGnMEADMDAXAYIwJurL/yi79UM2Ic7luoD9qt9on3uCxg4hwEC8M7RGZ7n62xzmKXMZbnmpo9PnzEwiXsy5wNdHksX9unvNZ4E4N1rvHheMl4wAANXMUAA3qlhDzSGAiiAAiiAAtcqwIs9i86rFp20C3swAAMwMI8BAvDmaQu3aHs1A9kHPfrGm6v9on3uDRg4hwEC8M7RGZ7n6sxc1q6vD7yzPAF47fpxL6PVnRhgn/5evGZzmZ7Td2IOX+/FHOPFeMHAPRkgAO/aOAhaRwEUQAEUQIFTFeDF/p4LNhbajBsMwAAMwECNAQLw4KPGB9fuzUf2U/b6STbG9d7jyvgxfq0MEIAHK62srFyOuaydYwu68ykBeO36rXwf4BvjGBlgn/5eTBCAd6/xivcbx4wfDMDAWQwQgHdq2AONoQAKoAAKoMC1CvBizyLzrEUm7cAaDMAADJzHAAF452kN12h9NgN//vOfX/yH8Mp/8803BOD9BItns0h71zBHAN41usP7sbozl7XrGed8HROA164f9y5a3YkB9unvxSsBePcarzs9C/AVtmDgsRggAO/aOAhaRwEUQAEUQIFTFeDF/rEWcizMGU8YgAEYgAExQAAeHPAseEwGsm8M+tOf/kTwHcF3MPBEDBCA95jP92eat5nL+hgmAK9Pr2e6l+jr47HBPv29xvRuAXjffffdi+bgN2/e/PEfuniGjPOGluPaHcUdY3D9GBw1ls9ghwC8U8MeaAwFUAAFUAAFrlWAF3sWqs+wwKWPcA4DMPBsDBCAB/PPxvwz9FcbzAq2ix/E60OUZ+g/feS5BgPvGSAAj3vhzvcCc1k/v3He5xvw+jW88z2D78813uzT32u87xSAl33zLM+XMd7Qcky3I3ljDK4fgyPH8xlsEYB3bRwEraMACqAACqDAqQrwYs9i9RkWuPQRzmEABp6NAQLwYP7ZmL9Lf+0bBxSA0OOzfmI2C77TuR9++KHLVk+7lOVZAgPrMUAA3npj8mz3CXPZuQwSgHeu3s92P9Pftfhin36t8di6P+4UgJfNJVv943rOI1rmupzJC2Nw/RicOd6P0BYBeKeGPdAYCqAACqAAClyrAC/2LFYfYQFLH+AYBmAABj5kgAC8D/WAD/RYhQGtvW2zWHkFMSi4Lguis59U8XWsrqX60GeVvuEH9xkMnMMAAXjn6AzPZZ39vMRcVtbpKIZszvcp8/983Y8aP+wwVj0M6Jnq/3r/005PW5TdzyYBePs1vCOHfj62/B37cWefTXef3rk/+P74zxIC8K6Ng6B1FEABFEABFDhVAf9Srzwv9o+/2GNBzxjDAAzAwOMzQADe448x9/H9xvj777//3+A7v1E8mtcGHhzcjwPGjDHbywABeDC0l6E99ZnLzucvWycQgHf+OOy5b6jLeLUywD79vVghAO9e49V6H26Vy+blrTpcP5YVxuBYPeFzvp4E4J0a9kBjKIACKIACKHCtArzYz19csYBFYxiAARiAgbMZIAAP5s5mjva2mdOGW7ZR3Hvuz3/+M/9p5qdtvWESjR6VAQLwYPtKtpnLzucvWycQgHf+OFx539H284w3+/T3GmsC8O41Xkc9S7N5+Sjb2GljijFo0wme1tGJALxr4yBoHQVQAAVQAAVOVYAX+3UWYSyIGQsYgAEYgIGjGCAAD5aOYgk7x7KkD2nevHkzFIinwDv9ZC1jcuyYoCd63o0BAvBg9mpmmcvOZTD7kJkAvHPH4Op7jvafZ7zZp7/XWBOAd6/xOupZms3LR9nGThtTjEGbTvC0jk4E4J0a9kBjKIACKIACKHCtArzYr7MIY0HMWMAADMAADBzFAAF4sHQUS9iZw9IPP/zwog04BdT99a9/fVFwXdxE1jpd11Tmu+++I/COb72DARj4gwEC8OY8l5nv+nVlLuvXbISzuD7QMQF452g/Ml7UYWz2MMA+/b34IQDvXuO15970dbN52V8nP58LxmC+xnB8rMYE4F0bB0HrKIACKIACKHCqArzYH7uQYmGKnjAAAzAAAyswQAAeHK7AIT7AIQzAAAwczwABeMdrCqdoCgMwAAMwsAID7NNfx6H+w9M//vGPP/4D1J/+9Kf//c9Rytt/ivr+++8/+A8xRwTgKZj9m2+++d+243/MUttffPHFH/95S2VbOC35lQUtlc61BHrP8L2lf71l/Nj6/trYatw1BpndWVpmdrNvu1c5jb84MN8zP+2aT1vGMNrK/JLNWK7nuMaJ/adD9bH0Hw9LPvm+buVLWmT1SmVrfS75WKuja1m9PRxk7em5JZtiKD5fpL+0L/Gf2ePc2DxFAN6pYQ80hgIogAIogALXKsCL/diCiYUmusEADMAADKzMAAF48Lkyn/gGnzAAAzAwzgABeOPawR3awQAMwAAMrMwA+/Tn86kAGB/clAXk+HMqa4F4WfCMyrYwprpv3rz536Aq30Ypr4CxLDgntlfyq2Q3Oy8b0a4dz/Td2jgiVeBdz9hm+s7SUkFpUXc/trpe4iPTJtrScW0MMxs6V+pvqXztvGwpuCvzrXZOQWJ2j9V8qtmI10paxHI6LpXd6mtmq1ZH147mwLcnDXv0l+4E4s2bgwjAuzYOgtZRAAVQAAVQ4FQFeLGft6jyC17y6AwDMAADMHAmAwTgwduZvNEWvMEADMDAeQwQgHee1nCN1jAAAzAAA2cywD79ubzpm8+yoJmtcwrUUpCO/rKyW8yUAqsyW9k5BZUpcKfUTsmvzFbpXCkIabbvpT71nlewS6lvtfPqn29rppbRDwvA09jqWRCv27H3z/J2zaelMbQ6WVrqb1a2dE7+9wR+eZ8t722XfLKyLWlJi6xuqaz3KeZLPsZy2XH0YQ8HZl/86zkVbbcca+zMDulxcxIBeKeGPdAYCqAACqAAClyrAC/2xy2iWJCiJQzAAAzAwCoMEIAHi6uwiB+wCAMwAAPHMkAA3rF6wid6wgAMwAAMrMIA+/Tnsbg3QMi+LS0LaNniqRb4p+A6+8ts27kYKObbLAUDWd2WtBSENNt334/RvL7Fq6WPWRkFyfh2Z2oZ27fAq1rwnep4/ywfbem4NIZWJ0tL/c3KZuf0rYPxZ04z32rnItsln2o24rWSFrGcjktls/7auZKPdr2WRh/2cKB2as82sWXPlxpnBOEdPxcRgHdtHAStowAKoAAKoMCpCvBif/xiqrag5hp6wwAMwAAMnMEAAXhwdgZntAFnMAADMHA+AwTgna85nKM5DMAADMDAGQywT38OZ7UAFV2LATj6Ri8FdSlwxQfLlL5haosVBSmZHY25AjN0LquXtWt1Y7BYVt/OWR2f2rWe9Arfe/zTWGXjIp2lpa57exprBRVa0Fi87sta3mtoebvWk1pdSxV4pT879qn8F3/yM2vDl7V85DirF8/tCSQTG5n28kfndW9pDCLralMsK/BO5Vq4tj76NPal5djXt/zZulm7lu7hoMSPzmds62dqS0G1qtOiIWXa5i1xHeb4Xz559erVV/7ku3fvTg0OoDEUQAEUQAEUQIE5Cvj5Xfm4AGYB1baAQid0ggEYgAEYWIkBAvDgcSUe8QUeYQAGYOA4BgjAO05LuERLGIABGICBlRhgn34+j6UAldbPRRRAVAoysgCaFqYUbNQT6JMFDZaCsbL2zTefZuVazp3te4tPViYbX41tFnxkdSxtHQ+voeXNRk9qdS2V754t5XWuxXez4dPW/nifVcfbsLwvk+Xlo/fd6ikVLy19kF2Vaynr7Vs+82vrnNX16Zm6yT/ftvKjHGRjpzFp+bxXwWHRD9VVgN6Whlxvm7cIwJsT34BVFEABFEABFFhSAV7s2xZILCTRCQZgAAZg4E4MEIAHr3fiFV/hFQZgAAbaGSAAr10ruEIrGIABGICBOzHAPv1cXktBQq0BWsaSAlpisIo/tnJHpiXfW4Jr5If3z/JH+leztdf3mu14LX5LofraqlG0VTo2/XxaKls77+sr7wPYxGRP8FO0peMzA8kUZJf50PJtdjWNSteytkpla+czO2fqJt+iD6MciJloq4f9LHhV345X049r7XMWAXhLhkfgFAqgAAqgAArMUYAX+/ZFEgtKtIIBGIABGLgLAwTgwepdWMVPWIUBGICBPgYIwOvTC77QCwZgAAZg4C4MsE8/l9UswEQBKz1BKsZSyZbsWZmj0+ynIuVHSzsxMGemn5k/e3zP7JXO+eAl63Op7Oh5s+vTEVu+vs+rD71M+vqWPyuQLPvmNfnQyuZR2h1l5yzdzF8br5j2cJB9g92I/vZTzOaLfDA/SffNTwTgzYlvwCoKoAAKoAAKLKkAL/b7Fk4sPNEPBmAABmBgRQYIwIPLFbnEJ7iEARiAgf0MEIC3X0M4REMYgAEYgIEVGWCffi6XMbhEQSb6addRFjJ7sjlqb6teFuikb3zbqqfrFlDj05Z6R5XZ43uPD75/lm/5SdO9bfTUt7LmX0xHAqeiDR2fFUiWfetgK5emRW+a9bfXhspnds7SzfzNfNC5Hg7iGChwboT7LFBWP7ttvpKOz1EE4C0ZHoFTKIACKIACKDBHAV7sxxdNLDjRDgZgAAZgYFUGCMCDzVXZxC/YhAEYgIF9DBCAt08/+EM/GIABGICBVRlgn34em1kAmIJcen7mM3KTBavIZix31LG+FS0G6ygIsMV+rDfTz8yfPb5n9krndA/FvvYEMpXs+vPR/qiWmZ3RwKnM1hmBZLp/jmrba7yVz9rcqpNdz+ycoZv3JfOhh4NsDEYDi7PnpJ5z3l/yY/MUAXhz4huwigIogAIogAJLKsCL/diCiYUmusEADMAADKzMAAF48Lkyn/gGnzAAAzAwzgABeOPawR3awQAMwAAMrMwA+/Tz+FQQVgx0kd57eNA3Q0WbOt5jc6vuaHuj9bb86bl+hg/ZOKvdI4PwjupHZufNmzdD/GS2zggky/RuDQrtYSeWzfoby7QcZ3bO0M37lvnQw0H287Oj31qnb82L/sz+NkOvxSPnCcBbMjwCp1AABVAABVBgjgK82M97sX/kBSN9gxsYgAEYWJsBAvDWHh/uH8YHBmAABmBglAEC8GBnlB3qwQ4MwAAMrM0A+/Tzxif+RKOCTPZ+s1P2bVGyO3qfKfhFNhXUpAAc+SwmYkBMPG5pL9bZ42fW3kzfs/ZK5+SHvj0s668Cw6StypTqt5zPbLfUi2UyO6OBgpmtMwLJ9E1rse2991XUKTuObeo4K7d1LrNzhm7er8yHHg6yMdjzzZ7RnzMCKr0ej5onAG9OfANWUQAFUAAFUGBJBXixn/di/6iLRfoFMzAAAzCwPgME4K0/RtxHjBEMwAAMwMAIAwTgwc0IN9SBGxiAARhYnwH26eeNURbINvotUXYvHRWAp8AMBdzFwJfWY/Onlma2auVbr53he6svVq70zYReAwUtjQRaqQ1vx/LWdk9qdX16pE8jtnqZzgJbxUSPDiNlvWaWP8rOGbp5X81/n/b4kI2Bt3VE3vtLfmyeIgBvyfAInEIBFEABFECBOQrwYj+2YGKhiW4wAAMwAAMrM0AAHnyuzCe+wScMwAAMjDNAAN64dnCHdjAAAzAAAyszwD79PD6zIJSeIJeMm95gpWhDARn6dqnMt55z0W52nNnLyrWeO9P3Vp98OflX+iY8r4WCl3o58PUt79tuzVtdn/b6Ym15G5YfsdXLtLXl05F2rR+tqW/P8q11fTmr69MR/3t1O9KHI54hvv9Z3vtLfmyeIgBvTnwDVlEABVAABVBgSQV4sR9bMLHQRDcYgAEYgIGVGSAADz5X5hPf4BMGYAAGxhkgAG9cO7hDOxiAARiAgZUZYJ9+Hp9ZUMlIoI3nZzToRj+BuvWNdwqqUXCYfs5TP0dpf1k/vE+l/Gi9aO8K36MPrcf6Gc7WbwfTeLT+NO1RWmZ2Rpk8ylYv00e12zqmVi5r1671pJmdkTHo1c37uNeHrP7R57y/5MfmKQLwlgyPwCkUQAEUQAEUmKMAL/ZjCyYWmugGAzAAAzCwMgME4MHnynziG3zCAAzAwDgDBOCNawd3aAcDMAADMLAyA+zTz+MzC0gZCbTx/IwG3WicM38ULKYgjVogWFbP+1TKj9aL9q7wPfrQe6xx0k/Obn0jnvpW097aPUrLzM4ok0fZ6mX6qHZN29Y0a7e1ri+X2RkZg17djvQh64OeJUf9KQjY+0t+bJ4iAG9OfANWUQAFUAAFUGBJBXixH1swsdBENxiAARiAgZUZIAAPPlfmE9/gEwZgAAbGGSAAb1w7uEM7GIABGICBlRlgn34en1nw1TfffLMrsGQk6EbBLDFgRr61+hLr6riF6dF63vZVvnsf9uQVXKcgmNpPdipoaauNI7RUG5mdkeCvI231Mp1pKY23NNx7PdNuxGZmZ2QMenXzvu71Iavv7ZOfN6/0aEsA3pLhETiFAiiAAiiAAnMU4MV+jQVYz2KNsowZDMAADMDAFgME4MHIFiNchxEYgAEYuCcDBODdc9y43xg3GIABGICBLQbYp5/HiAKrYqCKftZ1a0xq13uDbvSTqNEHHX/33XfNfmT1az7atdF6Vv9K382HI1MFPGZBmdJpKwBrr5bWj8zOVttWN6ZH2eplOruvzvjGtKy/UZOW48zOyBj06uZ92+tDNga6X30b5OfNLa3aEoA3J74BqyiAAiiAAiiwpAK82F+/+GpdpFGOsYIBGIABGGhlgAA8WGllhXKwAgMwAAP3YoAAvHuNF/cX4wUDMAADMNDKAPv081jRT5DGQBfp3To2WTkFcUWbOs7K6pwC/mJ5+VUqn52P9Wvt+fqj9czGlb6bD0en+ka87Bvc3rx5Ux2TvVpaPzI7I8Ffspf1YyTAtDeQLPtWxL33lelTSzPtauVL167SzfuT9aWHg+zZ1vqNmt4P8vPmH2lLAN6S4RE4hQIogAIogAJzFODFfu7CioUr+sIADMAADFzBAAF4cHcFd7QJdzAAAzAwnwEC8OZrDMdoDAMwAAMwcAUD7NPP407BD1mgy55visqCj9RGiZ3sm6p6A2WyPpTa8+dH65mNK303H2akWRClgrJqbe3V0mxndnoCr8yO0mx8Rr6JrpfpTD/1a7Qfvk+1fKZdrXzp2lW6eX+yvvTod0RwrPeH/Jx5iAC8OfENWEUBFEABFECBJRXgxX7OgoqFKrrCAAzAAAxcyQABePB3JX+0DX8wAAMwMI8BAvDmaQu3aAsDMAADMHAlA+zTz+NP33aWBbqMBCmJEdkr/YRpiaGsfE+gjX6qNutDqT1/frSe2bjSd/NhVtqrTW/5kt+ZnR4evN3sW9C2Agl9fctn3wgnP+16lmZsKLAtK3vUuUy7EdtX6mb+Zn3p4aD089B7govNN9Lj5iQC8JYMj8ApFEABFEABFJijAC/2xy2iWJCiJQzAAAzAwCoMEIAHi6uwiB+wCAMwAAPHMkAA3rF6wid6wgAMwAAMrMIA+/RzWdRPi2bBLgps62Wg9E1htWClrO2eQJssWKjWnu9TFiTV0+8rfff9mJHP+lZrZ6+WZjtrt4cHs6M0+xY02e+xV7IhO76tmC9xOfITuNF26fioMSj1+QzdrG9HcJB9k9/WTylb+6Rz5x3TlwC8OfENWEUBFEABFECBJRXgxf6cBZYttEjRGwZgAAZg4AwGCMCDszM4ow04gwEYgIHzGSAA73zN4RzNYQAGYAAGzmCAffq5nCmoJgt2UTBPTzBa6edszXaJFY2vlbG09Rv4Sr7LTqk9fz4L0OkJkLrSd9+Po/OZrlvf3rZXS+uDMeDTnsAvs6O09C1oGjdfrpQfZdrazgLi1C/ZLbW55/xRY3ClbtZ/P/6W7+Ug41i2FBxp7ZDOnV+29CUAb8nwCJxCARRAARRAgTkK8GJ/7cJra2HGdcYHBmAABmBghAEC8OBmhBvqwA0MwAAMrM8AAXjrjxH3EWMEAzAAAzAwwgD79PO5KX1blwKItoJe9LOz8Vv0sp/sLI191nZL8J/8KgU4Kcim1J4/n7Ut39UnX66Uz+qf5XvJp+y8gly2xtHqqe9ZYOFWYGKmRY+W1r4FW/m01Xez4dMsKE22xWxtnEvfAuf98u1k+ZoNBZnW2vf2VK4lGPaoMVDbV+qm9r3Olh/hINPExn/k52hH6vixJP/hfEYA3pz4BqyiAAqgAAqgwJIK8GL/4UKIhSF6wAAMwAAMPAIDBODB8SNwTB/gGAZgAAY+ZoAAvI81gRM0gQEYgAEYeAQG2Kefz7ECfLKgOQt80RgomEgBMPanwAkFt8QgOAUWxYA82SmxKHvWjk9lV23EegqAKQXV+PqxXnYs+76O5aWFrllflWa+XOl71p/SORtbjaP6UQoi+uabb1IONBZbwWJ7tTTfbQx8Kp3tem9aGiPZly7iVWXsT8eml/mgYLQepr2PNValq65Ldz8m0lr+6J6zdpX3drP8UWMg21frZtr7VD5l/a6dk5bi3tvxeelfuifiOGi8NB619rjWN19J+zDH//LJq1evvvIn3717t2QQAU6hAAqgAAqgAAr0KeDnd+Vb/ocJi6u+xRV6oRcMwAAMwMDZDBCAB3NnM0d7MAcDMAAD5zBAAN45OsMzOsMADMAADJzNAPv05zCnzz8UYOKDU3rzGivxkX3zV42brSAlBUDpL/NPdXvb875kNrN+KyjL17P8lb6bD7VU45r1R/02XZVmZeycAsRqbdi1vVrKjrXp05HAK/NJqYLqvL2evJhWINYexmqMtPqiMfJ9KuWPGAOzfaVumS6jHGwF4WVtlc5JX9OHdP/cRABeX9wCpVEABVAABVDg1grwYr9/8cQCFA1hAAZgAAZWY4AAPJhcjUn8gUkYgAEYOIYBAvCO0REe0REGYAAGYGA1BtinP49JfQuX9C4Fn9TOK8hIgS7ipzdYaTRARm2W2mv9QgUFl9X65a9l98aVvmf+xHN7gr8UbKQAmWizdLxXS9n1elt+NPDK+zmig4LeRpn2bSuve6I1OM76HdNoMzs+Ygy83at0i33X8R4ONI72bYKZ7Z5zrc8WryP5fB4jAO/WYRQ4jwIogAIogAJ9CvBiny+IWCiiCwzAAAzAwJ0ZIAAPfu/ML77DLwzAAAyUGSAAr6wN3KANDMAADMDAnRlgn/58fnuChfTNcPEb0noD8IzP1m/cim0qiCMG0PQE66h+S3CU+ZmlV/me+eLPSYeRwCPV8T+L6m3W8nu1jOOo456xrPnWyrVYUFlva5Rpb0N6KqCthbWog+q1jsfeMfA+K3+FbrH/R3Eglra+8TFrW+c0bhoHC8qMOnHcP1eJ1TDH8xO0faEMlEYBFEABFECB+ygQJn1+gvan/sUTC040gwEYgAEYWI0BAvBgcjUm8QcmYQAGYOAYBgjAO0ZHeERHGIABGICB1Rhgn/4aJhVkouAIBWIp4M0HpWhMFIgSA++MnSxYqTWISkFGqq8gGR+opONSm7Lt/VNevps/Lan6a+16W+q72ta1LTtX+b7ll67beCpQUP3RGPp+6pzGWv1sDVAaBzIAACAASURBVPQqtbtHS++T5VvZKfnjz5fGyJgWN/Lf11Feupg/lu7xS/eOjYW/v8S8xsKYU7nMn+hfPN4zBtGWjs/WzTT26R69Y5+sP2I+3gvWpr8njmw7+vLMxwTg3SdmAk9RAAVQAAVQYLcCWnT5P75W+JoX/WdefNJ3mIMBGICB4xkgAO94TeEUTWEABmAABlZggAA8OFyBQ3yAQxiAARg4ngG/R688+/THawy3aAoDMAADMHA2AwTg7Q5lwAAKoAAKoAAK3EcBXuxZbJ692KQ9mIMBGICB+QwQgDdfYzhGYxiAARiAgSsYIAAP7q7gjjbhDgZgAAbmM8A+/XyN4RiNYQAGYAAGzmaAALz7xEzgKQqgAAqgAArsVoAXexabZy82aQ/mYAAGYGA+AwTgzdcYjtEYBmAABmDgCgYIwIO7K7ijTbiDARiAgfkMsE8/X2M4RmMYgAEYgIGzGSAAb3coAwZQAAVQAAVQ4D4K8GLPYvPsxSbtwRwMwAAMzGeAALz5GsMxGsMADMAADFzBAAF4cHcFd7QJdzAAAzAwnwH26edrDMdoDAMwAAMwcDYDBODdJ2YCT1EABVAABVBgtwK82LPYPHuxSXswBwMwAAPzGSAAb77GcIzGMAADMAADVzBAAB7cXcEdbcIdDMAADMxngH36+RrDMRrDAAzAAAyczQABeLtDGTCAAiiAAiiAAvdRgBd7FptnLzZpD+ZgAAZgYD4DBODN1xiO0RgGYAAGYOAKBgjAg7sruKNNuIMBGICB+QywTz9fYzhGYxiAARiAgbMZIADvPjETeIoCKIACKIACuxXgxZ7F5tmLTdqDORiAARiYzwABePM1hmM0hgEYgAEYuIIBAvDg7gruaBPuYAAGYGA+A+zTz9cYjtEYBmAABmDgbAYIwNsdyoABFEABFEABFLiPArzYs9g8e7FJezAHAzAAA/MZIABvvsZwjMYwAAMwAANXMEAAHtxdwR1twh0MwAAMzGeAffr5GsMxGsMADMAADJzNAAF494mZwFMUQAEUQAEU2K0AL/YsNs9ebNIezMEADMDAfAYIwJuvMRyjMQzAAAzAwBUMEIAHd1dwR5twBwMwAAPzGWCffr7GcIzGMAADMAADZzNAAN7uUAYMoAAKoAAKoMB9FODFnsXm2YtN2oM5GIABGJjPAAF48zWGYzSGARiAARi4ggEC8ODuCu5oE+5gAAZgYD4D7NPP1xiO0RgGYAAGYOBsBgjAu0/MBJ6iAAqgAAqgwG4FeLFnsXn2YpP2YA4GYAAG5jNAAN58jeEYjWEABmAABq5ggAA8uLuCO9qEOxiAARiYzwD79PM1hmM0hgEYgAEYOJsBAvB2hzJgAAVQAAVQAAXuowAv9iw2z15s0h7MwQAMwMB8BgjAm68xHKMxDMAADMDAFQwQgAd3V3BHm3AHAzAAA/MZYJ9+vsZwjMYwAAMwAANnM0AA3n1iJvAUBVAABVAABXYrwIs9i82zF5u0B3MwAAMwMJ8BAvDmawzHaAwDMAADMHAFAwTgwd0V3NEm3MEADMDAfAbYp5+vMRyjMQzAAAzAwNkMEIC3O5QBAyiAAiiAAihwHwV4sWexefZik/ZgDgZgAAbmM0AA3nyN4RiNYQAGYAAGrmCAADy4u4I72oQ7GIABGJjPAPv08zWGYzSGARiAARg4mwEC8O4TM4GnKIACKIACKLBbAV7sWWyevdikPZiDARiAgfkMEIA3X2M4RmMYgAEYgIErGCAAD+6u4I424Q4GYAAG5jPAPv18jeEYjWEABmAABs5mgAC83aEMGEABFEABFECB+yjAiz2LzbMXm7QHczAAAzAwnwEC8OZrDMdoDAMwAAMwcAUDBODB3RXc0SbcwQAMwMB8Btinn68xHKMxDMAADMDA2QwQgHefmAk8RQEUQAEUQIHdCvBiz2Lz7MUm7cEcDMAADMxngAC8+RrDMRrDAAzAAAxcwQABeHB3BXe0CXcwAAMwMJ8B9unnawzHaAwDMAADMHA2AwTg7Q5lwAAKoAAKoAAK3EcBXuxZbJ692KQ9mIMBGICB+QwQgDdfYzhGYxiAARiAgSsYIAAP7q7gjjbhDgZgAAbmM8A+/XyN4RiNYQAGYAAGzmaAALz7xEzgKQqgAAqgAArsVoAXexabZy82aQ/mYAAGYGA+AwTgzdcYjtEYBmAABmDgCgYIwIO7K7ijTbiDARiAgfkMsE8/X2M4RmMYgAEYgIGzGSAAb3coAwZQAAVQAAVQ4D4K8GLPYvPsxSbtwRwMwAAMzGeAALz5GsMxGsMADMAADFzBAAF4cHcFd7QJdzAAAzAwnwH26edrDMdoDAMwAAMwcDYDBODdJ2YCT1EABVAABVBgtwK82LPYPHuxSXswBwMwAAPzGSAAb77GcIzGMAADMAADVzBAAB7cXcEdbcIdDMAADMxngH36+RrDMRrDAAzAAAyczQABeLtDGTCAAiiAAiiAAvdRgBd7FptnLzZpD+ZgAAZgYD4DBODN1xiO0RgGYAAGYOAKBgjAg7sruKNNuIMBGICB+QywTz9fYzhGYxiAARiAgbMZIADvPjETeIoCKIACKIACuxXgxZ7F5tmLTdqDORiAARiYzwABePM1hmM0hgEYgAEYuIIBAvDg7gruaBPuYAAGYGA+A+zTz9cYjtEYBmAABmDgbAYIwNsdyoABFEABFEABFLiPArzYs9g8e7FJezAHAzAAA/MZIABvvsZwjMYwAAMwAANXMEAAHtxdwR1twh0MwAAMzGeAffr5GsMxGsMADMAADJzNAAF494mZwFMUQAEUQAEU2K0AL/YsNs9ebNIezMEADMDAfAYIwJuvMRyjMQzAAAzAwBUMEIAHd1dwR5twBwMwAAPzGWCffr7GcIzGMAADMAADZzNAAN7uUAYMoAAKoAAKoMB9FODFnsXm2YtN2oM5GIABGJjPAAF48zWGYzSGARiAARi4ggEC8ODuCu5oE+5gAAZgYD4D7NPP1xiO0RgGYAAGYOBsBgjAu0/MBJ6iAAqgAAqgwG4FeLFnsXn2YpP2YA4GYAAG5jNAAN58jeEYjWEABmAABq5ggAA8uLuCO9qEOxiAARiYzwD79PM1hmM0hgEYgAEYOJsBAvB2hzJgAAVQAAVQAAXuowAv9iw2z15s0h7MwQAMwMB8BgjAm68xHKMxDMAADMDAFQwQgAd3V3BHm3AHAzAAA/MZYJ9+vsZwjMYwAAMwAANnM0AA3n1iJvAUBVAABVAABXYrwIs9i82zF5u0B3MwAAMwMJ8BAvDmawzHaAwDMAADMHAFAwTgwd0V3NEm3MEADMDAfAbYp5+vMRyjMQzAAAzAwNkMEIC3O5QBAyiAAiiAAihwHwV4sWexefZik/ZgDgZgAAbmM0AA3nyN4RiNYQAGYAAGrmCAADy4u4I72oQ7GIABGJjPAPv08zWGYzSGARiAARg4mwEC8O4TM4GnKIACKIACKLBbAV7sWWyevdikPZiDARiAgfkMEIA3X2M4RmMYgAEYgIErGCAAD+6u4I424Q4GYAAG5jPAPv18jeEYjWEABmAABs5mgAC83aEMGEABFEABFECB+yjAiz2LzbMXm7QHczAAAzAwnwEC8OZrDMdoDAMwAAMwcAUDBODB3RXc0SbcwQAMwMB8Btinn68xHKMxDMAADMDA2QwQgHefmAk8RQEUQAEUQIHdCvBiz2Lz7MUm7cEcDMAADMxngAC8+RrDMRrDAAzAAAxcwQABeHB3BXe0CXcwAAMwMJ8B9unnawzHaAwDMAADMHA2AwTg7Q5lwAAKoAAKoAAK3EcBXuxZbJ692KQ9mIMBGICB+QwQgDdfYzhGYxiAARiAgSsYIAAP7q7gjjbhDgZgAAbmM8A+/XyN4RiNYQAGYAAGzmaAALz7xEzgKQqgAAqgAArsVoAXexabZy82aQ/mYAAGYGA+AwTgzdcYjtEYBmAABmDgCgYIwIO7K7ijTbiDARiAgfkMsE8/X2M4RmMYgAEYgIGzGSAAb3coAwZQAAVQAAVQ4D4K8GLPYvPsxSbtwRwMwAAMzGeAALz5GsMxGsMADMAADFzBAAF4cHcFd7QJdzAAAzAwnwH26edrDMdoDAMwAAMwcDYDBODdJ2YCT1EABVAABVBgtwK82LPYPHuxSXswBwMwAAPzGSAAb77GcIzGMAADMAADVzBAAB7cXcEdbcIdDMAADMxngH36+RrDMRrDAAzAAAyczQABeLtDGTCAAiiAAiiAAvdRgBd7FptnLzZpD+ZgAAZgYD4DBODN1xiO0RgGYAAGYOAKBgjAg7sruKNNuIMBGICB+QywTz9fYzhGYxiAARiAgbMZIADvPjETeIoCKIACKIACuxXgxZ7F5tmLTdqDORiAARiYzwABePM1hmM0hgEYgAEYuIIBAvDg7gruaBPuYAAGYGA+A+zTz9cYjtEYBmAABmDgbAYIwNsdyoABFEABFEABFLiPArzYs9g8e7FJezAHAzAAA/MZIABvvsZwjMYwAAMwAANXMEAAHtxdwR1twh0MwAAMzGeAffr5GsMxGsMADMAADJzNQBqA99lnn731E//f//73l3/+85/8oQEMwAAMwAAM3JwBP78r/x//8R8vX3zxBX9oAAMwAAMwAAM3ZuBvf/vbS5zjmd9Z38AADMAADMDA/Rl4/fr1B3P8v/3bv7Fmu/GajXvy/vckY8gYwgAMHMVAfIdnnx62jmILO7AEAzAAA9cxkOzT/3+ffPbZZ7/EiZ/jzz7Y7EAP9IABGIABGIABGIABGIABGIABGIABGIABGIABGIABGIABGIABGIABGIABGIABGIABGIABGIABGAgM/P8E4H0GFAEKgg9hAgZgAAZgAAZgAAZgAAZgAAZgAAZgAAZgAAZgAAZgAAZgAAZgAAZgAAZgAAZgAAZgAAZgAAa2GSAAj+AzAhBhAAZgAAZgAAZgAAZgAAZgAAZgAAZgAAZgAAZgAAZgAAZgAAZgAAZgAAZgAAZgAAZgAAZgAAYGGPgjAO//+Ip///vfX/75z3/yhwYwAAMwAAMwcHMG/Pyu/H/+53++fPHFF/yhAQzAAAzAAAzcmIF///d//+h/GzK/s76BARiAARiAgfsz8Pr16w/m+L/97W+s2W68ZuOevP89yRgyhjAAA0cxwD49LB3FEnZgCQZgAAbWYUDv7GGO/+2TV69efeVPvnv37oV/KIACKIACKIAC91fAz+/Kf/fddy8//fQTf2gAAzAAAzAAAzdm4L//+7/jiz3jeePxZG3G2hQGYAAGYMAY+Mtf/vLBHP/VV18xxzPHwwAMwAAMwMADMMA+Pes9W++RwgIMwAAMPA4DemcPc/wvBODdP76CHqAACqAACqBAqkCY9AnAe4DNGhbmj7MwZywZSxiAgVEGCMCDnVF2qAc7MAADMLA2AwTgrT0+3D+MDwzAAAzAwCgD7NPDzig71IMdGIABGFiXAQLw0vAETqIACqAACqDAYyrAi/26izIWzIwNDMAADMDAKAME4MHOKDvUgx0YgAEYWJsBAvDWHh/uH8YHBmAABmBglAH26WFnlB3qwQ4MwAAMrMsAAXiPGV9Br1AABVAABVAgVYAX+3UXZSyYGRsYgAEYgIFRBgjAg51RdqgHOzAAAzCwNgME4K09Ptw/jA8MwAAMwMAoA+zTw84oO9SDHRiAARhYlwEC8NLwBE6iAAqgAAqgwGMqwIv9uosyFsyMDQzAAAzAwCgDBODBzig71IMdGIABGFibAQLw1h4f7h/GBwZgAAZgYJQB9ulhZ5Qd6sEODMAADKzLAAF4jxlfQa9QAAVQAAVQIFWAF/t1F2UsmBkbGIABGICBUQYIwIOdUXaoBzswAAMwsDYDBOCtPT7cP4wPDMAADMDAKAPs08POKDvUgx0YgAEYWJcBAvDS8AROogAKoAAKoMBjKsCL/bqLMhbMjA0MwAAMwMAoAwTgwc4oO9SDHRiAARhYmwEC8NYeH+4fxgcGYAAGYGCUAfbpYWeUHerBDgzAAAysywABeI8ZX0GvUAAFUAAFUCBVgBf7dRdlLJgZGxiAARiAgVEGCMCDnVF2qAc7MAADMLA2AwTgrT0+3D+MDwzAAAzAwCgD7NPDzig71IMdGIABGFiXAQLw0vAETqIACqAACqDAYyrAi/26izIWzIwNDMAADMDAKAME4MHOKDvUgx0YgAEYWJsBAvDWHh/uH8YHBmAABmBglAH26WFnlB3qwQ4MwAAMrMsAAXiPGV9Br1AABVAABVAgVYAX+3UXZSyYGRsYgAEYgIFRBgjAg51RdqgHOzAAAzCwNgME4K09Ptw/jA8MwAAMwMAoA+zTw84oO9SDHRiAARhYlwEC8NLwBE6iAAqgAAqgwGMqwIv9uosyFsyMDQzAAAzAwCgDBODBzig71IMdGIABGFibAQLw1h4f7h/GBwZgAAZgYJQB9ulhZ5Qd6sEODMAADKzLAAF4jxlfQa9QAAVQAAVQIFWAF/t1F2UsmBkbGIABGICBUQYIwIOdUXaoBzswAAMwsDYDBOCtPT7cP4wPDMAADMDAKAPs08POKDvUgx0YgAEYWJcBAvDS8AROogAKoAAKoMBjKsCL/bqLMhbMjA0MwAAMwMAoAwTgwc4oO9SDHRiAARhYmwEC8NYeH+4fxgcGYAAGYGCUAfbpYWeUHerBDgzAAAysywABeI8ZX0GvUAAFUAAFUCBVgBf7dRdlLJgZGxiAARiAgVEGCMCDnVF2qAc7MAADMLA2AwTgrT0+3D+MDwzAAAzAwCgD7NPDzig71IMdGIABGFiXAQLw0vAETqIACqAACqDAYyrAi/26izIWzIwNDMAADMDAKAME4MHOKDvUgx0YgAEYWJsBAvDWHh/uH8YHBmAABmBglAH26WFnlB3qwQ4MwAAMrMsAAXiPGV9Br1AABVAABVAgVYAX+3UXZSyYGRsYgAEYgIFRBgjAg51RdqgHOzAAAzCwNgME4K09Ptw/jA8MwAAMwMAoA+zTw84oO9SDHRiAARhYlwEC8NLwBE6iAAqgAAqgwGMqwIv9uosyFsyMDQzAAAzAwCgDBODBzig71IMdGIABGFibAQLw1h4f7h/GBwZgAAZgYJQB9ulhZ5Qd6sEODMAADKzLAAF4jxlfQa9QAAVQAAVQIFWAF/t1F2UsmBkbGIABGICBUQYIwIOdUXaoBzswAAMwsDYDBOCtPT7cP4wPDMAADMDAKAPs08POKDvUgx0YgAEYWJcBAvDS8AROogAKoAAKoMBjKsCL/bqLMhbMjA0MwAAMwMAoAwTgwc4oO9SDHRiAARhYmwEC8NYeH+4fxgcGYAAGYGCUAfbpYWeUHerBDgzAAAysywABeI8ZX0GvUAAFUAAFUCBVgBf7dRdlLJgZGxiAARiAgVEGCMCDnVF2qAc7MAADMLA2AwTgrT0+3D+MDwzAAAzAwCgD7NPDzig71IMdGIABGFiXAQLw0vAETqIACqAACqDAYyrAi/26izIWzIwNDMAADMDAKAME4MHOKDvUgx0YgAEYWJsBAvDWHh/uH8YHBmAABmBglAH26WFnlB3qwQ4MwAAMrMsAAXiPGV9Br1AABVAABVAgVYAX+3UXZSyYGRsYgAEYgIFRBgjAg51RdqgHOzAAAzCwNgME4K09Ptw/jA8MwAAMwMAoA+zTw84oO9SDHRiAARhYlwEC8NLwBE6iAAqgAAqgwGMqwIv9uosyFsyMDQzAAAzAwCgDBODBzig71IMdGIABGFibAQLw1h4f7h/GBwZgAAZgYJQB9ulhZ5Qd6sEODMAADKzLAAF4jxlfQa9QAAVQAAVQIFWAF/t1F2UsmBkbGIABGICBUQYIwIOdUXaoBzswAAMwsDYDBOCtPT7cP4wPDMAADMDAKAPs08POKDvUgx0YgAEYWJcBAvDS8AROogAKoAAKoMBjKsCL/bqLMhbMjA0MwAAMwMAoAwTgwc4oO9SDHRiAARhYmwEC8NYeH+4fxgcGYAAGYGCUAfbpYWeUHerBDgzAAAysywABeI8ZX0GvUAAFUAAFUCBVgBf7dRdlLJgZGxiAARiAgVEGCMCDnVF2qAc7MAADMLA2AwTgrT0+3D+MDwzAAAzAwCgD7NPDzig71IMdGIABGFiXAQLw0vAETqIACqAACqDAYyrAi/26izIWzIwNDMAADMDAKAME4MHOKDvUgx0YgAEYWJsBAvDWHh/uH8YHBmAABmBglAH26WFnlB3qwQ4MwAAMrMsAAXiPGV9Br1AABVAABVAgVYAX+3UXZSyYGRsYgAEYgIFRBgjAg51RdqgHOzAAAzCwNgME4K09Ptw/jA8MwAAMwMAoA+zTw84oO9SDHRiAARhYlwEC8NLwBE6iAAqgAAqgwGMqwIv9uosyFsyMDQzAAAzAwCgDBODBzig71IMdGIABGFibAQLw1h4f7h/GBwZgAAZgYJQB9ulhZ5Qd6sEODMAADKzLAAF4jxlfQa9QAAVQAAVQIFWAF/t1F2UsmBkbGIABGICBUQYIwIOdUXaoBzswAAMwsDYDBOCtPT7cP4wPDMAADMDAKAPs08POKDvUgx0YgAEYWJcBAvDS8AROogAKoAAKoMBjKsCL/bqLMhbMjA0MwAAMwMAoAwTgwc4oO9SDHRiAARhYmwEC8NYeH+4fxgcGYAAGYGCUAfbpYWeUHerBDgzAwP9l7+x1LbmNru17elMlBhSOnSkzFApwpNCpkhdQameTGRNMIMCRwjdx+t2Ar8A34CuYD0uD8tTUKf7u7mb/PBs4ILubLBZXLbLZ3Ov0hgPn5QACvHvqK+gVCIAACIAACKQI8GB/3kUZC2ZiAwfgAByAA7McQIAHd2a5Qz24AwfgABw4NwcQ4J07Powf4gMH4AAcgAOzHGCfHu7Mcod6cAcOwAE4cF4OIMBL5QmcBAEQAAEQAIF7IsCD/XkXZSyYiQ0cgANwAA7McgABHtyZ5Q714A4cgANw4NwcQIB37vgwfogPHIADcAAOzHKAfXq4M8sd6sEdOAAH4MB5OYAA7576CnoFAiAAAiAAAikCPNifd1HGgpnYwAE4AAfgwCwHEODBnVnuUA/uwAE4AAfOzQEEeOeOD+OH+MABOAAH4MAsB9inhzuz3KEe3IEDcAAOnJcDCPBSeQInQQAEQAAEQOCeCPBgf95FGQtmYgMH4AAcgAOzHECAB3dmuUM9uAMH4AAcODcHEOCdOz6MH+IDB+AAHIADsxxgnx7uzHKHenAHDsABOHBeDiDAu6e+gl6BAAiAAAiAQIoAD/bnXZSxYCY2cAAOwAE4MMsBBHhwZ5Y71IM7cAAOwIFzcwAB3rnjw/ghPnAADsABODDLAfbp4c4sd6gHd+AAHIAD5+UAArxUnsBJEAABEAABELgnAjzYn3dRxoKZ2MABOAAH4MAsBxDgwZ1Z7lAP7sABOAAHzs0BBHjnjg/jh/jAATgAB+DALAfYp4c7s9yhHtyBA3AADpyXAwjw7qmvoFcgAAIgAAIgkCLAg/15F2UsmIkNHIADcAAOzHIAAR7cmeUO9eAOHIADcODcHECAd+74MH6IDxyAA3AADsxygH16uDPLHerBHTgAB+DAeTmAAC+VJ3ASBEAABEAABO6JAA/2512UsWAmNnAADsABODDLAQR4cGeWO9SDO3AADsCBc3MAAd6548P4IT5wAA7AATgwywH26eHOLHeoB3fgAByAA+flAAK8e+or6BUIgAAIgAAIpAjwYH/eRRkLZmIDB+AAHIADsxxAgAd3ZrlDPbgDB+AAHDg3BxDgnTs+jB/iAwfgAByAA7McWLlP/z//8z+f4t9f//rXT7N9eVK9iJuOwY55IBsDv/zyy6e//OUvn77//vtP33zzzX/HnPLffffdb9c+fPjAuPsV/mT84dx1eYEAL5UncBIEQAAEQAAE7onAygd7FozXXTASO2IHB+AAHDg3BxDgnTs+jB/iAwfgAByAA7McQIAHd2a5Qz24AwfgABw4NwdW7tMjIpvnBtjNY/ekOUnCOy+6y3iDeBMuPWlMPKmvCPDuqa+gVyAAAiAAAiCQIrDywf5JCyz6ysMTHIADcAAOHMkBBHjw7Ui+0RZ8gwNwAA4cxwEEeMdhDa/BGg7AATgAB47kwMp9+kwMdORb3PRmsB9++OE3gdK3337725vAjsT+lbZWY/eK79Q9Zo7TG+8ynmTneAPeMTGB++B8JAcQ4KXyBE6CAAiAAAiAwD0RWPlgf+QCh7ZYUMMBOAAH4MCTOIAAD74/ie/0Fb7DATjwJA4gwIPvT+I7fYXvcAAOPIkDK/fpMyHQkQI8/fxm9EFvDLtC/KPfOj4Suytg9GQfJSzNOJKd0xvynowVfeeef1cOIMC7p76CXoEACIAACIBAisDKB/u7LqboFw8KcAAOwAE4sJoDCPDg4GoO0j4chANwAA7swwEEePvgCl/BFQ7AATgAB1ZzYOU+fSYGOkpEpjd+Ze3rTXirY9LTfub7Udj1+EeZdXObRKQZP+wtj+KJ/UmgcxXRKZxaxymwvyb2CPBSeQInQQAEQAAEQOCeCKx8sGexeM3FInEjbnAADsCB83MAAd75Y8Q4IkZwAA7AATgwwwEEePBmhjfUgTdwAA7AgfNzYOU+fSYSOkpEpnay9nXuCrzNfD8Kuyvg81Qf9bPKeqNd5IfGua49FRf6ff57ETHaPkYI8O6pr6BXIAACIAACIJAisPLBnoXc9gs5MAVTOAAH4AAcEAcQ4MED5gI4AAfgABy4JwcQ4N0zroxX4goH4AAcgAMr9+mjSEjHR4rIMqHS999/fwmR0mrsmDvOOXdIcBO5IZ4jvjtnvBhHxGVPDiDAS+UJnAQBEAABEACBeyKw8sF+zwUNtlkwwwE4AAfgwJM5gAAP/j+Z//Qd/sMBOHBnDiDAg9935jd9g99wAA48mQMr9+mjUOhoAZ7Efl6EJyz007RX4MNq7K6A0RN9lIA0cuPHH3+8BKefoWLQ5AAAIABJREFUGC/6zPpjTw4gwLunvoJegQAIgAAIgECKwMoH+z0XNNhmwQwH4AAcgANP5gACPPj/ZP7Td/gPB+DAnTmAAA9+35nf9A1+wwE48GQOrNynj0KhowV4irveDCYh3vv37y8lUjoDdk8eN2ftuxeUGkd+/vnnS3H7rNjiF2uFq3EAAV4qT+AkCIAACIAACNwTgZUP9ldbJOEvC3s4AAfgABy4CgcQ4MHVq3AVP+EqHIADcGCMAwjwxvCCX+AFB+AAHIADV+HAyn16Ewj59MifoL1KjDI/PWaWBzvmHeOCT/n5WXiRzSGcuz8vEODdU19Br0AABEAABEAgRWDlgz0Ly/svLIkxMYYDcAAOrOEAArw1uMN3cIcDcAAOwIG9OYAAD47tzTHswzE4AAfgwBoOrNyn9yIhyyMi6+OB4eVTsOvD7q5zjeLv+WD5u/aXfj2b78S/HX8EeKk8gZMgAAIgAAIgcE8EVj7YszBrL8zACIzgAByAA3BghgMI8ODNDG+oA2/gAByAA+fnAAK888eIcUSM4AAcgANwYIYDK/fpTSDkU0RkfTz2mFke7PqwmxknV6iDAO/Z8b8CR/HxWI4iwLunvoJegQAIgAAIgECKwMoHexZ5xy7ywBu84QAcgAPP4QACvOfEmnFNrOEAHIADz+IAArxnxZvxTbzhAByAA8/hwMp9ehOO+RQRWR/3PGaWB7s+7O46vyHAe3b878pr+jXPawR4qTyBkyAAAiAAAiBwTwRWPtizYJtfsIEd2MEBOAAH4ECNAwjw4EeNH1yDH3AADsCB63IAAd51Y8e4I3ZwAA7AAThQ48DKfXoTjvk0E5G9f//+048//vhJvlrZb7755tN333336S9/+cunX3755VOtj6VrZsunWful+vG8+Sm/vM1vv/320/fff/9JYojoayaaUp+i7Xjs7Vs+89182hq76M/M8Ujf1Q/hImx9X5QvYTvjk6/z4cOH/7apGBrOStXuDz/88Onnn39uxsrbVL633yqnNjyfvK3MjvexlZddb6+VV181DlVP48/btzgoRsKtZSu7nvUnGwstXGQ7s6VzsV0bHx5ji6/6quuxTnZsPnluyo7sys4sJtaW5g2Pf+Sj2hFXsjnGbLTSDLMMf/midtSe76/Nc6oT57lW2z3XaxjID8NA7ffGLba715iP7Rx1jADvnvoKegUCIAACIAACKQJaEPm/2QXRUQsV2mGjCg7AATgAB+BAmwMI8NoYwSMwggNwAA7AgStyAAEevL0ib/EZ3sIBOAAH2hzwe/TKH7lP7wU8lvciGfkShTFWzqcSA2VCkVb8vQ3L+/Zb9e266vT4qTair5nopUfUZf761Pu+N3bW91dS+ej9Vz7GcQbbV8U/EuFIXBR9Kx1LeNQTM8NK/kVbvt+6LlFhLKNjs6E0405Wp3ROnPX2srx8kW9R8FWyaeeF36jobCtc1A+1bb5Y6seHrpcwtvKWSkAn3zJ8ZFPzppWtpbKT2aidk/1eP63tOMfU7PtrLfxVVlyI4ktr16ezPnh/LC8MRsaj+SHO9nJQ5UbaGB3z1pejUwR4qTyBkyAAAiAAAiBwTwRWPtgfvcihvfZGDxiBERyAA3DgHhxAgHePODIeiSMcgANwAA5EDiDAgxORExzDCTgAB+DAPTiwcp/ehBI+NZGMhB7+fE9egqKSUCbja2bT2s/KZ+dm/FS7EnvIntqLfvT4EOvo2OrN+DSKXYbFzLnYD/ludiRYitd7jl8Rkkqw0iMwyvywmJr/tTTWt36LvzVBl7eZcSfarR23BHiyPyq8i+1Zv7zftXyp/gguZj/asvEh4edojBWTOLfMjjPzr5WOCu9if2fGdLRh8WvhH+vZ8YwPhovaHBHFWZs+NVu19KgxX/Nhr2sI8O6pr6BXIAACIAACIJAisPLBfq/FDHbvselEHIkjHIADcGCeAwjw5rGDd2AHB+AAHIADZ+YAAjz4eWZ+4hv8hANwAA7Mc2DlPr0XSlheIplZ4ZVsSLTSywdr06cm0umx8ao4RPXVnm9f+R4fYh2rdxR2Pfj0lIn9MFHYq9hKYCWhVY8PVqbWpsaJfNOf8tFvO5YNs1dLrbylJnSq2VZZbzPjjtnrSQ1rb9PyEu702Ogp04uJ2o72ZnCxPmS2ZsR3ZsfPLa+Ms148am0YF5Waf1nqfTZcamm0IfxnxXdma9QH+ac4vSr+7Gn3yDFfw32vawjwUnkCJ0EABEAABEDgngisfLDfazGD3fmNHrADOzgAB+DAPTiAAO8ecWQ8Ekc4AAfgAByIHECAByciJziGE3AADsCBe3Bg5T69CTR8GkUnElLpnH7iU4Ij/UkUUhNnSHTQw0/fruV7xG+yXRJumL9R/KVj+R3fvJXZ6fHB/PXpkdj14NtTxvuvvARFwsmfF2bCSRywt5DpJyN1nOFndcURK9/yJbZpNnQ+s6H2I96+Tqs9K2up2in5oDEqXNSfml3xxuz5tFYnu1YT38U4WH21XYuFrlnZWur9Vv4VXKItxSvOG8JV/ZX/+lO+JmpTGfEu2jZczI78jm35OipXw0HXNGdYHXFAvsV5xWzIp5LfqmflWqm1Z6lEbNGu+rXXnGz9jvOk+ePngoiFxU8+q1yr36XxpvN7jPkW9ntcFwbhHv/P37179+4nf/Ljx4/3VCHQKxAAARAAARB4GAL+/q58XCztsdjA5j02hYgjcYQDcAAOnJcDCPDOGxvGDbGBA3AADsCBVziAAA/+vMIf6sIfOAAH4MB5ObByn95EFaVUQogSdySQKAl+WkIls5m12yOMyQQ4siUsJcwy+1mq6yqXtW3nenywsqV0b+yyvs2ci/5H4Y3ENC1M9d1SCdOet2AJ78yPnu+sJHDJ6rZ8jnUUL9935UtCoBLOWT/UTql8dl59jr7pWGOqh5eqXxKe1ThpvsS2X8El2or41vqjdmN9HUuM5vvXGvM1O9bnWir+1vyMdbM5sXc+lK3YZ4+ZrtViuMWcLBuxTfNJWGTCuIiBjlWuVjYbK2p3zzGf+bn3OQR4DxNe0F0QAAEQAIFnI6CFqf/rWdjsvRjB/nk3gogNsYEDcAAOXIMDCPCuESfGE3GCA3AADsCBUQ4gwIMzo5yhPJyBA3AADlyDA36PXvkj9+lNWJGlrbcXGb8ywYnsSSRnZUpp1m6P2MULcMyGsKsJPrwPKqfyVjemPT7EOv74COx8f17Je79jXrHttV3DtIVnFouRcZCJrPSGsJrvsa9edCR/WgK+zHYmKlI7WdnSuYzbOtfLbdlV2cyO+tiysyUu0ZYd9wqtsriaDaW9Y740R83EuBQ3Oy98PZfM314+W/ksfXVe6akvkd0rbRsOrXTFmG/5tMd1Ya6+uj/egPdsaQa9BwEQAAEQuDMC7ob/282/dwG4xyIEm9fYDCJOxAkOwAE4cH4OIMA7f4wYR8QIDsABOAAHZjiAAA/ezPCGOvAGDsABOHB+Dqzcp8+EFjpXe8tS5FRJcNIj3srab4m1MlGOBC+jYhqVz9rXuZYPwqBU9yjsYhxmj0v90JvGRm2WMK29BU8ClejDCIbmYxSciRN2LUtjm3bcKw7LbL4qwMuwkF89fIz+6Ps+65NPR4WJVncGF6sb0x5xrvUnxtVsjYz50hw1wzPzq5YKY/PT0t62rHxMe+vLr1J/a+NQ9Ur8HWm7hotdy3g+00bkRmvMW/tHpgjw7qyyoG8gAAIgAAIgEBBY+WB/5AKHts6/yUSMiBEcgANwYDsOIMDbDkt4CZZwAA7AAThwJg4gwIOPZ+IjvsBHOAAH4MB2HFi5Tx9FHjqWiEECjpEYZ2+YkjiiZSNrvyU2iqIL2ZgRb8i3zG/Za/mgupnvR2LXwrb3etYPnRsVNFp7ikVms8QpCf18+RkM1XYmeqoJvXybPj/LJflQEjAZNq0043aPkLVkN+N3S6TksfD5GVx8fcuPCjtLfBrFJcOiJUgr4do6n/Ggt9+Gk09nxkTW39acHMeifOj1u4WJvx7bmemf7I2Oee/DUXkEeEGYwCEIgAAIgAAI3BmBlQ/2Ry1uaGe7jSCwBEs4AAfgwDU4gADvGnFiPBEnOAAH4AAcGOUAAjw4M8oZysMZOAAH4MA1OLByn96LPCzfekNWxisJnay+T7Oy/pwva/ma+K30Vq9ZsVgmlJEfNR/Mf/PXp0diZ368mnr/Lf+KMKn0FjwJUaKvWdlRYZXZzGJZi4f11aezQqCaD7Jv12tpiduv/HJVhq/8GRUmzuLisbV8xoMaLllcZatnjHq72Ry1h7hMbWaxbInfzFfDyac1Hlu9mGb9lc1Yzo5LXBnF2eyV0qydo8Z8yac9zyPAu7PKgr6BAAiAAAiAQEBg5YP9ngsabF9jY4k4ESc4AAfgwD4cQIC3D67wFVzhAByAA3BgNQcQ4MHB1RykfTgIB+AAHNiHAyv36b3Iw/IzgotMVCF7LfGQtenTWvvZ27BeFdH4ti1f88HGgZX1aU89q2/pLHZW/9XU+2/5mbedeT/iG65kNxPZSJxibVpaE4f5NmJeb9gzG5bWuGFlfPqK8FD+KP7enuWjr9lxxm3NDVnZkXOyYX5YWhN0WRmfzuLibVhefB/xP4urbI3YUNlMFCdh4aid3vLWX5/21PXlLT8zJkbnlYx/vaLBnn5ZmZVj3nw4MkWAF4QJHIIACIAACIDAnRFY+WB/5AKHtvbZGAJXcIUDcAAOnJMDCPDOGRfGC3GBA3AADsCBVzmAAA8Ovcoh6sMhOAAH4MA5ObByn94EHj6dEZGJW96G5Vu2rJxPa3UkBPJlla+JiXo4H+3puOaD2ZytZ/V92mtLYg6Jymb+fHs+39u2r9PKZ2KeTAyX/UzmqEDL+xL7UhMQxbI6flV4KN5kdr2Ppfwe3FZbGh/RpywW5lcs+woumS1rZyQ9mx2JAhVr8UVxE56Z0DH63dPnWEfHPfNRZnvEVjYWX51bM5+ydo4a85k/e59DgHdnlQV9AwEQAAEQAIGAwMoH+70XNdg/52YScSEucAAOwIH9OYAAb3+M4TEYwwE4AAfgwAoOIMCDdyt4R5vwDg7AATiwPwdW7tOPCDRaXJixNVpHQpdYZ+btUL4v0Z6OewQvs/V825bvtZUJ27K62TlrK6ZZ2Z7+Rzv+OPv5y+xtY1k8M39eOef98vnM5qv9Vv3Mrm+3lM8EXBLvlMr3npeN6NOoMHEWl9iujnv99uXOYkdYZkLJzL/snO9TKZ/V2xL/kq1sLG7Bv9jPrJ2sz6+ci22uPBaG4R7/z9+9e/fuJ3/y48eP4et7DkEABEAABEAABK6IgL+/K996HfzKRQpt77/RA8ZgDAfgABy4BwcQ4N0jjoxH4ggH4AAcgAORAwjw4ETkBMdwAg7AAThwDw6s3KfPRA4lgUaLbzO2RuuMlm/5rOuzNmfrZT712rqKAE8cyvoU+y4hWFZuy3OxTTvO2pjlvtns7beV9+ke/sj+qE9b+pHZ8n3uza+2IxHVFlzt6W/W11lejtgaKdvTj1KZLXDMfPXnSm2vOI8A74rqCXwGARAAARAAgUkEVj7Yr1jo0OY9NqSII3GEA3AADtQ5gACvjg/8AR84AAfgABy4KgcQ4MHdq3IXv+EuHIADcKDOgZX79F60YPkjxB7GCWvTp7X2fTnL18pbO7XU7Pi0x6Yvb/meepkvVt+nma27CfB8f/fKZ3jrXNZehnmpfnZe9TO7Wdl4Lqv3qj9qY9SnLf3IbMV+9xyvsqOfmm298U6CMr3VTT/XqvFpf7M+Z/VmeTBia6RsT8xKZbJ2tj5XanvFeQR4kwIGqoEACIAACIDAFRFY+WC/YqFDm/WNHvABHzgAB+DAPTiAAO8ecWQ8Ekc4AAfgAByIHECAByciJziGE3AADsCBe3Bg5T59Jnw4Quxh3B1tf7S8tVNLZ23O1st82dJWZr92bo+2e0VfWdsSM231J1FUqe9Z27PctzZ6+23lfbqHP7I/6tOWfmS2fJ9786vsaG7O2hY/JaySQK/Uh6xeqaw/n9Wb5eWIrZGy3t/RfNbOVuNddmpjftTXLcojwLuiegKfQQAEuhH4f//v/6U3ym4DFASBmyGw8sF+i4ULNu6xwUQc7x3H7IFq9oHxFa6cxY9X+kDde4+VLeOLAG+OK8wTc7htyV1sEQM4AAfgQJ0DCPDq+MAf8IEDcAAOwIGrcmDlPv2Wz8IztkbrfPPNN2++5/v555+LIpgeToz6YDZn61l9n25py9vtye/RtmIS7UocE/2JZXQcy+x1nLX96r71qNjN9y37ac5XuS37EgDFvmrO8W37fCyr41lcMlu+rd78CjsScsV2Nf/0xiTW1XFPf7N6W+JfspXxT9zp8XmkTNa/kfpXK4sA72bCCroDAiDwNQII8L7GgyMQWPlgf7VFEv6ygQcH5jiQPVCVHvL2xPgsfuzZR2zPcfSOuCHAm+MC88QcbnccQ/QJLsABOHBWDiDAg5tn5SZ+wU04AAfgwGscWLlPv+Wz8Iyt0ToSccU6+snHVzgY7em4Z/9ytl7m65a2Mvu1c3u0nf1UbibAy+L54cOHl+JZ66u/tke/xZvMrm+3lM+weJXbaisTkulnVUt+ZP73jIfMXmYrK9c6d7QdcTBr8/3790XcYh+y+rFMdpzV2xL/kq2Mf3u8TS5r56gxn+G99zkEeGgxQAAEbo0AArxbh5fOTSCw8sF+70UN9l/b9AE/8NuKA1s+ML7i01n8eKUP1GVc9nIAAd4cV5gn5nDr5SXlwBcOwAE48DoHEOB9xlA/9fTDDz980hso9KaGLb6YhJ+v8xMMwfBqHDjDXHIGH64Wt7v6u3Kffstn4Rlbo3W0Boh1JOiY5UZJaFMSqfh2oh867qnnbVh+S1tmszfN2u59y1epjUxkk63Zsni+2nbJp3g+6/ds/My26md27XotzYRymhtqdXquyUb0KYuF2YpldTyLS2bL2hlJj7YjfGKb4uoRPsd2dbwl/iVbe/EvYrZyzEdfjjhGgDchXqAKCIDAdRBAgHedWOHpMQisfLA/YmFDG2z+woH1HNjygfGVeJ7Fj1f6QN31fL5KDBDgzXGFeWIOt6uMC/wkvnAADtyBAwjwPvO49wvdO8ScPjB3wYH9OHCGueQMPsCx/Tg2gu3Kffotn4VnbI3WkZghqyNB6wjmVlZir8xeSaRi9ZTO1vM2LL+lLbPZm2Ztv/LmqxFR4xZCp95+xnJZv3viHu34Y9XP7PoypXyJiyNvXYu2S/7UbGb+z+KS2Yo+9hwfbSe7P48KQ2d9zuptiX/JVol/pfI9ccvKrBzzmT97n0OAd4zegVZAAAQWIYAAbxHwNHtaBFY+2O+9qMH+OTaPiANx2PKB8RU+ncWPV/pAXcZTLwcQ4M1xhXliDrdeXlIOfOEAHIADr3MAAd6vn0pf6OpNeHDsdY6BIRg+hQNnmEvO4MNT4n2Ffq7cp9/yWXjG1mid0tipvdGrxoFMaCOfekQno77X/NjSVq2d7FrWttZWs6LGTGCjNxdnbZfiqfNZ+S3PZf3uiXvNB9XP7Nbq+GvCKdav/Vysr5vlVTfaa62bY3kdz+KS2cr8bJ072k4WhxEMJHCc9TmrN9K2x3LUVtZvzZHe5qv5lWP+Vd9n6iPAO61EAsdAAAS2QAAB3hYoYuNOCKx8sJ9ZqFCHjeCnc0APbtrAsAfnK+Ax+pC3V5/O4sde/cMu86PnAAK8OT4wT8zh5rlHHgzhAByAA/tyAAHer799+Zfds3XuKvy74nPdVbDFz33noDvhWxJIjMwlr47lLXy4U0ye3peV+/TZffUosYfiPtO+7Y36uhKOjArGauOwBwPfvuV76mV8t/o+nbWV2a+d8236/IyoUeKaTMRTs5WJIF8RndX66q/5vlr+VcxV32z51Ldby2fiRdkZffua2ii90UyCoJoP3m/Lz+Ji9X1aa7t0zde3fKls7bzV9WlW3l+3/AgG2c+syk7WVjxn7fl0pG1vz9uwfM1Wye/a+PXt9eZXjfle/7YshwDvTqoK+gICIPAGAQR4byDhxMMRWPlgv+UCBltssD6BA/rPNHtIsvQK/TZffVp7yNurT759y6/wY6/+YZd50HMAAd4cH2xu8CnzxByWno/kwRAOwAE4sB0HEOB9xjL7UveIL2m34PJVn+u26Ds2tpsLwHIbLF+ZS7Yay6/4AA+24cFZcFy5T++fgS0/+yxs9X3asuXLWr5VR9etrE9H3tQksV42Bs1eywdxx8r6tKdexjtvw/KztjL7tXPWXpaOCL+Eqbgc7QjnmjiyFE+JgWp+v3ot+qnjVzEv9aXX1xIvhaGE3712VDbjd+vtd7K/JS6Zrd4++HJH28l43PuzzCUOqA++T6V81tdZXo7aKgloZacl3Cz1JztfwmjvMZ/5svc5BHgPF2LQfRC4OwII8O4eYfo3isDKB/u9FzXYv9cmFPHMH3yvgMvoQ95efTqLH3v1D7vMeZ4DCPDm+MA8MYeb5x55MIQDcAAO7MsBBHif8dUXNv4LRe1tHPEzZVvwO1tvbGEXG/uOPfC9J76vzCVbjeVXfICX9+Llyn36jM/i5gzHZmzN1JFv2VvwZEsivJrYS3UlTsqEtN6XHgx8ecv31Muwtfo+nbWV2a+d821m+Z63X2ktlomWZK+nfunNW4rzzDqvp07W11cxV/3Mbg3/eE2CncyG1r89/kk06dfK3laPiM+Xt3xPu7EfOrb6Ps3Ktc75+pZv1cmuW12fZuUyPgrTFn7CqYS92szaiue8b5bfEv+WrdJbGOWLRIit+dX6o3I1vDKM1caeY958OzJFgDeqXKA8CIDApRBAgHepcOHsAQisfLA/coFDW/fakHpqPO1hy6dXwML7a/nWQ94e/bK2fbrCjz36hk3muMgBBHhznPDzg+WZJ+awjJzkGBzhAByAA9twAAHeFxz1hY7u07Uvdc7IO1tj+PSMfuLTF66Bxb2xmJ1L/Bi2/CxXZn2YbY965+T0yn1647BPZ5+FvQ3Lt2xZOZ+26ojHGjslEZ0EMBKKRDs6jqKP7KcQ5Uusm40d77Ple+rtbSuzXztnvvs0iojEUQlJorBNazFhHcubrd63FCueJQGfbCluWfvql82jEg6pPfnS06756NPZ+Bm+qu/tWd6u96aRp2ZHqTgrkZ36bfaU17kSn1VP+Fn5WurbsvwsLlbfp7W2S9d8fcuXytbOW12fZuVLcRS3Mhw1Lmoxs/aytuI5K+vTLfHvsVXrizDQdfHNzwdxHMr/mvhW5Y8e8xHrI47Fl3CP/+fv3r1795M/+fHjxwMkATQBAiAAAtsjgABve0yxeG0E/P1d+attXB+xOKKNc25KPTEu/oHL8lfAwXz1ac9D3tZ98+1bfoUfW/cLe8xRGQcQ4M3xwuYGnzJPzGGZ8ZJzYAkH4AAceJ0DCPBex3A1D/06w/KrfaL96/OKGB4fQxu/PiUOx8fhTpiv3Kf3PLb87LOw1fdpy5Yva/lWHYu9vs8oCb/MVi1VXQlIsjI9PszWM/99uqUtb7cnn7Ut0cgr2MqmeO1FYi1fWoKczM/SOfneai+r2xP3ml3Vz+zW6pSu1URQWRu1c5lorNRuZmcWl8xWqd3a+RV2aviLXxI76i8bJ6qbvUmu1ke7lvV1S/x7bdX6n/mYnRM+1q8sPXrMZz7sfQ4B3rV1FHgPAiDQQAABXgMgLj8OgZUP9nsvarDPptfdOJA9wFyhj5nfvQ95W/bvLH5s2SdsMc+VOIAAb44bzBNzuJV4yHnwhANwAA5szwEEeNtjejRPs/XG0T7Q3vV5RAzXx5CxvD4GdxsHK/fpMz7P7t3N2Jqp4+MvEZ7wy+zUzuntefZCgqxcDwaz9bz/lt/SltnsTUttvyJwlHhnRHxnvqqO3l6X+TR6zuJrtmOa2euJe7Tjj1U/s+vLjOQl4soEXlkb2TnxfLRPmZ1RG9bHzJZdG0lX2JkVh4n76lsmwGtxUvWyvm6J/4itV/mnvrTifOSYb/myx3UEeI+TXtBhEHgWAgjwnhVvettGYOWD/R4LGWyy+XVnDmQPXlfob+b3yEPeVn08ix9b9Qc7zHc1DiDAm+MH88QcbjUucg1M4QAcgAPbcgAB3rZ4ruBntt5Y4QdtXp9LxHBtDBnLa/G/I/9X7tNnfJ7du5uxNVMnckACjhGhiH4yVXXMTuaD/2lFKxfTrN6R2EV/Zo9r/RBOI2/CEpdnMfD+y0bt51Qzn+2cBGs9AkAr79NXfVd9b8/yvm+j+d6fN7W2lEp4pzEx2pbKezuWn8XF6vt0K5+OsqP5wvtfygtz/Syr+SXhVSzbg2Oso+OeetauT7ewZfybEYJqHPbMpfJZfdx7zHtsjsojwGtrFSgBAiBwYQQQ4F04eLi+CwIrH+yPWtzQDhtid+FA9rB0hb5lfs8+ML7S37P48UofqMt81ssBBHhzXGGemMOtl5eUA184AAfgwOscQID3OoareZitN1b7RPvX5xUxPD6GjOXjMb87z1fu02d8nt27m7E1U6fEB4nFJHbQG9SEqdmWMEbnJEjKxCBWzqelNvx5X97yR2LnfXklb777NPZDuAm/+JObEuXonERKPW/3GvXT2o0x9b6qfYtv9LvWnrdh+ZH6mW3VN1s+zcqOnjN+S9Tk+a12fBy8CGy0DZX3flt+Fher79OtfDrSjvEw8l/HikeGecYFzU8tvz1Wlt8S/1lb8lv91FhXvzWvmn/GP53XPKFyXuTc6rO/bljvMeZ9O0flEeBNyBsyQc/f//73N5b+85//fPrHP/7x6X//938//elPf/ovIf/4xz/+RkTVUZmZj5Hbp/Jr9JP1RTZbn6xe1v6//vWvT3/7298+/fnPf/5v/2VfeOi8rvd8ZDviKDuyKzv//ve/e8z8t0zmfxZDVZCPuqa2fByV14SiGPfG8f/+7/++wsHip/OzH+FidiyVbzOfXlz25HbNb8+n3/+YfkH/AAAgAElEQVT+9//tt/KKj+IUuZD1STj1ftRXxcd4rPFrOCtVu4rBCA9i25mPGR9VTm2pTfNhT1vR9tZYnH08xP7f5Xjlg/1RixvaWbshlj1kZAt8PZzbwt3mNKXi6MjDu2xnD6Ba+MuOFu8znPA+WT7rR8t2hofsxXqlctZ2T9rjnx6CSg9NasMeIPWQMPvAlPma+SYO2CaO30BQ3jZQZn0Qvr1+xFhkx/YQGB801Yb8LT10Z7Y4t3aOuiv+CPDmeNU7T9g9y89VttGkeeyVuarEST9Xqy3vq58nZ+9z2X2nNFef+X5dwk/n98aw1rZxRvcNHzv7Eii7z2YxEb9q7ZSu7Xnf6vVT40L9jOs0w2CPsbNnv0tY6/wRXPM8snw2Zmt+6loWP9lr1YvXSxy3uVHzhnCJ9Tgev18hwPuMmfHep60xkPE9m1e3nK+yNr3PPflWv+I4WjH3leYAm+OfcJ9TnHSP8/f6GJvR44w/GWdlVzHQNbXv16i2TsxiMOpPVv6Ie15st8S3mXtONgazMZfFIqtbO5fZVd+yOqWyEYvS8d5xyfDIuLnlfFrq653Oa7z6P3H9Tv07e1/iWNSccnaft/Qv9l/Hr85FW/qHrfHnBjADMzhwDg5oHe7v73/4wx/++bt379795E9+/PjxLrqDTfohEUq8MUWxjI69QCiWt2OViXV7nLT6PpU4Z/STCX9ks/WRyMm3rbxvX9e1AI9lsmMJm4Rp9pFNL3rL6ts52en9SMhl9SyNcVDbXuhk5bLU4ljqh/crCrhkT6Kq2U/GM4nBZj5n4Hbm90gshKfiZkI81c1ilrXjz6leL4fNvvHA2+nJt3DX9ZIv0f6Wtsz2nliceTxY/++W+vu78jzYn2NBdqeFsTb/bV601D+867rEVXatluqLu5KoQTbF4Vp9uyY7oxhbXZ/6fvTaUx1vw/Kxfqmcle9Ja/7pWi/u1pY2nrIN1eh7PLb6PvW+ad7xX1L4clm+xoPYtj/ObHk/fNlSXnzVlyqZreycvnDiy2bm1RKf9jyPAG+Od9k49vNE73w1O19GTuiep3lXc0nmW+mc5inNV9Fe7fgu9+vYxyMxjG3rWPzpvcdF3qhujPHoPeWI+5Ywjn7G9YKO1b9YLh5HDDJMe84d0e/ox9Fci9jp2M9X0b/SccYz2SqVj+d750Xzd6sYRz+edIwA7/M93jjl09YYWDFflcaY97uVb/XL+L9i7pNvT7/PiVelZ2uLzWyqOTbyI95jZ2Ign2d9Ur2j73nm6x73nIivjrMxp3NZ2ZFzmV31LbNRKmtYZOmRcVFb0e/IzaPXfxkmVzvHPv3cc/wWcc7GuO5vW9i+io04pnU8Mxddpb/4uW68gT3YP40DCPAmlRXxxmTiLYlfegVj3oYEQ6rb+/F1LS+RzOhnVpykdqxdS619idsyUZiVy1JhFvsvTLOytXPCsfcT7VgMVV9ivni951j9UP9rn1K/Yv9rNuxa6Q1iM7bMZuyn4SKbR3Db/LB0NhbioDg5w3E9LEYcRo5Hx7P6Gu334m44+XRLW3tjcfbx4HG9S54Hexa7Ryx24zxkD+/aPO35MtbXF2fjZvHM3DS6ieJ9sLz1YwTDbENH9qKNUjlruyct+Vf6cqDHpsoIuxiD6L8/zuyab3r4yK63zkmMIv74dlr5zKb50aqr6/J1lK/WpsQwPW1Qhjl5Kw4gwJvjko1Zn9o8MXuvGZkvffzV7qjwzvutvHz2Nlv5WN/6fqX7te/jCgx9+zOcUQzsniH/SzHx7ZTyR963op/GPfG/9x8kvI3RtYbH4Mh+W7sruObxsryNWfOrJ814Jns9dWfXcVqL9tinTH4vQ4D3GRfjvU97xoAvr/ze81VpjEU/asc9/Vox93Gf+yxEq93ntpjHIjeMs7Ktf06L13uO5fPo87T1RXw8eo2qtve652R4ZWNuz7Hc64PFIEtXxCX6bdxcsf7LMLniOY1N/zc7Tq/Y99U+Z/e0mX/gXt2PV9qPY1rH2Xz4ShvUzdf34AIucODeHNA61t/feQNep8Ii3pgkIpkVKJkt3fB7P1bHpyaA67WhcjPiJLPv21ZeGMyI78yO7/+s6Eq2et8mZ+1aauI91bdzM6mEXzURXvb2QLUz89a6zNfe/lscYxr7fDS3vT9Z/6J/tWN7I11WxrcT8zX+iSf2l9m1c57P0X52bPUsFe76tESPe9vaG4uzj4cM36ufCzf96Q04Foj3XiC+Gl+byyzVnDjzZb7V91/azW44y5Z9wd3TP2vbpzObEKVN2+hDqZxvv5Uv+VfDTF9421/Nvo9B9D0eZ3bkm3iQXes9JzHcyGZkZreEUeyDuJLV1znNo4aZ8qVyI3yL7XPMHDvKAQR4c5zJxq/midq8mdXx50bmS4vz7BeMvl3Lj8w9VsfSK96vV2No7dfuG4ZvLVV9cS+WOet9K/op7sx++Wq2ZsZODfe97tdnGa/CrZcfxlOlGc9ky5fJ8nobo8VqNBVmmU3O9d27EOB9xinjXc8YiPX2nq9KYyz6UTtu9WvF3Fdrs9YXu3aH+5zmrNrzn/q6xbxmmFmqZ0/ZfTUGo8/TanPVPW/Pe47h6tNszO05ln3bls98KPFpVVzMV0v3nk9L/b/Tec0p/m9kz+tOOKzoSyYsHn37+Aq/t2zTxrJPR+aiLX3BVt9zATiBExy4Bge0VvP3dwR4ncoKf0NSXotNiXL8ef20osQrekuZvYlLoprsJxetXq8Iy8r7dLUAT32NfRMm6pP1X/mIU+xD9lY3CbFGcOzBwrervPxSfPx5CbisbXurnARD8qUmDhMOVj6jlPji27H2s7K1c/Iv2pFvr3yivaO5bb7X8NW1GGPhrb5HfmUYqY+1jwSUhoMEcOJtSVSZtWl1e8ezfLE6loqLkY92TT6pn+JZ9rFylr5i6wgszjweMnyvfi7c9IfELCzurrG4O0OcbP6xVEKGuLGhTWQtRPVgrz/ldc7qxFRlsk1YbULrvNnRnBLb8rZUrgcjX8fyvXW9fdWx+j71ZUp5X97ypbK189rAs/qaA4R1aVNPWJbioHq1duyateXTONdr899iZ2+L0k8oqf3aFwuqp3LWVi317Vu+J4bRV6ur8+arb1f+lMQ6quPLkmce3YsDCPDmuGXj26dxPGve0bmRe03vfCk+qKxv3+fjPGn80VxWmyt1zcrWUt+W8le8X6/GUO2XYmHcifdcHev+oOs+Bpmds963vN/KSzwX1w9aj+05dlbcr880XoV7Dz/iHKA6MX46juX8sdY/ka+qo3Wl5sa4PlIbfj6J171t8u37FwK8zxhlvO0ZA7Heivkq+qDjWe6vmPuy+5P68KT7nHAvYa+5UPdA3fdm4+rrRb7Idmxb2Csufg7ueZ6Wj71z8qp73t73nIivjnvmEsUoq+tj15vP7PT6sCouWf9XzKe9GF+lHPv07XXQHrGMc6rGpObVPdo6s81X5qIz9wvf1owrcAd3OPCFA1qvhXv8P3/37t27n/zJjx8/Xl1vsLn/8cYURT4SvJQ+EgqVxEUlQU20FdvXcRQkxTrZsepktrKy8Vys5zFQvuZPSVhkoiKzLaGRBG+lT81OqY6dtzYs9f7rnBZhtbZlR+Kk0hvKVL/0kWjL2vVpqz1vL7PRyx9vJ+a9P8pHXPbmtvwpxVVYl4Rwvh/CJvod++XLZ3nFr8bhWCcb0yPxiP4JA98H5XWuJuw0n7a0JZt7Y5FxWX04w3gwTO+U+vu78vELQRZJXxZJYDGPRZyH/Bd2ytc2FjXnxPo6tg1tuyb+1oRYNTs9sbV2fFrzu2RTdbwNy5fK+/NW1qf++kheG6Mj/mdfsvR+oeD9zfKKZS126pfmJrVXqt/T96xuC4MsXuJsz1yZbYSrbquvPX2hzPx89BTsEODNcSSbJ/w53UtKHNKXg9lcqfq986XmFt+e5VW/NV/Jr9pcWfPd+mTtWXrF+/VqDPXFt+Hn09Y6RTHQ/UHlfL2Yb/Fg1X0r+um5o2s1/m0xdlb0ezXXIuY6bvHDxrpPM+xky5eJ+WxdLe72iDhmfIztP/0YAd7ne/zsGIj1jp6vxN/oQ2vMlTifjV/1R/NTqY6dn31W4T73P7/FT/Og547yOtczD1oMetPIF9+urunZvvWMKU6U1hiq3/Jl5T1v73tOxFfHvfeqrG4Ly+x6ZqfHh5VxUT+i35Gbil3WX53bYv1Xsn3l8xqn/q9nPr9yf8/guzCO3BW3a/w9g997+BDHtI575qI9fMHm3J4WuIEbHDgnBxDgTaoqshuTnet961Um2JGNnvrWlk9HxELW7S0FeOaLhEI9IqmSyMrsSGzVIzYq4dgS71g7WSqbvR/5WBLh1WIicVZsW5j0frJ+j9QvtRN98sc93JTdzDfZ6akvPL3wzNrv5YP1y7+5zWz41MptlZb87hkL8sH7przHQH1v8dn3Y0tb3m5vfgaLs46H3j5fqZx/qFeeB/tzLtCuvnCO85Ada4Ojh3PZhqvZUCru9mx0l4QRrc1q4e/bs/zMJoTqWH2f9sTYl7d8T70tygjfbEOqJ37ma5YqJr3+yQfFOrPTE4uZell7PX22PmXc1Rtg7Dopc+5eHECAN8etbJ6wc9os6YlX6V6jL6xb9TOhsc713OPMtspmdjSHt+xYX2N6pft11vcjMcza712nKIa1e53i0rrfrbpvRc7441fHTk/9Ff3OYn0k1zzGlm/xw+YJn86sTfXPE9ampSPrI98++fH7FQK8z5gZ93zaMwZ8+ZjvmW/E2dK9vrd+bFfHM2PhLHPfE+9z/tlY/e/ZU5iJsepkfLFzRz1Pr7zn7X3PMSx92jOXlGIzE2fftuV7fFgZl1L/zf/e+fDV+XQG7zPX0Xzi/1hf9a2TtPcmMfEoXnpG9/O58bfn2fnMPJr1zfrv0565aLY96vXxG5zACQ5cnwNaF/n7Oz9B26mi8Dcknx8RQJVEKlo8tD6+TcvXxF4le3sI8PQ2q95PJrpRfyQ+6hUclXBsxcJwi6newjf6ka/Rjo5rsZR/sc7IG9O8QMvs9GJW65/ZimkLT2+zFJMaHlY/w0W+9ArZzI7Ski3Z2+Ojn2GexS3Ws2PFebTvVjemM7ZmcRrFIovVGcbDbP/PXC/c9IcfVFn8XX/xd0QM4/xjxz1iBPMv21iUHW2K9G5260vtbGNF9yNrp5Sazz6d2YRQHW/D8qV2/Xkr61N/fe+8hGO+beVnsVNdzT8tMUjskzbTog861qZ8LBuPs3q1GOrBKNbp6W9sN3JXHIxlOGYu3ZoDCPDmOBXHvB2PjP3Svab1BWk256j92jxV4k1prmwJgK2/Mb3K/Xo1huJJxG5knWLx1Lom2rHjGh+y/o9w19qfuW+ZfzEdab80dlpv5lnR76xN9b0WH8M3pluO15n2VSfGTcfRT3+craf9dfJz96Be3BDgfcY3423PGMjq6dwR85XFOPPBrvWm2Tw00gdrZ2TOl/3o+9Pvc+r/qODDsO9NI+Z23PMMHNsorTFq99qMa/KhZ7zF9mfueXvfcwxPn/b2zdexfOxzz7HV9WnLh9VxUb+8vz4/MhfNrv96cL1iGfbp59ZQws04qLw4qGfYbM9R85Cu+zpW19LW+Lsit3p8tv779KlY9OBFmbnxCm7g9kQOaN0W7vH8BG2PcMLfkCwvcYuERyOf7E1hPaITa9OnZxDgjYrXMtGN+jTyBjrhneGoRVXt47Hz+VkRW6kvJU6URHs9YqvsJztHsS9h47Gw/JHczkSZo3zwfcvsqV97fDJBa29cDOuYilejn2jDjmdsjbZt5UexOOt4sP7cKQ03/d03Dp+4uKLP+abc6Gax7uM2f/m0JWiI+Gf/XVvbbLb6vk3Lz2xCqI7V96m1U0t9ecvXym99LfO9J47ma0xn8FOfshjKdkuIGdvXcc0H9c3X0cZ/tnnXwjkTLo6IWVr2uc7GRcYBBHhzvPBj3vIzYz+bp/QFdxYrOxe/AFf7o/c4s6U080F98WVi3vrs05553ttZeb9ejWHWvvDw+PTms/gpLme9b3nOWP6osbPifp3F+gzjtcaPEvdUx2Lm01J5nfflLD+zRqq1wbXyfQwB3mdsjHs+7RkDvrzlj5qvjNfWrk/tWm96lrnvyfc5xW+2/71xVjnPE59vPf+W2iit1Urz+Op7nu+z5Uu+lvpcO282fdozl5RiU2urdM23bfmWD6vjUur/0fNpCdOrnmefvrz+KcW0JCy2sTSaSiRRauvu5zOsWnPR3TGhf+NjEszADA685QACvElVRXZj0hufRj+ZkEq2W5+s/TMI8Hp+YtT3LRPpqG+jfclwbAmfMgz1QDr7KQmIaphkD8A9YrNMcFhrZ6RPGS5HcbvEh1lRpPqdvYlNfdzjI/FkxK9HUCtfYj0dzwgft7Y1i9MMFmccD7P9P3M9HuzfLoZYIG6PSTanjW5o6IE/szO6ESDhU7TTIy6IdXQ82ra4VepHD+8yH3rqbVUm+291bfq27Gd+a+5p1StdL22u6b5RqqPzmR+lGGZtzH6xnsW89RaqWj+4tv0cdUdMEeDN8SSbJ2bGa3avke0S17L5VeV1vlSndT6bx2SzJgDO+n+V+/VqDEvtKw6tWGXXs3uH4nPW+1bGnSPGTsbzve/XpVifYbyW+JFxzM6VuGbXs1TruBjz1joss8O5uXsVArzPuEUO1uZIz7Ws3hHzVcsHf72VP9Pc9+T73IzQqBXb7HrG2Z5/Isxs6VzGH7WRrfnOcM/b+56T4dt7P83qlnCvnc/s1Hw4Q1zUn8zvo+fTGq5XvMY+/fjaSHNXxsXRc9rffGU9f0W+RZ8zzGpzUazP8Th/wQzM4MAzOKB7VbjH8wa8HuFEdmMa+elVa6Mk2mq9BS1rf1S0Jh9Kgifzr5ZmPowKpfR2uMxOrd3sWib2kXip9snaffUNYRL9Rbs1QV0mHGz5rT6pjG9nVqiV4ePtWv4obmdvEfzTn/6Uudl9LsNY/drrY5j5tKctX97y2tCe+Vh9n87ammnf6vj2LW/XsjSL1erxkPl59XPhpv/4B00WvPsseG3M+3R0o17/4ezrW340ZtlGpTbOW3asPZ/ObEKojrdh+Vb7um5lfdpTb8syvm3Lt+xbOZ+++iVttgnf+sLdt2/5UgyzDbyaaKWGQcbdHtFnzSbX9pmr7oQrArw5jtjc4NPSPFHjS+mLzdKGvuZE36bymudqbfRcy+bK2pdi0QcdX+V+vRrDrP1X5/osHiU+rr5vZb7O3DdHx86KfmexPst4LfGjNl+oTha/Wp0MA9nQ+Vo9rs3dmyJuCPA+45jxtmcMZPWOmK98HDMf/PVW/ixz39Pvc6+I4Fox9tczvrw63yp20W72PJ3N90ff8zIf5PurGBjGEQcd98wlqp/VNbsjaWan5kOGydFxKfX/6Pl0BOcrlFUc/V/p+fEKfTnSR40XzcnZWGqdk/Buq/nkyD7v0VaGVW0u2sMHbG7zvACO4AgHzsUBPb/5+/sf/vAHBHg94orsxjQjgFNbM7Zm6mT92lqAl7XROpf1pVUnuz5qJys/G0PzJxOQtd7El/1Eau1tdplIqSbyM9960y1xGbWVCRhn3r7n+/oKx70d5SUYlT3FWYt0+SuBYNZPfy7ayY59ecvPCkKtvk9nbWW+7onF2cZDqf9XPh9u+gjwfj3XwuwuC2U//1h+pm9W16dH2fFtWn5mE0J1rL5Pe/rhy1u+p15vGQnF5J/uadq40qa85ghrq5S27Gf1ZrDz7UhAEu22vgCK5XVc8kNfPsTyoyIU72+01fPmQF+fPHPzKAcQ4M1xJo7V2jzRismIrezLgppQrtW2XR+dKzOfzdZIusLOagz3aD/D8az3rRFfW1wasbXifr1HrIXJFuO1xI8a5qqTYV6rozWj/oElq2dfYqpMzQbX5u5Twg0B3mfsMv71jIHZehlnZ21l9TL7pXN3mfsyHEoxXNFnj3/m61GCjaztEk7e51pevke72fP0Ge55e99zIg467sU3q1vDvXQts1Pz4QxxUV9G/S71f2tbtXbOfo19+vn1kWKr+UIiB81xmtO0Lo08Fca6pjIIHL/GO2Kl49pcdPbxhH9fxxc8wAMOrOMAArxJFUV2Y5oVb83YmqmTdfUVcVLmQ9ZG69wqO1m7szG0PmbiuNYbvDLRnhaDpU/287OtNyaWbGXnt8Rl1FYmZhOmr3xe4bi1K0FktlGR9S87Z3ZqaVZvlo9b2oo+743F2cZD7P8djnmwX7foetKCN5uHZvq/0k7W9swmhOpktnrwmK3Xsq0HgGwDN2svO9eyn9WZwc63I5+j3dabDGN5HZf80GZcVn7Lc74/5JmLt+YAArw5TmVjvDRPtGI2YisTO2uea7XRup7NlTUBcOZzq43s+go7qzHM7hszbwDxeGY4lviYtZ/Vf+Wc9y3mM7slX2PdeDxia0W/V3PN8BrByepkqeKU2crK+nPid1bPn5NgZpYHvi3yX9/TEOB9xsNzzfI9fLOyPu2pl/HQ27B8jy0r69PMfuncirkva5P73F9fXquVYuzPe55Yvodn3kbMZ3N49jx9lnte5q9hYensPcfq+7QXX1/H8hHrnmOr69OaD2eJi/fX8jW/a1hYfZ/O2qq1c/Zriq3/QyD29Rro7PHDP+IFB+AAHIADGQe0P+vv77wBr1Nd4ReGlj9SLGNt+nSm/VfESb5ty3fC91Uxq+vTrwp0Hvj6lq9VtTI+ncHQtzGDZ+lniEs/5xt/flZvDNvy4/Gw/CwuVt+nNVu+nOVr5Xv6PRMTsyuxWfZGNvOtNzV7tTSzNdv3LW2Zz0dhcbbxYP2/Uxpu+vznF2/A22UDOZuHsoVo69xKO1nbM5uBqpPZavVd12frlWxr4Z/9N2jWTu1cyb6dz+rOYGf2lM7gOOLHFrhk7flzvj/keTjfmgMI8OY45ceo5WfnK6vv05ItX8bypbIjXBmdK61tn460Z2V9fcvbtZHU6vq0VN+XsfyRGFqbPn21fW/L8iWbq+9b5p9PS76WYmjnvQ3Ll2yt6Lf55NOSf9annlQ2vE3Ll+radZ/O+DHarvdHa8nSm/C8XxLuzPjm2yL/5b6GAO8zFp5jlu/hmZX1aU+9jIPehuV7bFlZn2b2S+fuMvf5/lu+hN+KPnv8zT+flnz19bbI+zYt/2rbqm+2fBr99dcs/2rbaqO3fe/PXvcc65dPe/vo61je+9ybt7o+rfngy1m+Vr7Xj9G4WNs+nfXD27D8rK3e/p6xHPv0X9Y7Z4wPPhEfOAAH4AAcmOEAArxJVYUtCn16pFjGt2v5mfZfESdZuz6dgdPXt/wRdqwtn85g6H2dxTN7u1r2k6HZG/ayct6n0bzHw/KzuFh9n9Zs+XKWr5Xv6dtMTPRTs1lMzCelEubpJ2j1E7mKgf35Mpbv8dPK+nS2796G5WdtrcAiwz7j+RHjoSd2VyvDgz0LxpkF42gdm3t8OmpD5X19yx9lx9rz6cxm4OiGpu+fb9vy/npvXj/J0Hrjnb7g0Jel+jk0zcP2Z+36tNWuL2v5Gex8OzM4Wts+Lfnhy+yV9/0hz1y8NQcQ4M1xKhvvpXmiFbMRWyNlW+3666NzZeaHt9ebX2Ena3M2dr6fvRju0f6Izazs1uc8LjGftTWL/4itrOzW5/bsq7fdyzWrk/VzBvPRdq19Sz98+PDbmjHzJ57T+pOfpp27PxneShHgfcYw8kvHPWNgtp6PgeVnbWX1zGZPmtXf+lz0I7Pfg3e0449HbGZltz7nfYv5rK1X+x/bKB3v0Xbv3L9H2+pnb/sRkz3uOa/0Masbfe45zuzU+DVavscHlRmNy5Z+bGmrt79nLMc+/evrpDPGFZ+IKxyAA3Dg2RxAgDepnMgWiLMClxlbM3Wyrs6Ik8xO5oNdG0lX2cnanY2h9XcWz0xIpJ9jjZ/s52clkNrysyUuo7ZGy/f0eyYm2U/hyjcJ7vQmuBrmWR96/MzqzfJxS1srsDjTeOiJ3dXK8GD/7IXfUQv/bB6aaXulnazt2oZoqX+jG5reTuaDv96b17jPbElwp4eB2hejWb1Wu1mdGex8OzM4jviRlRU+W/1J2Oj7Q565eGsOIMCb41Q29mfnqxFbI2VHuDI6V2Z+jLRnZVfYydqcjZ31Q2kvhnu0P2IzK7vVPUt2WvetrP1Z/EdsZWX37nfW5mxfZ7hmdbbyo5fj1m4plR39/F/rjXhah9bWmiX7nP9yX0OA9xmL2TEwWy/j4KytrF5mv3Quq3/FuS/rR2k+zcru3WePf9Z+yVdfb4v8Hm33zv17tC1Metsv4af6W91zXuljVrfkc+18ZqfGr9Hytbb9tdG4bOnHlrZ8n66WZ5/+y3rnarHDX2IHB+AAHIADJQ4gwJtUTmQLxCPFMlu1PyNOMsgyH+zaSLrKTtbubAytv5lwSKKtnk/2U6f/+te/vqoaf35Wb6fZ+rMlLqO2Yv9UX5i+8hnluN5oF/2WX71+xLo67vlk9Wb5uJWtVVgIr7OMh57YXa0MD/YsCkuLwi3PZ/PQjP2VdrK2axuipf6Nbmh6O5kP/npPXl+gRzv6ovTnn3/uEoTFujputZvVmcHOtyN/o119AePLxHwsr+OSH1nZaI9j5s8zcwAB3hw/s7Ffmida8R+xlf2sWu+8XPNDGzzRD639SnViWR2XytbOr7CzGsNMdPRqDDMcS3zMytZitPW1rP2Sr622R2xlZVv2X72+mmvmf9b3GcxVJ7Nl7YymEtdp7slwsnZaa7bRNp9WHgHe53u88cmnPWPAl7d8T72MZ1bfpz22fHnLZ/ZL56yOT0tltzrPfe5/3syVPbHeAn8fZ8u/2nbv83Q2l7+6vhEmo2vUEo5b3HMMU5/24uvrWL7ka+281fVpzYezxMX7a/ma31tiULN15Wvs0889x1855vhOzOEAHIAD9+cAArxJ5YQtMH16pFjGt2v5mfZHxUkeLmvXp/56b6XG3MMAACAASURBVN7Xt3xvXV/O6vrUX495X87yMxh6u/qZTLNlaa8AL6srAZR9MnFfryjMbPSk5rdPZ3HxNixfsyWsrJyl2U+P9vTDyoxw/N///veb9uVHFEKa7Sw1v32alYvnfHnL17CK9f2x1ffpqK2VWKgvZxkPHte75Hmwv//i7gwLeD//WH7GL6vr06Ps+DYtP7OxqDpW36c9/fDlLd9Tz8ro51qsnk/fv3/fLbDw9Sxv9kuplfPpDHbefvbz5PpZM18m5n37li/5oS+GrYylwi/a5Jg59KwcQIA3x00b7z4tzROt2Hsbli/ZyuYczXOtNlrXM9F1ba40P33aaiO77utbPivXOmd1fVqqsxrDPdr3/bb8CIeOvG+Zfz4t+VqKoZ33NixfspXhvne/szbPMl5LOBm2Wao6hrNPs7Kj5yTSyEQ7amfG19H271oeAd7ne7znq+V7eGVlfdpTL+OTt2H5HltW1qeZ/dK5bB664tzn+2/5En4r+uzxN/98WvLV19si79u0/KttZ8/Twjj6m+G+4p4X/cqOZ+85hqlPe/H1dSyf+dY6Z3V9WvPhLHHx/lq+5ncNB6vv01lbtXbOfo19+rnn+LPHFf+IKxyAA3Dg2RxAgDepqPALQ8uPClysaavv05at7O1QM0IltePbtbz5VkutrE9r5UvXfH3Ll8rWzltdn46Wf1XQ9oqALBM8Kc72iT8/q7ey7fHx+Fm+xceSH1bfpzVbsY+ql/0Ub6m97HwmXJTd7JOJvuTTyMf31fI99a2sT2tY1Wx6G5YftbUSC/XtLOOhhvNVr/Fg/+yF31ELf5t7fDrTtq9v+aPsZP9hPLPxrA1E892nPf3w5S3fU8/KZJvs+tkWu96TWrs+bdXzZS3/6n/Nz2w4W9s+LW3oChdfTvlXfW7hxHXm4y05gABvjk9x3Ou4NE+04jViKxPKaY3WaqN1XTaiH7V7Vyyr41Yb2fUVdlZjmN03si+yM7yycxJSZDiW+Ji1f+R9a8TXrL/+3IitFf1ezTXD6gxrU/OllurtRJmvNTFwzR7Xfv2EAO/zPX5krvC8ma3nbVh+1lZWz2z2pCvmvqxN7nN/nVon9cTYl8n48uo9vvd5+iz3PI9HLT9zz8nwLa23YttZ3Vim5zizU/PhLHEZ9buGxZa2au2c/Rr79HPP8WePK/4RVzgAB+DAszmAAG9SQZEtEEcFLtb0jK1M6OXflma2W2n2E5Pyp+eT+d1TL5ZZZSdrdwZD608mGFIbI7zIvii3t6/Fn2d9xVfzOUszXEb64G2O2vrHP/6RfukgbGc/IxzPxtWoKDPrc4/vWb2jcM/8W4mF+XOG8WC+3Cnlwf7ZC7+jFv7ZnDbT9ko72Qa1Nj1H+5FtlKpfPXZe7X/Wh9GN+xkfsjr6Aqenz1mZkiih9Sa/zI/SpnZ2z3nF56wfnGP+3ZMDCPDm+DUyT7TiN2JLc3FWvjWv1XzQ/DZqMytfa6N0bYWd1RhmP6UmHPRFcAmn2vlSf85638piXvK11m9dG7G14n5dis3R4zVb1x29Nm3F0q5nmEmUZ9dJx+5ZCPA+4zUyV3iOzdbzNiw/ayurZzZ70hVzH/e5c/0E7cx8b9wqPU9n9+1s/hZ/j77nme89aeZz7Z6TjccMi6ztrG5WrnUus1PzIevjiriM+l3DYUtbtXbOfo19+rE10dnjiX/EEw7AATgAB8QBBHiTqopsgXikWCZ7U5h/W1pvt7I36alvPZ8Mg556scwqO1m7wuM///lPdLHrOHtj2Ohb6rK3tcmuRHjR31dEabUOxXZ0fBS3hX3W/qzYUPaicNHsZxhkZUf6nsVJ7fV8zC+fjrTt2/A2LD9qayUW1pczjAfz5U4pD/YsAI94CLC5x6cz7fr6lj/KTvYf/7VN3JJf2RtA1JdSeX/e+uxTf72Vz34CrLapG+1pk923bflYLh5bOZ/Kl1lRQvaFU08sfPuWL/W/9KWEzsf+ccw8ekYOIMCb46XNDT4tzROtuHsblq/ZyuboV94QpbrWrqWtudLK+bTVz+y6r2/5rFzrnNX1aa3OSgxL9w3ds2o+l65l4irhUOJQqf2j7ls+RpYv+Vrqs523+j4t2VrV75VcM5zOsDY1X3pSH0/L99SjzNv7GQK8z5gYj3xamis8j3x5y/fU8zYsb/V92mPLl7e82exJV8x9pTa5z70doz0xHCljHPGp1nRbPk/rvlby6Qz3vJJvpfMeK8uPlO0Zx7Jntn1aaqd23te3fMuHM8TFfPVpy+8SDt6G5Wdtldq4wnn26fefU6/AA3yEB3AADsCBe3EAAd6kqsIWhT4dFbhY096G5Vu2MrGX6rbqWZtKSzZkp+djvvq0p14s4+tbPpbpOba6Pq3V8+V8XriMfiSGywRLM7aiKFI/wRrf4jb6s6zyT9zoEe15LCw/wiuPndX3actW9iW76tubAL39Vj7i5v3I6vrrlm/56+1kwljZ6flYez4dadu34W1YftSW1fPpiI1XsPB92WM8ePtPzPNgf6+F3FkX5n7usPyMr1bXp0fZKd2PRjYESzbUn55+ZBusI/957nGz/Ij/2Re9Pb5bWzGd+a/9V774ie3ruNb/TPzwihimJ8aUYU7eigMI8Oa4NDpP1OI1aqt0j9AbLmrtZNdKb8XQhk9W3s5lPtu1kXSVndUYZqJH3btHvyDXvSnDUOfOet/K/K35WuPTqK0V9+vVXBN+JR9GcC/ZUAxqMZq5lsV1xg51+Ala40DGqR7+z9azdn06a+vV5zr5sGLu4z739Vvwevjm+TKbz3imc5rDR23qeTrjX81W6V5x5Bp1tJ8ZZiUbWdne2GZYjuzRmE8zPpwhLjN+W59juqWtaPtKx+zTzz3HXynG+EqM4QAcgAPP4wACvEn1RbZAHBGn+GZnbElIldXrFWaVfurTbHr/Snkr69NS2dp5X9/ytfKla1bXp6WyOu/LxfzIz47qLWvCPdqQIG/mbXqZMDKKkBS/3k8UQulhreZX7IeOj+S22sp8EJ4jIrwZjmdx7H37Xslv9aXnk/X5SNyjjyux8L5sPR687afmebB/3mJvxQI/m9Nm/FhppyT80hjq6YsW2Zn/dq7HRvYlS22jPNqUr9aepb0iOG1AW52YxnbicSzvj1tiEG9LAoasD73iBt+u5Wsb66U+81O0zJuel2fNI8Cb46nNDT6tzRO1+Hsblq/Z0hyXfYmncyNf5KlsZqf19jv1xfz0aa2PpWu+vuVLZWvnra5Pa+VXY1i6b+j+XfPbXyv1wTCocajU/hH3LfPPpzVffZ9j3tuwfM3Win6X4nTkeD3D2jTGrnScxWhkXJTsPvU8b8D7fI+3+cGntbnC+OLLW76nntX3qdX3aY+tV5/r5EM2ruTHnnN+qc2R8VyaPw3DGn6l9vfss8Xb/PNpzVert0Xq24z5ERGcsJ95ni7F7Mh73giOGU9qHI2Y6rg3tluMZfVtxoczxGXG71Ist7RVauMK5zVG/d/Ic+AV+oePc/sU4AZucAAOwIFrcwAB3qQCI1sgHi2W+fOf/5wu1lsCq0zQEvvTA0uso+OZzyo7Wbv+XM/b6ySEzIRKstNTP8OrJK4030aEfaVY13yzdnx6NLejaNB8Ud9bvkhcGP8jLAoYZS/7ZO32CP/kk8qZnzHN2ornYh0dt/oabdjxFrZWYmH9ULrlePB2n5z3D/XK82B/7YXcWRfi2Tw04+tqO9nmqnzSmwC0+VnqU7wPzfZDXyzEuiM/PZPV79k01+ZzJuYwX0r9tvNWztJoq0dEqLlJc5TZ8GmviM/XsXxrYz3DTHUVc33xbX3sTWfq9NqmHPO35wACvDk+2Nzg09Y84XH3eW/D8i1bJbG25s1WXbWtL2HjHGtt96zxrKxPfZ96876+5Xvr+nJW16f+epZfjWH2diD5rzVEba2gvihGuq/7/sZ8iwer7lvRTx23fM3ip3Mztlb0ezXXhNWqtan63htf8T5bw/Ws/0ocefp5BHif7/Ezc8XsHFPi3KwP2Zw18lxn/mR25NOezyrc5768Ba93HrR4zaYZz/y5nvlUz6HZXCw7PfVX3vP2vud4LC3fG9tsDM6MZWvXpz0+rIyL+Oz9tXyP39lYsPo+nbWV2b/KOY1T/9fzDHeVvuHn3B4FuIEbHIADcOD6HNCazd/f//CHP/zzd+/evfvJn/z48eOTtQpp3/3C0PJHi2XUnrUdUwmO9OYulbE/HUchkkR8euiK9dNOh5Oxjo5nPqvsZO1GEZXEdXqTmkRA/qM3sQnPWN5sCtNXPllMzLaEUb2fGG+zofOlj5Xx6dHcloiu5Lv8UlwkIjRuK1WchE2MieKU4Zn1X3Z8vy0vm9lbB8WLTKhm9SzN2ornrKxPj8bd+7QSC++H8ln8DKeR8RDtPvXY39+V58H++ou5My7IbYz6dMZPX9/yR9rR5p+1G1NtsuptcipjfzqOX6Tri9LsS4uefpQ2V9WGbUpb2zqONkv+S6yRldcmfbahHPse24nHsbzm8fiFsfqg8/LR6qt9iUlqPuialW+l0Q8d+/ay+qUvjc2W2hd2mbBOdWVf/VLMhbPSrB3OMfduzQEEeHOcsrHt09Y8UYqdt2H5Hlu1OU9zp+ZFL+RSXufivGptKs3m+MxvX8fyWbnWOavr01ad7Lqvb/msXDy3EkPFI977zXfdB2yt4H0WL6LPpXi2OKT2taa3NmO6130rtqPjlq8eA5+fsbWq3zFu3ve9x6swE8a+TZ8XD41vKqe/rdamxnFxrbQOkn+am6ys901jQTHzcSfff99CgPcZK88py/fMO1bWpz31Mo56G5bvsaVxY+V9qvGia7Jhf7V7+Iq5T21m41r94D7XP44zPpXOeY5YXlhbXmlpPtYen+b+WN7qjjyfrrrnGd9KfTTcZu85hoVPe8ax2t1qLPu2Ld/rw6q4qP/mq097/ba4WeptWH7Wltm8Yiqe+z/26feZV6/IDXyGC3AADsCB63JAa0Z/f0eA16nIsEWhT1eIZSQu8j6M5CViktApe0taDwxZWz31YplVdrJ2JbKKAq6sXO2c4Rr7OXKsn8AttTHyM6wlGzpf+mR1VnBb/dwiFurnCMdrgjr5I9Gq/jLfVHekLR+Ds+DufVqFhfdB+a3GQ7T71ONw00eA9+t1F3FnXoBnc9qMv2ewo83rzI+ecxpv+sIiExL34lHaOI/ta5M6s1nbnJVtfVmsv6wd1Z3xPfomG8IhayOWrR3Ln6yPpXOZrZ4N3dYXW5nd0jn1ueQf55l/t+QAArw5PmVjt2eeyGL3iq3aXJ3ZrZ2rfXEf/c7sxDI9x2ewswpD4aMvyl65x6muhN0Zjj18XHHfmvU149OsrRX9lv8ruab2j16bit9ZjMRbW0cqzcrYOYkksthzru/ehQDvM07GJ5/2zJG+vOV76mX8tPo+7bXVe58oPdeZPyvmPu5zn9+C1xtri9Vs6vllea3vejlkdWJq+xMjfh19zzvinhNx0fFIbHvjUBvLr/pwdFyMM6/6bXaUbmnL271ann36vrXQ1eKKv8QVDsABOPBsDiDAm1RgZAvEFSIluV8TyWR+6pwERBLf6bOlYGgGzszHI+xk7SqGrwi/FAvDdaYPvk72BjjFbeQjMWDWT50vfbLyq7itN8yV+pD56c/5WIxwXPGbaVPt6ZO11SOa9L5bfhXuxo1VWFj7Pt1iPHh7T87zYP/shd9RC3+bx3w607avb/kVdmY2N/VFpL4ckb8zIjbrp76wtL63Uqvj09kvaNTnku/aFPdtxHz0U/1XGdXTHBSv9xybjdhW7Tiz27uxLtyyNxdmNlvnWnjV+sA15uxeDiDAm+NKNn5754kYm1dtaZ7r/UIva0tf8o36ntmJ/eo5PoudFRgaPrP3OMXN7hMZjr0xPfq+9Yqvhpmlr9g6ut/m80quyYcj16YzbVlMNaeNiIINX9Kv72kI8D7jYbzyac8c6ctbvqdexkOr79NeW68+13l/Vsx93OfGRFo+XqN5zy/Li2eKwexaUXO5eDPqi8ofec874p5jmPq0dxwLjy3Gsm/b8iM+HB0X44356tNRv/ewZTavmLJP//Wa54oxxGdiCAfgAByAA5EDCPAmVRh+kWn5lWIZiX6yN3KZb5aqjMr6TyYY8tdLebPp01LZ2nlf3/K18qVrVtenpbI678tZ3mIo4dGIsFGCLatba3PkmsR25pel2c+g1myW3hym86WPteXT2b55G5afsdXLb7UhoVbs3wzHe98uGdtTjKyvlvb02cr6tKdeFkdvw/KztmT/aCyyPm0xHjK7TzzHgz2LwbgY3OPY5h6fzrTj61t+lZ3eTWdtiKus91PH5r+l/nor3/vf7jU7vW9LkRDAv6VEbZvPltY2WLWpb+Us9Xjoeq8vqi8hY629Wp+tfZ+O2lL51ltdvH2fFxde+aKj1jeuMZdHDiDAm+OEH7OWH50nLBZW36ejtnp/Cty3oXnbz7PmT0/q7Vi+p14sY3V9Gsv0HPv6lu+p58scjaFvW/c4xaL3y3HdD/2X4dZnn2Y/ee7bjPmj7lveR8uP8t18t/o+HbV1VL/NZ6Uruab2e7n26tpU2M78U4LqjPLX40v+y30NAd5nLPwcYfmeucLK+rSnXsZBb8PyI7a2eK7zfqntI59VuM/99avnfB+LLfPGLZ8azxSDEZGa9gCt7is+HnXPk69733M8rpYfxejVsWzt+nTUB8XzqLgYd7y/lp/xW/asvk9nbZl/V0zZp/+y3rli/PCZ+MEBOAAH4EDGAa0Vwz3+n7979+7dT/7kx48fn6hRqPbZLwwtPytwsfo+nbGlt4VJaCShihfjSRwmMZmEQdnb2TJxUk/73l/LV0ErXLS6Pi0UrZ729S1fq2BlfBr7XcJU+ApnCZN63m5W8yO7pna9X8pL6DXzkRjN3uimNIrTos3Yro4jLrFO6XhLW+KuOKxN5vg2NON4qW+zHC/FX7HXmMraE1ax3z3CyVjnLLhbbI/Ewtq0dMvxYDafnPr7u/L2xo1skcA5Fo+zHMjmtBlbZ7OjzU3dh/Qlh/9yXWNJm+BaWPsv0q3PqhP7MrqxaF92xC9YJLzQObVh7ZXSkv+qL/+98M5syM/ou/pp12Oalc/6av3R5rrwszZ8f+RvtD9ybDZ9mvnSY9Owi/5628JR1xWL2XZ6fKEMc3PGAQR4c7zwY9jys+PX6vt01pbmSM21mpv9HCnbuv9ovpF4K5u3M36UznlfLV8qWztvdX1aK1+65utbvlS2df4oDDM/rO14z9A9zu4T2T3O+uzTzH7Pub3vW95Hy8/y3er7dNbW3v3OsLd47z1es7atv5oT9l6bWj8196i9ODf5dVDG78x/zvXduxDgfcbJzxGW75krrKxPe+pl/PQ2LD9qS2PJninNhlL/HJS1XTtnc0G873j7foyO+hzbtvkgtsd9rm9MRzzjsY+b5WPMLOZx/vfrxD32+yz2e9/zrJ097jmGqU8jvjEm2fErY9m3bfkZH8wvw2vvuJivPp3129uw/Kwtw+GKqdZT/m+PcXtFXPB5m/sJOK7F0eY2nz5xnivx0ONiefBZy9lSrDg/HhcEeE9WYTy87zah+3RWaLY1lNnb93pEXFv7gT0QOAMCjIdto+Af6pXnwX588cSCE8zgAByAA3DgbBxAgAcnz8ZJ/BnnpN+bUF5fooPjOI5gBmZ34wACPDh9F05zn+vjcsRJx3wh3YfdXcYK/XhOvNmnf06sGdfPizX383rMwaeOD3PGtfFBgLetrgFrF0Igm9zPIMDTG/Wib7Nvv7tQOHAVBFIEGA8pLC+d5MH+2gs3Ft7EDw7AATgABzIOIMCDFxkvOHcdXuiL9bgPoLfaEMPrxJBYEau9OIAAD27txa0j7XKf6+dxXA/oGAFeP35H8pq2iMurHGCfHg69yiHqn5dD3M/rsXkiPnpjrd5Wq3+21Juje37RiDFe59FZ8UGA95KMgcpXRiCb3M8gwLOfi/X+8fa7KzMN319BgPHwCnp5XR7sr7lgO+tCEr/gExyAA3DgHBxAgHeOODAeiMMsB7Tx6vcAlNfPrs3aox5chAP34QACvPvE8snjkvtcP4/jekDHCPD68XvyOKPv1+MJ+/TXixnjjJj1coD7eZ0rT8RH/2QZ+40Ir86T3vF2tnII8HJ9AmcfgECc5HS8WoCX/dSmBEh8QOCJCDAe9ok6D/b3XNCdbYGJP/AMDsABOHAsBxDgHYs3/AbvrTmg/36OexQ///wzArxf4drWXMPe9TiFAO96MWOcvY0Z97m3mJR4EtcDOkaA149fCVfOg+EZOcA+Pbw8Iy/xaRtecj+v4/g0fD58+PBmz0cYaI3MmKtz5Yr4IMDbR9+A1QsgkE3uKwV4mdhIPq706QJhxMWbIsB42C+wPNjfbzF3xQUoPsNDOAAH4MC2HECAty2e8BM8j+RA9lYg/STJkT7QFpyHA+flAAK888aGcdMXG+5zfTgZn7LvLBDgjWFoWJKC29k5wD49HD07R/FvnqPcz+vYXQmf9+/f//Zzsd9///1vIrqZcaG1XNZnnZuxR506v1bjgwBvP40Dlk+OQDbRrRC7/ec///lUEhv97W9/OzmKuAcC2yLAeNgWz8waD/bnXpitXhjSPvyAA3AADlyTAwjwrhk3xhtx00auxHZxf4KfIYEbzA9wwDiAAA8uGBeumHKfG+dvXBPoGAHeOI5XHC/4/Lw4s0//vJgzzp8Tc+7n9VhfBZ/sLc6z4zjb+5Gob9Ye9eocW4kPArxMncC5RyCQTe5HC/DU3h//+Mc3m+3yjZ+efQQN6aRDgPHgwNgxy4P9eRdlKxeEtA0v4AAcgAPX5gACvGvHj/F37fhJLKdNU4kMRmKpn5jNNmB17pdffhmyNdIuZa/NN+L3vPghwHtezM82zrnPHcvB7DsLBHjHxuBsYxB/7ht/9unvG1vGLbHlfl7nwFXwyfycHd9az/k9IN0D9NO0s/aoV+fYSnwQ4O0ocsD0uRHIJs2jBHj/+Mc/Pv35z39OhXfyS+I7vQmMDwg8AQHGw7FR5sH+vIuylQtC2oYXcAAOwIFrcwAB3rXjx/i7dvy0vrb9BeUlVJC4LhPR2U+X+DpW11K+ZL82HxjPxG9rDiDAg1Nbc2rUnr9ncZ/bn4+2HvApa4P9cR8dF5QnJltwQHOq/xv9h54tfMAGXIYD+3DA38ctz/38C9aGiU/PiI/3z/KvjBntE6mfzPdfuPAKnmetiwDvWN0DrZ0IAZsofXqUAE8b8r5dn0d8dyKS4MohCDAeDoH5v434h3rlWejde6F31gUofsE7OAAH4MC2HECAty2e8BM8ezmg/1b2z/Ov5rVJ19s25eApHHgGBxDgPSPOZx3P3OeO51+2ljjjF9Jn5Sx+Hc9ZMJ/HnH36eezgHdidnQPcz+scvQo+mZ9n5x7+1bl3BD4I8P4rSSDzNASySfMoAd7f//73dJNeb8XjzXdPYyL9ZTwcywEe7Ncvvo5Y4NEGcYYDcAAOPIsDCPCeFW/G93nirU21bG9h9Ny3337LP8b8ep64MsaIxZk4gAAPPq7kI/e54/mXrSEQ4B0fh5XjjrafE2/26Z8Ta8b182LN/bwe86vgk/nJeK7HFnx+/YQA71jdA62dCIFs0jxKgPfvf//7q0363//+958kQuIDAk9EgPFwbNR5sGdxyAIYDsABOAAH7scBBHj3iynj9Dox1Zfi33///VfP+Nl+Q3ZOwju9EZx4XyfexIpYHc0BBHhw7mjOxfa4zx3LwWy9gADv2BjEMcAx+O/FAfbp4dZe3MLuem5xP6/H4Cr4ZH4yvuqxBR8EeMeqHmjtVAhkk+ZRAjwBoZ+a/eMf//ib8I633p2KGjizAAHGw3Gg82DP4pAFMByAA3AADtyPAwjw7hdTxun1YvrLL7/89l+uEtR99913nySui/sOWovrmsq8f/8e4R1vvYMDcKDJAQR417sf3PUezn3uGC7GtYOOEeAdg/1dxy79Oi9/2Kc/b2wYN8TmVQ5wP69z6Cr4ZH6+yg3q17lxB3x4A95xmgdaAoGvEEB09xUcHDwcAcbDcQTgwf7+i7s7LFDpAzyFA3AADoxxAAHeGF7wC7zgAByAA3DgKhxAgAdXr8JV/ISrcAAOwIExDjx5n16i7p9//vnTjz/+mP7zkv5p6YcffvjtH5xUdpRbEi5H4Uz25nGVUztqz8rHtra0FW3vgYNwtb74VOdj+73HwsjbUl787a0/U66Gjdo2jsz8c1vNtvpmtiWimeGf+hvx0vErgvqazzN4bOVfNj5kuxXzV9uv4SHbMzEs9SXztXSuFuOsTq18C0M/h37zzTdfcU6c0C81aHx8+PChGY+srQyPbB5VLDRWNE+oXeun/inVfJgdR5lfVziHAO84zQMtgQAIgAAIgMByBLQA8n+8eWNsY+QKizt8JKZwAA7AgedxAAHe82LOOCfmcAAOwIFncAAB3jPizHgmznAADsCB53HA79Er/4R9egk6JMgwgUZPKmFJJvqojRmJPaJtb0PXS35Eu1vaMtt745C9jV3iGGt/NI3iHmErgcmonZ7ywiYT/MV4xmP1uSU02ht337/on47Vvi/Tk98Ljy39y2y1+pbV6cFnzxjKdubXyLlaHzI7tfIZhpqPNJdlYzyzb+c0plrjI7bXmvtUXr5k84O1a+nMPB79udIxArzlUggcAAEQAAEQAIHjEHjig/2VFmb4+rzNNmJOzOEAHNiCAwjw4NEWPMIGPIIDcAAOnI8DCPDOFxPGCTGBA3AADsCBLTjwtH36kuDNBBqtVG+0kiCkF/tozwR4siHs43U7zuzbNUtfsXUEDvLPfPXpCH6GQ+mNejO2zGaWyt6M8M73L7Nr547A3dpS6v2y/IjYam88zCefjvhnfVUdb8Pydr2UWjmfttrfO4alvngfW/laH7K6tfIRO5UdFd7FNm3uirZLx6X64mdtRTafVQAAIABJREFUHo317Hh0Hi/5dfbzCPCO0zzQEgiAAAiAAAgsR+BpD/ZnX4jhHxt2cAAOwAE4sAUHEODBoy14hA14BAfgABw4HwcQ4J0vJowTYgIH4AAcgANbcOBp+/T6uVkTYcRUogz7i9f8sQQ4vdj7esqb8KQlGsnsb2nrCBz0pqvos45n3lqXieJ0LsNp9pze/viqsKjFjSNw9/3P8O8VWx2Bxyv++X6qT5ktXybLZ3Va+Owdw1JfMl9L52p9yOrUynvcNHaz+jPnRsZvtK95dFZ8Z7ZaY9X3+6p5BHjLpRA4AAIgAAIgAALHIfC0B/urLtDwm408OAAH4AAcGOEAAjz4MsIXysIXOAAH4MB1OIAA7zqxYlwRKzgAB+AAHBjhwNP26SUqMgGG+i6BQulnd/XWNQnyrLxPe0Vkvo7yEo7oL57XsfxRexKBZTGMdV6xdRQO2dvC1Mesf7Vz2c9LKj61OiPXhEfWhjDXeYmF1F7kioRL4oL6qXItXhyFu/U9ckbHPWKro/CY9c/6Z6n6lNmy66U0q9PC5+gYyvfMz1KfWuczW60+y6a4ndXVORsfEsX59mVX12r1fPlSPtbXeItzs+ZNiSM1TtWu/jRH1kS1rfFa8ucq59W/cI//5+/evXv3kz/58ePH45QBtAQCIAACIAACILAbAv7+rnx8cLnKAgY/2dCCA3AADsABOPCFAwjwvmABL8ACDsABOAAH7sQBBHjw+U58pi/wGQ7AATjwhQNP3KeXeKNHcGI8yQQkJZGc1bE0CkckCPFCL+V1LgpXrL5Pt7Qlu0fgIDFM9FvHejue71stn9noxb9m164Jex8T768w6omNbKlcT9kjcLe++b5YvsX9I/Ewn3za8s/65lPV8TYs78tkeSvn0572j4yh/Pb+WT7rT885q+/TVp+96NDX0zhs1ZVPql8Swmn+a/nt21Q+jteaDfE5m8NlZ8t5pNWHFdcR4O0mccAwCIAACIAACJwPgSc+2K9YYNHml80ksAALOAAH4MD+HECAtz/G8BiM4QAcgANwYAUHEODBuxW8o014BwfgABzYnwPs07cxLgmSel4qUBOOCPsRIdqWtmbG1iwOmfCmJpiJvmXimZH60V48lpgqYqvjs7wdaxZ39TPrV0swdSQeM/7F+OlYfcpsZWX9uaxOCx9fvzf/SgzVRuZnb9uxXGar1edsDOuc+hXtl45VNrMjMV3LTuaznesdp9k8Ihu99Uv9OvN5BHjn00bgEQiAAAiAAAjshgAP9u0H+zMv3PCN+MEBOAAH4EDGAQR48CLjBefgBRyAA3Dg+hxAgHf9GDIOiSEcgANwAA5kHGCfvo8X+mlDE3xY2iMCs7IxleikR8DnYxZt2PGMLW93JD+Dg3AyXy2VEKe33fi2K9kYES7W2ikJt3piW7O79bUZ3OWD4e3TmtjqaDy8X5av+VfCteR3qbydtzZ9OtO+2aulszGUTe+f5Wtt1a5ZfZ/W+iwRly9r+VqdUvulN+kJm1Idnbc2YzoyTksiSAlOa21f+RoCvN0kDhgGARAAARAAgfMhwIN934P9lRd3+E6M4QAcgAPP4wACvOfFnHFOzOEAHIADz+AAArxnxJnxTJzhAByAA8/jAPv0fTHPBD7fffddU7gRBSN2PCIcsXFpdWM6Y8tsjqYzOEgsF33WcY8AMfv52R7ce/slW9G3Le33+tEqN4O7bMa+6bgmnDoaj1H/Sjhl+Mh2qbyd36p9s1dLMx97uZb5WWurdi2zVeNE9tY6vU2u1kbtWvYmOolsa3Uyn1Wn9ea8aDNre0QMHO2d/RgB3vm0EXgEAiAAAiAAArshwIN934P92Rdw+Ecc4QAcgANwwHMAAR588HwgDx/gAByAA/fhAAK8+8SScUks4QAcgANwwHOAffo+PmRvbuoRbmwlHFHMtrTlOTCSn8Uh+1nTHhFPJpiRqGTE51LZkjCwJkYq2dr7/CzuGWdK/VuBx4h/NYwzcZts1+ro2lbtt9rR9dkYlvzsaTMrM9LnzGfV1/nMds+5Es8kti3Vz3xuvTUvs5UJemU7K3uHcwjwdpM4YBgEQAAEQAAEzocAD/Z9D/Z3WOTRB2INB+AAHHgOBxDgPSfWjGtiDQfgABx4FgcQ4D0r3oxv4g0H4AAceA4H2Kfvj3UmAmmNlazO7E8ebmmr5XfteuZHrbyuZcKX1luvVC/+/OzMW69KvunNgbEvPaLKkr29z0dfddxqM6tTEuCtwGPEv1pfryDAk/9Zf2v9smuz9ay+TzNbI5zQPcPbm8nLRvSjJqiLZXVcE+yVfCqJ/14RFJbaOsN5BHjn00bgEQiAAAiAAAjshgAP9v0P9mdYqOED8YIDcAAOwIEeDiDAgyc9PKEMPIEDcAAOXI8DCPCuFzPGGTGDA3AADsCBHg6wT/+ZJ/opQ4lQJEKSQE4/DZmJRKIQpIVxLK/j2Z+M3dJWye+9cFB72U9Z1t5ml4n2et6aV+pbPJ+9Xa8mAor1tzzeC/eMMyWx1Qo8Rvyr4X0GAd5eMVS/M5xqeNSuZbZKnMjeXLnFGJGN6Eft53hjWR2XfK71vYTlrK1WW6uvI8DbTeKAYRAAARAAARA4HwI82LMBtHrxSftwEA7AATiwPQcQ4G2PKTwFUzgAB+AAHDgDBxDgwcMz8BAf4CEcgANwYHsOPH2fXgKFTGSSCT6ycy1OZnVmxR5b2op+742D2svesFZ7G2AmCNvyTVUS/ERMa4LAiNkWx3vjHvun4xL/VuAx4l8Nb/Ups1Wro2tZnRI+JVt7x7DkZ8mf1vmRPmci5C3GiGxEP2pvn4xldTwaJ8NlS1tm86ypcA73+H/+7t27dz/5kx8/fjyfggCPQAAEQAAEQAAEhhHw93flt3xwOutiB7+23yACUzCFA3AADpyLAwjwzhUPxgfxgANwAA7Aga04gAAPLm3FJezAJTgAB+DAuTjw1H16CROyN7Jl4ozauRafs7pnEo4chYNwKv38o85nOMafn60JdLL6rXNbxqbVVrx+FO4jfRwpG/sze7xVmysEeEfFUNhmOB2Bedbu7Pzl/R2N15Z+bGnL9+mMeXE03OMR4A2rGagAAiAAAiAAAhdBINz0EeD9eq6NlzMuFvEJjsABOAAHzs8BBHjnjxHjiBjBATgAB+DADAcQ4MGbGd5QB97AATgAB87Pgaft0+tnIltvvJPQS28D088k6q1t9pcJN1ocz+rMCli2tHU0DoZThn32k7zZz89m5czuTLolnr3tH437SB9Hyvb2t1VuqzZHBV3m10z7R8dQvmZ+Wh9G08xWaU4aKTvix2i8tvRjS1sjfV5RFgHeRQQTuAkCIAACIAACWyDwtAf7FYsr2jz/BhcxIkZwAA7cjQMI8OD03ThNf+A0HIADcOAzBxDgMRYYC3AADsABOHBPDjxtn179zQQYEtxJrCBxTYnrWb1SWTuf1SmJXaxOKd3S1tE4WJ8yYZ18seuWZj8/W4uN1RtJt8Szt92jcR/p40jZ3v62ym3V5qigy/yaaf/oGMrXzE/rw2ia2SrNSSNlR/wYjdeWfmxpa6TPK8oiwNtCzYANEAABEAABELgIAlqk+j9+gvaeGzgrFpW0CZfgAByAA+s4gABvHfbwHuzhAByAA3BgTw4gwINfe/IL2/ALDsABOLCOA36PXvk779PrjXZRfKGfOZUorIeDsa6OW/WyOiWxy1G2VuDg+5b99G/kXfz5Wb05z9vYIp/5IcHKFrYzGytwH+Hf0XgIoxH/Mkzt3Kigy+qNtr8ihiWcrA+j6UifM070zpc1vzTOoh+6/5TqxLI6Xj2Plnw903kEeBcRTOAmCIAACIAACGyBwJMe7M+04MKXdZtZYA/2cAAOPIEDCPDg+RN4Th/hORyAA0/kAAI8eP9E3tNneA8H4MATOPCUffoPHz68EXxIxBGFX7WYZyKQWnldy+qsFI6swsHjpJ+SjbhI2GRlsrfkbSH6MfuW6q2HNT+s3BbpKtxj/3Rc4t+ReBimI/5ZnSw9QoC3Kobqb4ZThkPPuczWCCe2+CnoTMhYE9mO+NzCYEtbrbZWX0eAt4WaARsgAAIgAAIgcBEEnvJgv3qBRftsFMIBOAAH4MCRHECAB9+O5BttwTc4AAfgwHEcQIB3HNbwGqzhAByAA3DgSA48ZZ8+E33pZ05HsM6EG636WZ2S2OUIW6tw8H3LhEx605aViT8/q7fh2bUt00wEpPGwZRtmaxXuI/w7Eg/DJXvD2ozA6wgB3qoYCqssjobhaJrZKs1Je3FC4yz6UYt7LKvjks8tPLa01Wpr9XUEeBcRTOAmCIAACIAACGyBwFMe7FcvsGifDTs4AAfgABw4kgMI8ODbkXyjLfgGB+AAHDiOAwjwjsMaXoM1HIADcAAOHMmBp+zTZ2/3Gn2rWibcaMUqq7NSOLIKh4iT3nYVsbG3Ecafn5UIKNbf4jh70558mo1PzadVuEeMa/07Eg/DKsNlJt6ZUEx9tXZK6Qg+ma9HzCHyPfOz1KfW+cxWifMlTthYbbWVXVdbmQ81m1n5ks9Zm/7clra83TPmEeBtoWbABgiAAAiAAAhcBIGnPNifcdGFT2ziwQE4AAfgwF4cQIAHt/biFnbhFhyAA3BgLQcQ4K3FH/6DPxyAA3AADuzFgafs00dRl0QYIwIOiUMy4UYrLlmdkXa9/S1srcLB90P5TNijN2BlOOuNebH+VscZHhJabWXf7GTtjPAgw0V8MPuldJQzmZ974GH+xrcdyl//NkQr10qzN+ltjU+GzRExVN+zOLYwKV3PbNX6kfW79nOxpXbtfCa+bcV81GdrK0u3tJXZP9M5BHgXEUzgJgiAAAiAAAhsgcBTHuzPtNjCFzbq4AAcgANwYG8OIMCDY3tzDPtwDA7AATiwhgMI8NbgDt/BHQ7AATgAB/bmwFP26V8VXWRCIdlsxefVdr39LWy9amMWB98Py0fRlLgY32Smc1Z+j7TUn9rPYc74sQr30XaPwsMwzH7WVT7XBGFW19KSDdmxMqV0BJ+Rsll7JWyzsvFcJoKrvTEu1vfHo/0o4Tv69j/5kAlv5Y+EYt7HmB/1Odb3x1va8nbPmEeAt4WaARsgAAIgAAIgcBEEnvJgf8ZFFz6xcQcH4AAcgAN7cQABHtzai1vYhVtwAA7AgbUcQIC3Fn/4D/5wAA7AATiwFweesk+vfkbhRe9PXUoMFOvacSsuVs6nI+Iib9/bsPyorVU4+H5YPhP2RFFeS5hjtmZTvV0vEzcJ3y3bXoW78cSnNc4chYfFS+153ywvvKxMLVWMrE6W1urqWlanhM+qGMrP7OdvNX5a/cuuj/RZ9X/55Zd0jGjcjIgAVTYba62338mHUZ+zftu5LW2ZzbOmCPAuIpjATRAAARAAARDYAgEtVv3fyELtrIsZ/GIjDA7AATgAB57OAQR4jIGnjwH6zxiAA3DgrhxAgAe378pt+gW34QAceDoH/B698nfdp8/ePtUjIJEYJxONmIijxR8r59OSwOcIW6twyPpWEl8ZVsJd4p+s7pbnMiGg+SCRZq8PKlcaP6twt374tMW/I/Dw8cvEZfJXP1Vaw77mp/XXt5PlrZxPS/isiqH8ztqWcK2GT9ZfnfN9tXypz2ajJHTUGG3VlQ29+a40j5bGjLU967Ov7/PWZ5/29MHbuEoeAd4WagZsgAAIgAAIgMBFEHjKg/1VFmL4yWYjHIADcAAObMEBBHjwaAseYQMewQE4AAfOxwEEeOeLCeOEmMABOAAH4MAWHHjKPr0EFl5wYXmJQiRSiFhKHJaJXqyepbFePLZyPp0Ve3gblh+1tQqHiIsdS2RlfYmp8Ldye6e1WIsjui4RkXhhvkj8JDwlBLN+KG/XfboK94ipjns4szcePdjIV4nMJIKUz/an4/imRIn4LAa+z76dLO/LWr6Ej85bGZ/uPYfI75IATjjommGjNJvPfN+975Yv9dnXq3FC+Gt8eEGg8jpXEliq7Zav1r756dMen62+T70Ny8/a8nbPmBe+4R7/z9+9e/fuJ3/y48ePF5EV4CYIgAAIgAAIgEANAX9/V77nvxzOuIDBJza64AAcgANwAA584QACvC9YwAuwgANwAA7AgTtxAAEefL4Tn+kLfIYDcAAOfOHAk/bpawISiWgkFNGf8ibMsFR1szdutbhk9X06K/bwNiw/Y2sFDiWcJNCxvsT06O+MarhE30rH4k+przX7Z+Rfzd9S/+P5Gh4eJ4nqYt3eY81hEnsdMT5rmOwVQ8Mpm5cyjCTKszpZmtXpnUdq/c/s1s71iu/Uh8xOr88Rgy1tRdtnO0aAV1MpcA0EQAAEQAAEbobAkx7sz7bowp8vG0xgARZwAA7AgW05gABvWzzhJ3jCATgAB+DAWTiAAA8unoWL+AEX4QAcgAPbcuBJ+/QS6ai/mQCjdk6iE/EuE/i0RGKZ3dXCkRU41MZtfJuZMOsVbtXszlxTjHuFTllsda7U7grcMx9H+LcnHhGnGXGXeCJcZSsbn7GNeDyKz4oYms81sWrsh9XJ0lhWx0dyQuN9pD314VWfPQ5b2vJ2z5hHgHczYQXdAQEQAAEQAIEaAk96sD/jwguftt2oAk/whANwAA585gACPMYCYwEOwAE4AAfuyQEEePeMK+OVuMIBOAAH4MAT9+l737YloYhELzZOJGaI4o2WkCSW13GrjrUX0y1tyfaROMS++GOJqGLfRt6O5W1tkbefH54R4klE5n+mNvPnSNwjrjP82xsPj1Gv4E+xUdlYN/bXX8/ysXwvPkfG0PutcdHDS18n5mf77O0YJzJbpXOaT2PMvM1aPrN5lnm05vfqawjwaioFroEACIAACIDAzRB44oP96sUW7bOhBgfgAByAA3tzAAEeHNubY9iHY3AADsCBNRxAgLcGd/gO7nAADsABOLA3B566Ty8BicQgEn95QYuOJaLywjuLgQQfUQjSEorF8jo+k3DkKBwMw5iq/YiRhDqx3Kpj8UBiK/FCfpmv4ozO6U88Ujl7E1uPr0fhbv76dJZ/6tdeeHjMSthortLY1JjLsFYcfD+Vb/U1lu+pY76W/Nx6DrH2LFXfbe7y/oufxkcrm6W+juVbOGV2dE6+KB6Ki+Jj9pTaGNH4yebTks3svLdr+Vmfrb5PZ21lvp7pHAK8mwkr6A4IgAAIgAAI1BB46oP9mRZf+MIGHhyAA3AADmzNAQR4cGprTmEPTsEBOAAHzsEBBHjniAPjgTjAATgAB+DA1hxgnx5Obc2pEXsS7nghjPItUeOIfcrCbzgAB57KAQR4NZUC10AABEAABEDgZgjwYM+i96mLXvoN9+EAHLgzBxDgwe8785u+wW84AAeezAEEePD/yfyn7/AfDsCBO3OAfXr4vYrf79+/fyO+O9Pb71bhQruMSTgAB7bgAAK8mwkr6A4IgAAIgAAI1BDgwZ4F5BYLSGzAIzgAB+DAuTiAAO9c8WB8EA84AAfgABzYigMI8ODSVlzCDlyCA3AADpyLA+zTnyseTxof4h5vv4N/T+I8fYXvR3IAAV5NpcA1EAABEAABELgZAjzYs9A8cqFJW/ANDsABOHAMBxDgHYMzfAZnOAAH4AAcOJoDCPDg3NGcoz04BwfgABw4hgPs0x+DM3z+Gufsp2fFRXD6GifwAA84AAdmOYAA72bCCroDAiAAAiAAAjUEeLBn0Ti7aKQe3IEDcAAOnJcDCPDOGxvGDbGBA3AADsCBVziAAA/+vMIf6sIfOAAH4MB5OcA+/Xljc9dxk4nv9Ca8v/71rwjwfoWPd+U9/YLbR3MAAV5NpcA1EAABEAABELgZAjzYs9g8erFJe3AODsABOLA/BxDg7Y8xPAZjOAAH4AAcWMEBBHjwbgXvaBPewQE4AAf25wD79PtjDI8/Y/zLL798KonvfvzxR8R3iO/gAByAAxtyAAHezYQVdAcEQAAEQAAEagjwYM+DPRsPcAAOwAE4cD8OIMC7X0wZp8QUDsABOAAHxAEEePCAuQAOwAE4AAfuyQH26e8Z17ONV73d7ttvv/2kN93FP3HwbP7iD+MCDsCBq3MAAV5NpcA1EAABEAABELgZAjzYs3i9+uIV/+EwHIADcOAtBxDgvcUEnoAJHIADcAAO3IEDCPDg8R14TB/gMRyAA3DgLQfYp3+LCTzZDhMJQL777rs3ojsT4Yl/ejMemG+HOViCJRyAA+IAArybCSvoDgiAAAiAAAjUEODBngUgDwFwAA7AAThwPw4gwLtfTBmnxBQOwAE4AAfEAQR48IC5AA7AATgAB+7JAfbp7xnXs4zX77//HvHdhj8peZa44gfzBhw4PwcQ4NVUClwDARAAARAAgZshwIP9+RdnLKCJERyAA3AADoxyAAEenBnlDOXhDByAA3DgGhxAgHeNODGeiBMcgANwAA6McoB9ejgzypmR8n/5y19SAZ7eiseb7+DeCJcoC1/gwBgHEODdTFhBd0AABEAABECghgAP9mMLJRaW4AUH4AAcgANX4AACPHh6BZ7iIzyFA3AADoxzAAHeOGbwDMzgAByAA3DgChxgnx6e7snTDx8+fCXA++abbz5JlLdnm9iG03AADsABfoK2plHgGgiAAAiAAAjcDgEe7FkAswCGA3AADsCB+3EAAd79Yso4JaZwAA7AATggDiDAgwfMBXAADsABOHBPDrBPf8+4nmm8imPffvvtb8I73noH387ETXyBj3fmAG/Au520gg6BAAiAAAiAQBkBHuxZ2N55YUvf4DccgANP5QACPLj/VO7Tb7gPB+DA3TmAAA+O353j9A+OwwE48FQOsE8P9/fmPqI7OLY3x7APx+DAWw4gwCtrFLgCAiAAAiAAArdDgAf7t4shFohgAgfgAByAA1fnAAI8OHx1DuM/HIYDcAAO5BxAgJfjAl/ABQ7AATgAB67OAfbp4fDVOYz/cBgOwAE48JYDCPBuJ62gQyAAAiAAAiBQRoAH+7eLIRaIYAIH4AAcgANX5wACPDh8dQ7jPxyGA3AADuQcQICX4wJfwAUOwAE4AAeuzgH26eHw1TmM/3AYDsABOPCWAwjwyhoFroAACIAACIDA7RDgwf7tYogFIpjAATgAB+DA1TmAAA8OX53D+A+H4QAcgAM5BxDg5bjAF3CBA3AADsCBq3OAfXo4fHUO4z8chgNwAA685QACvNtJK+gQCIAACIAACJQR4MH+7WKIBSKYwAE4AAfgwNU5gAAPDl+dw/gPh+EAHIADOQcQ4OW4wBdwgQNwAA7AgatzgH16OHx1DuM/HIYDcAAOvOUAAryyRoErIAACIAACIHA7BHiwf7sYYoEIJnAADsABOHB1DiDAg8NX5zD+w2E4AAfgQM4BBHg5LvAFXOAAHIADcODqHGCfHg5fncP4D4fhAByAA285gADvdtIKOgQCIAACIAACZQR4sH+7GGKBCCZwAA7AAThwdQ4gwIPDV+cw/sNhOAAH4EDOAQR4OS7wBVzgAByAA3Dg6hxgnx4OX53D+A+H4QAcgANvOYAAr6xR4AoIgAAIgAAI3A4BHuzfLoZYIIIJHIADcAAOXJ0DCPDg8NU5jP9wGA7AATiQcwABXo4LfAEXOAAH4AAcuDoH2KeHw1fnMP7DYTgAB+DAWw4gwLudtIIOgQAIgAAIgEAZAR7s3y6GWCCCCRyAA3AADlydAwjw4PDVOYz/cBgOwAE4kHMAAV6OC3wBFzgAB+AAHLg6B9inh8NX5zD+w2E4AAfgwFsOIMAraxS4AgIgAAIgAAK3Q4AH+7eLIRaIYAIH4AAcgANX5wACPDh8dQ7jPxyGA3AADuQcQICX4wJfwAUOwAE4AAeuzgH26eHw1TmM/3AYDsABOPCWAwjwbietoEMgAAIgAAIgUEaAB/u3iyEWiGACB+AAHIADV+cAAjw4fHUO4///Z+/tVTZJzqxdndO47Qy0Wd3OoAEx+ooBQYMsmY08ORra1XjliTbKaBBsaFOOXJ2A2AcgfzNHUJvVxT3f3fGuyIyI/IvM53qhiMifiLhjxZWZkZmr8oFhGIABGPAMYMDzusALusAADMAADNydAZ7Tw/DdGSZ+GIYBGICBtwxgwKt7FNiCAiiAAiiAAo9TgBv7t5MhJohoAgMwAAMwcHcGMODB8N0ZJn4YhgEYgAHPAAY8rwu8oAsMwAAMwMDdGeA5PQzfnWHih2EYgAEYeMsABrzHWSvoEAqgAAqgAArUFeDG/u1kiAkimsAADMAADNydAQx4MHx3hokfhmEABmDAM4ABz+sCL+gCAzAAAzBwdwZ4Tg/Dd2eY+GEYBmAABt4ygAGv7lFgCwqgAAqgAAo8TgFu7N9OhpggogkMwAAMwMDdGcCAB8N3Z5j4YRgGYAAGPAMY8Lwu8IIuMAADMAADd2eA5/QwfHeGiR+GYQAGYOAtAxjwHmetoEMogAIogAIoUFeAG/u3kyEmiGgCAzAAAzBwdwYw4MHw3RkmfhiGARiAAc8ABjyvC7ygCwzAAAzAwN0Z4Dk9DN+dYeKHYRiAARh4ywAGvLpHgS0ogAIogAIo8DgFuLF/OxligogmMAADMAADd2cAAx4M351h4odhGIABGPAMYMDzusALusAADMAADNydAZ7Tw/DdGSZ+GIYBGICBtwxgwHuctYIOoQAKoAAKoEBdAW7s306GmCCiCQzAAAzAwN0ZwIAHw3dnmPhhGAZgAAY8AxjwvC7wgi4wAAMwAAN3Z4Dn9DB8d4aJH4ZhAAZg4C0DGPDqHgW2oAAKoAAKoMDjFODG/u1kiAkimsAADMAADNydAQx4MHx3hokfhmEABmDAM4ABz+sCL+gCAzAAAzBwdwZ4Tg/Dd2eY+GEYBmAABt4ygAHvcdYKOoQCKIACKIACdQW4sX87GWKCiCYwAAMwAAN3ZwADHgzfnWHih2EYgAEY8AxgwPO6wAu6wAAMwAAM3J0BntPD8N0ZJn4YhgEYgIG3DGDAq3sU2IICKIBvoHXkAAAgAElEQVQCKIACj1OAG/u3kyEmiGgCAzAAAzBwdwYw4MHw3RkmfhiGARiAAc8ABjyvC7ygCwzAAAzAwN0Z4Dk9DN+dYeKHYRiAARh4ywAGvMdZK+gQCqAACqAACtQV4Mb+7WSICSKawAAMwAAM3J0BDHgwfHeGiR+GYQAGYMAzgAHP6wIv6AIDMAADMHB3BnhOD8N3Z5j4YRgGYAAG3jKAAa/uUWALCqAACqAACjxOAW7s306GmCCiCQzAAAzAwN0ZwIAHw3dnmPhhGAZgAAY8AxjwvC7wgi4wAAMwAAN3Z4Dn9DB8d4aJH4ZhAAZg4C0DGPAeZ62gQyiAAiiAAihQV4Ab+7eTISaIaAIDMAADMHB3BjDgwfDdGSZ+GIYBGIABzwAGPK8LvKALDMAADMDA3RngOT0M351h4odhGIABGHjLAAa8ukeBLSiAAiiAAijwOAW4sX87GWKCiCYwAAMwAAN3ZwADHgzfnWHih2EYgAEY8AxgwPO6wAu6wAAMwAAM3J0BntPD8N0ZJn4YhgEYgIG3DGDAe5y1gg6hAAqgAAqgQF0BbuzfToaYIKIJDMAADMDA3RnAgAfDd2eY+GEYBmAABjwDGPC8LvCCLjAAAzAAA3dngOf0MHx3hokfhmEABmDgLQPWgPfVV1/9OV/4f/Ob33z6/e9/zz80gAEYgAEYgIGbM5Cv78r/n//zfz598803/EMDGIABGIABGLgxA7/61a8+ldd4ru/Mb2AABmAABmDg/gx8/fXXP7vG//u//ztzthvP2Tgm739MMoaMIQzAwF4MlPfwPKeHrb3Yoh5YggEYgIHrGDDP6f/fX3z11Vd/Ky/8LH/1s4cd6IEeMAADMAADMAADMAADMAADMAADMAADMAADMAADMAADMAADMAADMAADMAADMAADMAADMAADMAADBQP/Hwa8r4CigALzIUzAAAzAAAzAAAzAAAzAAAzAAAzAAAzAAAzAAAzAAAzAAAzAAAzAAAzAAAzAAAzAAAzAAAzAwDoDGPAwn2FAhAEYgAEYgAEYgAEYgAEYgAEYgAEYgAEYgAEYgAEYgAEYgAEYgAEYgAEYgAEYgAEYgAEYgAEYGGDgJwPe/5ML/uY3v/n0+9//nn9oAAMwAAMwAAM3ZyBf35X/z//8z0/ffPMN/9AABmAABmAABm7MwH/8x3+8+d+GXN+Z38AADMAADMDA/Rn4+uuvf3aN/9WvfsWc7cZzNo7J+x+TjCFjCAMwsBcDPKeHpb1Yoh5YggEYgIF5GNA9e3GN/+cv3r1794e88uPHj5/4QwEUQAEUQAEUuL8C+fqu/IcPHz79+OOP/EMDGIABGIABGLgxA//1X/9V3tgznjceT+ZmzE1hAAZgAAaCgX/7t3/72TX+D3/4A9d4rvEwAAMwAAMw8AAGeE7PfC/me6SwAAMwAAPPYUD37MU1/m8Y8O7vr6AHKIACKIACKGAVKC76GPAe8LCGiflzJuaMJWMJAzAwygAGPNgZZYdysAMDMAADczOAAW/u8eH4YXxgAAZgAAZGGeA5PeyMskM52IEBGICBeRnAgGftCaxEARRAARRAgWcqwI39vJMyJsyMDQzAAAzAwCgDGPBgZ5QdysEODMAADMzNAAa8uceH44fxgQEYgAEYGGWA5/SwM8oO5WAHBmAABuZlAAPeM/0V9AoFUAAFUAAFrALc2M87KWPCzNjAAAzAAAyMMoABD3ZG2aEc7MAADMDA3AxgwJt7fDh+GB8YgAEYgIFRBnhODzuj7FAOdmAABmBgXgYw4Fl7AitRAAVQAAVQ4JkKcGM/76SMCTNjAwMwAAMwMMoABjzYGWWHcrADAzAAA3MzgAFv7vHh+GF8YAAGYAAGRhngOT3sjLJDOdiBARiAgXkZwID3TH8FvUIBFEABFEABqwA39vNOypgwMzYwAAMwAAOjDGDAg51RdigHOzAAAzAwNwMY8OYeH44fxgcGYAAGYGCUAZ7Tw84oO5SDHRiAARiYlwEMeNaewEoUQAEUQAEUeKYC3NjPOyljwszYwAAMwAAMjDKAAQ92RtmhHOzAAAzAwNwMYMCbe3w4fhgfGIABGICBUQZ4Tg87o+xQDnZgAAZgYF4GMOA9019Br1AABVAABVDAKsCN/byTMibMjA0MwAAMwMAoAxjwYGeUHcrBDgzAAAzMzQAGvLnHh+OH8YEBGIABGBhlgOf0sDPKDuVgBwZgAAbmZQADnrUnsBIFUAAFUAAFnqkAN/bzTsqYMDM2MAADMAADowxgwIOdUXYoBzswAAMwMDcDGPDmHh+OH8YHBmAABmBglAGe08POKDuUgx0YgAEYmJcBDHjP9FfQKxRAARRAARSwCnBjP++kjAkzYwMDMAADMDDKAAY82Bllh3KwAwMwAANzM4ABb+7x4fhhfGAABmAABkYZ4Dk97IyyQznYgQEYgIF5GcCAZ+0JrEQBFEABFECBZyrAjf28kzImzIwNDMAADMDAKAMY8GBnlB3KwQ4MwAAMzM0ABry5x4fjh/GBARiAARgYZYDn9LAzyg7lYAcGYAAG5mUAA94z/RX0CgVQAAVQAAWsAtzYzzspY8LM2MAADMAADIwygAEPdkbZoRzswAAMwMDcDGDAm3t8OH4YHxiAARiAgVEGeE4PO6PsUA52YAAGYGBeBjDgWXsCK1EABVAABVDgmQpwYz/vpIwJM2MDAzAAAzAwygAGPNgZZYdysAMDMAADczOAAW/u8eH4YXxgAAZgAAZGGeA5PeyMskM52IEBGICBeRnAgPdMfwW9QgEUQAEUQAGrADf2807KmDAzNjAAAzAAA6MMYMCDnVF2KAc7MAADMDA3Axjw5h4fjh/GBwZgAAZgYJQBntPDzig7lIMdGIABGJiXAQx41p7AShRAARRAARR4pgLc2M87KWPCzNjAAAzAAAyMMoABD3ZG2aEc7MAADMDA3AxgwJt7fDh+GB8YgAEYgIFRBnhODzuj7FAOdmAABmBgXgYw4D3TX0GvUAAFUAAFUMAqwI39vJMyJsyMDQzAAAzAwCgDGPBgZ5QdysEODMAADMzNAAa8z+Pzww8/fPrmm28+ffHFF5++/PLLT99+++0n2J2bXcaH8ZmRgRnOJTPEMOPYvGJMPKfnPPmK3NNnuIcBGHg6AxjwrD2BlSiAAiiAAijwTAW4sWdy+/TJLf2DcRiAgVdkAAMe3L8i9/QZ7mEABl6BAQx4nzn/5S9/+elf/uVffvYPEx7ngFc4B9DHfTmf4VwyQwxwtS9Xo3rynH6OcRgdP8oxfjAAAzAAA44BDHjP9FfQKxRAARRAARSwCnBjz4TQTQhZBxcwAAMwcG8GMODde/w4/hg/GIABGICBGgMY8H789P333//MeBdGPH0Jr6Yb6zmmYAAGSgZmOJfMEEOpC8vXHSs8p79Oe7hHexiAARiAgaMYwIBn7QmsRAEUQAEUQIFnKsCNPZPKoyaV1AtbMAADMHAdAxjwrtMe7tEeBmAABmDgSAYw4P346U9/+pM14MmId6T2e9b94cOHn3429/379z/1Zc+6qYtzEAy0MbDHuWTrsbxHDIx323jfQSee0z9nLO/AGzHCGwzAAAycwwAGvGf6K+gVCqAACqAAClgFuLE/Z4LFRBadYQAGYAAGzmQAAx68nckbbcEbDMAADJzHAAa8z1p/8cUXb0x4MrPdgUV9qS++2hfpHeImxvOOc7Q+T+st55K9juUtMcDKeaycoTXP6Z81nmcwQxswAwMwAAPzM4ABz9oTWIkCKIACKIACz1SAG/v5J2dMoBkjGIABGICBXgYw4MFMLzPsDzMwAAMwcA8GMOB9Hid9NSqbVvRsQz/leAeOw3SX0zvETYz3OEcwTn3jtOVcko/hyI/ovyWGkfYo08fImXrxnH7esTmTA9qCAxiAARh4FgMY8J7pr6BXKIACKIACKGAV4Mb+WRM5JuaMJwzAAAzAgBjAgAcHnAtgAAZgAAaeyQAGvP87rj/88MNPP0ern4C8E+9h1MnpneIn1v/LIFo8Q4vRc0k+hiM/ysRoDKPtUW5OdnlOP+e4cLwwLjAAAzAAA1sYwIBn7QmsRAEUQAEUQIFnKsCNPRPHLRNHysIPDMAADMzJAAa8OceF44VxgQEYgAEY2MoABrz7MxRGnZxu5YLy9+eCMbzfGOZjOPKM4/3GcaYx4zk9/MzEI7HAIwzAAAzswwAGvGf6K+gVCqAACqAAClgFuLHfZwLFRBQdYQAGYAAGZmIAAx48zsQjscAjDMAADOzHAAa8/bS8issw6uT0qlho9/48MYbXjWE+hiPPeFw3Hk/Qnuf08PMEjukDHMMADMDAzxnAgGftCaxEARRAARRAgWcqwI39zydCTAzRAwZgAAZg4AkMYMCD4ydwTB/gGAZgAAbeMoAB760md+MkjDo5vVsfiPf+HDKG28cwH8ORR9ftur6yhjynh59X5p++wz8MwMBTGcCA90x/Bb1CARRAARRAAasAN/ZMap86qaVfsA0DMPDKDGDAg/9X5p++wz8MwMCTGcCAd3++w6iT0yczS9/uzyxj6McwH8ORRyuvFbq06cJz+jad4AmdYAAGYAAG7sQABjxrT2AlCqAACqAACjxTAW7smajeaaJKrPAKAzAAA20MYMBr0wme0AkGYAAGYOBuDGDA+8xsmF1y+qc//enT0nhqe95f+W+//fZNmR9++OGTXpJ88803n/TMJMp8+eWXn96/f/9TGe2z1FZsc21Gfa3pWr+irUi///77n2L85S9/+Ukx53bUH/Xru+++a4o/6lxLP3z48Ol3v/vdJ7WZ2wvNpGepmdPGjcda29p+ZJ9b49R+0jZr0BL70j6tbasOjYH0U/uZW+XFrRuDpbZbt4mlGPsvvvjiZ+MfbSsujVFrnWv71XhT++q/4mllPPMaeelexuDGIvZvTV29aseVr+1bxlVbPnpcnB7u+N3zfFrr65PW65jJ/8T6k/pHX5h3wwAMwAAMvCIDGPCe6a+gVyiAAiiAAihgFcg39cpzY88E+BUnwPQZ7mEABp7GAAY8mH4a0/QHpmEABmDgMwMY8D7rMGJYkRGkLFcaRrRcmojKMlrWPmVZx6gzqbj6lta1GnFkcJIBbKmuvE3muFaTkuub1im2bDjL9Zf5UjOnTW88Z/R5jRttl8Gt7K+Wa7q1rtczurLekruRMVDMrTG4/VRecZQGzzLWcll8bjHiSY9W3tR2yZzrSxmjlt0x53h1ZZfWuXoVkytT29f1IdadOS5qq4y7ZFPLe55Po59PTnlOz3z3yXzTN/iGARh4VQYw4Fl7AitRAAVQAAVQ4JkKcGPPpPdVJ730G/ZhAAaezAAGPPh+Mt/0Db5hAAZemQEMeJ/5L40fWm4xrJTlwjAiM4mej5Tb15ZlBlLZGpNHmnZym3qp02J0cf2RKSrX1ZqXdq6+tXXRntOmZQwjvjP7XPaplZuIdUtaa1t16ktv5faW5S3/AVdj1Gu8K2MK/Xp00XiX9bQsyxy51I6rw3HoeHVll9a5ehWbK1Pbt9YX7X/2uJRxx7gedT6t9f1J63lOzxz3STzTF3iGARiAgc8MYMB7pr+CXqEACqAACqCAVYAbeybBTIJhAAZgAAaexwAGvOeNKccpYwoDMAADMCAGMOB95qA0fmi5xbBSlpNhZNQsEnUtGXwUU+w3mq71a+mrd3rmI5Og/ilfiyFMca3nmaU2a23k9SrvtFnra8S31P4Rfc6xKx9GoyVNtV/EuyUt29ZYqr4lDcoyblmGzd5fwRg1wbn2FX+rLvoyoqujZZ1iXmrH1eE4dLy6skvrXL2KzZWp7ev6ctW4lHEffT51fX/aOp1T8r/eY/RpetAf5r4wAAMwAANPYAADnrUnsBIFUAAFUAAFnqlAvqlXnht7JrRPmNDSBziGARh4dQYw4HEMvPoxQP85BmAABp7KAAa8z2yXxg8ttxhWynIyz8nQlNfrK1L6sphMP6pT/2QsWfq61JrJJ/OY24p83t6TV1xRR07DCFPWpZ//rH01TWXK/d1yzfglQ5fqLp8raVl1l1/oc/W0jOEVfc7aKq8YanHo2ZqYEi9Ov951Zduqu2xb2kpPMRtfZNRYa9npHHUqxth/La4lk1fZdtSl8VxqX9ti31qq+Ep2FL90zv2N8mpTHMbxuta/0CKnLRyqvVwm8hFHTxplc9oaw1Xj4vp/xfm0R+c77Mtzeuavd+CUGOEUBmAABvoYwID3TH8FvUIBFEABFEABqwA39n0TJSaW6AUDMAADMHAHBjDgwekdOCVGOIUBGICBfgYw4H3WLBtVIt9iWIl9Iy2NPTI21biUkadmJuoxW0XbOa21ubRe/c11KK/+lAY4V4cz7aisTFtu/1gnw1PZppb1bGmtrLZrP1c+1q2N4RV9Vt8jvkjFSWZHea1bM3uFjj1ptBlpblfrZHpa015M1LRf+oJjxKny0X5Oxf3amKkOlQ9DXC6v/NIxp7LaXpZRX1q0bomtrFvLLeUUmysbmvWkrp6WGK4cF9f/ks2lsd3rfNqj8x32Fdv5n8b4DnETY/98Ds3QDAZgAAZehwEMeNaewEoUQAEUQAEUeKYC+aZeeW7sX2fSxwSfsYYBGICB5zKAAe+5Y8txy9jCAAzAwGszgAHv8/iPGlZcuVinFyMtx1fNhNdaPtrLaUu75T56hpPrUL7nmY4zNunLYWU7edmZqBRHixlK9Wg/F3f0Y8105Moe3WfFHfFFmo1GimnNAJc17M1Hmy5t+YJctLek/Zrubty1rnXcFYP2dfVIy6V6yi9USoeeMY/+11Kn65oeUZcrG9t6UldPSwxOz7PGRf1zcce61vPh1vNpj8532Ffnk/xvT9bv0H9ifO05LuPP+MMADDyVAQx4z/RX0CsUQAEUQAEUsArkm3rlubFnkvvUSS79gm0YgIFXYgADHry/Eu/0Fd5hAAZeiQEMeJ95D5NHTlsMK3n/nF/6UlPJl8xC2YAV9bR8SUx1xf45LdtYW9ZLnFxe+Z4+RP2lgUf9im1l6gx72r/XfKb9y9hjeWkMr+hzaBDxlan6f/RztLLNWJYxLeJrTWvaL7HrdFcMS2NVi0daRfw5XTJ+umOtVv/I+hxH5Fv7Fvvn9KwYrh4X9TP3O+d7zkVbz6cjes9chuf0zGln5pPY4BMGYAAGxhjQvK24xv/tF+/evftDXvnx40f7Ep+VKIACKIACKIAC91IgX9+VP/rBIRO0sQkauqEbDMAADMBADwMY8OClhxf2hRcYgAEYuA8DGPA+j1U2e0S+xTQT++ZUBp+lL3C548N9tUlmNrdvuS63Hflyn7Xl8qtgI31QGzI+RQyR6mdmXfulWU/79xhtcp1OP9W3NIZX9DliDm3KdLT/UW9LWrYZy73Gx2jLGSlVZ+0YcOPe8+W9aDdSN/biN7aXafQ3p7VYy7Ity7neyC9xmOuM/XOat7fmc/nIr8Vw9biobxFrTkfORY6J1vNpq8Z32Y/n9PeZj92FKeL056q1c+zTdMvn6ci/mgZPG1P6c6/rBQa8e/kmiBYFUAAFUAAFNinAjf29JmpMrBkvGIABGICBFgYw4MFJCyfsAycwAAMwcD8GMOB9HrN4eZjTlheJef/IL319q3aMyKQW5XNa2z+vz/tHPm9fy7uvmI0aoqRZxBCp06P25bJRE5hrV+3XxvCKPudxCG1yOmI0ynW25nObkV/6Yt1avU5L1asXg2XZ2rhv+c+7tfZrxk89t4x+R7qn8THqzGmNw1KfXCby5T4ty1E2p0sxzDAu6leON/Lu/LGmwZbz6Vrdd9vOc/r7zcvuxtgrxhvnp5wunWOfqFHue+RfTYMnjit9us81AwPeJhsDhVEABVAABVDgXgpwY3+fSRoTasYKBmAABmCglQEMeLDSygr7wQoMwAAM3IsBDHifxyteHua05UVi3j/yNePP0rFRMxG1GJOi3ZwutVVu0wucXFb5kT6oXn1JrKzL/bSp+2qa26+MdWm5bFfLtTG8os85dhfrFhNcrnst79reakArvyaoNpyJ0427niOuxby23ZnqasYtF4Pi3apBxOj0rXEYZSJ1ZWNbT+rqWYrBaXL2uKh/Lu6Rc9GW82mPznfYl+f095qT3YEpYvTnqqVz7BM1c+frV9PgieNKn+5zzcCAdy/fBNGiAAqgAAqgwCYFuLG/zySNCTVjBQMwAAMw0MoABjxYaWWF/WAFBmAABu7FAAa8z+M1+iJxtJw7TkbrcuVc/bV17ucaZWCp7b+2vozH/fSjzGblfjXD1Fp7sb2sT8u1l8FX9DniVOpi3csAlttxedd2TSdX3q1zBi5nqDxi3BWP2Cn75drXvjKJ6muD5f5aFqvqy5afpHX1turryjq919a5epZimGFc1KfeuJd02LOupXZm38Zz+nvNyWbnifi2zRmfpB/nWM4tT+L5jn3BgLfJxkBhFEABFEABFLiXAtzYM/m+44SVmOEWBmAABpYZwIC3rA/8oA8MwAAMwMBdGcCA95nd0ReJo+UcL6N1uXKu/to69/UyV+eWdWXbrs2RL13lel18NdORa9+V37Iux1bmXb21WMuyW5ePaFtjV9Yrk1sZq54ZlvvpBWK5X++y+6KhM35GvS7eMi6ZNEfGpKxHy631uLIRc0/q6lmKYZZx6Y17SZM961pqZ/ZtPKdnfjo7o3eMj/PLvobpOzJAzJxbr2YAA969fBNEiwIogAIogAKbFODGnsnn1ZNP2odBGIABGNifAQx4+2sKp2gKAzAAAzAwAwMY8D5zOPoydbScG/vRulw5V39tnYxKro4915Vtu7qXDEJlebfcU+cVfc4x98Say+2RP6JtjZ2rt4zX7bN13NVGa/s5Hr24rH0JL8cps2ZPjLls5FvLx/45zTG35nP5yC/FEPvkdGn/1jhUR64z8rXysT2no3HkOiI/Wlct3jus5zk9c82ZOf3w4cNPXx2Nr3DOHGuOLc4pOX2180vue+RfTYPMBHnOtWczgAFvk42BwiiAAiiAAihwLwW4sWeyefZkk/ZgDgZgAAaOZwAD3vEawzEawwAMwAAMXMEABrzP3MXLw5y2vEjM+0e+pZwb6yif05a68v6Rd/XX1kWZI9OybddWS1/LevJyT51u373X5djKvGtra//LNmrLR7St2F29ZQxunz363dp+GY9+arn1a4gyiLT8NO2WPrqyZcwty66eJZ1792+JQfv0jsuecexZV2t/Z9yP5/TMLWfkUjE5I/yssZZxcX7hC3glEyxzrj2bAQx49/JNEC0KoAAKoAAKbFKAG3smm2dPNmkP5mAABmDgeAYw4B2vMRyjMQzAAAzAwBUMYMD7zN3oy9TRcm6sR+ty5Vz9tXWuvExJe/373e9+9+YnRl2bSwahWux5fU+dbt+9+qt6XJ9HY83l9si7vm/VvtVodUTb0qS1/Zp+Kq+fnF37Ip6eea6Z8Lb00ZWtxby03tWzNMa9+y+1nbf1jsuecexZV+7T3fI8p2duOSuz7hidNdYyLhf70jm2LP+EZTTg3PIEju/cBwx4m2wMFEYBFEABFECBeynAjT2T7ztPXIkdfmEABmDAM4ABz+sCL+gCAzAAAzBwdwYw4H1mePRF4mg5x81oXa6cq7+2bmv5Wr1L653R6bvvvntj1Fuqo9zm+lF7Ie72Les7ctm1X4t17ziOaFtjV9YrI2IZu/vi0dZxVxt6CVm2r+eTZftryzLXqS4XZ9Tv+pXrjf1y2jq2uUzkc92t+Sib06UYXH+vGJccb+SX4l7SI8rndLSupXZm38ZzeuapszKaj83IzxprGVfEm9NXO7/kvkf+1TQouWCZ8+2ZDGDAu5dvgmhRAAVQAAVQYJMC3Ngz0Txzoklb8AYDMAAD5zCAAe8cneEZnWEABmAABs5mAAPeZ+bi5WFOW14k5v0j31LOjXOUz2lLXXn/yLv6a+tkKIpykeqnOWv777Hetfntt99uajNiz2lNP9f+0X3OuuUYI1+LNZfbIx/t5XRr2xq7XJ/yzqjmdN867tJEXxws29dPxm7RSwY0ZxRVO0t6lXGs7Z9jdGXz9ta8q2cp5lnGpTfuJT32rGupndm38ZyeeeWsjLpjdNZYy7hc7Evn2LL8E5bRgHPLEzi+cx8w4G2yMVAYBVAABVAABe6lADf2TL7vPHEldviFARiAAc8ABjyvC7ygCwzAAAzAwN0ZwID3meHRF4mj5Rw3o3W5cq7+2jr99GZZxx5fv6q1p/WuTWfYWqojb5N5ruyDlmsvxF37R/c5x9sTay63R961vbXvrQYuZ5TTc8St/VIdZb/2MPbpi3ju63BL5r4yDi3XOCz77cqW+7Qsu3qWYphlXHrjXtJiz7qW2pl9G8/pmafOyqg7RmeNtYzLxb50ji3LP2EZDTi3PIHjO/cBA969fBNEiwIogAIogAKbFODGnsn3nSeuxA6/MAADMOAZwIDndYEXdIEBGIABGLg7AxjwPjM8+iJxtJzjZrQuV87VX1vnvl4mg1pt/z3W66WRi1uGp5H6ZSBz9dVeiF/R59yvnlhzuT3yrm0ZsEbr7jE/1sbpw4cPw+1rjF2fttSZtXAxy5SX98l5F0uNw1xOeVe23Kdl2dWzFIPro+rYouHIuPTGvaTFnnUttTP7Np7TM0+dlVF3jM4aaxmXi33pHFuWf8IyGnBueQLHd+4DBrxNNgYKowAKoAAKoMC9FODGnsn3nSeuxA6/MAADMOAZwIDndYEXdIEBGIABGLg7AxjwPjM8+iJxtJzjZrQuV87VX1tXM1Ad+ZOstTZHv1rmvsAmXWovxGvtH9nnrL8bs1qsudweede2DGWj5kdnZtRPt9ZidT/ruvRFuVo9sV5lyz4tGeSiXE9a1q/lWnm3b+vYurK1dpbWu3rWYphhXEbirumwZ121Nu6wnuf0zFNn5dQdo7PGWsblYl87x5Z13H0ZDTi33J3hu8ePAe9evgmiRQEUQAEUQHxroLEAACAASURBVIFNCnBjz+T77pNX4odhGIABGHjLAAa8t5rACZrAAAzAAAw8gQEMeJ85Hn2ROFrOsTNalzPO9H65yhnYtpiiXP/Kdc44pb70GsH00ttpp3VLL8Sv6HNo4OJdijXK7ZG6trVuxPwow6Ljb6kuZ9hT+/oKW2//al9u00vJ3rqW9nea1fZ3+7aOrdOy91hWXCMxzDAuI3EfMQ61Ou+4nuf0zFVn4HbpOu2Oe7eu5Tyq+YOuC/qqq67x5U+Ia52+8KtrRO9cI+vYGp/O3zq3ql0di1FOec2BtG00jqgrpy0a5X4oXxubcr9yObcb+d72jx4v1zdpXvZF+4mLPC8s92GZc+lsDGDA22RjoDAKoAAKoAAK3EsBbuyZjM42GSUemIQBGICB7QxgwNuuIRyiIQzAAAzAwIwMYMD7zGW8PMxpy4vEvH/kW8o5FqJ8Tlvqyi8Mo6x7wejajHVqJ8rm9Mifoq21qf5EXGupXt4601L0YUm/WvtH9jn6E/HldCnWKLdHmtss8z0mOGmfDQVR15qJsjZmKtdjNtO+buz3/vqd42SJ0dAhp61ju8exLEZy25Ffi2GGcYlYc7oWd+2YyHVEfrSuWht3WM9zeuaeM3CqYy+Ow9F06fjVNmfqX2pL14/euVJo6erN8en65M7nrpzWyTCoc3DU35K6unIMLXVoH5Vxda2Vd2Va29d+Z4yXNC3jzGOu7bU41vrPds6tVzOAAe9evgmiRQEUQAEUQIFNCnBjz+Tz6skn7cMgDMAADOzPAAa8/TWFUzSFARiAARiYgQEMeJ85LF/QabnlReJoOTf2o3XJMFaWHflJUVeP6tXLyZGfZm0pU3vxqRfXay+j9YK7/LpNqcPaGF7RZ419GaeW12J1zIysc23ndfnldK1+ja0z36melvJ6aZjbjLwMES06yCjozHeqZ83Ep7Zb2lDfxaDr51Ifoy85bW3P8ThyLOe2I98Sw5XjIr0j1py2xO04zXVEfrQuV/9d1vGcnrnmDKzq2IvjcDStHb+1eURrOy3zjVJDV3fEVzuPujJ5nc71a9evHEcuG/mIIe+3lq+NzVq5aDOnLe2fPV45PuXj+l27vsf+a/1nO+fWqxnQuaa4xv/tF+/evftDXvnx48dNL/spjAIogAIogAIoMIcC+fqufM+Nw9WTFtpn4gwDMAADMAADngEMeF4XeEEXGIABGICBuzOAAe8zw/HCLactLxLz/pFvKee4ifI5bamr9rJXL3O1TXXEPy27trVu7WWkzEEq74x1Kqs29GJTL1dljlJaayvWq1zNRKc69FWYUgMtl0al2pdmyrLRbqRX9Flt5zGO/FqsEfPWNNrLaWlm0/M8N9Z6xqcxKfePulrGPOIvxzDqUKrxlMlO4xP7K691tbFWuSW+o57grdbH2E9txb45NvU9xxX7R5r3jXzr2Cr+KJPT3mM5l418awxXjYv0i1hz2hp36B9priPyo3VFnXdMeU7PPHUGbnXsxXE4mtaOX12TanXqehH/avtofc+1S3q6uhSf5kBuW+s6XV9a36W5OmsaLTFQG5ulMksarJU7e7xKncKAp3NjuS0vr/WD7Zxbr2ZAc8biGo8Bbw6LBFGgAAqgAAqgwP4KFBf95puGqycstM+kGQZgAAZgAAbqDGDAq2sDN2gDAzAAAzBwZwYw4H3mN790i3zLi8zYN6ct5RwzuY7It9ZVM0RFPZHKyOPajnVrhrSopyVVTFHvUqqXza3xu3ZVVqZAt61Fvyv6PBrrko6t21zbeom3ZQxUp54HLhnTXHxLZi8X59K6FvOdWHN1qO9h0lgy+KmsjHmuL7HO1d/CYZRvHYelY3lrDGePS/R9a9xRj9I968r13i3Pc3rmqLMy647RkVjzeV2861pQM7EtmbhbriERn4u9NN/pXK5zqdqMa6PmKlpeOseqnPuPDtF2pC6GnmtN1KMyrq7YXktdmZb2zx6vMk6NUzlWsY/40Rxg6fpa04P1nGvPZkDnrOIajwFvf7sDNaIACqAACqDAHAoUF/3qDc/ZExLaYxIMAzAAAzAAA+MMYMAb1w7u0A4GYAAGYGBmBjDgfeYzXr7ltOVFYt4/8i3lHBNRPqetdemFbi63lHdt53V6UayvwSzV0bqt9hI8t6e89tPzpNZ6Yz+9JI02Yl1OW/U7u885xsi3xlpq17sc7eVUbUvHVvNXLqu8zARhMOiNRy/CR9tV22KgVbsl00PZp3JZMbYYNMpyWm6NT9rtcSxvjUFxnDkuwcwecR9RV9R5x5Tn9MxBZ+XWHe+jsWrO0nOeddeCHtOViz2vk4lrzUSna67azOUir/JrWsS+Oe3RIOpXmVxH5GN7LY39ctra/pnjleNTvry26dqudaNzmJo+rOfcezQDGPDm8EMQBQqgAAqgAAqcogA39kwuj55cUj+MwQAMwMD5DGDAO19zOEdzGIABGICBMxjAgPeZs/IFnZZbXiSOlnNju7UuvYhpMTK5tt069X/ta2AuZq1THL2mLL38LF+M1urXev2MWX5h6vZdewFe9vusPrtYW3gr4x1ZXmpbejpjgiujdXoGuEfcGqeedtW2jAvipUcDxTpiLlWZVpacVr0abT2W94hBup41LjGGe8Wt+vasK+K7Y8pzeuaSs3LrjtGzYtW1zs2XwtC/FoeLPdbpWrZWPrYrDh2jUTana9eNvG/k18pEuzlVmSif07yPy+d9Iz/Svqu7XLdlvCK2SPO4S/vWa3sZE8ucW69mAAPeKXYHGkEBFEABFECBORTgxp7J59WTT9qHQRiAARjYnwEMePtrCqdoCgMwAAMwMAMDGPA+cxgv5nLa8iIx7x/5lnJu7KN8Tnvr0ktKmZJK45zMSlrXa1hSnHo5qXIyIdVeFKtubdd+vTGXWqgPeqlUtqc+RBvuhWnWLfJl3a3LR/c54svpVt1a+5bbjHzZdvRf45pfViuvdTI/thoVWuPSfjH2MjCUrOW29ZW4nnrLfaMd9UP9KdvKPDvWyvrycmia01LfvH8tv+VYzm1HfiSGiC30OnpcItacjsad64j8aF2hwx1TntMz15yV2zguc3pmrDr/57aVb50jleViWcebzpc9/dC1NMrnVNehpXryvpEfOcepTJTP6VLb2pb3jfxI+2vtxPbR8YrYylRziiPmMREvKefeoxnAgDeHH4IoUAAFUAAFUOAUBbixZ3J59OSS+mEMBmAABs5nAAPe+ZrDOZrDAAzAAAycwQAGPDg7g7Mz2nAvV89o925tlDpp+ciX5nfTh3g5Jz6JAZ7Tw/OsPLtr0ZmxOuPZmukt4nOxb7mW1r4Au2QAdzGMXMudDqo7+lpL92q/Vn+53sXZMl4uTq1rNVuWcbDMOXUWBjDgnWJ3oBEUQAEUQAEUmEMBbuyZhM4yCSUOWIQBGICB/RjAgLeflnCJljAAAzAAAzMxgAEPHmficTSW0Rezo+3duZx7GT3y0v7OGhA7571XYYDn9LA+K+vuWnRmrO7Lc/rSbksMLnYday1l3T4y2rk6l0xibv+Ra7mbP6luF2det1f7uc6l/Oh4uTj19bveLxUuxcY2zrNXMIABbw4/BFGgAAqgAAqgwCkKcGPPhPOKCSdtwh0MwAAMHMsABrxj9YVf9IUBGIABGLiKAQx4sHcVe3u2q5fU5UtW/VzZnm08pa5SJy2PvLR/ih70g3PgkxngOT18z8q3uxadHetoDK7cklmupV86Vst69WW8WtlyXy2PXMvvYsCTDq7PNX1ivSvz/v37qq5RjpRz5+wMYMA7xe5AIyiAAiiAAigwhwLc2DM5nX1ySnwwCgMwAAP9DGDA69cMztAMBmAABmDgDgxgwIPTO3C6FqO+WlO+ZP3uu+94wfrjW75LnbQ88tJ+bUzY/lZ7NEGTsxngOT3Mnc1ca3vuWtRatmU/feFM1zYZ42S40s+VOpNbGUdL3WWZPa6j+k8DZb1LP7Fa7jsawywGvKPGy+m01SzZwgj7cO49mgEMeHP4IYgCBVAABVAABU5RgBt7JpdHTy6pH8ZgAAZg4HwGMOCdrzmcozkMwAAMwMAZDGDAg7MzODuyDff1O/282JFt3rlu9zIaAx7ngTszTex1fnlOX9cGbq7Vxl2L9hgTmVJkuHP1t6xricHVs/U6qrjLepfmMuW+Wh6J4WoD3tHjtZdOLVywz7XnlFfTHwPeKXYHGkEBFEABFECBORTgxp6J5qtNdukvzMMADLwCAxjw4PwVOKePcA4DMPCKDGDAg/s7c//hw4dPekFdvmDl6yZ1rkutRl/a35kbYq/zgTbP0obn9M8azycdn+5atKV/MqO4r+G6dpbWtcTgyo+Y33JbvUa4vWLobTdi3tr+WeO1Nc7oLynn0tkYwIA3hx+CKFAABVAABVDgFAW4sWcyOttklHhgEgZgAAa2M4ABb7uGcIiGMAADMAADMzKAAQ8ur+Yyfh5OZrqeWPQTs858p3X6KbOeul5pX15Gc8y/Eu+v3lee03O8z3oMuGvRSKy63q998U7GPP2cq37mVXOO+DcagyuHAa/tC3xnj9cRYzXCKWU4F+/NAAa8U+wONIICKIACKIACcyjAjT2Tyb0nk9QHUzAAAzBwPQMY8K4fA44DxgAGYAAGYOAIBjDgwdURXPXUqedI8YJUeb0Yl7nOmehk0tP2XCbKRrr1JXhP7HfcN3TKKZpxHrgjy8S8zi3P6dc1gqNrNMrXoMiPjEVtPiDDnQwqbi4R7US7OY1tS2neP/Jbr6MqH3XltBZH3ifyIzH0thvxRJs5bWn/7PHK8UW+Jc7oJ+k15wd0X9cdA94cfgiiQAEUQAEUQIFTFODGfn1yxAQSjWAABmAABu7GAAY8mL0bs8QLszAAAzDQxgAGvDad4OkYnb7//nv7wjlekvamehnFWC2PldOUl9HLmsEU+tyVAZ7Tw+6s7LprUW+s+qJdWY++gisTf0tdZVktj5bbeh1VzGU8MhHW4in31fJIDCrj6qq1G+tdmbX2rxivkTijj6ScP2dmAAPeKXYHGkEBFEABFECBORTgxp6J6cwTU2KDTxiAARgYYwAD3phu8IZuMAADMAADszOAAQ9Gr2RUL4/cy9Hedfp5ud6fsL2y31e27bRde2l+Zby0zTkKBsYZ4Dn9uHZwd6x27lrUo3nNwN8zFxiNwZXbeh3V133LevXTujVNyn21PBKDyri6au3Geldmqf2rxqs3zugf6bHHP/pu1xcD3hx+CKJAARRAARRAgVMU4MZ+++SJCSgawgAMwAAMzMYABjyYnI1J4oFJGIABGNiHAQx4++gIj+M66oWtXjK7l6Rr62S800tr9G/X32m69NIcbdu1RSu0mo0BntPD5GxMRjzuWhTbWlJnWPvmm2+65gOjMbhyrV/dq/VNX7sr612a32j+07N/rd2zDHhXjVepkZaZ83BerB0Pd1qPAe8UuwONoAAKoAAKoMAcCnBjzwT2ThNVYoVXGIABGGhjAANem07whE4wAAMwAAN3YwADHszOwuwPP/zwSS+T9JJWL6Ldy2U9c9I27dPzlZtZ+jhDHLyM5pifgUNiOIdDntOfozM89+vsrkU9OjrDWq8JbjQGV67X/Jf7OvJ1ONd//cRrrrcl734WVv1bK+s0WDK2uXjPGK/eONf6zfb+Yx3NjtEMA94cfgiiQAEUQAEUQIFTFODG/pgJFRNVdIUBGIABGLiSAQx48Hclf7QNfzAAAzBwHAMY8I7TFm7RFgZgAAZg4EoGeE4Pf1fyt9S2M0Yt7V9u++KLL958AW7JAFaWl4l/NAZXTvHoPxKU7bQsu6/D6T8hLJWV4a+MY62Mq8/9ZwfV6/bN68q2tbyk/1Xj1Rtn7iN5zp8zM4AB7xS7A42gAAqgAAqgwBwKcGPPxHTmiSmxwScMwAAMjDGAAW9MN3hDNxiAARiAgdkZwIAHo7MzSnwwCgMwAANjDPCcfkw3eDteN2fI6vmy7VZjlTOwqc6WsXdta93IF+hqX7+TKW8pFmfaUwxLJriyvlodLTo4DZba7t2/jHV0vLa2W8bB8vHnBjRu0xgD3hx+CKJAARRAARRAgVMU4Ma+bYLERBKdYAAGYAAG7sQABjx4vROvxAqvMAADMNDOAAa8dq3gCq1gAAZgAAbuxADP6eF1Vl7dT5Kumc5yX8R2aa5qNcDJKFaWjeXcRi0f+7pUpphauXK9vpjn+tHyNb2acU/1le24ZcXp4o91rkxeF/vldMmA5/p5xnjl+CK/FGfuI3nOnzMzgAHvFLsDjaAACqAACqDAHApoMp3/9fzPpZknNMTGhBsGYAAGYOCVGcCAB/+vzD99h38YgIEnM4ABD76fzDd9g28YgIFXZiA/o1ee5/QcD7McD+6LZvo51NafcXXlZVxbY1zmK/f1vTBntegT+0Za1tdiJFScOiajjpy2mviciVH1vH//flHHpS/fRRxrOsR+OV0ytl01Xjm+yC/FudZvtnMOnYUBDHhz+CGIAgVQAAVQAAVOUYAbeyahs0xCiQMWYQAGYGA/BjDg7aclXKIlDMAADMDATAxgwIPHmXgkFniEARiAgf0Y4Dn9flrC5b5a1r7AJhOetskkFf+cIU3bwlCVU5nh3P76YpwzgeWyyreMc1lGhrbSDKd+aH02eymG7777bjEOxdgSg/apaaD41L6+MBcaKtWy1uf4FbcMe3md8msxlPtrOfe1LF+L9ejx6o2zjJvlfY979NxPT53nimv8337x7t27P+SVHz9+PMUUQCMogAIogAIogALHKpCv78qv/a8jJl37TbrQEi1hAAZgAAaOYgADHmwdxRb1whYMwAAMXMsABrxr9Yd/9IcBGIABGDiKAZ7Tw9ZRbO1Rb/nlOGeW0jqZxlx7S4Y61S1zmf65dlTWfQnOtVOuK+NUPfpyn2un3Hdpucd8FzHJVLdU59I2nR8U94gOrt4lA57ivWK8RuIMbUk5f87MAAa8Y30O1I4CKIACKIACUynAjT0T05knpsQGnzAAAzAwxgAGvDHd4A3dYAAGYAAGZmcAAx6Mzs4o8cEoDMAADIwxwHP6Md3g7Rzd9DU4Z5By69yYyDwmxt3+S+vC6OaMZy0fkyjrVj2Kb+lnZcsy5XLU4fq5tm7J2Fa2E8syJsbP/Tod1tqMenK6ZsC7YrxyfJFfi3Ot72w/5/yAzss6Y8CbyhZBMCiAAiiAAihwrALc2C9PjJg4og8MwAAMwMAdGcCAB7d35JaY4RYGYAAG1hnAgLeuERyhEQzAAAzAwB0Z4Dk93M7OrUwkLV+OW+pH61fg9CU9mf6iLrUdpqxI18xZMpHFvpFm85y2t8aj8jLCrbUZ8S6liqFFR+2T41WdZxnwIv5WffYYrxijnO6hd/SFlHPsVQxgwDvW5/Bytf/9739/c3HTiZM/FEABFECBORTgxp5J51WTTtp9HfbyTXPkr7h5jrZzekUcsP867F851hjwPGf5+I885wGv1ZX80jZjAgMwAAN1BjDg1bWBG7SBARiAARi4MwM8p4ffO/Ar05pMYDKjxXMVpTJgaV1pGHN9+v777/+3jmxEU3l9IS4b76K8nt3k9pSXqSW2u9SVcc+Aok/v37//2Vf6cp8Us2tjdF1NA50HpIH6prjK+p0Bz/Uplyt10/JamVy+Fuve47U1zhwzec6nMzGAAW8OP8RjosCA95ihpCMogAIPVYAbeyaiM01EieWZPM5y8zxLHHD+TM5nG1cMeJ4zzgNel9n4JR7GCQZgAAbqDGDAq2sDN2gDAzAAAzBwZwZ4Tg+/d+aX2OEXBmAABjwDGPAearC4qlsY8PqVl2Z//vOff/r3xz/+8dNvf/vbn/79+te/fuPuzy+Qvv7665/2k/td5f/6179++uc//9kfACV2USCPzV55scEfCuytADf2fkLERBFdYGA/Btx1sOd/2e01FrPEsVd/qGc/Rp+oJQY8zwfnAa/LE48B+sRYwwAMPJUBDHiw/VS26RdswwAMvDoDPKfnGHj1Y4D+cwzAAAw8kQEMeHs7G168Pgx4/QC4l0Jb1smY99///d+f/vGPf/QHQ4lhBbaMWa0sBrzh4aDgggLc2DOhfeKElj7NxbW7rmHAm2uMOGaeNx4Y8PyYznI+4pjz44Mu6AIDMAAD6wxgwFvXCI7QCAZgAAZg4I4M8Jwebu/ILTHDLQzAAAwsM4ABb8GkwKZ+BTDg9WvmXgrttU5f08PE1T8mIyX2GrNcD2M3MhKUWVOAG/vliRETR/SBge0M5GtZ5DHgbdcVNtFwiQEMeJ6POAfl9Irz0dLYsc2PHbqgCwzAAAx8ZgADHscCxwIMwAAMwMAzGeA5/TPHleOVcYUBGICB12YAA96aU4HtXQpgwOuS66ed88ugo/L6mdr/+Z//6Q/ughL6cp9+UlcxS4+7/B0xdhjw7jL694qTG/vXnvgx8b/f+H/48OGna+L79+9/ui7eYQzdNfEKw8sscdxhzIjxfueGcsww4PkxfPXzwB2vISXbLHu20QVdYOB1GMCA9zpjzXHNWMMADMDAazHAc/rXGm+Ob8YbBmAABl6DAQx49/JNTB8tBrz+IXIvhWRAk5ZLpjlt0z5hVvvXf/3Xn17Mu/q0Tttn/1la/XxuGX+/oteUKOPWcoyjxmnk39L4X9NLWn2CAtzYv8YEj4n8M8b5yy+/fHNdvMPYumsiBrxnMHkH/l41Rgx4/hib5Xx0BZd3vYZcoRVt+uMHXdAFBuZgAAPeHOPA8cA4wAAMwAAM7M0Az+lham+mqA+mYAAGYOB6BjDgPcFNMVEfZDJyLzkmCnG6UJxe0nHk7y9/+csn/eysq1PrZjfhubhHdLiijIt9dByviJ82X0cBbuyvn3wxAWYMWhlw15bWslfu5+LGgAf3VzL5Cm1jwPPH2CznoysYdH2/Ig7a9GyiC7rAAAy0MoABD1ZaWWE/WIEBGICBezHAc/p7jRfHF+MFAzAAAzDQwgAGvNfxXJzSUwx4/TK7FyNbjVsy4tW+iKf1//znP/sDPaGE0+KEZndpwsW+dRx3CYxKUKBQgBt7JogtE0T2mYMTd225w9i4uDHgzcHUHfghxjFWMOB53WY5H13Btev7FXHQpmcTXdAFBmCglQEMeLDSygr7wQoMwAAM3IsBntPfa7w4vhgvGIABGICBFgYw4BXGBBa3KYABr18/92JkD+OWfr7017/+tf0antbP+Oe0mDFOF5OLfY9xdG2xDgW2KMCNPRPElgki+8zBibu23GFsXNwY8OZg6g78EOMYKxjwvG6znI+u4Nr1/Yo4aNOziS7oAgMw0MoABjxYaWWF/WAFBmAABu7FAM/p7zVeHF+MFwzAAAzAQAsDGPC2uBgo+0YBDHhvJFld4V6M7GXcWjLh/fnPf16N7ewdnBZnxzDanot9r3EcjYlyKOAU4MaeCWLLBJF95uDEXVvuMDYubgx4czB1B36IcYwVDHhet1nOR1dw7fp+RRy06dlEF3SBARhoZQADHqy0ssJ+sAIDMAAD92KA5/T3Gi+OL8YLBmAABmCghQEMeM6dwLphBTDg9UvnXozsadySCc/9HK3WadtMf06LmeJbisXFvuc4LrXNNhToUYAbeyaILRNE9pmDE3dtucPYuLgx4M3B1B34IcYxVjDged1mOR9dwbXr+xVx0KZnE13QBQZgoJUBDHiw0soK+8EKDMAADNyLAZ7T32u8OL4YLxiAARiAgRYGMOD1uBbYd1UBDHirEr3Zwb0Y2du49Ze//MX+FO1sX8FzWrwRbNIVLva9x3HSrhPWzRTgxp4JYssEkX3m4MRdW+4wNi5uDHhzMHUHfohxjBUMeF63Wc5HV3Dt+n5FHLTp2UQXdIEBGGhlAAMerLSywn6wAgMwAAP3YoDn9PcaL44vxgsGYAAGYKCFgWkMeM64VTMH/eMf//ikbb/97W8//frXv/5fY5Hy33777SeZjfb6spfq+etf//rpv//7v39q7+uvv/7f9vRAWzH88Y9/HG6ztd+KQ/1SW7nPikd9lh579Tm8JNI5+p2/oKa8+q02//nPf8buP6WuP9Kp5+9ozV0sua/5RUX0VTqIgyP+cnuRP8K4lbmJdrSu5e+IMamxErG1pK06HRF/qZuLtzW+sq6lZaebO1dqP50vdKxGbEv1nqGRi91pVDsexauORW1v+QsNSvalieopz18tddb2UV1xXSqvE2pfY3HUOaQWU209N/ZMEFsmiFv2kdEqzjuROvPVhw8fPv3ud7/79Mtf/vJn+4tRrdf2ljhU9zfffPNJ5aI9papX9Xz//fdN9ZRt5boi7/pRliuXnR6qr3W/aLslbYnvhx9++PTdd9/9r/ZffvnlG92kp24StG8ZZ8uyi9XFpjHWPFZjlcdP+ffv3/+0bTQGxdkaR0ufxFHEWmqmeKWZdG2pi304Dx/BAAY8z1XreSCuSflc9MUXX/x0ftKxv+Vc5MZ773NK7Vrj+l9b587TLvZYt3cfol7XF41BbI9U++ncm+cRsa0lzddCjXXWJV+HRucRSzEEbzl2ta/ri65/7hrcqstSu3nb1eOnY0r9LOdwocERx536f1S/s7YufwZvmeHI9x7Xit2xpvpcv5bW1TiPc6vm6cyd/LWr1BUDXptOpW4so9ssDBx9DXDn7SPmTrPoSRwc209iQPcd+Z/mT0/qH33heIUBGIABGHhFBqYx4MlQEQ+IIi1NJTJTZDNJ7OdSGadUXqaSkT+1pRsVV3dtXbTZ057iK+sr+61l1V3uVy6PtO9i7dFZMWhMwsiismVcWm75O0vzHIu4a2VK/dhL4xyD00ta7P1X+wpejJ1r78gxqbHi9KitW9PpyPhLvVyMa/GVdbQsr50ztL127nL1n6mRWCt1yhppey32spwMdLXzu+osTXdl+VhWPVv+FLPMdVHfWipz3tVGvHxTrzw39kyA954A68VmeSzkl3/arpfL5T5uWS/maqYH1SmGXblynerp7ep+YgAAIABJREFU7WdZh5ZzP1rrcw/DVVdZvrafi6O2bik+bWvVPerXC1L34L6MvVyO8jnNsem8U5oO8r5lfomDsu28XNaj5RxH3reWF68yB7i63DoZB3iZzHm1xtOR6zHgee7ccZrPA63no9HzYTnmR51T1CfX1551WZcy7rx8VB+iDV33y7jztUjba9ezqKOWqqzqKo3UZXvlsq4D6net3tb10rj1+lcy58Z45Hpz9fhJK42B+lfqXC6XGrTq7PY7ut+uzbN5K/XTcutxneN3rKmuvM9SvvW8GvHuOc5Lcd15GwY8f42/85gS+/PH9MxrgNqKc2qke82dYPX5rDLG144xz+mv1R/+0R8GYAAGYOAIBqYx4MkAETcIkWYjmkwSsb4nlQmj9WtJYcLQDUpPG+W+MnTVjCHRRk7L8tFv1dFqIsl19LafYxnVWcY0mV70L8cS+dyGy5+tuWKoGdIi5lqqWPf8c+1kU9JebYkn15Z0cH9Hj0mNFRdjbd2STkfHX2rmYlyKryzfs1y21XrOKNs4WyO1X8YeGuk83WI0zuV1fizPtdIi79OS1zlz5E/HTm/MEY9Me1f9cWPPhPKICWVZZ7Aeabz80wu5lheuUU6pmNUD5dzGyPlLL7xzHWv5HEPkox9rZfP21peYtf2i7Za0Fl/NqNBSp/aRduUY5D6WeVdvxKabD7d9bZ3MEuKnbGtp2dUZcSyVi22KtZfXaFNmjaiHlPPuGQxgwPOcxTGZ0zgPjF5Les6HeeyPPKeoT7mPI/nQJcdc5o/sQ26rjF9jpe3Sfsl8n+so8+pfr/GuFkdZd8vyCG9qP64nboxbxizHNvv4lXrHcu88JPdZ+bP6ndu9grfQK6e9jKgPjjXVmftXy0vr3H5rXnPVWp2s//ETBjx/jYcNdJmVgRmuAXvMnWbVl7g49p/EAM/p4flJPNMXeIYBGICBzwzo2Uhxjf/bL969e/eHvPLjx4+n+ATKBzNhiuj5ulBZh5ZlkOgx4S2Z0BRT/HNtxTrd5LT+RZlIZSAZNd9FHT3tR5x76Fwzv0QbtfRszfUFqtCqN60Z1mp9W1vv2g9T0lrZ3u1it2yvZgQ6ekzUxzKW3uUlnY6Ov9Texb4UX1m+Z7lsKwx4a4bdso2zNVL7LvYR813Uk891S/2J/Wtp7TgoNYvlpfOlxiGuE0tj0ttmtL01zdd35XsNLUygmES3MFAeazpWR8x3UU9+KaevocX63jReYo/0QW0d+RKz9rKzp4+1+JY000vt+LfUVh6DNf1cPYpNHLhtretkhus5Z7l6axqVfRIrrrzW6dwZmilf26+Ht7J9ljnX9jKAAc8z445PnQeWzouuTF7Xcz6McTz6nKI+5RhH8mvnx6P7EFopLePX9UPrl865KpPryPlRU1AZh5ZHzu1L2rk2ynUq78Z4bcyyBksx7H1dK+PX+K2ZJ8sy5fLIcaf+n9nv0Psq3krNtNzDSMTvWFNdsb2W6ouMLoaWddKsVi/rMeDBgJ/joMucusxyDdg6d4KvOfliXJ43LpqH5389z7zg4Xk8MKaMKQzAAAw8gwHdE+Tr+1dffTWXAa80dMlMJ9OCDFTx5SP9BKCWlwwR+tm/2H/NvCAzSDwgknlChquagU/tOlOTyrcataKtSHWDVNap+GUuUXsy9eiftNH6KFemre1LjyXttK00EklL1/fa16Bm0lyxuzg11upTyYn6Lu1D63L7Wt/WtpfjpuVS77U6WreXx5PaEmvu7+zjQDE4LVxsLevOjt/FftQ4lm1pXN3Yar8wg4nf8u9sjdR+GXs+tmKbmNT5S/rpn/LlOTH2Vap9dOzmdcrHtSLqWTtnar+Wv5rWWu/OD7pG1cyBKnP2X3HR7zKzMPl7xuTvjHEsj0cZHcqvzsjApImoXvLpn/JaV5aNZe3jXuzpxarWRz2aR5VtRR1KtV+LBrlM5FvL5vpVJsrnNO9Ty+f9I1/bd2m9HuBFeZ0DpHXtoZ60rI2Dyi21E9uirZxqXPKyzHQxdvE1Kf08nNpfelmucq0/A5jbi3zLGJaxRlmtj1ijr0oVT83MozJ5X/KcR49iAAOeZyuO35yWx6vOK1rXcy1pPR9qvK86p+Q+R36Uv7P7EPFGqvZrMei6puuWrv2ufxqrqKdMy+tQlNe1YulapG2x71paqye4K6/HWlZftT3H6+ppuaYpvpp2Wn/EdS3HrbzMc+XcQuN15HF3Rb/V5pW8lbpruZWRzLHKuLryPmVeHJXMqg4dnzq3lpypDY1/zNnL7WX9r77MF/D8Nf7VuaD/83Ex0zVA1/ja9X9t7gRb87HFmDx3THQ85n/lvQFj/9yxZ2wZWxiAARh4LgO6L8jX96kMeKVJSjcNMjIs/clQUvvikMq3/mnfVjOG6nQGNmd4ce2XD7bKfi8ZNGT2cG2rztb2a2YS6Sg91/5kfCljLvu0Voe2n6W566/66owzZdw9TJRla8ulVlo+oh217/q+xMlZYxLaOC1i20h6Zvwu9qPGsWxL45qPQeW1roXpMzXSGJaxl3Evaeb4VX0y54njqFvH89K1YqmeNc4UX7QTqfrQcq6UkTDKRKqyS7GuxTOyvbjoV004TP6eO/k7Y2yD8UjzCznll14G6rwU5XIaL9djnVheMmIt1dOiQbST06W4a3WOvMSMunLbkY9tvalefvfE717018wNZSwRay3VWC6NnerTQ8d4KVvWo/Jlm265LKflNQ3ceInZloeg7oWLyq711cXOOs7BvQxgwPPMuPNAXqdrRU1rGULcuVDlW8+HV55Tcj8jX+vr0vor+hDxRqpxKucSWrdm2tG5O+rIqcZv7XogTZauRUvshJ4yHuV2I782h1F5XTu0X5RxaUsfZhi/PHbqx5J2exx30u+Kfl/N2ygjwWukTjvVHdtdqjEt2xe/a8eo6mrh2LX5Susw4Plr/CsxQF/nZ2C2a4DOy/n6q7zWtZyX4W1+3hij54yR5kv5n84ljO9zxpexZCxhAAZg4DUZmNqAlx/eyGTW+ifTSc2Et2TuaK3f7ac2s5EkYm8xZcS+Lm39il3NhLdWvhZ3qyEttFA/XfyxLvbbM63Fvqa5+5LWWpk94y7rCo1yehSnzjykdvf6Gx2TaD9rEPnYdka6Jf6IN6dHjWNuQ/l87lkzn23VcYtGaruMPZZbTWw181zU03ruqp0z18xw7trSc/5w8evreGf+5Zt65bmxf80J4NET/zgmy1QPfVuYcy/xcl1it+XBcc040WKIyu1FfuQF4chLzBifaDense3oVPrmB/YRQ8v4xb4u1Zi0xq4YNNaunpaxGCnn2mvpc/TJsasvvMR2Us65RzGAAc+z5c4DsU4PQ1rGo3YtkblqrfyV55ToZ07X4nXbr+hDjln5fD1SPC3XcfXFGbm1rmUOEVpoX1ePYlqrx5VT/GvlcttO/9Cn5Vroyh99XYv4XLr1uGstf0W/3XifyZvTu4WR4C3Skblr+YVDxdLDWbRN6q9lGPC8LvCCLjMxMNs1YHTuNJOmxMIx/goMaM6a/zF/gvtX4J4+wjkMwMDTGbiFAU+Gqd4/mSjcwye9FDvqz/3EoMwWa38uTq1rKRt110wxa/11ZhC13WMoiRhqdam+o/5GNM9mpdD+qPha6o0YcnqUcetoA576OzImoVPWIPKx7ax0NP6Id690qb+1NlpNbEt1t2wb1Uh112LXlzRb//LX7nJ96v+agS7aqJ0zl8677gt2S/tHW2Vaxq+4z/zLN/XKc2PPZPeIyW4+NnO+xawQ8bgH2KpLD5JbX7zrBXd+8ByxaH4U7dTS2DenZ73EjJhy25GPbWekMo5Fu5GOaqfyOue0mg6ifzpHRds5bfkKXt4/8ktjqBuj2C/Slv5GrJGW7IrB2EbKOfcoBjDgebbiWC7TnmO7di1ZMxRffU4p+6zlXv6u6oOLXet0Pm2du7rYVcfSdaCmT+1atGSwFmNlP3rmMBGL5jxlPbG81henQQ/7EUPvdS3iK9OetmvHnb7oG3HV0iv67dpU/9fGyPVhhDfVU+o92r5idnW5WGOdm2/HNlJ/ferRBQPedg179GZf9O5lYNZrgM7lPXOn3n6zP8cKDGxngOf02zWEQzSEARiAARiYjQHdHxTX+L/94t27d3/IKz9+/HiKN8A94NG6VkNFGWTNECbjxRF/ztzUYh50/ZYhozdO90WnpZ8XlQalEUSx9HxtsNTR1ac6j/ob0dzp3av1nv1x8dzZgDcyJqGn0yK2nZWOxu9i37Juqb+1ekfMYEvt1LaNaqT6XOwt58kcS+3c3nvucudMvRSq/ZVfzxw5T6tuZ2DsMSDW4mtdn6/vyre+xJxtAkM8c0+q3bHeYpjK4+peXKveNcNDrkN59+Wilpe3rg8jL1FHXmJGH1wMse2M1MXeMo4ubq0b0a82hqpvzYjp4liKofx6i15W9BoGFa8zLvaYT88YW9qY+xw6Mj4Y8PyYuvPAyLHtriUyJS2N1dXnFNf3pXjdtqv64GLXuh4DV2kaU/neOUTWxDEglvI+Oe/a74k/1+XaVn+WrmkqP9P4nXXcXdVvN95n8qZ+u+NmjZHMWeRVxtUV213q9h+ZQ7m6WffjJwx4/hoPG+gyCwOzXgN0bh6de8yiLXFwnD+dAZ7Tw/jTGad/MA4DMPCKDExvwNNNwuhf7St4az/LOtqevhpXPnRaM8CprbKMlmXQ6P2TgcPVVavHmWhUftTwqHacsUR1HvU3orn7CcmzjEtOBzdmGpsj/mpjvmdbI2MS7TstYttZ6Wj8LvYt65b66+odNYMttVPbNqqR6nOx956Taxz3HjfunFkzA7rrSa/hL/R08Y+c86O+3pQbeya8Z0x43bGuSWdP27WXf70vEmV8KuPRC+m1WMoyWu5tW23U+rHWvra7GFrK7bWP+wKLXi6s1e/i1rlnrVxte+3rP2svE1wctTF0bYy+OHdjvvSVpFq/Wc/5uocBDHieF3ceGDke3bVEddfGaIZziut7LV63/so+uNh7DFzu+qU6t/zHE6eH6nQG61r7qsNpvbbOXVfUdu2apvpcvGdd19z4nXHcXdXv2nifxVvw43RfYiTKlWmNt3K/vKx5Xtn+2jwtlyfvr2GhCwa8ZX1CJ1J0uoKBma8BPXOnK7SjTY5ZGPix/DrOpvsV9OSYggEYgAEYgIE5GJjegLfVGFV+sUgPhEZNEy0mh/KBk5bX/lyZka8hOYOI6pZZxv25r0jJnLblzxlaWjTY0qbTb6k+12/VsZW1pTaXtrn4e41ES/XnbW58WkyiuY6WvOvTkeVa6u7ZZyR+V2bLuqV4Xb1bzMpLbdW2uRhq++b1rlyv6VdfrHT15HZa8s5IWPs5WPfzsyPnacXl4q8Z/1r60bsPBrw5JmBPnwi7Y7T3pbO+muHq6dXOPRBf+mJN1O/aPusl5lIMse2s1Omw1rYrs/UlrHuxu2YkcHHUxlA3ReX+zlSx1ndtd+y2mD5b6mYfzuE1BjDgeTbK41rLtfNATVutd2Ym1VUz2MxwTnF9X+pjue3KPrjYW75eG33QNaesY4sRPOp11yJnLHPtb70OlP3R8hLLs43fyDW197jTOF3RbzfeZ/IWfPYyEuXKVFy5usr98rLTQHVofd6PvL9WremCAW9MtzVd2Y6uezDgzn+zXAN65k57aEEdHFMw0M+Azhf5X+3+Em37tUUzNIMBGIABGLiKAT2bytf3r776aq6foN1qRHJmq1Gjg0wTikd16uZK9bivqZUPqtbMEeX+Wh7td09dzpy49StMitvFsKZBbfsRmqtOmWxcnDKjaXy1z1l/Lo7R8V+LeY/j4YgxibidFrFtr/So+F3s0ltjOfJvqb+1tpbK9Gw7SiPF4GLviS32Pbse93O1vcbBiN3pcIQRNreX88VFv/ri+KqJCe0+Y1LsjtGRsb2yHtf20ovuWv9GXmJGXS6G2LZHKqOY4tO8Vg/nZQ7QOcK1m9ettZ33jfyIdrkdGRyirkjXzAyxX05rccjMl/dTvtc0muMt62r5cmAuT/4Z58IzxxEDnmemPBa1XDsPrI1XT10znFNcvGt9zNuv7IOLvcfIo2taWYczyuX+tuRbr0VHtF/2R8tLLM82fkuxLml/h34fMd7SpJW30K9XqyhXphorV1e5X17WnFL/wcWV0xxIx6/2yWXI++uW0wUDXrtWTj/Wod+RDMx8DeiZOx2pEXVzDMJAnQGe09e1gRu0gQEYgAEYuCsDjzfguS9+1b5wlA0KOa8vH+mGxT1IalmX63J5V8eoAaunLmceHP2iU/RLcbsYYntrerTmjosybhluRsehtZ/ar2xXy0e160xErV+EPHpMalr0aLm079HxnzmOR7V1tEZ7jrHTYGn8a9ta63GGZVd2y7pajHuv58aeSesZk1Z3LIy0e2U9ru2Rl8cjLzFDKxdDbNuS6gbAvShw7bl1a227MiPa5XbcF23WvmTYE4fMfG7/Pdfl/pDnXLw3AxjwPFPuGB49H/XUNcM5xcXbw92VfXCx94ybM5PrOtLTf7evuxY5g7XTbuQLcDmGXk1cDK6OLetyfDnv6uwZvy11XdHvq3kLvfbSXWPl6op2aqkYd+XyOhlDR1motfsK6zHg+Wv8K4w9fZx/7J92DYC5+ZljjJ41Rjynf9Z4cnwynjAAAzAAA2JAzw+La/yzvoC3xRAmM4q+SpQfFo3k18wTrs5RA1ZPXT37rvUhtm/RW3WcpXm0VfsSXtZGxpvR8QhdltLcVuSPas+ZLvWVtqW/M8ck+p/Tpdhatp0Vf4458keNY9Sf0y1tnaWRxivHHPmWcSz3ibI5LfdpWc7lI+/K7XEtiPprqWv3iHXFRZ8v4P3IhPCImwLH+Ug7V9bj2h55YTj6ElN6uRhGdIwymvjLKODq7VkX9dVSV9eIdrn+ER174thDF9deXpf7Q55z794MYMDzTOVjMPKj56Mon9NaXTOcU3Kcke/h7so+RLw5rWnt+pTLRb6nvKtT61RH1JfTcv+8LfJb2496crpU553HL+uZ+xv52fodceV0Kcbcv6W86sh1Rr5WJrbndCSO3nZzPJpr1r6El+OSUXIkttzWK+Ux4Plr/CsxQF/nZSCf2yK/x/mt91wcbed0jzhgb172GJtnjA3P6Z8xjhyPjCMMwAAMwEBmAAOecTfo5xfXvngnM4aMWfrJVhmY4l++yYm8aeJnq2K/nI6aaXIdka/VFdtzWtv3ZwEvLKh8ri/yC0V+2nS25hGPfkKy9ctWYkJx7v0XGuV06zi4GNXX3Ebka21dMSYRU05dX1rWnR1/jjnyNW1b4l/aJ+rP6UhbZ2ukPuWYI7/U19q2KJvT2r5L63P5yLv9Y9uRqWv3iHXc2DMRzBPBo/LuWBlp68p6XNsjD7B7H5xnnVwMeXtrXj/5tfbFO72o18tQ/dyZ5jzxbyQGV2ZEu9y/ER174nD77r0u94c85+K9GcCA55lyx/Ho+ainLrfv3uvWGHLtrZXJ2135vdfl9nLetdMzblvL51hyvvVadET7vXW6/fdel7XJeddOz/htqcu1vfe6HJ/yrv7R/ua6W3mLMnvF0dtutB/p999//9Oc0sVTrtP8lJ+m9dev0FMpBrx1jbJe5NHrTAbK85qW73wNOFM72uJYhYEfy6/j8B/l+Y/ym7/aznHFuRUGYAAGrmcAA55xN7ivhOnmSUYtfSlqyYTlbrpMEz9b5cqMmGlUaU9dPfv+LOCFBcXt6l0o8tOmszUv41Hc+inWtS/iKc6l8S/rbVl2eo2O/1J7MomWbS39HPMVY1LGp+XRv7Pjd7EfMY7SY6+2ztaoFvvIGDsNjqzHtadrwl7/ZOY+6w8D3vWTr1eYALtjZqTfV9bj2h55kL7lJaaLYURHHfeuLhnudDOw9OLTlVuLwZUZ0S63M6JjTxxuX+mz1z8ZG3N/yHMu3psBDHieKXdsj56Peupy++51PlE9LecUF0MPd678WX1wbfeM29byNZ1ar0VHtN9bp9v/LuOX9Xf9WGLB7X90v12bSzHm/i3lW3mLOvaKo7fdaL9MVY9+cnbti3iapy7NRct6X3EZA56/xr8iC/R5Phb2OveWY9t7Lj4qjjIuludjkDG595jwnP7e48fxx/jBAAzAAAw4Bh5vwPvrX//65oWjDBO1P5kgyhsWmZRUT8tfWVbLa3+uzKhxp6cuZzZr7WetT4rbxVDbX+uv0LwWj8x1az/HucRPrd6l9U6v0fFfasf9hKZMh+7vqjFxWrj41tZdEb+L/YhxVN/3aOsKjWqxr42n2+40cPutrWutp3W/tfZm2M6NPRNCNyHce507ZkbauLIe17Yegvf2o/fBea7fxZC3t+Rl0ijr0YvQ7777rqkvZVktr7Xryoxol9tRvGW9eqGe9ynz5f5arsXh9i3rY5nz58wMYMDzfLpju3YeWBvfnrrcvmv17719awxby2/pj2u7Z9zcz6+2XveW4tYDtDI2za3LMs5wtLX9sl0tL2ni9i/jPGrZtb0U61IcvXW5/Zfq32Pb1bxFH1zfR3RXGVdXtNObylynY8fpFO2szel623za/hjw/DX+aeNMf+45zu7ctvWaLxZa5xzBTZxPczpyDYj6SO/JI+N2v3HjOf29xmzveTLH7L3Gn/FivGAABloZeLwBz331q2agqv1E5z/+8Y9mz0S+yYn8WuHYL6ejxp1cR+RrdUmH2CdS6bXlT21FXTmt1XmV5rV48nqZEZ1JUf2qaZrLt+azTpHfs37FIVNh1J1T186VY5Jji3yrjrHfVfFHvDl1+kacW9LcRuR72rpKI/U54s3piBa5fOSPrMedL6XjHf+4sWeS2DpJ3LJfHJc5Hakvl4/8WfVEezkdeYC95eFMbjvyPf3XT4BFuZx++PDhjVmgVm8uF/navrE+9svpiHZRn1L9JG6uT3n9bFnep8yX+2u5Fode/Jb7S7+yTpY5h87KAAY8z2Z5XC+dB9bGtqeuGc4pLt61PubtV/bBxV47f+eYI+9i13Ukto+mztTurkVHtN+riYvhrOtab6xL49Fb1xX9dm2eyVvo16tVlCvTLXPXsq5yWaYUZ1BV7D3HeFnv05cx4Plr/NPHnf7dY9yfdg2Au3twxzg9Z5x4Tn+vsTxynsxxfS8WGC/GCwZgYImB6Q14W7/I5kwTNZOZM+vVvhBWM124B161fWO9K9Njpol6lPbUpb6V++snKbf8abzKOrVc+7tK81o85Xp9Ec99OU4PU/f6c3qNjr+LSX1wRsLaWF85Jk4L16eldVfF72Lfcxxzn7e2dZVG6oOLPfetNX92Pe58ufX61NrXvffjxp6J4dLEcK9t7hgdqfvKetz/ZB95mbrl4czW/ivesg79FFjPWJTltbxW3pXZ+hWAkRcbLo7ay13pUu6/NeY1ndjO+XhPBjDgeZ7K41rLtfPA2nj01DXDOcXFu9bHvP3KPrjYe8bNGeU0B879G8mrjjI2Nzdw2uk6NtKmytQM9UuauBjOuq6VGml5KdYlXXrruqLfV/MW+s0wd41YllJ9Ec/F6sysS/W80jYMeP4a/0oM0Nd5GZjlGtB7vYSpeZlibF5rbHhOf6/x1j2NO99y3N5rHBkvxgsGYOBoBqY34OlnEkf/al95qplinFmv12DhLr5r8bsytRj3rKv2VbQtX3VyP2up/tX+rtK8Fo9b70yFMuXt9bfn+LuY3Mt3tVlj7MoxcVq4Pi2tuyp+F3tN46X4W7ZtbesqjdQ3F3tLn8t9zq5nD9Ni2YerlrmxZ3J59ORS9btjdKTdK+txhi89XO/th3sgr3611LO1/64PvS/fR2JwZfRCvKXPbp+a8WDtS34ujpoBwM2XtsTs+sE6zr9HMoABz/PVcx5YG5+eumY4p7h41/qYt1/ZBxd77fydY468rnWujrXrRpR3ae1li6vT/Wyc4pHxyNW9tq7WnyVN7jx+WQ83jrP1uzY+jo3ct6V8D29Rj5v3nT13jVjWUqeZTHlr5V51OwY8f41/VR7o91w8uPOZrl1nXwN6r5dwNBdHjMfrjgfP6e819rU5OsfwvcaR8WK8YAAGjmZgegOejE76gtfInzNM6EtgtT/3lbAeA41+qtbd7NTai/WuTE+7UY/Snrqkq9t/1PRY+9Ka2qj9XaV5LZ7aeqdTbd/e9a7u0fEv23Zf7VJ7ehhf+7tyTJwWtThr66+K38W+1ziWfd3a1lUaqR8u9rJ/Lctn11MzdG8xLLf084h9uLFncnn05FL1u2N0pN0r63FfUBl5Mei+8KF+teixtf/uJ76WXlqXMemlwUgMroxiGTUeOBNBy1i4OGr9r5n8zvq5vlJ7ljlX9zKAAc8z03MeWNO8p64Zziku3rU+5u1X9sHFXjt/55hz3l0Dt3xhS2XLuGrXopp2up7lGFvzzlilWJY0qcWg9a3tju5X6rQW61I7vXVd1e8reQv9Zpi7RiwtqRvblnKvuA8GPH+Nf0UW6POcLMxwDXDn1KV5AizNyRLj8nrjwnP6e425zqvufMuxe69xZLwYLxiAgaMZmN6Ap4uZjHS9fzJFOJPJUl3uwtljoKmZndZi39purr+3LvdCU3XITNj7V/v6neqr/fXGW9YzqnlZz9qyi3OpjPgTOy3mHFd3D3cuDpkha9rouFgytW6Np9aui7Nc547ZXhavin9ru6UWS8tb29pafssYu7aX+lrbdkU97suBS2bWWuxXr+fGnsnl0ZNL1e+O0ZF2r6ynNkfqeYhdq0P9atHDPcjv+Z/0Tr+e+N2L3JbYXbtaN/IVltqLdGm7pqGLY6n/zuCwxayxFh/bOR/vyQAGPM9T73lgaUx667r6nLL1GiItrupDr9Zu3GrXYH2pxu2/tK72dRs9UKuVc4Y9jUmvGb32kkcaLV3TFNedxy90HWHhin5fzZv0qsWwxklovVSHxiHvt0feje0e9T6xDgx4/hr/xLGmT/cc69r596w5h7hx59SM6GFqAAAgAElEQVSe8z/s3ZM9xu3+48Zz+nuNYe3ebNZjUc+QdY2Ke9NZ47xDXGh5/bHKGFw/Bnc4VmeJ8RYGPN1A9PwUrMxFv/71r9/ceKwZj1yZ1q/ByTDlbnS0bu3PlRs1YPXWVYtbWvUYn2o/Zxvx1DS4SvNaPG6900hGnNpfaU7SBOdIw1sZh44VfTkytM9py7heOSbO4LRkmi37ruWr4s86R370OHb9yuui/pz2tHWVRupDjjnyuW+t+Sib09ayeb9cPvJ5e867c4HK6Ji/0x839kxUz5iExvGU05F2c/nIn1VPzfilY6glBk2yI2aXttThXiBrXtFSVvso1rLtVhNc7aGS6ltrv2wzLy+ZFcp6ZVJwfWg1MOR2I7/0EqLWZ36KlvNmyeaMyxjwPKdx7Od06TywNLa5jsgv1XX1OWXrNURaXNWH0DenS1q7cdM1xJkQta7HzK59XT21r99FLDXtNC6xz1pa60PosqZJLYajr2sRX07XYq1pkeuI/FpdV/S7NlZn8Sb9Zpi71saxXO/GqOfYKOt7+jIGPH+Nf/q407/7jPsM14C4RuZ07XoJY/dhjLF67ljxnP5eY+vmsDrvzniMul9kmTHOO8SEltcfp4zB9WNwh2N1phhvY8DTRazFiKMvjjlzSUv50jilMi2GJZkytJ/2d//WjBmuTI+ZJtc/Upfrt+pRn9bikLGs/F9ezvyVY8x51/bRmsssuNaviLFm5qyxqPVuDGr7qx23f2t8OU71q8Z+jGeLkfWKMYl+uLZ7f4ba1XE0U3uNY+iwlm5l5iqNajqt9ddtdxq4/dbW9dbjtFMdOg+2fPGyjGekTFlH7zI39kxWz5iIumNrpN2r63HmBcWk/zmoh+y1PpVzo9F+uC/Q6YZzqe0ckyvf8iJYD5Sc2SD6kdtw+dgv0rKuFhOhDA/OfKc6W0180X5O115COM1UXmOuF9uuv0vrRsos1cc2zuE1BjDgeTby8R/5tfNATeMon9O1uq48p7i2e64hoYOrRxoceV7MGkd+TeuIN6c1M7yuSy316cs15TUs4mkx8cWXBqJMpJpfrF3LVb97yBx1KG3pw53HT2OZ+xv5Wft9NW/S66q5q/reMi6KUey7OV7L/DAf36+Ux4Dnr/GvxAB9nZ+Bq68BcY3Maet5Gb7m54sxeu4Y8Zz+XmOr82o+z0Z+xmM0YsvpjHHeIaasYeTvEPeTYgzdc/qk/tGXe10LWsZL9wbFNf5vv3j37t0f8sqPHz/2vt8f2j8fOJEvjW0yGMloVJoW9LU2fa2u3D/q0YOctT+ZnmL/nKpOtVn+KYaaGSOXL8uVy3nfyPcasKLOKJ/TtbpkMnOmuahDmstApnrin/RQ30u9NQbupXPEV6aqL9rJ6ZGaR19rLEWMtS/JKbbaF+2i7twX5bW+9lfuq+XQ25VR29JN8Wk/99W4sk613/pFwyvGJPoprsrYtaz4tS34U+qOSdVzVfwubsVyxN/Wtq7SSFq42Ec0uqqemik34tF5UWyW1yj1MY5dHbc6T+pc0nJtGtFnqUy+vivf8vKwZULBPs+bJG4Z0zgmcjpSXy4f+TPrqT1YUSx6Ka6vyWmf+Kfl8mW5XoS6F/At/ag9xFcb8aIz2tZyWWctfpkJ3P4yi9Ve1If+Sst2yuW8r/I615UvhNUHrVeMUV7ty+ywFIO2xf5raRmHlnN7rnztpXDUpfalnTPWqazqV7805tJZqWuHdZwz92YAA55nKo7dnK6dB2pjk+uI/FpdV55TdK6KOHPaeg0JHa7oQ4438mtaR7xlunRN0bVJ1x31Mcopr3XldSviUOquoVE+p6qrnBdEPbpGxDwil1E/y5hrsbRocvfxC71yOmu/NY7l2OW4j+ZN7Uub3GbOi8VgTvvp315z1+Bc95e1eZLi07EV++bYdDzk4zAfE+R//IQBz1/jYQNdZmPgymtAPqdGvuV6OZuGxMNx/WoM8Jz+XszX5tozchvXgpzOGOcdYsoaRv4OcT8pxtA9p0/qH32517WgZbz0XKS4xs9lwJORoTR55QOsJS+jVc0wVZoUlgx1ikNmJ/1zMamsjBVlTGUb5XK5v5ZHjTujdcmc5frk6qutk87669XgTM3VTxd/Hts1Q9vSV+Rc3bGuHPdYju1HpRqPVv4jpjPHJNqMtJXDJVPjFfG78Rs9jkOLWrpHW1dopP642Gv9XFp/ZT1rJjwXW22deD/7r7joY8D78XmTu5YJ4NH7OOZH2pyhHr2YdHG0rNPxppeJMmSV+7fqoReSZVm3rJeZrs6llwCqWy+D9c+1o7IjsZfxqQ7p4Noo911aVjyuj7V1rq6WlxBrZgVXb22d+lyLj/Wcf/dkAAOe58kdmy3nATc2o3VdeU5pPe/WriGhw9l9GNU64i3TpWuha2tpXav5LmLQf3ZpHQfXrsrK9O22tbJ85/G7U79jzK/kTTGcPXcV426cxG7MM5W6fWKdjHmhH+nb6xkGvLeawAmazMrAVdeAOJ/mtHWeMKuWxMVx/goM8Jz+XpzrvJrPs5GfkdWILaczxnmHmLKGkb9D3E+KMXTP6ZP6R1/udS1oGa/pDXgysGwxh8lk0mM+GjVWqB39OfPZ2pfH8gkj8qPGnSif09a69MUmmehy2dZ81tlpsGQwOVPzJdPRWl9llKl9dS36V9MvzImxX07X2h3ZrljVV/cVrtx2LX/mmJQxyODY2ueybCxfEb+LufXYi7hb0z3aukIj9c/F3trvvN/V9Ug/Z0pxca2tW7tG5H7vkefG/nmTuZYJ39n7OO5HYpilnpGH6HrRqBfe6rc7X7TqoReSTge3ztU5+tJdfa7FvvblzDI29V91qZzOQeX2luWow/Wxts7V2/oSQrq5Lxe6OtfWrelVi5/1nK97GMCA53lxx2freaDUf0tdV51Ttl5DsgZn9mGL1jnmnNd1ZIsRTibFUXZGr39qM64hWzW56/jdqd+z8KY4zpy7jrQV46pjstfUmnV+lTwGPH+Nf5Xxp5/3G/8r5hxxXs3p6LwF5u7HHGN23zHjOf29xk7n1XyejfyMx2DEltMZ47xDTFnDyN8h7ifFGLrn9En9oy/3uha0jNctDHgyHMjs0GOekuFpi/lFP6WaD+RaXl/hyl9Ek0Gr3HctjnJ/La+VqZkw9qhLBrqer5Dl/iuuXgNe9OUMzaWrboKdTkvrVKbFzFYzj5UaRZ+VLrXbsy1Md2smwdz2Wv6MMXExtH750pXN686M343V6HGc++Dye7Z1pkbqi4vd9XFt3Sz1aIzXvprpYtW6OGZ1fTvzjxv7503mWiZ8Z+/juB+JYaZ6Wh+i60Wi9s39dXOPvH0trwl7i2lgqZ7Wr6HoZX/+ConaLsdh6UG+XvCX+2c9tL01FtUjI+NSe0t9LuPQcm9d2n/tqy2uHa3TmOmltPq8FCfbOC/vwQAGPM+ROz57zwMxPnvUdcU5ZY9rSGig9Iw+7KF1jjnyrT+1ntvXdTFfx6Ku3lTXAtXTcj1X+7pW5utHjiny7ufQ1+K62/hFX3M6cgyf0e9S+yt5UyytvG2du0rbkf+0oDIjDJc6v8IyBjx/jX+FsaeP9x37s68B+ToZ+ZHrJczdlznG7p5jx3P6e42bzqtxjs3pjMdfji/yM8Z5h5hCv5zeIe4nxZi1j/yT+kdf7nUtaBmv2xjwwpwgE5QMXuXPwMrIoHUyk+z1NaFaW2pHZkBnqpIZIw7+SNcMUbFfTkeNO7mOyI/UJUOI4tYDO5kMoy6lMjfW+q9xcga81hjO0jz6J140nuWX67ROfVdfWox3wadScRH1KXWc5P3VhvRUm/EvymfdlQ/Oc3yqfy/mc1yRP2tMor1INUZxrGcdxKP6r20tf2fFn2OMfCv3Lf3I+0T9Od3S1lkaqQ855sjnvrXmo2xOW8vm/XL5yOftrfnQUOeN2vGbj9st49UaU20/buyfN5lrmfCdvU8cTzkdiSGXj/yV9eghuo5zGbLyC3QdVzJaaWKdX5ZHrCoT8Ufa+zA8XtyXZjAZA7RObUR7tbQWv8or/my8izrcwyX1M7aXqdvf9TX6o5ev0i90yf3Z+lI26sypi6Xsg1sO7cp4c93SUds1FqPtuLZZx3m7hQEMeJ6TfIxGfvT4jPI5Ha3r7HNKnHO3XENKDo/sQ9Y48qNal3FrWXroWqZrX74GqS1d36WTDHDuuujq61kXbZfXE13/4hrirn+hQ0572i33vcv45f5GfgsLR/a71DiWY8yv4C36K6aPnrtGP3XsqL3y2NK6JcZDL9K31zMMeG81gRM0uQsDcW48+hoQ18icbrle3kVf4uRccHcGNF/K/+Lr13fv11Pj13k1n2cjP2N/I7aczhjnHWLKGkb+DnE/KcbQPadP6h99ed585nYGvJqhgPUogAIogAIogALrCuSbeuW5sX/e5I4JO2MKAzAAA6/HAAa81xtzjvPXGvP8oFl5malg4LUYYLxfd7wx4L3u2HPcM/YwAAMw8GwGeE5/3fjqnUj8x5H8H1XiP2TpP9eW/zFqDwOejNn6j17Rtv4jVr7X039akWm79p+83TmhFleudy3fYto+InbXn63r8tjmfsfYLv1nu6O0dPW6/0yv/TT+4iBid3rEtpy2jGFZl4tLdZb79SwvcaJzXjCu/rt3k7WYcl/X8jUtXLnavkt9rsW4VEbbXLktHLj28n/CK88v0l98HfGfTV0sr7wOA966V4E9UAAFUAAFUOAxCnBjf92N/StPOOk73MEADMDAsQxgwDtWX/hF3ysZcA9p9dD6yphom2MCBs5jAAPeeVrDNVrDAAzAAAycyQDP6c/nTfdW2dzkDDl5nfYNI567L9O+LcyorL4Gnetey8sw5sw5ZXu1uNbqz9tVR1lvLB8Ze7SxRyozV8/YOn2P0lKmtKy38nlstb3Gh9OmrEvLS2Po6tC6Wn9r+y+tV10yd7nYltbJJBbH2FJMS3WU22palPtpubbvWl9dXUtltG1vDnJ70rBHf+mOEe+4axAGvMdYKugICqAACqAACqwrwI39cZOqPOElj84wAAMwAANnMoABD97O5I22zuVND+bLh7v6X/uMw7njgN7ofRUDGPBg7yr2aBf2YAAGYOBYBnhOf6y+Jb+6hyrvq1qWZdSSSUf/3P5lO+VyzVjl6nLrZCqTcaesN5Zrcbm6autqJqSjY48+bE1ldqn1bWm9+pfbPlLLMo4w4GlsdS4ot8dyji/ysS2ntTGMMi6t9dftW1un+HuMXznmyOe6azHFvi1pTQtXtrZvjqnM12Is93PLZQxbOIj6xb/OU2XdLcsau6iHdL9rEga8da8Ce6AACqAACqDAYxTgxn6/SRQTUrSEARiAARiYhQEMeLA4C4vEsT+L5c+G6CEq/1N5f51hF01nZQADHmzOyiZxwSYMwAAMbGOA5/Tb9Ovhb6tBKL6W5gwta3EsGf9krot/ru5YVxrFcps1M1CUbUlrJqSjY8/9GM3r3rilj24fmWRyu0dqWbYfxqsl853K5PgiX9al5doYRhmX1vrr9nXr9NVB97zCxVdbV7Jdi6lW3q2vadGzr+tvrKvFGNuX0jKGLRyonaVzm9iK88sSZ5jw9r8WYcB7jKWCjqAACqAACqDAugLc2O8/mVqaULMNvWEABmAABs5gAAMenJ3BGW2cz5kexpYPaPXyh7E4fyzQHM2vYgADHuxdxR7twh4MwAAMHMsAz+mP1Tf4XTKoaFtp1tEXvWTqknEl34vVvjAV7dRSmZSiHo25jBla5/Z37UbZ0izmyse6KJPT2NaTXhF7T3waKzcu0llaanuuT2MtU2GYxsrted/IZw0jH9t60igbqe713f2+tit+8ac4XRtRR05Ljl25ct0WI5nYcNorJq3XsaUxKFlXm2JZxjvt18J17mfky760LEfZnJ6tW25b+S0c1PjRese2fqa2ZqpVmRYN2aftuiWui2v8337x7t27P+SVHz9+XH+jv8MeJXRa/vvf/75DzVSBAiiAAiiAAiggBfL1XflyAswEqm0ChU7oBAMwAAMwMBMDGPDgcSYeiWUfHmsPtHkwuo++cIqOd2EAAx6s3oVV4oRVGIABGOhjgOf0fXqN8FUzqLS+F5GBqGYyCk9DS1wyG/UYfZxpsGbGcu1HbDl1+7WsOzv2lphiHze+GltnPooykbaOR9Yw8lFHTxplI1XsmS3lta4l9qgjp639yTGrTK4j8nkfl1eMOfYop1S8tPRB9Wq/ln1z/ZF3ca2ti7I5PVM3xZfbVn6UAzd2GpOW970yh5VxqKwMemsasr3tuoUBDz8GCqAACqAACryQAtzYt02QmEiiEwzAAAzAwJ0YwIAHr3fi9ZVi1cNUPYBueQiadam96NFD0ZYH1Lku8pwfYODeDGDAu/f4cfwxfjAAAzAAAzUGeE5/LBu6b3ImoVaDVoyb7uVKs0pejv32TGuxt95X5vgiv2d8S3VtjX2p7nJb+ZVC9bVVo7Ku2nLol9Pavkvrc3nlM5tissf8VNal5TONZHrG4WJo+Zrdkka1ba6t2r5L6109Z+qm2MoYRjkQM2VdPezrWVVZXl/HW9KPbe3XLAx4L2S6oKsogAIogAIowI19+ySJCSVawQAMwAAM3IUBDHiwehdWXy3O/FBUeT3kdD+FI130sFTbc5nygejIw+FX05z+cj58GgMY8GD6aUzTH5iGARiAgc8M8Jz+2GPBGUx0f9VjUglWa3Wpvthn79T9VKTiaGmnvI88Mk4Xz5bYXX21ddm8FH2u7Tu6PurN6UhduXzOqw+9TObykR95VqAyUT6nS/2rlWllc6nu2rYcW+Rr+y6tj7I5PUu3iCu3nfM9HLgv2I3oHz/FHHEohoiTdNv1CQMeXgwUQAEUQAEUeCEFuLHfNnFi4ol+MAADMAADMzKAAQ8uZ+Ty1WPS/2CPB5l7pEf9b/JXHyf6z/lzdgYw4MHo7IwSH4zCAAzAwBgDPKcf062Vt9Jconsy/bRra/lyP1ef6iz322vZGZ30xbeW+t39Z0u5vfbZEntPDK6fe38x3rXRE2Ps6+rRuhHjlKvrLCOZ++pgK5ehRW/q+ttbh/Z39ZylW8TrYtC6Hg7KMZBxboR7Z5TVfxiNWEnHr1EY8F7IdEFXUQAFUAAFUIAb+/FJExNOtIMBGIABGJiVAQx4sDkrm68cl/tfybWHrUvr9aKn93/Ev7Lu9J3z4dMYwIAH009jmv7ANAzAAAx8ZoDn9McdC84Apnuunp/5LDl1ZhXVWe6317LuAcv7RN0bttRfljsyThfPlthdfbV1OobKvvYYmWr15vVl/aNaunpGjVOurjOMZLX/ZDjSdtZ4Le/6u1bGbXf1jMReO7+4Nst1LoYeDtwYjBqLXT90nitjZrn/WoUBDy8GCqAACqAACryQAtzY90+WmGCiGQzAAAzAwOwMYMCD0dkZfdX49EDz/fv3b14KuIeu5Tq9XNn75cGrjgP95hx5ZwYw4MHvnfkldviFARiAgToDPKeva7OVG91HlfdX0ntLvfoyVFmnlrfUuVZ2tL3Rcmvx9Gw/IwY3zmp3z/vovfrh6tGzgh5NY19X1xlGMqd3qyk0Yh9JXX/3qucM3XKsri89HLj/6Dn61Tp9Na+M5+ivGWYtnpzHgPdCpgu6igIogAIogALc2B93Y//kCSN9gxsYgAEYmJsBDHhzjw/HD+OjB5t6AKcH1nqgqYfU5YNOzdO1TfvwxTuY4bwBA8EABjxYCBZIYQEGYAAGnsUAz+mPG8/yJxp177X1y07ua1Gqd/S41D2i6tT9nww4illMlPeJ5XJLe2WZLXG69o6M3bVXW6c49PUw19/4D23ap1a+Zb2ru6VcuY+rR2Nf7tey7Oo6w0imL62VbW89rkb721Ku3KeMXctn6JbjcDH0cODGYMuXPct4zjBUZj2emp/KgIctAgVQAAVQAAVQ4FgFuLE/7sb+qZNF+gUzMAADMDA/Axjw5h8jjiPGCAZgAAZgYIQBDHhwM8INZeAGBmAABuZngOf0x42RM7KNfiUqjqW9DHgyZox+JV1mmYhnKS1NNa3llurUtjNiX4uh3F77MmHWQKalEaOV2sr1RL6MoWU5yuZ0z5hG6upl2hlbxURL/7fskzWL/Eh9UTanZ+iWY81tR74nBjcGUc9eaY6X/Nh1CgPesT4HakcBFEABFECBqRTgxn5swsREE91gAAZgAAZmZgADHnzOzCexwScMwAAMjDOAAW9cO7hDOxiAARiAgZkZ4Dn9cXw6I0qPycVx02tWKuuQIcN9Cd3FurSurNctu/Juv9Z1Z8beGlPeT/HVvoSXtZB5qZeDXD7yue3WfJTNaW8s0VauI/IjdfUyHW3ldKTd6EdrmtuLfGvZvF+UzelI/L267RnDHueQ3H+Xz/GSH7tOYcCbyhZBMCiAAiiAAihwrALc2I9NmJhoohsMwAAMwMDMDGDAg8+Z+SQ2+IQBGICBcQYw4I1rB3doBwMwAAMwMDMDPKc/jk9nKhkx2mR+Rk03+gnUtS/eyVQjc5h+zlM/Rxn/XD9yTLX8aLmyvitiL2NoXdbPcLZ+HUzj0frTtHtp6eoZZXKvunqZ3qvd1jGN/Vy7sa0ndfWMjEGvbjnGrTG48nuvy/GSH7tOYcA71udA7SiAAiiAAigwlQLc2I9NmJhoohsMwAAMwMDMDGDAg8+Z+SQ2+IQBGICBcQYw4I1rB3doBwMwAAMwMDMDPKc/jk9nSBkx2mR+Rk03GmcXj8xiMmksGcFcuRxTLT9arqzvitjLGHqXNU76ydm1L+Kpb0vaR7t7aenqGWVyr7p6md6r3dC2NXXttpbN+7l6RsagV7c9Y3B90Llkr38yAed4yY9dpzDgTWWLIBgUQAEUQAEUOFYBbuzHJkxMNNENBmAABmBgZgYw4MHnzHwSG3zCAAzAwDgDGPDGtYM7tIMBGIABGJiZAZ7TH8enM1999913m4wlI6YbmVlKw4xia42lLKvlFqZHy+W6r4o9x7AlL3OdTDBLP9kp09JaG3toqTZcPSPmrz3r6mXaaSmN1zTcut1pN1Knq2dkDHp1y7FujcGVz/WTP+660qMtBrxjfQ7UjgIogAIogAJTKcCN/RwTsJ7JGvsyZjAAAzAAA2sMYMCDkTVG2A4jMAADMHBPBjDg3XPcON4Yt70Y2PKSd68YqAeeYeAYBnhOf4yu4lXGqtKoop913cJy7/lYP4laxqDlDx8+NMfhyrf0YbRc1H1l7BHDnqkMj86UKZ3WDFhbtYx+uHrW2o6yZbpXXb1Mu+PqjC+muf6WmrQsu3pGxqBXtxzb1hjcGOh4zW2QP+7a0qotBrypbBEEgwIogAIogALHKsCN/fWTr9ZJGvsxVjAAAzAAA60MYMCDlVZW2A9WYAAGYOBeDGDAu9d4cXwxXnszsOUl796xUB98w8C+DPCcfl89M5/6CdLS6CK98z69eZm4yjq1XKtHhr9yf8VV29+tL8svtZfLj5aLOq6MPWLYO9UX8dwX3N6/f784Jlu1jH64ekbMX6rP9WPEYNo7x3BfRdx6XIU+S6nTbmn/2rardMvxuL70cODOba1f1MxxkD/u+iNtMeAd63OgdhRAARRAARSYSgFu7I+dWDFxRV8YgAEYgIErGMCAB3dXcEebcAcDMAADxzOAAe94jeF4Xo31slwvGvXVGr00HXm5fPfx7X05fvf+Ev+8xyNjs//Y8Jx+f02DU5kfnNFly5einPlIbUSbZeq+VNVrlHF9KNtxy6Ploq4rY48YjkidiVLzi6W2tmoZdbt6eoxXUY9SNz4jX6LrZdrpp36N9iP3aSnvtFvav7btKt1yPK4vPfrtYY7N8ZA/5jqEAW8qWwTBoAAKoAAKoMCxCnBjf8yEiokqusIADMAADFzJAAY8+LuSP9qGPxiAARg4jgEMeMdpC7fza+telL6aCQ8D3vycci5hjEYZ4Dn9cezIwO2MLiMmJY2v6qv9hGlt/N3+PUYb/VSt60Otvbx+tFzUcWXsEcNRaa82vfvX4nb19PCQ63VfQVszEubykXdfhFOcsd2ljg3N19y+e61z2o3UfaVuEa/rSw8HtZ+H3mIujthI97smYcA71udA7SiAAiiAAigwlQLc2O83iWJCipYwAAMwAAOzMIABDxZnYZE4YBEGYAAG9mUAA96+esLnffSsvWAcecF853HHgHcfZu/MGbFfwxnP6Y/VXT8t6swuMrb1Ml/7UtiSWcm13WO0cWahpfZyn5xJqqffV8ae+3FE3vVtqZ2tWkbdrt0eHqIepe4raKq/p75aHaont1Xma1we+R8k9hqDWp/P0C103IMD9x9U1n5KOdonPfa6E/piwJvKFkEwKIACKIACKHCsAtzYnzPBiokWKXrDAAzAAAycwQAGPDg7gzPagDMYgAEYOJ8BDHjnaw7nc2iul6HuJeXai+GnjV9Nh6f1k/7McdwxDueOA8/pj9W7dv6UmafHjFb7Odu4RtWOG41v7BNp6xf4arG3XgOdQafHIHVl7DU991jvdF37ettWLSPuYCCniie296S1/6SgcWupZ5Rp1a22nSFO/VK9Le337rPXGFypW/Q5j3/kezlwHKsumSOjHdJjry9r+mLAO9bnQO0ogAIogAIoMJUC3NhfO/Fam5ixnfGBARiAARgYYQADHtyMcEMZuIEBGICB+RnAgDf/GHEcHTdG7gXvq33ho/aSFe6O4w5t0fYsBnhOfzxrta916fqyZnrRz86WX9FzP9lZ48W13WL+U1zu+hdmnVp7eb1rW7GrT3m/Wt6VPyv2WkxuvUwua+MY5dR3ZyxcMyY6LXq0jPZj/HLaGnvUkVNnSlPdYnZpnGtfgctx5XZcfqkOmUyX2s/1ab8WM+xeY6C2r9RN7WedIz/CgdMkxl9Gw6xzS36kTEu9r7oPBrypbBEEgwIogAIogALHKsCN/fE39q86qaTfsAUDMAAD1zGAAe867eEe7ZdfmZ8AABoNSURBVGEABmAABo5kAAPe/9/e3evKcaNbGPY9TergBAq3nCkwDBgGDChV7MyhwkmVDRwoPsDcgO9MB8sDHnFo1k93l3ZXkU+wUT9dRX7f4lvVLPbaLHx9S77OXnZrQsiY1mw/EEaD8gNtvTx724nPvQsD2wwYp9/W6FGOYvDpmebK/TRtEDNR7rXlL8aJmFtaE1yMRa0hL+Usxbh0/065qaM9L99vS6aaEu9afXV5Kb8+p6xHi3xWcs2yF8szY6/z2FovbZt2TB5LfYSPHz92OUhbbJnFHtWy5FDaoF5G5/L5rculNkr50SW85pjyl+2iV4khZrRbmK5jXGM1uubz6F63SbROPLnmSr1Zr8vtrR/VBin72boV7etlYurlvbYvWob7upx6PfovXRNtO6S90h5r9fnstu+raN98x//53cvLy+/1zs+fP39bN4DSKUABClCAAhR4FQXq7/es7/kPE52r2zpX9KIXBjCAAQy8NgMMeJh7bebUhzkMYAADr8MAA97r6Izn8+pcfiScdfxq6YdizJ6XWW2jbfYyYJz+dVjJ90cMJrU55db1tFXatTfz11p7b5mUYoDKXy++nHtrfXUsvTJ7eceUVZ9X1p8Ze4lhbZl27eWTvIuuWfaOKftiEFuro3z2qJYpp9RZL+8xXpWYsoypri7vlvUwnT7WI4ytMbI3lrRRndPS+hFtUMp+pm49Xe7lYMuE16traV/0LfpYPv7dxID3KnYHlVCAAhSgAAXOoYAH+8c7TzqgNMQABjCAgbMxwICHybMxKR5MYgADGDiGAQa8Y3TEIx2vygADHnavyq64t9k1Tr+t0VEcZRau6L1kPlnbH5NRjC6J5Vaz0r0GmdS5VN9eQ3rMZWt51Z/1dH5m7L142n2PmL9iNopBpi1zaftRLVNurXdZv9d4Vcd5jw4xvd3LdF131nNN7DXHlbzbZVtmb/uINqjLfZZube7ZfoSDtGOZTbBX9i379t5bah2t97/HGPDO4YcQBQUoQAEKUOBVFPBg3+8Q6SjSBQMYwAAGrswAAx5+r8yv2PGLAQxgYJkBBrxlbXBDmxkYYMDD+Qycz5qjcfrXv75vMQtlZrh2hrRbDXiF7b0zbrV1xsTRGmhuMevk/D3mqBJnb/ms2Hux1Puiwz3Go5xTvxa1LnNt/VEt23bM9i1tuRbbXq7DQo6ty7qX6bqM6BlD2x7WWh1y3t72eLQN6piz/gzd2vyP4iAsbc342Ks7+9JuaYdiymx1sn37d1VYbb7jvYL2VRwQKqEABShAAQo8QYHmS98raP99e+dJh5NmGMAABjBwNgYY8DB5NibFg0kMYAADxzDAgHeMjnik41UZyA+qvR9Mr5qPuF2LGPjKgHH6r1q8JhcxmcQcESNWDG/1PTZtEiNKa7wr8fXMSntNVDEZ5fyYZGqjUraX6ux9ByT2Es+eZfIt9da5JvfUnc+2ynlW7Ftx5fPSnjEKJp+0YZ1n9qWtk+deo9dSvY9oWcdU1veysxRPvX+pjQrT4Sbx1+dkPbqUeMrykbhy7ZS2qK+vMJ+2KMzluF48bXzt9iNt0JaV7dfWrWhcLx/Ru82p5BPm22uh1FlfE0fW3cYy8zYD3hPMD6qkAAUoQAEKPEuBdLrqP9MKP+dBf+bOp9wxhwEMYOB4BhjwjtcUpzTFAAYwgIEzMMCAh8MzcCiG53GYH0bLD6b1Ups8r01oT/ujGKjH6LNunB5bR7GlHCxhAAMYeB4DDHjPckColwIUoAAFKPAEBTzYP6/TpcNLewxgAAMY+FYMMOBh61uxpVxsYQADGHguAwx4z9Uf/8/VvzaclfW1mTp6ZrXezD6ZPSU/jGXGoYyTlbIzU0uZJeeeWVm2eIm5pswKU89+VGaF6c3O08sp8W7VtfR5mRkls5/UM9OkzGixNAtTr7xo1JaRclJ27/i1fYmrtEO9TDutneez516j9H9Mf+P0j+mHP/phAAMYwMAZGWDAe4L5QZUUoAAFKECBZyngwV6H9IwdUjHhEgMYwMBjDDDgPaYf/uiHAQxgAANnZYABD5tnZfM14qqNWGV9zYAXQ1g5rixbA162a/NbOa5d5pj23HtzTswxpbV1LG3n2BjSUt9RBryUF3PdUp3t/hjrll7BWOuwFN+txrmePjFD1nVZdz8cjQHj9JgejWn5YBoDGMDAv//6R5/mO/7P715eXn6vd37+/PlZPgH1UoACFKAABShwoAL193vWTW2vQ6xDjAEMYAAD12eAAe/6beg61IYYwAAGMNBjgAEPFz0uZtnXmsKyvWbAiy7tOcVEF3NexsHaz7e2Ywx7ZDa8zHi3VUfv8xgAk+uSwe0WBmKG22M67MUR095WXb0cU99e3dJGbd23nL8Vn8/dR8/KgHF6bJ6VTXFhEwMYwMD9DJgB70BTg6IoQAEKUIACZ1fAg/39nSYdTtphAAMYwMBZGWDAw+ZZ2RQXNjGAAQw8xgAD3mP64e/a+rWmrGzfY8C713xX6r93JrZbZpwrddXLmNB65rQcs5fttRgyRhiDYf7WzIlbJrzo23sV7R7dMjNfzxy4Z/a9vRo47tr3gZHbzzg9NkfmW274xgAGZmWAAe/sTgnxUYACFKAABQ5UwIO9Tu+snV55Yx8DGBiZAQY8fI/Mt9zwjQEMzMwAAx7+Z+a/NqOV9VsNeDGBta83jVkss7bF5FVmmYvRrWciK/Xe+krVNeNbPmvziIkt8bSx9sxpew14S+a97O/NThczXG82u9SXc9ZYTD5Fq3q5ZaRL+9THZ33L8LcWh8/cM6/EgHF6vF6JV7HiFQMYwMA+BhjwDjQ1KIoCFKAABShwdgU82O/rIOlI0gkDGMAABq7EAAMeXq/Eq1jxigEMYGA/Awx4+7XC1XhatcasbLfGtbbd23NaA9uakSymtCXjXMx5bV1L20vGt4zJffr0abOcmNbauNu8luou+3uGuJS5p/78aNjWl3Nj0Cvl95Y9815065n9cn7ybOtZO75Xp33jXfcztalxevzOxLtc8Y4BDMzCAAPe2Z0S4qMABShAAQocqIAHe53cWTq58sQ6BjAwEwMMeHifiXe54h0DGJiJAQY8vM/Ee5tra87K9q0GvLqMvbPYLZnw9pwfs1nPPJfxuCUjWpt3tmOUq2Nv13vn1PtSX3vOHvNdKaNnIozBrnzeWya/3iyCvfOWdNpq31699rlPXpUB4/TYvSq74sYuBjCAgWUGGPAONDUoigIUoAAFKHB2BTzYL3eKdBhpgwEMYAADV2WAAQ+7V2VX3NjFAAYwsM4AA966PvgZW5/WQJbtLYNW75zsW5v5ruVoyRyW16W2x7bbPeNa6r/F/FbKXCor5ZVjesv86NfqcEv+pczWTBdjYflsadmbeS+xtO3Wmy2vZ9Rbqsf+sa/9WdrXOD2OZ2FdnljHAAZmYoAB7+xOCfFRgAIUoAAFDlTAg72O7kwdXbniHQMYmIUBBjysz8K6PLGOAQzMxgADHuZnY77OtzWR9Yxc9fFZ750T49gts8+lnN4seDGktfW1261pLfGkrPa4vdu98lLm2vnv3r37Lx3uyT/l90xyeW3sWt1L52U8spyXV9m27ZQ8b22jUp6l++RVGTBOj92rsitu7GIAAxhYZoAB70BTg6IoQAEKUIACZ1fAg/1yp0iHkTYYwAAGMHBVBhjwsHtVdsWNXQxgAAPrDDDgreuDn7H1aU1a2W5nUmsZ6J1zz8xqMZr1ymrrq7eXZn+L4aw+7pb1ngkucS2V0TO33WsA7OWzR8sY6XrGwTILX2sQTD73zBC4pIH9Y98XRmpf4/RYHYlnueAZAxjAwH8YYMA7u1NCfBSgAAUoQIEDFfBgrxOsE4wBDGAAA+MxwIA3Xpu6TrUpBjCAAQyEAQY8HMx8L+gZ4O4x4O2Zta3VuWdk2zKK9V4Zm3G4tuxbtm81AvZeP3tP/okxRrq2DWKe2xN/z7yXmfh6+RRj3p5yHeOeOBIDxunxPBLPcsEzBjCAgf8wwIB3oKlBURSgAAUoQIGzK+DBXidYJxgDGMAABsZjgAFvvDZ1nWpTDGAAAxgIAwx4OJj5XtCav7J9jwFv65wljW+tvzez254Z45bqz/6ekS1xLZ3Te3XuIzPwtRpkZrulutv9S7P31WU+alBs67TtnnklBozT4/VKvIoVrxjAAAb2McCAd3anhPgoQAEKUIACByrgwX5fB0lHkk4YwAAGMHAlBhjw8HolXsWKVwxgAAP7GWDA268VrsbTqjZqlfUtM105rl5unbPETl1GWV8rK2Nu5biyvHf2uRLTrQa8ngmwxHLUssS2tVx6FW0dh1fPjnfdbnHh869tbpz+qxa4oAUGMIABDIzCAAPegaYGRVGAAhSgAAXOroAHe53YUTqx8sAyBjCAga8MMOB91QIXtMAABjCAgZEYYMDD80g835pLbdQq62sGuJRfjquXW+csxVWXUdbXyirH1Mu145fqrffn/Lq8sl4fU69nhrpyzLda1vVtrS/Fn9i8etb9bYuf0T83Tu8aGJ1x+WEcAxiYkQEGvLM7JcRHAQpQgAIUOFABD/Y6vDN2eOWMewxgYHQGGPAwPjrj8sM4BjAwKwMMeNiflf3k3TOQbRna7jlnSeNby7r1+KV66/1LBrb6mHq9F8PR++r6ttbXZsFjwHN/2+Jn9M+N07sGRmdcfhjHAAZmZIAB70BTg6IoQAEKUIACZ1fAg70O74wdXjnjHgMYGJ0BBjyMj864/DCOAQzMygADHvZnZT9594xjDHj/+EuXJS56muW1tEf9ffjw4ctS3b3979+/77Zj4vz++++//PHHHzeV16vDPvfJqzJgnB67V2VX3NjFAAYwsMwAA97ZnRLiowAFKEABChyogAf75U6RDiNtMIABDGDgqgww4GH3quyKG7sYwAAG1hlgwFvXBz9j69Mzk53ZgBdDWRvzx48fHzKYHTED3rOuk+Te6tFuxxj4rPjUO/b94wrta5weg1fgVIw4xQAGMHAbAwx4B5oaFEUBClCAAhQ4uwIe7G/rKOlY0gsDGMAABq7AAAMeTq/AqRhxigEMYOB2BhjwbtcMZ+No1pq1sn1mA17MZG3Mj75m9VYDXi+GZ8wyl1fPtobEN2/efMnf0Rq55se55mdrS+P02J2NefliHgMYmIEBBryzOyXERwEKUIACFDhQAQ/2OrgzdHDliHMMYGA2BhjwMD8b8/LFPAYwMAsDDHhYn4X1Xp6tUevsBrze61YzDtfLbe++pVnkls7vxfDoLHxLda3t//nnn/9mtEsc+UGybVevonWfW2Np5M+M02N/ZL7lhm8MYGBWBhjwDjQ1KIoCFKAABShwdgU82Ov0ztrplTf2MYCBkRlgwMP3yHzLDd8YwMDMDDDg4X9m/luj1tkNeD1zWWJ+ZAa6Dx8+/M2wljKXuMiMe61uMeUtHf8t9vdMg/WrZnuz9NWff4uYlOleekYGjNPj8oxcigmXGMAABh5jgAHv7E4J8VGAAhSgAAUOVMCD/WMdJx1P+mEAAxjAwBkZYMDD5Rm5FBMuMYABDDzOAAPe4xri8LoatkaybJ/5FbR57Wov5pjo7uGw9xrXUv5SeTH7lWPq5SMmwKW6evuXYv706dP/a5D1Oray/ujrenvx2Hfd63+GtjNOj88ZOJcjzjGAgdkYYMA70NSgKApQgAIUoMDZFfBgr7M7W2dXvpjHAAZmYIABD+czcC5HnGMAAzMywICH+xm5LzkXY1a9PLMBL3H3Xr2a+GsDWslva7k0+13KWzu3N8Nc4lo756jPevn3jHW9mfq8itb97igOr1KOcXrMX4VVcWIVAxjAwH4GGPDO7pQQHwUoQAEKUOBABTzY7+8k6VDSCgMYwAAGrsIAAx5Wr8KqOLGKAQxg4DYGGPBu0wtfY+lVG+/K+tkNeImvxFovYy67xYS39DrbUuYa60sxfOtX0fZePfvmzZsvmRWvjTf78lnJpyxfyyjYxmN7rHvHVdrTOD3ursKqOLGKAQxgYD8DDHgHmhoURQEKUIACFDi7Ah7s93eSdChphQEMYAADV2GAAQ+rV2FVnFjFAAYwcBsDDHi36YWvsfQqpqx6eXYDXhiM0a2OuazHhLcVf4xp7SxyPaPaFutLMaTse15Hu3XO0qtnY8pbinXJKLh2zlJZ9o917c/SnsbpcTsL6/LEOgYwMBMDDHhnd0qIjwIUoAAFKHCgAh7sdXRn6ujKFe8YwMAsDDDgYX0W1uWJdQxgYDYGGPAwPxvzdb7FuFYvtwxs9bFlfeucus56vZxfL/eUtTS7WyknY3N5BWvKKn/5oS6muZj0ynFZ5jW0rSEv++s4e+uJIfXUZdXrqSt19ox1OTdxJcbUnZiy7NVT9vVi3Don5/bOS32JoZRt6T44KgPG6bE9KtvywjYGMDAzAwx4B5oaFEUBClCAAhQ4uwIe7HV8Z+74yh3/GMDAqAww4GF7VLblhW0MYGB2BhjwXAMzXwO1YaysbxngynH1cuucJY3rMsr63rLyutnWTFfK2LvMGF5iixGuPWcp5nr/lgmvLXNtO7nUZdfrvfhyfM/cV5+X9cTY02mPea8ty7b75dUYME6P2asxK17MYgADGNhmgAHv7E4J8VGAAhSgAAUOVMCD/XbnSAeSRhjAAAYwcDUGGPAwezVmxYtZDGAAA/sYYMDbpxOextSpZwjbMsDdc84SP4+WFQNaxuF65Wztywx1ZRa4nsFtKeZ2f8rozTK3VX/v85gK2/KTY89Al5jbY5e2e/mlfq+iHfO6XuJgxv3G6TE+I/dyxj0GMDA6Awx4B5oaFEUBClCAAhQ4uwIe7HVuR+/cyg/jGMDAjAww4OF+Ru7ljHsMYGAGBhjwcD4D50s59kxgVzLglbxiMOuZ1Hr5vXnz5m/Gs55BrZS9dxnd3r17d5cZMLHXhsC6zl6ZGXusj9mz3isn9RYT4p4yHON+eTUGjNNj9mrMihezGMAABrYZYMA7u1NCfBSgAAUoQIEDFfBgv9050oGkEQYwgAEMXI0BBjzMXo1Z8WIWAxjAwD4GGPD26YSnMXXqGdSuaMALnzGS5ce4zEYXk12dW8bqYnBbmvGtZ8Db0mHpmsiMdSkvcaTeOo6yHjNcPs9xa/X04koZvZnyluIp+xNXqb9eJo5yjOWY1/nM7WqcHtMz8y93/GMAA6MywIB3oKlBURSgAAUoQIGzK+DBXqd21E6tvLCNAQzMzAADHv5n5l/u+McABkZmgAEP3yPzLTd8YwADMzNgnB7/M/Mvd/xjAAOjMsCAd3anhPgoQAEKUIACByrgwV6ndtROrbywjQEMzMwAAx7+Z+Zf7vjHAAZGZoABD98j8y03fGMAAzMzYJwe/zPzL3f8YwADozLAgHegqUFRFKAABShAgbMr4MFep3bUTq28sI0BDMzMAAMe/mfmX+74xwAGRmaAAQ/fI/MtN3xjAAMzM2CcHv8z8y93/GMAA6MywIB3dqeE+ChAAQpQgAIHKuDBXqd21E6tvLCNAQzMzAADHv5n5l/u+McABkZmgAEP3yPzLTd8YwADMzNgnB7/M/Mvd/xjAAOjMsCAd6CpQVEUoAAFKECBsyvgwV6ndtROrbywjQEMzMwAAx7+Z+Zf7vjHAAZGZoABD98j8y03fGMAAzMzYJwe/zPzL3f8YwADozLAgHd2p4T4KEABClCAAgcq4MFep3bUTq28sI0BDMzMAAMe/mfmX+74xwAGRmaAAQ/fI/MtN3xjAAMzM2CcHv8z8y93/GMAA6MywIB3oKlBURSgAAUoQIGzK+DBXqd21E6tvLCNAQzMzAADHv5n5l/u+McABkZmgAEP3yPzLTd8YwADMzNgnB7/M/Mvd/xjAAOjMsCAd3anhPgoQAEKUIACByrgwV6ndtROrbywjQEMzMwAAx7+Z+Zf7vjHAAZGZoABD98j8y03fGMAAzMzYJwe/zPzL3f8YwADozLAgHegqUFRFKAABShAgbMr4MFep3bUTq28sI0BDMzMAAMe/mfmX+74xwAGRmaAAQ/fI/MtN3xjAAMzM2CcHv8z8y93/GMAA6MywIB3dqeE+ChAAQpQgAIHKuDBXqd21E6tvLCNAQzMzAADHv5n5l/u+McABkZmgAEP3yPzLTd8YwADMzNgnB7/M/Mvd/xjAAOjMsCAd6CpQVEUoAAFKECBsyvgwV6ndtROrbywjQEMzMwAAx7+Z+Zf7vjHAAZGZoABD98j8y03fGMAAzMzYJwe/zPzL3f8YwADozLAgHd2p4T4KEABClCAAgcq4MFep3bUTq28sI0BDMzMAAMe/mfmX+74xwAGRmaAAQ/fI/MtN3xjAAMzM2CcHv8z8y93/GMAA6MysMuA9+uvv3757bff/NEAAxjAAAYwcHEG2gf7X3755cv79+/90QADGMAABjBwYQZ++umnL+13vO93/RsMYAADGMDA9Rn44Ycf/us7/scff9Rnu3CfzTV5/WtSG2pDDGDgKAbaZ3jj9Ng6ii3lYAkDGMDA8xjIM3vzHf/ndy8vL783O9uDbL99SwMaYAADGMAABjCAAQxgAAMYwAAGMIABDGAAAxjAAAYwgAEMYAADGMAABjCAAQxgAAMYwEDNAAMe8yFzIQYwgAEMYAADGMAABjCAAQxgAAMYwAAGMIABDGAAAxjAAAYwgAEMYAADGMAABjCAAQzcwQAD3h2i1Q5G6xytGMAABjCAAQxgAAMYwAAGMIABDGAAAxjAAAYwgAEMYAADGMAABjCAAQxgAAMYwAAG5mTgLwPe/+Q1tP5ogAEMYAADGBiLgbdv3/5Z/728vPxTG4/VxtpTe2IAAxiYkoF/1t/vWcfBlBwYxzGWhQEMYGAwBt6+ffu/zXf8v3zH+47HAAYwgAEMXJ+B5vs9z/DG6Qfrx7lOr3+dakNtiAEMPMrA27dvf/k/TxjA/H9jL4UAAAAASUVORK5CYII=)"
      ]
    },
    {
      "cell_type": "markdown",
      "metadata": {
        "id": "nzTMQ8HCwAHv"
      },
      "source": [
        "## Exercise"
      ]
    },
    {
      "cell_type": "markdown",
      "metadata": {
        "id": "ne8tR37wwC2m"
      },
      "source": [
        "Explore more datasets provided in the [repository](https://drive.google.com/drive/folders/1waNdrV_4YAEm9ct8g_eDP15myejpn0Hp?usp=sharing).\n",
        "\n"
      ]
    },
    {
      "cell_type": "markdown",
      "source": [
        "![image.png](data:image/png;base64,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)"
      ],
      "metadata": {
        "id": "uiYVSehanSV-"
      }
    },
    {
      "cell_type": "markdown",
      "metadata": {
        "id": "NzplDbl0xGZu"
      },
      "source": [
        "Tasks can include:\n",
        "* Read/ write datasets\n",
        "* Inspect data attributes\n",
        "* Get certain columns for analysis\n",
        "* Inspect/ clean up missing values\n",
        "* EDA (Exploratory Data Analysis)\n",
        "* Plotting with Matplotlib\n",
        "* ..."
      ]
    },
    {
      "cell_type": "markdown",
      "source": [
        "**Got Questions?**\n",
        "\n",
        "Send an email to shanghai.library.data@nyu.edu"
      ],
      "metadata": {
        "id": "zhBQa43EnWCB"
      }
    },
    {
      "cell_type": "markdown",
      "metadata": {
        "id": "zlmD5CqLrtTO"
      },
      "source": [
        "**Ending credits**\n",
        "\n",
        "Tutorial framework: https://www.w3schools.com/python/default.asp\n",
        "\n",
        "Images: https://towardsdatascience.com/python-list-numpy-and-pandas-3a32f1aee948\n",
        "\n",
        "\n",
        "Modified and organized by: Pamela Pan, Jie Chen"
      ]
    }
  ]
}